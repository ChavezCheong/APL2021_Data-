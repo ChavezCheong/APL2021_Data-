{
 "cells": [
  {
   "cell_type": "code",
   "execution_count": 1,
   "id": "e759be8b",
   "metadata": {
    "extensions": {
     "jupyter_dashboards": {
      "version": 1,
      "views": {
       "grid_default": {},
       "report_default": {}
      }
     }
    }
   },
   "outputs": [],
   "source": [
    "import pandas as pd\n",
    "import numpy as np\n",
    "import seaborn as sns\n",
    "import plotly.express as px\n",
    "import matplotlib.pyplot as plt\n",
    "import geopandas as gpd\n",
    "\n",
    "DIVIDER = \"-------------------------------------------------------\""
   ]
  },
  {
   "cell_type": "markdown",
   "id": "3d1269b7",
   "metadata": {
    "extensions": {
     "jupyter_dashboards": {
      "version": 1,
      "views": {
       "grid_default": {},
       "report_default": {}
      }
     }
    }
   },
   "source": [
    "Setting up the dataframe."
   ]
  },
  {
   "cell_type": "code",
   "execution_count": 2,
   "id": "d4da99c8",
   "metadata": {
    "extensions": {
     "jupyter_dashboards": {
      "version": 1,
      "views": {
       "grid_default": {},
       "report_default": {}
      }
     }
    },
    "scrolled": true
   },
   "outputs": [
    {
     "data": {
      "text/html": [
       "<div>\n",
       "<style scoped>\n",
       "    .dataframe tbody tr th:only-of-type {\n",
       "        vertical-align: middle;\n",
       "    }\n",
       "\n",
       "    .dataframe tbody tr th {\n",
       "        vertical-align: top;\n",
       "    }\n",
       "\n",
       "    .dataframe thead th {\n",
       "        text-align: right;\n",
       "    }\n",
       "</style>\n",
       "<table border=\"1\" class=\"dataframe\">\n",
       "  <thead>\n",
       "    <tr style=\"text-align: right;\">\n",
       "      <th></th>\n",
       "      <th>Unnamed: 0</th>\n",
       "      <th>Date</th>\n",
       "      <th>Year</th>\n",
       "      <th>Enforcement Action</th>\n",
       "      <th>Entity Name</th>\n",
       "      <th>Entity Type</th>\n",
       "      <th>Conduct</th>\n",
       "      <th>Location</th>\n",
       "      <th>URL - to be filled in</th>\n",
       "      <th>*Raw Text*</th>\n",
       "    </tr>\n",
       "  </thead>\n",
       "  <tbody>\n",
       "    <tr>\n",
       "      <th>0</th>\n",
       "      <td>0</td>\n",
       "      <td>8/29/2021</td>\n",
       "      <td>2003</td>\n",
       "      <td>Temporary Cease and Desist</td>\n",
       "      <td>Mortgage One Financial Corp</td>\n",
       "      <td>Mortgage Broker</td>\n",
       "      <td>Acting as a mortgage broker without a license;...</td>\n",
       "      <td>Norwood MA</td>\n",
       "      <td>https://www.mass.gov/temporary-order-to-cease-...</td>\n",
       "      <td>NaN</td>\n",
       "    </tr>\n",
       "    <tr>\n",
       "      <th>1</th>\n",
       "      <td>1</td>\n",
       "      <td>10/31/2021</td>\n",
       "      <td>2003</td>\n",
       "      <td>Temporary Cease and Desist</td>\n",
       "      <td>Platinum Capital Group</td>\n",
       "      <td>Mortgage Lender,Mortgage Broker</td>\n",
       "      <td>No license; violated a memoradum of understanding</td>\n",
       "      <td>HQ Irvine CA, branch located in Concord CA</td>\n",
       "      <td>https://www.mass.gov/temporary-order-to-cease-...</td>\n",
       "      <td>NaN</td>\n",
       "    </tr>\n",
       "    <tr>\n",
       "      <th>2</th>\n",
       "      <td>2</td>\n",
       "      <td>10/31/2021</td>\n",
       "      <td>2003</td>\n",
       "      <td>Temporary Cease and Desist</td>\n",
       "      <td>KN Management, Inc.</td>\n",
       "      <td>Mortgage Broker</td>\n",
       "      <td>No license</td>\n",
       "      <td>Concord MA</td>\n",
       "      <td>https://www.mass.gov/temporary-order-to-cease-...</td>\n",
       "      <td>NaN</td>\n",
       "    </tr>\n",
       "    <tr>\n",
       "      <th>3</th>\n",
       "      <td>3</td>\n",
       "      <td>12/23/2021</td>\n",
       "      <td>2003</td>\n",
       "      <td>Temporary Cease and Desist</td>\n",
       "      <td>INSTAFI.COM</td>\n",
       "      <td>Mortgage Lender,Mortgage Broker</td>\n",
       "      <td>Conducting business in an unsafe or unsound ma...</td>\n",
       "      <td>Irvine CA</td>\n",
       "      <td>https://www.mass.gov/temporary-order-to-cease-...</td>\n",
       "      <td>NaN</td>\n",
       "    </tr>\n",
       "    <tr>\n",
       "      <th>4</th>\n",
       "      <td>4</td>\n",
       "      <td>12/30/2021</td>\n",
       "      <td>2003</td>\n",
       "      <td>Consent Order</td>\n",
       "      <td>NovaStar Home Mortgage, Inc.</td>\n",
       "      <td>Mortgage Lender,Mortgage Broker</td>\n",
       "      <td>Conducting business with an unlicensed mortgag...</td>\n",
       "      <td>Kansas City MO</td>\n",
       "      <td>https://www.mass.gov/consent-order/novastar-ho...</td>\n",
       "      <td>NaN</td>\n",
       "    </tr>\n",
       "  </tbody>\n",
       "</table>\n",
       "</div>"
      ],
      "text/plain": [
       "   Unnamed: 0        Date  Year          Enforcement Action  \\\n",
       "0           0   8/29/2021  2003  Temporary Cease and Desist   \n",
       "1           1  10/31/2021  2003  Temporary Cease and Desist   \n",
       "2           2  10/31/2021  2003  Temporary Cease and Desist   \n",
       "3           3  12/23/2021  2003  Temporary Cease and Desist   \n",
       "4           4  12/30/2021  2003               Consent Order   \n",
       "\n",
       "                    Entity Name                      Entity Type  \\\n",
       "0   Mortgage One Financial Corp                  Mortgage Broker   \n",
       "1        Platinum Capital Group  Mortgage Lender,Mortgage Broker   \n",
       "2           KN Management, Inc.                  Mortgage Broker   \n",
       "3                   INSTAFI.COM  Mortgage Lender,Mortgage Broker   \n",
       "4  NovaStar Home Mortgage, Inc.  Mortgage Lender,Mortgage Broker   \n",
       "\n",
       "                                             Conduct  \\\n",
       "0  Acting as a mortgage broker without a license;...   \n",
       "1  No license; violated a memoradum of understanding   \n",
       "2                                         No license   \n",
       "3  Conducting business in an unsafe or unsound ma...   \n",
       "4  Conducting business with an unlicensed mortgag...   \n",
       "\n",
       "                                     Location  \\\n",
       "0                                  Norwood MA   \n",
       "1  HQ Irvine CA, branch located in Concord CA   \n",
       "2                                  Concord MA   \n",
       "3                                   Irvine CA   \n",
       "4                              Kansas City MO   \n",
       "\n",
       "                               URL - to be filled in *Raw Text*  \n",
       "0  https://www.mass.gov/temporary-order-to-cease-...        NaN  \n",
       "1  https://www.mass.gov/temporary-order-to-cease-...        NaN  \n",
       "2  https://www.mass.gov/temporary-order-to-cease-...        NaN  \n",
       "3  https://www.mass.gov/temporary-order-to-cease-...        NaN  \n",
       "4  https://www.mass.gov/consent-order/novastar-ho...        NaN  "
      ]
     },
     "execution_count": 2,
     "metadata": {},
     "output_type": "execute_result"
    }
   ],
   "source": [
    "holder_df = pd.read_csv(\"Massachusetts_MEA_Database.csv\")\n",
    "df = holder_df\n",
    "df.head()"
   ]
  },
  {
   "cell_type": "markdown",
   "id": "cf3f0c03",
   "metadata": {
    "extensions": {
     "jupyter_dashboards": {
      "version": 1,
      "views": {
       "grid_default": {},
       "report_default": {}
      }
     }
    }
   },
   "source": [
    "# Initial Exploration of Data\n",
    "## Exploring and Cleaning Data"
   ]
  },
  {
   "cell_type": "code",
   "execution_count": 3,
   "id": "98f71e0a",
   "metadata": {
    "extensions": {
     "jupyter_dashboards": {
      "version": 1,
      "views": {
       "grid_default": {},
       "report_default": {}
      }
     }
    }
   },
   "outputs": [
    {
     "name": "stdout",
     "output_type": "stream",
     "text": [
      "<class 'pandas.core.frame.DataFrame'>\n",
      "RangeIndex: 367 entries, 0 to 366\n",
      "Data columns (total 10 columns):\n",
      " #   Column                 Non-Null Count  Dtype \n",
      "---  ------                 --------------  ----- \n",
      " 0   Unnamed: 0             367 non-null    int64 \n",
      " 1   Date                   367 non-null    object\n",
      " 2   Year                   367 non-null    int64 \n",
      " 3   Enforcement Action     367 non-null    object\n",
      " 4   Entity Name            367 non-null    object\n",
      " 5   Entity Type            367 non-null    object\n",
      " 6   Conduct                329 non-null    object\n",
      " 7   Location               328 non-null    object\n",
      " 8   URL - to be filled in  325 non-null    object\n",
      " 9   *Raw Text*             1 non-null      object\n",
      "dtypes: int64(2), object(8)\n",
      "memory usage: 28.8+ KB\n"
     ]
    }
   ],
   "source": [
    "# Finding out initial information about the dataframe\n",
    "df.info()"
   ]
  },
  {
   "cell_type": "code",
   "execution_count": 4,
   "id": "5c40c27d",
   "metadata": {
    "extensions": {
     "jupyter_dashboards": {
      "version": 1,
      "views": {
       "grid_default": {},
       "report_default": {}
      }
     }
    }
   },
   "outputs": [
    {
     "data": {
      "text/plain": [
       "['Unnamed: 0',\n",
       " 'Date',\n",
       " 'Year',\n",
       " 'Enforcement Action',\n",
       " 'Entity Name',\n",
       " 'Entity Type',\n",
       " 'Conduct',\n",
       " 'Location',\n",
       " 'URL - to be filled in',\n",
       " '*Raw Text*']"
      ]
     },
     "execution_count": 4,
     "metadata": {},
     "output_type": "execute_result"
    }
   ],
   "source": [
    "# Finding column headings\n",
    "df.columns.values.tolist()"
   ]
  },
  {
   "cell_type": "code",
   "execution_count": 5,
   "id": "97830a2e",
   "metadata": {
    "extensions": {
     "jupyter_dashboards": {
      "version": 1,
      "views": {
       "grid_default": {},
       "report_default": {}
      }
     }
    }
   },
   "outputs": [],
   "source": [
    "# Changing Dates of Dataframe\n",
    "df[\"Date\"] = pd.to_datetime(df[\"Date\"])\n",
    "# Removing URLs and Raw Text rows\n",
    "df = df.drop(['URL - to be filled in','*Raw Text*'], axis=1)\n",
    "# Replace ???s with NaN\n",
    "df['Location'] = df['Location'].replace(\"???\", np.nan)\n",
    "df['Conduct'] = df['Conduct'].replace(\"???\", np.nan)"
   ]
  },
  {
   "cell_type": "code",
   "execution_count": 6,
   "id": "5d650abc",
   "metadata": {
    "extensions": {
     "jupyter_dashboards": {
      "version": 1,
      "views": {
       "grid_default": {},
       "report_default": {}
      }
     }
    }
   },
   "outputs": [],
   "source": [
    "# Get States\n",
    "def get_States(location):\n",
    "    if not pd.isnull(location):\n",
    "        return location.split(\" \")[-1]\n",
    "    else:\n",
    "        return location\n",
    "\n",
    "df[\"States\"] = df[\"Location\"].apply(get_States)"
   ]
  },
  {
   "cell_type": "code",
   "execution_count": 7,
   "id": "6070ef14",
   "metadata": {
    "extensions": {
     "jupyter_dashboards": {
      "version": 1,
      "views": {
       "grid_default": {},
       "report_default": {}
      }
     }
    }
   },
   "outputs": [
    {
     "data": {
      "text/plain": [
       "MA    149\n",
       "CA     28\n",
       "NH     14\n",
       "NY     12\n",
       "RI     11\n",
       "NJ     10\n",
       "MD      6\n",
       "CT      6\n",
       "FL      6\n",
       "NC      5\n",
       "TX      5\n",
       "OH      4\n",
       "MO      3\n",
       "GA      3\n",
       "PA      2\n",
       "VA      2\n",
       "AZ      2\n",
       "WI      1\n",
       "Ma      1\n",
       "UT      1\n",
       "NV      1\n",
       "Name: States, dtype: int64"
      ]
     },
     "execution_count": 7,
     "metadata": {},
     "output_type": "execute_result"
    }
   ],
   "source": [
    "\n",
    "\n",
    "\n",
    "# Clean up States\n",
    "\n",
    "df[\"States\"].value_counts()\n",
    "df[\"States\"]=df[\"States\"].replace(\"California\",\"CA\")\n",
    "df[\"States\"]=df[\"States\"].replace(\"Maryland,\",\"MD\")\n",
    "df[\"States\"]=df[\"States\"].replace(\"Georgia\",\"GA\")\n",
    "df[\"States\"]=df[\"States\"].replace(\"Maryland\",\"MD\")\n",
    "df[\"States\"]=df[\"States\"].replace(\"Massachusetts\",\"MA\")\n",
    "df[\"States\"]=df[\"States\"].replace(\"MA)\",\"MA\")\n",
    "\n",
    "\n",
    "df_state = pd.crosstab(df[\"States\"],df[\"Year\"])\n",
    "df_state \n",
    "df[\"States\"].value_counts()\n"
   ]
  },
  {
   "cell_type": "code",
   "execution_count": 8,
   "id": "e8adf3a1",
   "metadata": {
    "extensions": {
     "jupyter_dashboards": {
      "version": 1,
      "views": {
       "grid_default": {},
       "report_default": {}
      }
     }
    }
   },
   "outputs": [
    {
     "name": "stdout",
     "output_type": "stream",
     "text": [
      "<class 'pandas.core.frame.DataFrame'>\n",
      "RangeIndex: 367 entries, 0 to 366\n",
      "Data columns (total 9 columns):\n",
      " #   Column              Non-Null Count  Dtype         \n",
      "---  ------              --------------  -----         \n",
      " 0   Unnamed: 0          367 non-null    int64         \n",
      " 1   Date                367 non-null    datetime64[ns]\n",
      " 2   Year                367 non-null    int64         \n",
      " 3   Enforcement Action  367 non-null    object        \n",
      " 4   Entity Name         367 non-null    object        \n",
      " 5   Entity Type         367 non-null    object        \n",
      " 6   Conduct             287 non-null    object        \n",
      " 7   Location            272 non-null    object        \n",
      " 8   States              272 non-null    object        \n",
      "dtypes: datetime64[ns](1), int64(2), object(6)\n",
      "memory usage: 25.9+ KB\n"
     ]
    }
   ],
   "source": [
    "df.head()\n",
    "df.info()"
   ]
  },
  {
   "cell_type": "code",
   "execution_count": 9,
   "id": "27f2a94e",
   "metadata": {
    "extensions": {
     "jupyter_dashboards": {
      "version": 1,
      "views": {
       "grid_default": {},
       "report_default": {}
      }
     }
    }
   },
   "outputs": [
    {
     "data": {
      "text/plain": [
       "342"
      ]
     },
     "execution_count": 9,
     "metadata": {},
     "output_type": "execute_result"
    }
   ],
   "source": [
    "# Count unique entities who had MEAs against them in MA\n",
    "df[\"Entity Name\"].nunique()"
   ]
  },
  {
   "cell_type": "code",
   "execution_count": 10,
   "id": "70f6b1fc",
   "metadata": {
    "extensions": {
     "jupyter_dashboards": {
      "version": 1,
      "views": {
       "grid_default": {},
       "report_default": {}
      }
     }
    }
   },
   "outputs": [],
   "source": [
    "def data_split(data_point):\n",
    "    return data_point.split(\",\")"
   ]
  },
  {
   "cell_type": "code",
   "execution_count": 11,
   "id": "c1640451",
   "metadata": {
    "extensions": {
     "jupyter_dashboards": {
      "version": 1,
      "views": {
       "grid_default": {},
       "report_default": {}
      }
     }
    }
   },
   "outputs": [
    {
     "data": {
      "text/plain": [
       "[172, 163, 10, 9, 7, 6, 3, 2, 1, 1, 1, 1, 1, 1, 1, 1, 1, 1, 1, 1, 1]"
      ]
     },
     "execution_count": 11,
     "metadata": {},
     "output_type": "execute_result"
    }
   ],
   "source": [
    "df['Year'].unique()\n",
    "df[\"Enforcement Action List\"] = df[\"Enforcement Action\"].apply(data_split)\n",
    "Enforcement_Action_counts = df[\"Enforcement Action List\"].explode().value_counts()\n",
    "Enforcement_Action_counts.tolist()"
   ]
  },
  {
   "cell_type": "code",
   "execution_count": 12,
   "id": "7613e494",
   "metadata": {
    "extensions": {
     "jupyter_dashboards": {
      "version": 1,
      "views": {
       "grid_default": {},
       "report_default": {}
      }
     }
    }
   },
   "outputs": [],
   "source": [
    "usa = gpd.read_file('./states/cb_2018_us_state_20m.shp')\n",
    "usa = usa.to_crs(\"EPSG:3395\")\n",
    "\n",
    "# removing alaska, hawaii, and puerto rico\n",
    "usa = usa.drop([7, 25, 48], axis = 0)\n",
    "usa = usa.sort_values('STUSPS')\n",
    "usa = usa.set_index('STUSPS')"
   ]
  },
  {
   "cell_type": "code",
   "execution_count": 13,
   "id": "02d78cb0",
   "metadata": {
    "extensions": {
     "jupyter_dashboards": {
      "version": 1,
      "views": {
       "grid_default": {},
       "report_default": {}
      }
     }
    }
   },
   "outputs": [],
   "source": [
    "df[\"Year\"].value_counts()\n",
    "def show_values_on_bars(axs, h_v=\"v\", space=0.4):\n",
    "    def _show_on_single_plot(ax):\n",
    "        if h_v == \"v\":\n",
    "            for p in ax.patches:\n",
    "                _x = p.get_x() + p.get_width() / 2\n",
    "                _y = p.get_y() + p.get_height()\n",
    "                value = int(p.get_height())\n",
    "                ax.text(_x, _y, value, ha=\"center\") \n",
    "        elif h_v == \"h\":\n",
    "            for p in ax.patches:\n",
    "                _x = p.get_x() + p.get_width() + float(space)\n",
    "                _y = p.get_y() + p.get_height()\n",
    "                value = int(p.get_width())\n",
    "                ax.text(_x, _y, value, ha=\"left\")\n",
    "\n",
    "    if isinstance(axs, np.ndarray):\n",
    "        for idx, ax in np.ndenumerate(axs):\n",
    "            _show_on_single_plot(ax)\n",
    "    else:\n",
    "        _show_on_single_plot(axs)"
   ]
  },
  {
   "cell_type": "code",
   "execution_count": 14,
   "id": "73f94ccb",
   "metadata": {
    "extensions": {
     "jupyter_dashboards": {
      "version": 1,
      "views": {
       "grid_default": {},
       "report_default": {}
      }
     }
    }
   },
   "outputs": [
    {
     "data": {
      "image/png": "[encoded data removed]",
      "text/plain": [
       "<Figure size 432x288 with 1 Axes>"
      ]
     },
     "metadata": {
      "needs_background": "light"
     },
     "output_type": "display_data"
    }
   ],
   "source": [
    "ax1=sns.countplot(x=\"Year\", data = df)\n"
   ]
  },
  {
   "cell_type": "code",
   "execution_count": 15,
   "id": "7f1c4dc2",
   "metadata": {
    "extensions": {
     "jupyter_dashboards": {
      "version": 1,
      "views": {
       "grid_default": {},
       "report_default": {}
      }
     }
    }
   },
   "outputs": [
    {
     "ename": "NameError",
     "evalue": "name 'df2' is not defined",
     "output_type": "error",
     "traceback": [
      "\u001b[1;31m---------------------------------------------------------------------------\u001b[0m",
      "\u001b[1;31mNameError\u001b[0m                                 Traceback (most recent call last)",
      "\u001b[1;32m<ipython-input-15-fae2298b552e>\u001b[0m in \u001b[0;36m<module>\u001b[1;34m\u001b[0m\n\u001b[1;32m----> 1\u001b[1;33m \u001b[0msns\u001b[0m\u001b[1;33m.\u001b[0m\u001b[0mlineplot\u001b[0m\u001b[1;33m(\u001b[0m\u001b[0mx\u001b[0m\u001b[1;33m=\u001b[0m\u001b[0mdf2\u001b[0m\u001b[1;33m.\u001b[0m\u001b[0mYear\u001b[0m\u001b[1;33m.\u001b[0m\u001b[0mvalue_counts\u001b[0m\u001b[1;33m(\u001b[0m\u001b[1;33m)\u001b[0m\u001b[1;33m.\u001b[0m\u001b[0mindex\u001b[0m\u001b[1;33m,\u001b[0m \u001b[0my\u001b[0m \u001b[1;33m=\u001b[0m \u001b[0mdf2\u001b[0m\u001b[1;33m.\u001b[0m\u001b[0mYear\u001b[0m\u001b[1;33m.\u001b[0m\u001b[0mvalue_counts\u001b[0m\u001b[1;33m(\u001b[0m\u001b[1;33m)\u001b[0m\u001b[1;33m)\u001b[0m\u001b[1;33m\u001b[0m\u001b[1;33m\u001b[0m\u001b[0m\n\u001b[0m",
      "\u001b[1;31mNameError\u001b[0m: name 'df2' is not defined"
     ]
    }
   ],
   "source": [
    "sns.lineplot(x=df2.Year.value_counts().index, y = df2.Year.value_counts())"
   ]
  },
  {
   "cell_type": "code",
   "execution_count": null,
   "id": "81a1e249",
   "metadata": {
    "extensions": {
     "jupyter_dashboards": {
      "version": 1,
      "views": {
       "grid_default": {},
       "report_default": {}
      }
     }
    }
   },
   "outputs": [],
   "source": [
    "df2 = df\n",
    "df2 = df2.explode(\"Enforcement Action List\")\n",
    "ax2 = sns.countplot(y=\"Enforcement Action List\", data=df2, orient=\"h\",order=df2[\"Enforcement Action List\"].value_counts().index.values[0:4], hue= \"Year\", hue_order=df2[\"Year\"].value_counts().index)\n",
    "ax2.set_title(\"Types of Enforcement Actions by Year\")\n",
    "plt.legend(bbox_to_anchor=(1.01, 1),\n",
    "           borderaxespad=0)\n",
    "ax2.set_xlabel(\"Count of Enforcement Actions\")\n",
    "plt.show(ax2)\n",
    "show_values_on_bars(ax2, \"h\", 0.3)"
   ]
  },
  {
   "cell_type": "code",
   "execution_count": null,
   "id": "f83ee545",
   "metadata": {
    "extensions": {
     "jupyter_dashboards": {
      "version": 1,
      "views": {
       "grid_default": {},
       "report_default": {}
      }
     }
    }
   },
   "outputs": [],
   "source": [
    "df[\"Entity Type List\"] = df[\"Entity Type\"].apply(data_split)\n",
    "Enforcement_Action_counts = df[\"Entity Type List\"].explode().value_counts()\n",
    "Enforcement_Action_counts.tolist()"
   ]
  },
  {
   "cell_type": "code",
   "execution_count": null,
   "id": "5a81a6d9",
   "metadata": {
    "extensions": {
     "jupyter_dashboards": {
      "version": 1,
      "views": {
       "grid_default": {},
       "report_default": {}
      }
     }
    }
   },
   "outputs": [],
   "source": [
    "df2 = df\n",
    "df2 = df2.explode(\"Entity Type List\")\n",
    "ax2 = sns.countplot(y=\"Entity Type List\", data=df2, orient=\"h\",order=df2[\"Entity Type List\"].value_counts().index.values[0:4], hue= \"Year\", hue_order=df2[\"Year\"].value_counts().index)\n",
    "ax2.set_title(\"Types of Enforcement Actions by Year\")\n",
    "plt.legend(bbox_to_anchor=(1.01, 1),\n",
    "           borderaxespad=0)\n",
    "ax2.set_xlabel(\"Count of Enforcement Actions\")\n",
    "plt.show(ax2)"
   ]
  },
  {
   "cell_type": "code",
   "execution_count": null,
   "id": "6c3407e6",
   "metadata": {
    "extensions": {
     "jupyter_dashboards": {
      "version": 1,
      "views": {
       "grid_default": {},
       "report_default": {}
      }
     }
    }
   },
   "outputs": [],
   "source": []
  }
 ],
 "metadata": {
  "extensions": {
   "jupyter_dashboards": {
    "activeView": "grid_default",
    "version": 1,
    "views": {
     "grid_default": {
      "cellMargin": 10,
      "defaultCellHeight": 20,
      "maxColumns": 12,
      "name": "grid",
      "type": "grid"
     },
     "report_default": {
      "name": "report",
      "type": "report"
     }
    }
   }
  },
  "kernelspec": {
   "display_name": "Python 3",
   "language": "python",
   "name": "python3"
  },
  "language_info": {
   "codemirror_mode": {
    "name": "ipython",
    "version": 3
   },
   "file_extension": ".py",
   "mimetype": "text/x-python",
   "name": "python",
   "nbconvert_exporter": "python",
   "pygments_lexer": "ipython3",
   "version": "3.9.4"
  }
 },
 "nbformat": 4,
 "nbformat_minor": 5
}
