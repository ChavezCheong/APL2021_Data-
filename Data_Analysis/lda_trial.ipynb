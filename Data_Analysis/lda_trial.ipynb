{
 "cells": [
  {
   "cell_type": "markdown",
   "source": [
    "# Trying out an LDA model to apply topic modelling to MEAs"
   ],
   "metadata": {}
  },
  {
   "cell_type": "code",
   "execution_count": 3,
   "source": [
    "import os\r\n",
    "os.environ[\"KMP_DUPLICATE_LIB_OK\"]=\"TRUE\"\r\n"
   ],
   "outputs": [],
   "metadata": {}
  },
  {
   "cell_type": "code",
   "execution_count": 4,
   "source": [
    "# Handle imports\r\n",
    "import numpy as np\r\n",
    "import pandas as pd\r\n",
    "import gensim\r\n",
    "import gensim.corpora as corpora\r\n",
    "from gensim.utils import simple_preprocess\r\n",
    "import pickle\r\n",
    "from gensim.models import CoherenceModel\r\n",
    "import spacy\r\n",
    "from spacy.lang.en.stop_words import STOP_WORDS\r\n",
    "import string\r\n",
    "import pprint\r\n",
    "import pyLDAvis.gensim_models as gensimvis\r\n",
    "from tqdm import tqdm_notebook as tqdm"
   ],
   "outputs": [
    {
     "output_type": "stream",
     "name": "stderr",
     "text": [
      "C:\\Users\\chave\\anaconda3\\envs\\topicmodelling\\lib\\site-packages\\scipy\\sparse\\sparsetools.py:21: DeprecationWarning: `scipy.sparse.sparsetools` is deprecated!\n",
      "scipy.sparse.sparsetools is a private module for scipy.sparse, and should not be used.\n",
      "  _deprecated()\n",
      "C:\\Users\\chave\\anaconda3\\envs\\topicmodelling\\lib\\site-packages\\gensim\\similarities\\__init__.py:15: UserWarning: The gensim.similarities.levenshtein submodule is disabled, because the optional Levenshtein package <https://pypi.org/project/python-Levenshtein/> is unavailable. Install Levenhstein (e.g. `pip install python-Levenshtein`) to suppress this warning.\n",
      "  warnings.warn(msg)\n"
     ]
    }
   ],
   "metadata": {}
  },
  {
   "cell_type": "code",
   "execution_count": 5,
   "source": [
    "import matplotlib.pyplot as plt\r\n",
    "%matplotlib inline"
   ],
   "outputs": [],
   "metadata": {}
  },
  {
   "cell_type": "code",
   "execution_count": 6,
   "source": [
    "nlp = spacy.load('en_core_web_lg')\r\n",
    "lemmatizer = nlp.get_pipe(\"lemmatizer\")"
   ],
   "outputs": [],
   "metadata": {}
  },
  {
   "cell_type": "code",
   "execution_count": 45,
   "source": [
    "stop_word_list = [\r\n",
    "    \"transcript\",\r\n",
    "    \"respondent\",\r\n",
    "    \"ohio\",\r\n",
    "    \"division\",\r\n",
    "    \"department\",\r\n",
    "    \"commerce\",\r\n",
    "    \"financial\",\r\n",
    "    \"revised\",\r\n",
    "    \"code\",\r\n",
    "    \"institutions\",\r\n",
    "    \"chapter\",\r\n",
    "    \"codified\",\r\n",
    "    \"institution\",\r\n",
    "    \"heshe\",\r\n",
    "    \"rc\",\r\n",
    "    \"oh\",\r\n",
    "    \"mortgage\",\r\n",
    "    \"fact\",\r\n",
    "    \"notice\",\r\n",
    "    \"act\",\r\n",
    "    \"chapters\",\r\n",
    "    \"arizona\",\r\n",
    "    \"january\",\r\n",
    "    \"february\",\r\n",
    "    \"april\",\r\n",
    "    \"march\",\r\n",
    "    \"may\",\r\n",
    "    \"june\",\r\n",
    "    \"july\",\r\n",
    "    \"august\",\r\n",
    "    \"september\",\r\n",
    "    \"october\",\r\n",
    "    \"november\",\r\n",
    "    \"december\",\r\n",
    "    \"dfi\",\r\n",
    "    \"ce\",\r\n",
    "    \"pursuant\",\r\n",
    "    \"realize\",\r\n",
    "    \"days\",\r\n",
    "    \"result\",\r\n",
    "    \"investigation\",\r\n",
    "    \"indicate\",\r\n",
    "    \"state\",\r\n",
    "    \"address\",\r\n",
    "    \"appropriate\",\r\n",
    "    \"broker\",\r\n",
    "    \"business\",\r\n",
    "    \"certificate\",\r\n",
    "    \"charge\",\r\n",
    "    \"codify\",\r\n",
    "    \"consistent\",\r\n",
    "    \"date\",\r\n",
    "    \"enforce\",\r\n",
    "    \"find\",\r\n",
    "    \"hearing\",\r\n",
    "    \"mail\",\r\n",
    "    \"mailing\",\r\n",
    "    \"matter\",\r\n",
    "    \"necessary\",\r\n",
    "    \"notify\",\r\n",
    "    \"order\",\r\n",
    "    \"purpose\",\r\n",
    "    \"record\",\r\n",
    "    \"registration\",\r\n",
    "    \"request\",\r\n",
    "    \"responsibility\",\r\n",
    "    \"return\",\r\n",
    "    \"right\",\r\n",
    "    \"serve\",\r\n",
    "    \"loan\",\r\n",
    "    \"officer\",\r\n",
    "    \"application\",\r\n",
    "    \"background\",\r\n",
    "    \"come\",\r\n",
    "    \"attorney\",\r\n",
    "    \"law\",\r\n",
    "    \"duly\",\r\n",
    "    \"appoint\",\r\n",
    "    \"accordance\",\r\n",
    "    \"revise\",\r\n",
    "    \"administrative\",\r\n",
    "    \"detailed\",\r\n",
    "    \"paragraph\",\r\n",
    "    \"page\",\r\n",
    "    \"exhibit\",\r\n",
    "    \"robert\",\r\n",
    "    \"grieser\",\r\n",
    "    \"superintendent\",\r\n",
    "    \"bob\",\r\n",
    "    \"taft\",\r\n",
    "    \"jennifer\",\r\n",
    "    \"protect\",\r\n",
    "    \"proscribe\",\r\n",
    "    \"\\\\t\",\r\n",
    "    \"m\",\r\n",
    "    'allege',\r\n",
    "    'allegation',\r\n",
    "    'appellate',\r\n",
    "    'case',\r\n",
    "    'authorize',\r\n",
    "    'applicant',\r\n",
    "    'denial',\r\n",
    "    'settlement',\r\n",
    "    'agreement',\r\n",
    "    'report',\r\n",
    "    'recommendation',\r\n",
    "    'following',\r\n",
    "    'stipulation',\r\n",
    "    'admission',\r\n",
    "    'finding',\r\n",
    "    'findings',\r\n",
    "    'basis',\r\n",
    "    'administer',\r\n",
    "    'amend',\r\n",
    "    'amendment',\r\n",
    "    'bill',\r\n",
    "    'understanding',\r\n",
    "    'empower',\r\n",
    "    'formal',\r\n",
    "    'proceeding',\r\n",
    "    'institute',\r\n",
    "    'terminate',\r\n",
    "    'intent',\r\n",
    "    'originate',\r\n",
    "    'section',\r\n",
    "    'rule',\r\n",
    "    'adjucative',\r\n",
    "    'hereinafter',\r\n",
    "    'motion',\r\n",
    "    'jurisdiction',\r\n",
    "    'continue',\r\n",
    "    'file',\r\n",
    "    'opportunity',\r\n",
    "    'registrant',\r\n",
    "    'conclusion',\r\n",
    "    'andor',\r\n",
    "    'consideration',\r\n",
    "    'wherefore',\r\n",
    "    'lieu',\r\n",
    "    'specifically',\r\n",
    "    'expressly',\r\n",
    "    'condition',\r\n",
    "    'hearma',\r\n",
    "    'damel',\r\n",
    "    'broxterman',\r\n",
    "    'practice',\r\n",
    "    'procedure',\r\n",
    "    'time',\r\n",
    "    'thereof',\r\n",
    "    'attest',\r\n",
    "    'tr',\r\n",
    "    'p',\r\n",
    "    'consider',\r\n",
    "    'consist'\r\n",
    "]"
   ],
   "outputs": [],
   "metadata": {}
  },
  {
   "cell_type": "code",
   "execution_count": 46,
   "source": [
    "len(stop_word_list)"
   ],
   "outputs": [
    {
     "output_type": "execute_result",
     "data": {
      "text/plain": [
       "154"
      ]
     },
     "metadata": {},
     "execution_count": 46
    }
   ],
   "metadata": {}
  },
  {
   "cell_type": "code",
   "execution_count": 47,
   "source": [
    "nlp.Defaults.stop_words.update(stop_word_list)\r\n",
    "# Iterates over the words in the stop words list and resets the \"is_stop\" flag.\r\n",
    "for word in STOP_WORDS:\r\n",
    "    lexeme = nlp.vocab[word]\r\n",
    "    lexeme.is_stop = True\r\n",
    "lemma_tags = {\"NNS\", \"NNPS\"}"
   ],
   "outputs": [],
   "metadata": {}
  },
  {
   "cell_type": "code",
   "execution_count": 48,
   "source": [
    "# Load data\r\n",
    "df = pd.read_csv(\"Standardized Data/Ohio_Final_cleaned.csv\")"
   ],
   "outputs": [],
   "metadata": {}
  },
  {
   "cell_type": "code",
   "execution_count": 49,
   "source": [
    "def clean_text(sample_text):\r\n",
    "    sample_text = sample_text.translate(str.maketrans('', '', string.punctuation))\r\n",
    "    sample_text = \" \".join([w for w in sample_text.split() if not w.isdigit()])\r\n",
    "    sample_text = sample_text.lower()\r\n",
    "    doc = nlp(sample_text)\r\n",
    "    doc = [token.lemma_ for token in doc if (token.tag_ in lemma_tags or token.lemma_ != '-PRON-' and token.pos_ in ['NOUN', 'ADJ', 'VERB', 'ADV'])]\r\n",
    "    doc = u' '.join(doc)\r\n",
    "    doc = nlp.make_doc(doc)\r\n",
    "    tokens = [token.text for token in doc if token.is_stop != True and token.is_punct != True]\r\n",
    "    return tokens"
   ],
   "outputs": [],
   "metadata": {}
  },
  {
   "cell_type": "code",
   "execution_count": 52,
   "source": [
    "sample_text = df.loc[4590,\"Text\"]\r\n",
    "print(clean_text(sample_text))\r\n",
    "print(len(clean_text(sample_text)))"
   ],
   "outputs": [
    {
     "output_type": "stream",
     "name": "stdout",
     "text": [
      "['accountable', 'licensing', 'individual', 'residential', 'hold', 'license', 'number', 'issue', 'birth', 'employer', 'require', 'suspend', 'prior', 'hear', 'license', 'licensee', 'fail', 'fulfill', 'education', 'requirement', 'require', 'education', 'complete', 'fine', 'dollar', 'pay', 'treasurer', 'credit', 'consumer', 'finance', 'fund', 'c4', 'individual', 'suspend', 'license', 'permit', 'residential', 'hold', 'license', 'calendar', 'year', 'fail', 'fulfill', 'education', 'requirement', 'calendar', 'year', 'license', 'number', 'issue', 'suspend', 'license', 'suspension', 'hear']\n",
      "54\n"
     ]
    }
   ],
   "metadata": {}
  },
  {
   "cell_type": "code",
   "execution_count": 51,
   "source": [
    "sample_text"
   ],
   "outputs": [
    {
     "output_type": "execute_result",
     "data": {
      "text/plain": [
       "\" 5429 Westcastle Drive ) Loan Officer License Suspension Toledo, OH 43615 ) & ) Notice of Appellate Rights ) Respondent, Catherine L. Smith (Respondent), held a Loan Officer License (License) issued by the Division of Financial Institutions (Division) during calendar year 2006. On August 14, 2007, the Division notified Respondent that it issued an Order of License Suspension (Order) because: (1) Respondent failed to comply with the 2006 continuing education requirement set forth in R.C. 1322.052; and (2) because Respondent failed to comply with R.C. 1322.052, the Division is required under R.C. 1322.10(F)(2) to suspend Respondent's License. An administrative hearing was held on September 12, 2007. Respondent failed to appear. A Report and Recommendation (Report) was filed with the Division on September 24, 2007, recommending that the Division continue the suspension of Respondent's License. No objections were filed. In accordance with R.C. 119.09, the Division has considered the record, consisting of the Report, the transcript of testimony and exhibits, as well as all applicable laws. (The Report is attached). Following its review of the record, the Division hereby adopts the hearing officer's recommendation and continues the License suspension of Catherine L. Smith. It is so ordered. Catherine L. Smith Division Order & Notice of Appellate Rights Page 2 of 2 \""
      ]
     },
     "metadata": {},
     "execution_count": 51
    }
   ],
   "metadata": {}
  },
  {
   "cell_type": "code",
   "execution_count": 27,
   "source": [
    "from transformers import pipeline\r\n",
    "summarizer = pipeline(\"summarization\")\r\n",
    "summarizer(sample_text, max_length=200, min_length=30, do_sample=False)"
   ],
   "outputs": [
    {
     "output_type": "error",
     "ename": "KeyboardInterrupt",
     "evalue": "",
     "traceback": [
      "\u001b[1;31m---------------------------------------------------------------------------\u001b[0m",
      "\u001b[1;31mKeyboardInterrupt\u001b[0m                         Traceback (most recent call last)",
      "\u001b[1;32m~\\AppData\\Local\\Temp/ipykernel_24676/236393589.py\u001b[0m in \u001b[0;36m<module>\u001b[1;34m\u001b[0m\n\u001b[0;32m      1\u001b[0m \u001b[1;32mfrom\u001b[0m \u001b[0mtransformers\u001b[0m \u001b[1;32mimport\u001b[0m \u001b[0mpipeline\u001b[0m\u001b[1;33m\u001b[0m\u001b[1;33m\u001b[0m\u001b[0m\n\u001b[1;32m----> 2\u001b[1;33m \u001b[0msummarizer\u001b[0m \u001b[1;33m=\u001b[0m \u001b[0mpipeline\u001b[0m\u001b[1;33m(\u001b[0m\u001b[1;34m\"summarization\"\u001b[0m\u001b[1;33m)\u001b[0m\u001b[1;33m\u001b[0m\u001b[1;33m\u001b[0m\u001b[0m\n\u001b[0m\u001b[0;32m      3\u001b[0m \u001b[0msummarizer\u001b[0m\u001b[1;33m(\u001b[0m\u001b[0msample_text\u001b[0m\u001b[1;33m,\u001b[0m \u001b[0mmax_length\u001b[0m\u001b[1;33m=\u001b[0m\u001b[1;36m200\u001b[0m\u001b[1;33m,\u001b[0m \u001b[0mmin_length\u001b[0m\u001b[1;33m=\u001b[0m\u001b[1;36m30\u001b[0m\u001b[1;33m,\u001b[0m \u001b[0mdo_sample\u001b[0m\u001b[1;33m=\u001b[0m\u001b[1;32mFalse\u001b[0m\u001b[1;33m)\u001b[0m\u001b[1;33m\u001b[0m\u001b[1;33m\u001b[0m\u001b[0m\n",
      "\u001b[1;32m~\\anaconda3\\envs\\topicmodelling\\lib\\site-packages\\transformers\\pipelines\\__init__.py\u001b[0m in \u001b[0;36mpipeline\u001b[1;34m(task, model, config, tokenizer, feature_extractor, framework, revision, use_fast, use_auth_token, model_kwargs, **kwargs)\u001b[0m\n\u001b[0;32m    387\u001b[0m     \u001b[1;31m# Infer the framework form the model\u001b[0m\u001b[1;33m\u001b[0m\u001b[1;33m\u001b[0m\u001b[1;33m\u001b[0m\u001b[0m\n\u001b[0;32m    388\u001b[0m     \u001b[1;32mif\u001b[0m \u001b[0mframework\u001b[0m \u001b[1;32mis\u001b[0m \u001b[1;32mNone\u001b[0m\u001b[1;33m:\u001b[0m\u001b[1;33m\u001b[0m\u001b[1;33m\u001b[0m\u001b[0m\n\u001b[1;32m--> 389\u001b[1;33m         \u001b[0mframework\u001b[0m\u001b[1;33m,\u001b[0m \u001b[0mmodel\u001b[0m \u001b[1;33m=\u001b[0m \u001b[0minfer_framework_from_model\u001b[0m\u001b[1;33m(\u001b[0m\u001b[0mmodel\u001b[0m\u001b[1;33m,\u001b[0m \u001b[0mtargeted_task\u001b[0m\u001b[1;33m,\u001b[0m \u001b[0mrevision\u001b[0m\u001b[1;33m=\u001b[0m\u001b[0mrevision\u001b[0m\u001b[1;33m,\u001b[0m \u001b[0mtask\u001b[0m\u001b[1;33m=\u001b[0m\u001b[0mtask\u001b[0m\u001b[1;33m)\u001b[0m\u001b[1;33m\u001b[0m\u001b[1;33m\u001b[0m\u001b[0m\n\u001b[0m\u001b[0;32m    390\u001b[0m \u001b[1;33m\u001b[0m\u001b[0m\n\u001b[0;32m    391\u001b[0m     \u001b[0mtask_class\u001b[0m\u001b[1;33m,\u001b[0m \u001b[0mmodel_class\u001b[0m \u001b[1;33m=\u001b[0m \u001b[0mtargeted_task\u001b[0m\u001b[1;33m[\u001b[0m\u001b[1;34m\"impl\"\u001b[0m\u001b[1;33m]\u001b[0m\u001b[1;33m,\u001b[0m \u001b[0mtargeted_task\u001b[0m\u001b[1;33m[\u001b[0m\u001b[0mframework\u001b[0m\u001b[1;33m]\u001b[0m\u001b[1;33m\u001b[0m\u001b[1;33m\u001b[0m\u001b[0m\n",
      "\u001b[1;32m~\\anaconda3\\envs\\topicmodelling\\lib\\site-packages\\transformers\\pipelines\\base.py\u001b[0m in \u001b[0;36minfer_framework_from_model\u001b[1;34m(model, model_classes, task, **model_kwargs)\u001b[0m\n\u001b[0;32m     86\u001b[0m         \u001b[1;32mif\u001b[0m \u001b[0mis_torch_available\u001b[0m\u001b[1;33m(\u001b[0m\u001b[1;33m)\u001b[0m \u001b[1;32mand\u001b[0m \u001b[1;32mnot\u001b[0m \u001b[0mis_tf_available\u001b[0m\u001b[1;33m(\u001b[0m\u001b[1;33m)\u001b[0m\u001b[1;33m:\u001b[0m\u001b[1;33m\u001b[0m\u001b[1;33m\u001b[0m\u001b[0m\n\u001b[0;32m     87\u001b[0m             \u001b[0mmodel_class\u001b[0m \u001b[1;33m=\u001b[0m \u001b[0mmodel_classes\u001b[0m\u001b[1;33m.\u001b[0m\u001b[0mget\u001b[0m\u001b[1;33m(\u001b[0m\u001b[1;34m\"pt\"\u001b[0m\u001b[1;33m,\u001b[0m \u001b[0mAutoModel\u001b[0m\u001b[1;33m)\u001b[0m\u001b[1;33m\u001b[0m\u001b[1;33m\u001b[0m\u001b[0m\n\u001b[1;32m---> 88\u001b[1;33m             \u001b[0mmodel\u001b[0m \u001b[1;33m=\u001b[0m \u001b[0mmodel_class\u001b[0m\u001b[1;33m.\u001b[0m\u001b[0mfrom_pretrained\u001b[0m\u001b[1;33m(\u001b[0m\u001b[0mmodel\u001b[0m\u001b[1;33m,\u001b[0m \u001b[1;33m**\u001b[0m\u001b[0mmodel_kwargs\u001b[0m\u001b[1;33m)\u001b[0m\u001b[1;33m\u001b[0m\u001b[1;33m\u001b[0m\u001b[0m\n\u001b[0m\u001b[0;32m     89\u001b[0m         \u001b[1;32melif\u001b[0m \u001b[0mis_tf_available\u001b[0m\u001b[1;33m(\u001b[0m\u001b[1;33m)\u001b[0m \u001b[1;32mand\u001b[0m \u001b[1;32mnot\u001b[0m \u001b[0mis_torch_available\u001b[0m\u001b[1;33m(\u001b[0m\u001b[1;33m)\u001b[0m\u001b[1;33m:\u001b[0m\u001b[1;33m\u001b[0m\u001b[1;33m\u001b[0m\u001b[0m\n\u001b[0;32m     90\u001b[0m             \u001b[0mmodel_class\u001b[0m \u001b[1;33m=\u001b[0m \u001b[0mmodel_classes\u001b[0m\u001b[1;33m.\u001b[0m\u001b[0mget\u001b[0m\u001b[1;33m(\u001b[0m\u001b[1;34m\"tf\"\u001b[0m\u001b[1;33m,\u001b[0m \u001b[0mTFAutoModel\u001b[0m\u001b[1;33m)\u001b[0m\u001b[1;33m\u001b[0m\u001b[1;33m\u001b[0m\u001b[0m\n",
      "\u001b[1;32m~\\anaconda3\\envs\\topicmodelling\\lib\\site-packages\\transformers\\models\\auto\\auto_factory.py\u001b[0m in \u001b[0;36mfrom_pretrained\u001b[1;34m(cls, pretrained_model_name_or_path, *model_args, **kwargs)\u001b[0m\n\u001b[0;32m    379\u001b[0m         \u001b[1;32mif\u001b[0m \u001b[0mtype\u001b[0m\u001b[1;33m(\u001b[0m\u001b[0mconfig\u001b[0m\u001b[1;33m)\u001b[0m \u001b[1;32min\u001b[0m \u001b[0mcls\u001b[0m\u001b[1;33m.\u001b[0m\u001b[0m_model_mapping\u001b[0m\u001b[1;33m.\u001b[0m\u001b[0mkeys\u001b[0m\u001b[1;33m(\u001b[0m\u001b[1;33m)\u001b[0m\u001b[1;33m:\u001b[0m\u001b[1;33m\u001b[0m\u001b[1;33m\u001b[0m\u001b[0m\n\u001b[0;32m    380\u001b[0m             \u001b[0mmodel_class\u001b[0m \u001b[1;33m=\u001b[0m \u001b[0m_get_model_class\u001b[0m\u001b[1;33m(\u001b[0m\u001b[0mconfig\u001b[0m\u001b[1;33m,\u001b[0m \u001b[0mcls\u001b[0m\u001b[1;33m.\u001b[0m\u001b[0m_model_mapping\u001b[0m\u001b[1;33m)\u001b[0m\u001b[1;33m\u001b[0m\u001b[1;33m\u001b[0m\u001b[0m\n\u001b[1;32m--> 381\u001b[1;33m             \u001b[1;32mreturn\u001b[0m \u001b[0mmodel_class\u001b[0m\u001b[1;33m.\u001b[0m\u001b[0mfrom_pretrained\u001b[0m\u001b[1;33m(\u001b[0m\u001b[0mpretrained_model_name_or_path\u001b[0m\u001b[1;33m,\u001b[0m \u001b[1;33m*\u001b[0m\u001b[0mmodel_args\u001b[0m\u001b[1;33m,\u001b[0m \u001b[0mconfig\u001b[0m\u001b[1;33m=\u001b[0m\u001b[0mconfig\u001b[0m\u001b[1;33m,\u001b[0m \u001b[1;33m**\u001b[0m\u001b[0mkwargs\u001b[0m\u001b[1;33m)\u001b[0m\u001b[1;33m\u001b[0m\u001b[1;33m\u001b[0m\u001b[0m\n\u001b[0m\u001b[0;32m    382\u001b[0m         raise ValueError(\n\u001b[0;32m    383\u001b[0m             \u001b[1;34mf\"Unrecognized configuration class {config.__class__} for this kind of AutoModel: {cls.__name__}.\\n\"\u001b[0m\u001b[1;33m\u001b[0m\u001b[1;33m\u001b[0m\u001b[0m\n",
      "\u001b[1;32m~\\anaconda3\\envs\\topicmodelling\\lib\\site-packages\\transformers\\modeling_utils.py\u001b[0m in \u001b[0;36mfrom_pretrained\u001b[1;34m(cls, pretrained_model_name_or_path, *model_args, **kwargs)\u001b[0m\n\u001b[0;32m   1171\u001b[0m         \u001b[1;32melse\u001b[0m\u001b[1;33m:\u001b[0m\u001b[1;33m\u001b[0m\u001b[1;33m\u001b[0m\u001b[0m\n\u001b[0;32m   1172\u001b[0m             \u001b[1;32mwith\u001b[0m \u001b[0mno_init_weights\u001b[0m\u001b[1;33m(\u001b[0m\u001b[0m_enable\u001b[0m\u001b[1;33m=\u001b[0m\u001b[0m_fast_init\u001b[0m\u001b[1;33m)\u001b[0m\u001b[1;33m:\u001b[0m\u001b[1;33m\u001b[0m\u001b[1;33m\u001b[0m\u001b[0m\n\u001b[1;32m-> 1173\u001b[1;33m                 \u001b[0mmodel\u001b[0m \u001b[1;33m=\u001b[0m \u001b[0mcls\u001b[0m\u001b[1;33m(\u001b[0m\u001b[0mconfig\u001b[0m\u001b[1;33m,\u001b[0m \u001b[1;33m*\u001b[0m\u001b[0mmodel_args\u001b[0m\u001b[1;33m,\u001b[0m \u001b[1;33m**\u001b[0m\u001b[0mmodel_kwargs\u001b[0m\u001b[1;33m)\u001b[0m\u001b[1;33m\u001b[0m\u001b[1;33m\u001b[0m\u001b[0m\n\u001b[0m\u001b[0;32m   1174\u001b[0m \u001b[1;33m\u001b[0m\u001b[0m\n\u001b[0;32m   1175\u001b[0m         \u001b[1;32mif\u001b[0m \u001b[0mfrom_tf\u001b[0m\u001b[1;33m:\u001b[0m\u001b[1;33m\u001b[0m\u001b[1;33m\u001b[0m\u001b[0m\n",
      "\u001b[1;32m~\\anaconda3\\envs\\topicmodelling\\lib\\site-packages\\transformers\\models\\bart\\modeling_bart.py\u001b[0m in \u001b[0;36m__init__\u001b[1;34m(self, config)\u001b[0m\n\u001b[0;32m   1212\u001b[0m     \u001b[1;32mdef\u001b[0m \u001b[0m__init__\u001b[0m\u001b[1;33m(\u001b[0m\u001b[0mself\u001b[0m\u001b[1;33m,\u001b[0m \u001b[0mconfig\u001b[0m\u001b[1;33m:\u001b[0m \u001b[0mBartConfig\u001b[0m\u001b[1;33m)\u001b[0m\u001b[1;33m:\u001b[0m\u001b[1;33m\u001b[0m\u001b[1;33m\u001b[0m\u001b[0m\n\u001b[0;32m   1213\u001b[0m         \u001b[0msuper\u001b[0m\u001b[1;33m(\u001b[0m\u001b[1;33m)\u001b[0m\u001b[1;33m.\u001b[0m\u001b[0m__init__\u001b[0m\u001b[1;33m(\u001b[0m\u001b[0mconfig\u001b[0m\u001b[1;33m)\u001b[0m\u001b[1;33m\u001b[0m\u001b[1;33m\u001b[0m\u001b[0m\n\u001b[1;32m-> 1214\u001b[1;33m         \u001b[0mself\u001b[0m\u001b[1;33m.\u001b[0m\u001b[0mmodel\u001b[0m \u001b[1;33m=\u001b[0m \u001b[0mBartModel\u001b[0m\u001b[1;33m(\u001b[0m\u001b[0mconfig\u001b[0m\u001b[1;33m)\u001b[0m\u001b[1;33m\u001b[0m\u001b[1;33m\u001b[0m\u001b[0m\n\u001b[0m\u001b[0;32m   1215\u001b[0m         \u001b[0mself\u001b[0m\u001b[1;33m.\u001b[0m\u001b[0mregister_buffer\u001b[0m\u001b[1;33m(\u001b[0m\u001b[1;34m\"final_logits_bias\"\u001b[0m\u001b[1;33m,\u001b[0m \u001b[0mtorch\u001b[0m\u001b[1;33m.\u001b[0m\u001b[0mzeros\u001b[0m\u001b[1;33m(\u001b[0m\u001b[1;33m(\u001b[0m\u001b[1;36m1\u001b[0m\u001b[1;33m,\u001b[0m \u001b[0mself\u001b[0m\u001b[1;33m.\u001b[0m\u001b[0mmodel\u001b[0m\u001b[1;33m.\u001b[0m\u001b[0mshared\u001b[0m\u001b[1;33m.\u001b[0m\u001b[0mnum_embeddings\u001b[0m\u001b[1;33m)\u001b[0m\u001b[1;33m)\u001b[0m\u001b[1;33m)\u001b[0m\u001b[1;33m\u001b[0m\u001b[1;33m\u001b[0m\u001b[0m\n\u001b[0;32m   1216\u001b[0m         \u001b[0mself\u001b[0m\u001b[1;33m.\u001b[0m\u001b[0mlm_head\u001b[0m \u001b[1;33m=\u001b[0m \u001b[0mnn\u001b[0m\u001b[1;33m.\u001b[0m\u001b[0mLinear\u001b[0m\u001b[1;33m(\u001b[0m\u001b[0mconfig\u001b[0m\u001b[1;33m.\u001b[0m\u001b[0md_model\u001b[0m\u001b[1;33m,\u001b[0m \u001b[0mself\u001b[0m\u001b[1;33m.\u001b[0m\u001b[0mmodel\u001b[0m\u001b[1;33m.\u001b[0m\u001b[0mshared\u001b[0m\u001b[1;33m.\u001b[0m\u001b[0mnum_embeddings\u001b[0m\u001b[1;33m,\u001b[0m \u001b[0mbias\u001b[0m\u001b[1;33m=\u001b[0m\u001b[1;32mFalse\u001b[0m\u001b[1;33m)\u001b[0m\u001b[1;33m\u001b[0m\u001b[1;33m\u001b[0m\u001b[0m\n",
      "\u001b[1;32m~\\anaconda3\\envs\\topicmodelling\\lib\\site-packages\\transformers\\models\\bart\\modeling_bart.py\u001b[0m in \u001b[0;36m__init__\u001b[1;34m(self, config)\u001b[0m\n\u001b[0;32m   1095\u001b[0m         \u001b[0mself\u001b[0m\u001b[1;33m.\u001b[0m\u001b[0mshared\u001b[0m \u001b[1;33m=\u001b[0m \u001b[0mnn\u001b[0m\u001b[1;33m.\u001b[0m\u001b[0mEmbedding\u001b[0m\u001b[1;33m(\u001b[0m\u001b[0mvocab_size\u001b[0m\u001b[1;33m,\u001b[0m \u001b[0mconfig\u001b[0m\u001b[1;33m.\u001b[0m\u001b[0md_model\u001b[0m\u001b[1;33m,\u001b[0m \u001b[0mpadding_idx\u001b[0m\u001b[1;33m)\u001b[0m\u001b[1;33m\u001b[0m\u001b[1;33m\u001b[0m\u001b[0m\n\u001b[0;32m   1096\u001b[0m \u001b[1;33m\u001b[0m\u001b[0m\n\u001b[1;32m-> 1097\u001b[1;33m         \u001b[0mself\u001b[0m\u001b[1;33m.\u001b[0m\u001b[0mencoder\u001b[0m \u001b[1;33m=\u001b[0m \u001b[0mBartEncoder\u001b[0m\u001b[1;33m(\u001b[0m\u001b[0mconfig\u001b[0m\u001b[1;33m,\u001b[0m \u001b[0mself\u001b[0m\u001b[1;33m.\u001b[0m\u001b[0mshared\u001b[0m\u001b[1;33m)\u001b[0m\u001b[1;33m\u001b[0m\u001b[1;33m\u001b[0m\u001b[0m\n\u001b[0m\u001b[0;32m   1098\u001b[0m         \u001b[0mself\u001b[0m\u001b[1;33m.\u001b[0m\u001b[0mdecoder\u001b[0m \u001b[1;33m=\u001b[0m \u001b[0mBartDecoder\u001b[0m\u001b[1;33m(\u001b[0m\u001b[0mconfig\u001b[0m\u001b[1;33m,\u001b[0m \u001b[0mself\u001b[0m\u001b[1;33m.\u001b[0m\u001b[0mshared\u001b[0m\u001b[1;33m)\u001b[0m\u001b[1;33m\u001b[0m\u001b[1;33m\u001b[0m\u001b[0m\n\u001b[0;32m   1099\u001b[0m \u001b[1;33m\u001b[0m\u001b[0m\n",
      "\u001b[1;32m~\\anaconda3\\envs\\topicmodelling\\lib\\site-packages\\transformers\\models\\bart\\modeling_bart.py\u001b[0m in \u001b[0;36m__init__\u001b[1;34m(self, config, embed_tokens)\u001b[0m\n\u001b[0;32m    680\u001b[0m             \u001b[0membed_dim\u001b[0m\u001b[1;33m,\u001b[0m\u001b[1;33m\u001b[0m\u001b[1;33m\u001b[0m\u001b[0m\n\u001b[0;32m    681\u001b[0m         )\n\u001b[1;32m--> 682\u001b[1;33m         \u001b[0mself\u001b[0m\u001b[1;33m.\u001b[0m\u001b[0mlayers\u001b[0m \u001b[1;33m=\u001b[0m \u001b[0mnn\u001b[0m\u001b[1;33m.\u001b[0m\u001b[0mModuleList\u001b[0m\u001b[1;33m(\u001b[0m\u001b[1;33m[\u001b[0m\u001b[0mBartEncoderLayer\u001b[0m\u001b[1;33m(\u001b[0m\u001b[0mconfig\u001b[0m\u001b[1;33m)\u001b[0m \u001b[1;32mfor\u001b[0m \u001b[0m_\u001b[0m \u001b[1;32min\u001b[0m \u001b[0mrange\u001b[0m\u001b[1;33m(\u001b[0m\u001b[0mconfig\u001b[0m\u001b[1;33m.\u001b[0m\u001b[0mencoder_layers\u001b[0m\u001b[1;33m)\u001b[0m\u001b[1;33m]\u001b[0m\u001b[1;33m)\u001b[0m\u001b[1;33m\u001b[0m\u001b[1;33m\u001b[0m\u001b[0m\n\u001b[0m\u001b[0;32m    683\u001b[0m         \u001b[0mself\u001b[0m\u001b[1;33m.\u001b[0m\u001b[0mlayernorm_embedding\u001b[0m \u001b[1;33m=\u001b[0m \u001b[0mnn\u001b[0m\u001b[1;33m.\u001b[0m\u001b[0mLayerNorm\u001b[0m\u001b[1;33m(\u001b[0m\u001b[0membed_dim\u001b[0m\u001b[1;33m)\u001b[0m\u001b[1;33m\u001b[0m\u001b[1;33m\u001b[0m\u001b[0m\n\u001b[0;32m    684\u001b[0m \u001b[1;33m\u001b[0m\u001b[0m\n",
      "\u001b[1;32m~\\anaconda3\\envs\\topicmodelling\\lib\\site-packages\\transformers\\models\\bart\\modeling_bart.py\u001b[0m in \u001b[0;36m<listcomp>\u001b[1;34m(.0)\u001b[0m\n\u001b[0;32m    680\u001b[0m             \u001b[0membed_dim\u001b[0m\u001b[1;33m,\u001b[0m\u001b[1;33m\u001b[0m\u001b[1;33m\u001b[0m\u001b[0m\n\u001b[0;32m    681\u001b[0m         )\n\u001b[1;32m--> 682\u001b[1;33m         \u001b[0mself\u001b[0m\u001b[1;33m.\u001b[0m\u001b[0mlayers\u001b[0m \u001b[1;33m=\u001b[0m \u001b[0mnn\u001b[0m\u001b[1;33m.\u001b[0m\u001b[0mModuleList\u001b[0m\u001b[1;33m(\u001b[0m\u001b[1;33m[\u001b[0m\u001b[0mBartEncoderLayer\u001b[0m\u001b[1;33m(\u001b[0m\u001b[0mconfig\u001b[0m\u001b[1;33m)\u001b[0m \u001b[1;32mfor\u001b[0m \u001b[0m_\u001b[0m \u001b[1;32min\u001b[0m \u001b[0mrange\u001b[0m\u001b[1;33m(\u001b[0m\u001b[0mconfig\u001b[0m\u001b[1;33m.\u001b[0m\u001b[0mencoder_layers\u001b[0m\u001b[1;33m)\u001b[0m\u001b[1;33m]\u001b[0m\u001b[1;33m)\u001b[0m\u001b[1;33m\u001b[0m\u001b[1;33m\u001b[0m\u001b[0m\n\u001b[0m\u001b[0;32m    683\u001b[0m         \u001b[0mself\u001b[0m\u001b[1;33m.\u001b[0m\u001b[0mlayernorm_embedding\u001b[0m \u001b[1;33m=\u001b[0m \u001b[0mnn\u001b[0m\u001b[1;33m.\u001b[0m\u001b[0mLayerNorm\u001b[0m\u001b[1;33m(\u001b[0m\u001b[0membed_dim\u001b[0m\u001b[1;33m)\u001b[0m\u001b[1;33m\u001b[0m\u001b[1;33m\u001b[0m\u001b[0m\n\u001b[0;32m    684\u001b[0m \u001b[1;33m\u001b[0m\u001b[0m\n",
      "\u001b[1;32m~\\anaconda3\\envs\\topicmodelling\\lib\\site-packages\\transformers\\models\\bart\\modeling_bart.py\u001b[0m in \u001b[0;36m__init__\u001b[1;34m(self, config)\u001b[0m\n\u001b[0;32m    276\u001b[0m         \u001b[0mself\u001b[0m\u001b[1;33m.\u001b[0m\u001b[0mactivation_dropout\u001b[0m \u001b[1;33m=\u001b[0m \u001b[0mconfig\u001b[0m\u001b[1;33m.\u001b[0m\u001b[0mactivation_dropout\u001b[0m\u001b[1;33m\u001b[0m\u001b[1;33m\u001b[0m\u001b[0m\n\u001b[0;32m    277\u001b[0m         \u001b[0mself\u001b[0m\u001b[1;33m.\u001b[0m\u001b[0mfc1\u001b[0m \u001b[1;33m=\u001b[0m \u001b[0mnn\u001b[0m\u001b[1;33m.\u001b[0m\u001b[0mLinear\u001b[0m\u001b[1;33m(\u001b[0m\u001b[0mself\u001b[0m\u001b[1;33m.\u001b[0m\u001b[0membed_dim\u001b[0m\u001b[1;33m,\u001b[0m \u001b[0mconfig\u001b[0m\u001b[1;33m.\u001b[0m\u001b[0mencoder_ffn_dim\u001b[0m\u001b[1;33m)\u001b[0m\u001b[1;33m\u001b[0m\u001b[1;33m\u001b[0m\u001b[0m\n\u001b[1;32m--> 278\u001b[1;33m         \u001b[0mself\u001b[0m\u001b[1;33m.\u001b[0m\u001b[0mfc2\u001b[0m \u001b[1;33m=\u001b[0m \u001b[0mnn\u001b[0m\u001b[1;33m.\u001b[0m\u001b[0mLinear\u001b[0m\u001b[1;33m(\u001b[0m\u001b[0mconfig\u001b[0m\u001b[1;33m.\u001b[0m\u001b[0mencoder_ffn_dim\u001b[0m\u001b[1;33m,\u001b[0m \u001b[0mself\u001b[0m\u001b[1;33m.\u001b[0m\u001b[0membed_dim\u001b[0m\u001b[1;33m)\u001b[0m\u001b[1;33m\u001b[0m\u001b[1;33m\u001b[0m\u001b[0m\n\u001b[0m\u001b[0;32m    279\u001b[0m         \u001b[0mself\u001b[0m\u001b[1;33m.\u001b[0m\u001b[0mfinal_layer_norm\u001b[0m \u001b[1;33m=\u001b[0m \u001b[0mnn\u001b[0m\u001b[1;33m.\u001b[0m\u001b[0mLayerNorm\u001b[0m\u001b[1;33m(\u001b[0m\u001b[0mself\u001b[0m\u001b[1;33m.\u001b[0m\u001b[0membed_dim\u001b[0m\u001b[1;33m)\u001b[0m\u001b[1;33m\u001b[0m\u001b[1;33m\u001b[0m\u001b[0m\n\u001b[0;32m    280\u001b[0m \u001b[1;33m\u001b[0m\u001b[0m\n",
      "\u001b[1;32m~\\anaconda3\\envs\\topicmodelling\\lib\\site-packages\\torch\\nn\\modules\\linear.py\u001b[0m in \u001b[0;36m__init__\u001b[1;34m(self, in_features, out_features, bias, device, dtype)\u001b[0m\n\u001b[0;32m     84\u001b[0m         \u001b[1;32melse\u001b[0m\u001b[1;33m:\u001b[0m\u001b[1;33m\u001b[0m\u001b[1;33m\u001b[0m\u001b[0m\n\u001b[0;32m     85\u001b[0m             \u001b[0mself\u001b[0m\u001b[1;33m.\u001b[0m\u001b[0mregister_parameter\u001b[0m\u001b[1;33m(\u001b[0m\u001b[1;34m'bias'\u001b[0m\u001b[1;33m,\u001b[0m \u001b[1;32mNone\u001b[0m\u001b[1;33m)\u001b[0m\u001b[1;33m\u001b[0m\u001b[1;33m\u001b[0m\u001b[0m\n\u001b[1;32m---> 86\u001b[1;33m         \u001b[0mself\u001b[0m\u001b[1;33m.\u001b[0m\u001b[0mreset_parameters\u001b[0m\u001b[1;33m(\u001b[0m\u001b[1;33m)\u001b[0m\u001b[1;33m\u001b[0m\u001b[1;33m\u001b[0m\u001b[0m\n\u001b[0m\u001b[0;32m     87\u001b[0m \u001b[1;33m\u001b[0m\u001b[0m\n\u001b[0;32m     88\u001b[0m     \u001b[1;32mdef\u001b[0m \u001b[0mreset_parameters\u001b[0m\u001b[1;33m(\u001b[0m\u001b[0mself\u001b[0m\u001b[1;33m)\u001b[0m \u001b[1;33m->\u001b[0m \u001b[1;32mNone\u001b[0m\u001b[1;33m:\u001b[0m\u001b[1;33m\u001b[0m\u001b[1;33m\u001b[0m\u001b[0m\n",
      "\u001b[1;32m~\\anaconda3\\envs\\topicmodelling\\lib\\site-packages\\torch\\nn\\modules\\linear.py\u001b[0m in \u001b[0;36mreset_parameters\u001b[1;34m(self)\u001b[0m\n\u001b[0;32m     87\u001b[0m \u001b[1;33m\u001b[0m\u001b[0m\n\u001b[0;32m     88\u001b[0m     \u001b[1;32mdef\u001b[0m \u001b[0mreset_parameters\u001b[0m\u001b[1;33m(\u001b[0m\u001b[0mself\u001b[0m\u001b[1;33m)\u001b[0m \u001b[1;33m->\u001b[0m \u001b[1;32mNone\u001b[0m\u001b[1;33m:\u001b[0m\u001b[1;33m\u001b[0m\u001b[1;33m\u001b[0m\u001b[0m\n\u001b[1;32m---> 89\u001b[1;33m         \u001b[0minit\u001b[0m\u001b[1;33m.\u001b[0m\u001b[0mkaiming_uniform_\u001b[0m\u001b[1;33m(\u001b[0m\u001b[0mself\u001b[0m\u001b[1;33m.\u001b[0m\u001b[0mweight\u001b[0m\u001b[1;33m,\u001b[0m \u001b[0ma\u001b[0m\u001b[1;33m=\u001b[0m\u001b[0mmath\u001b[0m\u001b[1;33m.\u001b[0m\u001b[0msqrt\u001b[0m\u001b[1;33m(\u001b[0m\u001b[1;36m5\u001b[0m\u001b[1;33m)\u001b[0m\u001b[1;33m)\u001b[0m\u001b[1;33m\u001b[0m\u001b[1;33m\u001b[0m\u001b[0m\n\u001b[0m\u001b[0;32m     90\u001b[0m         \u001b[1;32mif\u001b[0m \u001b[0mself\u001b[0m\u001b[1;33m.\u001b[0m\u001b[0mbias\u001b[0m \u001b[1;32mis\u001b[0m \u001b[1;32mnot\u001b[0m \u001b[1;32mNone\u001b[0m\u001b[1;33m:\u001b[0m\u001b[1;33m\u001b[0m\u001b[1;33m\u001b[0m\u001b[0m\n\u001b[0;32m     91\u001b[0m             \u001b[0mfan_in\u001b[0m\u001b[1;33m,\u001b[0m \u001b[0m_\u001b[0m \u001b[1;33m=\u001b[0m \u001b[0minit\u001b[0m\u001b[1;33m.\u001b[0m\u001b[0m_calculate_fan_in_and_fan_out\u001b[0m\u001b[1;33m(\u001b[0m\u001b[0mself\u001b[0m\u001b[1;33m.\u001b[0m\u001b[0mweight\u001b[0m\u001b[1;33m)\u001b[0m\u001b[1;33m\u001b[0m\u001b[1;33m\u001b[0m\u001b[0m\n",
      "\u001b[1;32m~\\anaconda3\\envs\\topicmodelling\\lib\\site-packages\\torch\\nn\\init.py\u001b[0m in \u001b[0;36mkaiming_uniform_\u001b[1;34m(tensor, a, mode, nonlinearity)\u001b[0m\n\u001b[0;32m    393\u001b[0m     \u001b[0mbound\u001b[0m \u001b[1;33m=\u001b[0m \u001b[0mmath\u001b[0m\u001b[1;33m.\u001b[0m\u001b[0msqrt\u001b[0m\u001b[1;33m(\u001b[0m\u001b[1;36m3.0\u001b[0m\u001b[1;33m)\u001b[0m \u001b[1;33m*\u001b[0m \u001b[0mstd\u001b[0m  \u001b[1;31m# Calculate uniform bounds from standard deviation\u001b[0m\u001b[1;33m\u001b[0m\u001b[1;33m\u001b[0m\u001b[0m\n\u001b[0;32m    394\u001b[0m     \u001b[1;32mwith\u001b[0m \u001b[0mtorch\u001b[0m\u001b[1;33m.\u001b[0m\u001b[0mno_grad\u001b[0m\u001b[1;33m(\u001b[0m\u001b[1;33m)\u001b[0m\u001b[1;33m:\u001b[0m\u001b[1;33m\u001b[0m\u001b[1;33m\u001b[0m\u001b[0m\n\u001b[1;32m--> 395\u001b[1;33m         \u001b[1;32mreturn\u001b[0m \u001b[0mtensor\u001b[0m\u001b[1;33m.\u001b[0m\u001b[0muniform_\u001b[0m\u001b[1;33m(\u001b[0m\u001b[1;33m-\u001b[0m\u001b[0mbound\u001b[0m\u001b[1;33m,\u001b[0m \u001b[0mbound\u001b[0m\u001b[1;33m)\u001b[0m\u001b[1;33m\u001b[0m\u001b[1;33m\u001b[0m\u001b[0m\n\u001b[0m\u001b[0;32m    396\u001b[0m \u001b[1;33m\u001b[0m\u001b[0m\n\u001b[0;32m    397\u001b[0m \u001b[1;33m\u001b[0m\u001b[0m\n",
      "\u001b[1;31mKeyboardInterrupt\u001b[0m: "
     ]
    }
   ],
   "metadata": {}
  },
  {
   "cell_type": "code",
   "execution_count": 54,
   "source": [
    "text = df[\"Text\"]\r\n",
    "text_list = []\r\n",
    "for doc in tqdm(text):\r\n",
    "    if not pd.isna(doc):\r\n",
    "        pr = clean_text(doc)\r\n",
    "        text_list.append(pr)"
   ],
   "outputs": [
    {
     "output_type": "stream",
     "name": "stderr",
     "text": [
      "C:\\Users\\chave\\anaconda3\\envs\\topicmodelling\\lib\\site-packages\\ipykernel_launcher.py:3: TqdmDeprecationWarning: This function will be removed in tqdm==5.0.0\n",
      "Please use `tqdm.notebook.tqdm` instead of `tqdm.tqdm_notebook`\n",
      "  This is separate from the ipykernel package so we can avoid doing imports until\n"
     ]
    },
    {
     "output_type": "display_data",
     "data": {
      "text/plain": [
       "  0%|          | 0/6918 [00:00<?, ?it/s]"
      ],
      "application/vnd.jupyter.widget-view+json": {
       "version_major": 2,
       "version_minor": 0,
       "model_id": "af63b8d37921417bbdac0813ff5b03a0"
      }
     },
     "metadata": {}
    },
    {
     "output_type": "error",
     "ename": "KeyboardInterrupt",
     "evalue": "",
     "traceback": [
      "\u001b[1;31m---------------------------------------------------------------------------\u001b[0m",
      "\u001b[1;31mKeyboardInterrupt\u001b[0m                         Traceback (most recent call last)",
      "\u001b[1;32m~\\AppData\\Local\\Temp/ipykernel_31604/1113009243.py\u001b[0m in \u001b[0;36m<module>\u001b[1;34m\u001b[0m\n\u001b[0;32m      3\u001b[0m \u001b[1;32mfor\u001b[0m \u001b[0mdoc\u001b[0m \u001b[1;32min\u001b[0m \u001b[0mtqdm\u001b[0m\u001b[1;33m(\u001b[0m\u001b[0mtext\u001b[0m\u001b[1;33m)\u001b[0m\u001b[1;33m:\u001b[0m\u001b[1;33m\u001b[0m\u001b[1;33m\u001b[0m\u001b[0m\n\u001b[0;32m      4\u001b[0m     \u001b[1;32mif\u001b[0m \u001b[1;32mnot\u001b[0m \u001b[0mpd\u001b[0m\u001b[1;33m.\u001b[0m\u001b[0misna\u001b[0m\u001b[1;33m(\u001b[0m\u001b[0mdoc\u001b[0m\u001b[1;33m)\u001b[0m\u001b[1;33m:\u001b[0m\u001b[1;33m\u001b[0m\u001b[1;33m\u001b[0m\u001b[0m\n\u001b[1;32m----> 5\u001b[1;33m         \u001b[0mpr\u001b[0m \u001b[1;33m=\u001b[0m \u001b[0mclean_text\u001b[0m\u001b[1;33m(\u001b[0m\u001b[0mdoc\u001b[0m\u001b[1;33m)\u001b[0m\u001b[1;33m\u001b[0m\u001b[1;33m\u001b[0m\u001b[0m\n\u001b[0m\u001b[0;32m      6\u001b[0m         \u001b[0mtext_list\u001b[0m\u001b[1;33m.\u001b[0m\u001b[0mappend\u001b[0m\u001b[1;33m(\u001b[0m\u001b[0mpr\u001b[0m\u001b[1;33m)\u001b[0m\u001b[1;33m\u001b[0m\u001b[1;33m\u001b[0m\u001b[0m\n",
      "\u001b[1;32m~\\AppData\\Local\\Temp/ipykernel_31604/3332497843.py\u001b[0m in \u001b[0;36mclean_text\u001b[1;34m(sample_text)\u001b[0m\n\u001b[0;32m      3\u001b[0m     \u001b[0msample_text\u001b[0m \u001b[1;33m=\u001b[0m \u001b[1;34m\" \"\u001b[0m\u001b[1;33m.\u001b[0m\u001b[0mjoin\u001b[0m\u001b[1;33m(\u001b[0m\u001b[1;33m[\u001b[0m\u001b[0mw\u001b[0m \u001b[1;32mfor\u001b[0m \u001b[0mw\u001b[0m \u001b[1;32min\u001b[0m \u001b[0msample_text\u001b[0m\u001b[1;33m.\u001b[0m\u001b[0msplit\u001b[0m\u001b[1;33m(\u001b[0m\u001b[1;33m)\u001b[0m \u001b[1;32mif\u001b[0m \u001b[1;32mnot\u001b[0m \u001b[0mw\u001b[0m\u001b[1;33m.\u001b[0m\u001b[0misdigit\u001b[0m\u001b[1;33m(\u001b[0m\u001b[1;33m)\u001b[0m\u001b[1;33m]\u001b[0m\u001b[1;33m)\u001b[0m\u001b[1;33m\u001b[0m\u001b[1;33m\u001b[0m\u001b[0m\n\u001b[0;32m      4\u001b[0m     \u001b[0msample_text\u001b[0m \u001b[1;33m=\u001b[0m \u001b[0msample_text\u001b[0m\u001b[1;33m.\u001b[0m\u001b[0mlower\u001b[0m\u001b[1;33m(\u001b[0m\u001b[1;33m)\u001b[0m\u001b[1;33m\u001b[0m\u001b[1;33m\u001b[0m\u001b[0m\n\u001b[1;32m----> 5\u001b[1;33m     \u001b[0mdoc\u001b[0m \u001b[1;33m=\u001b[0m \u001b[0mnlp\u001b[0m\u001b[1;33m(\u001b[0m\u001b[0msample_text\u001b[0m\u001b[1;33m)\u001b[0m\u001b[1;33m\u001b[0m\u001b[1;33m\u001b[0m\u001b[0m\n\u001b[0m\u001b[0;32m      6\u001b[0m     \u001b[0mdoc\u001b[0m \u001b[1;33m=\u001b[0m \u001b[1;33m[\u001b[0m\u001b[0mtoken\u001b[0m\u001b[1;33m.\u001b[0m\u001b[0mlemma_\u001b[0m \u001b[1;32mfor\u001b[0m \u001b[0mtoken\u001b[0m \u001b[1;32min\u001b[0m \u001b[0mdoc\u001b[0m \u001b[1;32mif\u001b[0m \u001b[1;33m(\u001b[0m\u001b[0mtoken\u001b[0m\u001b[1;33m.\u001b[0m\u001b[0mtag_\u001b[0m \u001b[1;32min\u001b[0m \u001b[0mlemma_tags\u001b[0m \u001b[1;32mor\u001b[0m \u001b[0mtoken\u001b[0m\u001b[1;33m.\u001b[0m\u001b[0mlemma_\u001b[0m \u001b[1;33m!=\u001b[0m \u001b[1;34m'-PRON-'\u001b[0m \u001b[1;32mand\u001b[0m \u001b[0mtoken\u001b[0m\u001b[1;33m.\u001b[0m\u001b[0mpos_\u001b[0m \u001b[1;32min\u001b[0m \u001b[1;33m[\u001b[0m\u001b[1;34m'NOUN'\u001b[0m\u001b[1;33m,\u001b[0m \u001b[1;34m'ADJ'\u001b[0m\u001b[1;33m,\u001b[0m \u001b[1;34m'VERB'\u001b[0m\u001b[1;33m,\u001b[0m \u001b[1;34m'ADV'\u001b[0m\u001b[1;33m]\u001b[0m\u001b[1;33m)\u001b[0m\u001b[1;33m]\u001b[0m\u001b[1;33m\u001b[0m\u001b[1;33m\u001b[0m\u001b[0m\n\u001b[0;32m      7\u001b[0m     \u001b[0mdoc\u001b[0m \u001b[1;33m=\u001b[0m \u001b[1;34mu' '\u001b[0m\u001b[1;33m.\u001b[0m\u001b[0mjoin\u001b[0m\u001b[1;33m(\u001b[0m\u001b[0mdoc\u001b[0m\u001b[1;33m)\u001b[0m\u001b[1;33m\u001b[0m\u001b[1;33m\u001b[0m\u001b[0m\n",
      "\u001b[1;32m~\\anaconda3\\envs\\topicmodelling\\lib\\site-packages\\spacy\\language.py\u001b[0m in \u001b[0;36m__call__\u001b[1;34m(self, text, disable, component_cfg)\u001b[0m\n\u001b[0;32m    998\u001b[0m                 \u001b[0merror_handler\u001b[0m \u001b[1;33m=\u001b[0m \u001b[0mproc\u001b[0m\u001b[1;33m.\u001b[0m\u001b[0mget_error_handler\u001b[0m\u001b[1;33m(\u001b[0m\u001b[1;33m)\u001b[0m\u001b[1;33m\u001b[0m\u001b[1;33m\u001b[0m\u001b[0m\n\u001b[0;32m    999\u001b[0m             \u001b[1;32mtry\u001b[0m\u001b[1;33m:\u001b[0m\u001b[1;33m\u001b[0m\u001b[1;33m\u001b[0m\u001b[0m\n\u001b[1;32m-> 1000\u001b[1;33m                 \u001b[0mdoc\u001b[0m \u001b[1;33m=\u001b[0m \u001b[0mproc\u001b[0m\u001b[1;33m(\u001b[0m\u001b[0mdoc\u001b[0m\u001b[1;33m,\u001b[0m \u001b[1;33m**\u001b[0m\u001b[0mcomponent_cfg\u001b[0m\u001b[1;33m.\u001b[0m\u001b[0mget\u001b[0m\u001b[1;33m(\u001b[0m\u001b[0mname\u001b[0m\u001b[1;33m,\u001b[0m \u001b[1;33m{\u001b[0m\u001b[1;33m}\u001b[0m\u001b[1;33m)\u001b[0m\u001b[1;33m)\u001b[0m\u001b[1;33m\u001b[0m\u001b[1;33m\u001b[0m\u001b[0m\n\u001b[0m\u001b[0;32m   1001\u001b[0m             \u001b[1;32mexcept\u001b[0m \u001b[0mKeyError\u001b[0m \u001b[1;32mas\u001b[0m \u001b[0me\u001b[0m\u001b[1;33m:\u001b[0m\u001b[1;33m\u001b[0m\u001b[1;33m\u001b[0m\u001b[0m\n\u001b[0;32m   1002\u001b[0m                 \u001b[1;31m# This typically happens if a component is not initialized\u001b[0m\u001b[1;33m\u001b[0m\u001b[1;33m\u001b[0m\u001b[1;33m\u001b[0m\u001b[0m\n",
      "\u001b[1;32m~\\anaconda3\\envs\\topicmodelling\\lib\\site-packages\\spacy\\pipeline\\trainable_pipe.pyx\u001b[0m in \u001b[0;36mspacy.pipeline.trainable_pipe.TrainablePipe.__call__\u001b[1;34m()\u001b[0m\n",
      "\u001b[1;32m~\\anaconda3\\envs\\topicmodelling\\lib\\site-packages\\spacy\\pipeline\\tok2vec.py\u001b[0m in \u001b[0;36mpredict\u001b[1;34m(self, docs)\u001b[0m\n\u001b[0;32m    119\u001b[0m         \u001b[0mDOCS\u001b[0m\u001b[1;33m:\u001b[0m \u001b[0mhttps\u001b[0m\u001b[1;33m:\u001b[0m\u001b[1;33m//\u001b[0m\u001b[0mspacy\u001b[0m\u001b[1;33m.\u001b[0m\u001b[0mio\u001b[0m\u001b[1;33m/\u001b[0m\u001b[0mapi\u001b[0m\u001b[1;33m/\u001b[0m\u001b[0mtok2vec\u001b[0m\u001b[1;31m#predict\u001b[0m\u001b[1;33m\u001b[0m\u001b[1;33m\u001b[0m\u001b[0m\n\u001b[0;32m    120\u001b[0m         \"\"\"\n\u001b[1;32m--> 121\u001b[1;33m         \u001b[0mtokvecs\u001b[0m \u001b[1;33m=\u001b[0m \u001b[0mself\u001b[0m\u001b[1;33m.\u001b[0m\u001b[0mmodel\u001b[0m\u001b[1;33m.\u001b[0m\u001b[0mpredict\u001b[0m\u001b[1;33m(\u001b[0m\u001b[0mdocs\u001b[0m\u001b[1;33m)\u001b[0m\u001b[1;33m\u001b[0m\u001b[1;33m\u001b[0m\u001b[0m\n\u001b[0m\u001b[0;32m    122\u001b[0m         \u001b[0mbatch_id\u001b[0m \u001b[1;33m=\u001b[0m \u001b[0mTok2VecListener\u001b[0m\u001b[1;33m.\u001b[0m\u001b[0mget_batch_id\u001b[0m\u001b[1;33m(\u001b[0m\u001b[0mdocs\u001b[0m\u001b[1;33m)\u001b[0m\u001b[1;33m\u001b[0m\u001b[1;33m\u001b[0m\u001b[0m\n\u001b[0;32m    123\u001b[0m         \u001b[1;32mfor\u001b[0m \u001b[0mlistener\u001b[0m \u001b[1;32min\u001b[0m \u001b[0mself\u001b[0m\u001b[1;33m.\u001b[0m\u001b[0mlisteners\u001b[0m\u001b[1;33m:\u001b[0m\u001b[1;33m\u001b[0m\u001b[1;33m\u001b[0m\u001b[0m\n",
      "\u001b[1;32m~\\anaconda3\\envs\\topicmodelling\\lib\\site-packages\\thinc\\model.py\u001b[0m in \u001b[0;36mpredict\u001b[1;34m(self, X)\u001b[0m\n\u001b[0;32m    313\u001b[0m         \u001b[0monly\u001b[0m \u001b[0mthe\u001b[0m \u001b[0moutput\u001b[0m\u001b[1;33m,\u001b[0m \u001b[0minstead\u001b[0m \u001b[0mof\u001b[0m \u001b[0mthe\u001b[0m\u001b[0;31m \u001b[0m\u001b[0;31m`\u001b[0m\u001b[1;33m(\u001b[0m\u001b[0moutput\u001b[0m\u001b[1;33m,\u001b[0m \u001b[0mcallback\u001b[0m\u001b[1;33m)\u001b[0m\u001b[0;31m`\u001b[0m \u001b[0mtuple\u001b[0m\u001b[1;33m.\u001b[0m\u001b[1;33m\u001b[0m\u001b[1;33m\u001b[0m\u001b[0m\n\u001b[0;32m    314\u001b[0m         \"\"\"\n\u001b[1;32m--> 315\u001b[1;33m         \u001b[1;32mreturn\u001b[0m \u001b[0mself\u001b[0m\u001b[1;33m.\u001b[0m\u001b[0m_func\u001b[0m\u001b[1;33m(\u001b[0m\u001b[0mself\u001b[0m\u001b[1;33m,\u001b[0m \u001b[0mX\u001b[0m\u001b[1;33m,\u001b[0m \u001b[0mis_train\u001b[0m\u001b[1;33m=\u001b[0m\u001b[1;32mFalse\u001b[0m\u001b[1;33m)\u001b[0m\u001b[1;33m[\u001b[0m\u001b[1;36m0\u001b[0m\u001b[1;33m]\u001b[0m\u001b[1;33m\u001b[0m\u001b[1;33m\u001b[0m\u001b[0m\n\u001b[0m\u001b[0;32m    316\u001b[0m \u001b[1;33m\u001b[0m\u001b[0m\n\u001b[0;32m    317\u001b[0m     \u001b[1;32mdef\u001b[0m \u001b[0mfinish_update\u001b[0m\u001b[1;33m(\u001b[0m\u001b[0mself\u001b[0m\u001b[1;33m,\u001b[0m \u001b[0moptimizer\u001b[0m\u001b[1;33m:\u001b[0m \u001b[0mOptimizer\u001b[0m\u001b[1;33m)\u001b[0m \u001b[1;33m->\u001b[0m \u001b[1;32mNone\u001b[0m\u001b[1;33m:\u001b[0m\u001b[1;33m\u001b[0m\u001b[1;33m\u001b[0m\u001b[0m\n",
      "\u001b[1;32m~\\anaconda3\\envs\\topicmodelling\\lib\\site-packages\\thinc\\layers\\chain.py\u001b[0m in \u001b[0;36mforward\u001b[1;34m(model, X, is_train)\u001b[0m\n\u001b[0;32m     52\u001b[0m     \u001b[0mcallbacks\u001b[0m \u001b[1;33m=\u001b[0m \u001b[1;33m[\u001b[0m\u001b[1;33m]\u001b[0m\u001b[1;33m\u001b[0m\u001b[1;33m\u001b[0m\u001b[0m\n\u001b[0;32m     53\u001b[0m     \u001b[1;32mfor\u001b[0m \u001b[0mlayer\u001b[0m \u001b[1;32min\u001b[0m \u001b[0mmodel\u001b[0m\u001b[1;33m.\u001b[0m\u001b[0mlayers\u001b[0m\u001b[1;33m:\u001b[0m\u001b[1;33m\u001b[0m\u001b[1;33m\u001b[0m\u001b[0m\n\u001b[1;32m---> 54\u001b[1;33m         \u001b[0mY\u001b[0m\u001b[1;33m,\u001b[0m \u001b[0minc_layer_grad\u001b[0m \u001b[1;33m=\u001b[0m \u001b[0mlayer\u001b[0m\u001b[1;33m(\u001b[0m\u001b[0mX\u001b[0m\u001b[1;33m,\u001b[0m \u001b[0mis_train\u001b[0m\u001b[1;33m=\u001b[0m\u001b[0mis_train\u001b[0m\u001b[1;33m)\u001b[0m\u001b[1;33m\u001b[0m\u001b[1;33m\u001b[0m\u001b[0m\n\u001b[0m\u001b[0;32m     55\u001b[0m         \u001b[0mcallbacks\u001b[0m\u001b[1;33m.\u001b[0m\u001b[0mappend\u001b[0m\u001b[1;33m(\u001b[0m\u001b[0minc_layer_grad\u001b[0m\u001b[1;33m)\u001b[0m\u001b[1;33m\u001b[0m\u001b[1;33m\u001b[0m\u001b[0m\n\u001b[0;32m     56\u001b[0m         \u001b[0mX\u001b[0m \u001b[1;33m=\u001b[0m \u001b[0mY\u001b[0m\u001b[1;33m\u001b[0m\u001b[1;33m\u001b[0m\u001b[0m\n",
      "\u001b[1;32m~\\anaconda3\\envs\\topicmodelling\\lib\\site-packages\\thinc\\model.py\u001b[0m in \u001b[0;36m__call__\u001b[1;34m(self, X, is_train)\u001b[0m\n\u001b[0;32m    289\u001b[0m         \"\"\"Call the model's `forward` function, returning the output and a\n\u001b[0;32m    290\u001b[0m         callback to compute the gradients via backpropagation.\"\"\"\n\u001b[1;32m--> 291\u001b[1;33m         \u001b[1;32mreturn\u001b[0m \u001b[0mself\u001b[0m\u001b[1;33m.\u001b[0m\u001b[0m_func\u001b[0m\u001b[1;33m(\u001b[0m\u001b[0mself\u001b[0m\u001b[1;33m,\u001b[0m \u001b[0mX\u001b[0m\u001b[1;33m,\u001b[0m \u001b[0mis_train\u001b[0m\u001b[1;33m=\u001b[0m\u001b[0mis_train\u001b[0m\u001b[1;33m)\u001b[0m\u001b[1;33m\u001b[0m\u001b[1;33m\u001b[0m\u001b[0m\n\u001b[0m\u001b[0;32m    292\u001b[0m \u001b[1;33m\u001b[0m\u001b[0m\n\u001b[0;32m    293\u001b[0m     \u001b[1;32mdef\u001b[0m \u001b[0minitialize\u001b[0m\u001b[1;33m(\u001b[0m\u001b[0mself\u001b[0m\u001b[1;33m,\u001b[0m \u001b[0mX\u001b[0m\u001b[1;33m:\u001b[0m \u001b[0mOptional\u001b[0m\u001b[1;33m[\u001b[0m\u001b[0mInT\u001b[0m\u001b[1;33m]\u001b[0m \u001b[1;33m=\u001b[0m \u001b[1;32mNone\u001b[0m\u001b[1;33m,\u001b[0m \u001b[0mY\u001b[0m\u001b[1;33m:\u001b[0m \u001b[0mOptional\u001b[0m\u001b[1;33m[\u001b[0m\u001b[0mOutT\u001b[0m\u001b[1;33m]\u001b[0m \u001b[1;33m=\u001b[0m \u001b[1;32mNone\u001b[0m\u001b[1;33m)\u001b[0m \u001b[1;33m->\u001b[0m \u001b[1;34m\"Model\"\u001b[0m\u001b[1;33m:\u001b[0m\u001b[1;33m\u001b[0m\u001b[1;33m\u001b[0m\u001b[0m\n",
      "\u001b[1;32m~\\anaconda3\\envs\\topicmodelling\\lib\\site-packages\\thinc\\layers\\chain.py\u001b[0m in \u001b[0;36mforward\u001b[1;34m(model, X, is_train)\u001b[0m\n\u001b[0;32m     52\u001b[0m     \u001b[0mcallbacks\u001b[0m \u001b[1;33m=\u001b[0m \u001b[1;33m[\u001b[0m\u001b[1;33m]\u001b[0m\u001b[1;33m\u001b[0m\u001b[1;33m\u001b[0m\u001b[0m\n\u001b[0;32m     53\u001b[0m     \u001b[1;32mfor\u001b[0m \u001b[0mlayer\u001b[0m \u001b[1;32min\u001b[0m \u001b[0mmodel\u001b[0m\u001b[1;33m.\u001b[0m\u001b[0mlayers\u001b[0m\u001b[1;33m:\u001b[0m\u001b[1;33m\u001b[0m\u001b[1;33m\u001b[0m\u001b[0m\n\u001b[1;32m---> 54\u001b[1;33m         \u001b[0mY\u001b[0m\u001b[1;33m,\u001b[0m \u001b[0minc_layer_grad\u001b[0m \u001b[1;33m=\u001b[0m \u001b[0mlayer\u001b[0m\u001b[1;33m(\u001b[0m\u001b[0mX\u001b[0m\u001b[1;33m,\u001b[0m \u001b[0mis_train\u001b[0m\u001b[1;33m=\u001b[0m\u001b[0mis_train\u001b[0m\u001b[1;33m)\u001b[0m\u001b[1;33m\u001b[0m\u001b[1;33m\u001b[0m\u001b[0m\n\u001b[0m\u001b[0;32m     55\u001b[0m         \u001b[0mcallbacks\u001b[0m\u001b[1;33m.\u001b[0m\u001b[0mappend\u001b[0m\u001b[1;33m(\u001b[0m\u001b[0minc_layer_grad\u001b[0m\u001b[1;33m)\u001b[0m\u001b[1;33m\u001b[0m\u001b[1;33m\u001b[0m\u001b[0m\n\u001b[0;32m     56\u001b[0m         \u001b[0mX\u001b[0m \u001b[1;33m=\u001b[0m \u001b[0mY\u001b[0m\u001b[1;33m\u001b[0m\u001b[1;33m\u001b[0m\u001b[0m\n",
      "\u001b[1;32m~\\anaconda3\\envs\\topicmodelling\\lib\\site-packages\\thinc\\model.py\u001b[0m in \u001b[0;36m__call__\u001b[1;34m(self, X, is_train)\u001b[0m\n\u001b[0;32m    289\u001b[0m         \"\"\"Call the model's `forward` function, returning the output and a\n\u001b[0;32m    290\u001b[0m         callback to compute the gradients via backpropagation.\"\"\"\n\u001b[1;32m--> 291\u001b[1;33m         \u001b[1;32mreturn\u001b[0m \u001b[0mself\u001b[0m\u001b[1;33m.\u001b[0m\u001b[0m_func\u001b[0m\u001b[1;33m(\u001b[0m\u001b[0mself\u001b[0m\u001b[1;33m,\u001b[0m \u001b[0mX\u001b[0m\u001b[1;33m,\u001b[0m \u001b[0mis_train\u001b[0m\u001b[1;33m=\u001b[0m\u001b[0mis_train\u001b[0m\u001b[1;33m)\u001b[0m\u001b[1;33m\u001b[0m\u001b[1;33m\u001b[0m\u001b[0m\n\u001b[0m\u001b[0;32m    292\u001b[0m \u001b[1;33m\u001b[0m\u001b[0m\n\u001b[0;32m    293\u001b[0m     \u001b[1;32mdef\u001b[0m \u001b[0minitialize\u001b[0m\u001b[1;33m(\u001b[0m\u001b[0mself\u001b[0m\u001b[1;33m,\u001b[0m \u001b[0mX\u001b[0m\u001b[1;33m:\u001b[0m \u001b[0mOptional\u001b[0m\u001b[1;33m[\u001b[0m\u001b[0mInT\u001b[0m\u001b[1;33m]\u001b[0m \u001b[1;33m=\u001b[0m \u001b[1;32mNone\u001b[0m\u001b[1;33m,\u001b[0m \u001b[0mY\u001b[0m\u001b[1;33m:\u001b[0m \u001b[0mOptional\u001b[0m\u001b[1;33m[\u001b[0m\u001b[0mOutT\u001b[0m\u001b[1;33m]\u001b[0m \u001b[1;33m=\u001b[0m \u001b[1;32mNone\u001b[0m\u001b[1;33m)\u001b[0m \u001b[1;33m->\u001b[0m \u001b[1;34m\"Model\"\u001b[0m\u001b[1;33m:\u001b[0m\u001b[1;33m\u001b[0m\u001b[1;33m\u001b[0m\u001b[0m\n",
      "\u001b[1;32m~\\anaconda3\\envs\\topicmodelling\\lib\\site-packages\\thinc\\layers\\with_array.py\u001b[0m in \u001b[0;36mforward\u001b[1;34m(model, Xseq, is_train)\u001b[0m\n\u001b[0;32m     29\u001b[0m     \u001b[1;32mif\u001b[0m \u001b[0misinstance\u001b[0m\u001b[1;33m(\u001b[0m\u001b[0mXseq\u001b[0m\u001b[1;33m,\u001b[0m \u001b[0mRagged\u001b[0m\u001b[1;33m)\u001b[0m\u001b[1;33m:\u001b[0m\u001b[1;33m\u001b[0m\u001b[1;33m\u001b[0m\u001b[0m\n\u001b[0;32m     30\u001b[0m         return _ragged_forward(\n\u001b[1;32m---> 31\u001b[1;33m             \u001b[0mcast\u001b[0m\u001b[1;33m(\u001b[0m\u001b[0mModel\u001b[0m\u001b[1;33m[\u001b[0m\u001b[0mRagged\u001b[0m\u001b[1;33m,\u001b[0m \u001b[0mRagged\u001b[0m\u001b[1;33m]\u001b[0m\u001b[1;33m,\u001b[0m \u001b[0mmodel\u001b[0m\u001b[1;33m)\u001b[0m\u001b[1;33m,\u001b[0m \u001b[0mcast\u001b[0m\u001b[1;33m(\u001b[0m\u001b[0mRagged\u001b[0m\u001b[1;33m,\u001b[0m \u001b[0mXseq\u001b[0m\u001b[1;33m)\u001b[0m\u001b[1;33m,\u001b[0m \u001b[0mis_train\u001b[0m\u001b[1;33m\u001b[0m\u001b[1;33m\u001b[0m\u001b[0m\n\u001b[0m\u001b[0;32m     32\u001b[0m         )\n\u001b[0;32m     33\u001b[0m     \u001b[1;32melif\u001b[0m \u001b[0misinstance\u001b[0m\u001b[1;33m(\u001b[0m\u001b[0mXseq\u001b[0m\u001b[1;33m,\u001b[0m \u001b[0mPadded\u001b[0m\u001b[1;33m)\u001b[0m\u001b[1;33m:\u001b[0m\u001b[1;33m\u001b[0m\u001b[1;33m\u001b[0m\u001b[0m\n",
      "\u001b[1;32m~\\anaconda3\\envs\\topicmodelling\\lib\\site-packages\\thinc\\layers\\with_array.py\u001b[0m in \u001b[0;36m_ragged_forward\u001b[1;34m(model, Xr, is_train)\u001b[0m\n\u001b[0;32m     88\u001b[0m ) -> Tuple[Ragged, Callable]:\n\u001b[0;32m     89\u001b[0m     \u001b[0mlayer\u001b[0m\u001b[1;33m:\u001b[0m \u001b[0mModel\u001b[0m\u001b[1;33m[\u001b[0m\u001b[0mArrayXd\u001b[0m\u001b[1;33m,\u001b[0m \u001b[0mArrayXd\u001b[0m\u001b[1;33m]\u001b[0m \u001b[1;33m=\u001b[0m \u001b[0mmodel\u001b[0m\u001b[1;33m.\u001b[0m\u001b[0mlayers\u001b[0m\u001b[1;33m[\u001b[0m\u001b[1;36m0\u001b[0m\u001b[1;33m]\u001b[0m\u001b[1;33m\u001b[0m\u001b[1;33m\u001b[0m\u001b[0m\n\u001b[1;32m---> 90\u001b[1;33m     \u001b[0mY\u001b[0m\u001b[1;33m,\u001b[0m \u001b[0mget_dX\u001b[0m \u001b[1;33m=\u001b[0m \u001b[0mlayer\u001b[0m\u001b[1;33m(\u001b[0m\u001b[0mXr\u001b[0m\u001b[1;33m.\u001b[0m\u001b[0mdataXd\u001b[0m\u001b[1;33m,\u001b[0m \u001b[0mis_train\u001b[0m\u001b[1;33m)\u001b[0m\u001b[1;33m\u001b[0m\u001b[1;33m\u001b[0m\u001b[0m\n\u001b[0m\u001b[0;32m     91\u001b[0m \u001b[1;33m\u001b[0m\u001b[0m\n\u001b[0;32m     92\u001b[0m     \u001b[1;32mdef\u001b[0m \u001b[0mbackprop\u001b[0m\u001b[1;33m(\u001b[0m\u001b[0mdYr\u001b[0m\u001b[1;33m:\u001b[0m \u001b[0mRagged\u001b[0m\u001b[1;33m)\u001b[0m \u001b[1;33m->\u001b[0m \u001b[0mRagged\u001b[0m\u001b[1;33m:\u001b[0m\u001b[1;33m\u001b[0m\u001b[1;33m\u001b[0m\u001b[0m\n",
      "\u001b[1;32m~\\anaconda3\\envs\\topicmodelling\\lib\\site-packages\\thinc\\model.py\u001b[0m in \u001b[0;36m__call__\u001b[1;34m(self, X, is_train)\u001b[0m\n\u001b[0;32m    289\u001b[0m         \"\"\"Call the model's `forward` function, returning the output and a\n\u001b[0;32m    290\u001b[0m         callback to compute the gradients via backpropagation.\"\"\"\n\u001b[1;32m--> 291\u001b[1;33m         \u001b[1;32mreturn\u001b[0m \u001b[0mself\u001b[0m\u001b[1;33m.\u001b[0m\u001b[0m_func\u001b[0m\u001b[1;33m(\u001b[0m\u001b[0mself\u001b[0m\u001b[1;33m,\u001b[0m \u001b[0mX\u001b[0m\u001b[1;33m,\u001b[0m \u001b[0mis_train\u001b[0m\u001b[1;33m=\u001b[0m\u001b[0mis_train\u001b[0m\u001b[1;33m)\u001b[0m\u001b[1;33m\u001b[0m\u001b[1;33m\u001b[0m\u001b[0m\n\u001b[0m\u001b[0;32m    292\u001b[0m \u001b[1;33m\u001b[0m\u001b[0m\n\u001b[0;32m    293\u001b[0m     \u001b[1;32mdef\u001b[0m \u001b[0minitialize\u001b[0m\u001b[1;33m(\u001b[0m\u001b[0mself\u001b[0m\u001b[1;33m,\u001b[0m \u001b[0mX\u001b[0m\u001b[1;33m:\u001b[0m \u001b[0mOptional\u001b[0m\u001b[1;33m[\u001b[0m\u001b[0mInT\u001b[0m\u001b[1;33m]\u001b[0m \u001b[1;33m=\u001b[0m \u001b[1;32mNone\u001b[0m\u001b[1;33m,\u001b[0m \u001b[0mY\u001b[0m\u001b[1;33m:\u001b[0m \u001b[0mOptional\u001b[0m\u001b[1;33m[\u001b[0m\u001b[0mOutT\u001b[0m\u001b[1;33m]\u001b[0m \u001b[1;33m=\u001b[0m \u001b[1;32mNone\u001b[0m\u001b[1;33m)\u001b[0m \u001b[1;33m->\u001b[0m \u001b[1;34m\"Model\"\u001b[0m\u001b[1;33m:\u001b[0m\u001b[1;33m\u001b[0m\u001b[1;33m\u001b[0m\u001b[0m\n",
      "\u001b[1;32m~\\anaconda3\\envs\\topicmodelling\\lib\\site-packages\\thinc\\layers\\chain.py\u001b[0m in \u001b[0;36mforward\u001b[1;34m(model, X, is_train)\u001b[0m\n\u001b[0;32m     52\u001b[0m     \u001b[0mcallbacks\u001b[0m \u001b[1;33m=\u001b[0m \u001b[1;33m[\u001b[0m\u001b[1;33m]\u001b[0m\u001b[1;33m\u001b[0m\u001b[1;33m\u001b[0m\u001b[0m\n\u001b[0;32m     53\u001b[0m     \u001b[1;32mfor\u001b[0m \u001b[0mlayer\u001b[0m \u001b[1;32min\u001b[0m \u001b[0mmodel\u001b[0m\u001b[1;33m.\u001b[0m\u001b[0mlayers\u001b[0m\u001b[1;33m:\u001b[0m\u001b[1;33m\u001b[0m\u001b[1;33m\u001b[0m\u001b[0m\n\u001b[1;32m---> 54\u001b[1;33m         \u001b[0mY\u001b[0m\u001b[1;33m,\u001b[0m \u001b[0minc_layer_grad\u001b[0m \u001b[1;33m=\u001b[0m \u001b[0mlayer\u001b[0m\u001b[1;33m(\u001b[0m\u001b[0mX\u001b[0m\u001b[1;33m,\u001b[0m \u001b[0mis_train\u001b[0m\u001b[1;33m=\u001b[0m\u001b[0mis_train\u001b[0m\u001b[1;33m)\u001b[0m\u001b[1;33m\u001b[0m\u001b[1;33m\u001b[0m\u001b[0m\n\u001b[0m\u001b[0;32m     55\u001b[0m         \u001b[0mcallbacks\u001b[0m\u001b[1;33m.\u001b[0m\u001b[0mappend\u001b[0m\u001b[1;33m(\u001b[0m\u001b[0minc_layer_grad\u001b[0m\u001b[1;33m)\u001b[0m\u001b[1;33m\u001b[0m\u001b[1;33m\u001b[0m\u001b[0m\n\u001b[0;32m     56\u001b[0m         \u001b[0mX\u001b[0m \u001b[1;33m=\u001b[0m \u001b[0mY\u001b[0m\u001b[1;33m\u001b[0m\u001b[1;33m\u001b[0m\u001b[0m\n",
      "\u001b[1;32m~\\anaconda3\\envs\\topicmodelling\\lib\\site-packages\\thinc\\model.py\u001b[0m in \u001b[0;36m__call__\u001b[1;34m(self, X, is_train)\u001b[0m\n\u001b[0;32m    289\u001b[0m         \"\"\"Call the model's `forward` function, returning the output and a\n\u001b[0;32m    290\u001b[0m         callback to compute the gradients via backpropagation.\"\"\"\n\u001b[1;32m--> 291\u001b[1;33m         \u001b[1;32mreturn\u001b[0m \u001b[0mself\u001b[0m\u001b[1;33m.\u001b[0m\u001b[0m_func\u001b[0m\u001b[1;33m(\u001b[0m\u001b[0mself\u001b[0m\u001b[1;33m,\u001b[0m \u001b[0mX\u001b[0m\u001b[1;33m,\u001b[0m \u001b[0mis_train\u001b[0m\u001b[1;33m=\u001b[0m\u001b[0mis_train\u001b[0m\u001b[1;33m)\u001b[0m\u001b[1;33m\u001b[0m\u001b[1;33m\u001b[0m\u001b[0m\n\u001b[0m\u001b[0;32m    292\u001b[0m \u001b[1;33m\u001b[0m\u001b[0m\n\u001b[0;32m    293\u001b[0m     \u001b[1;32mdef\u001b[0m \u001b[0minitialize\u001b[0m\u001b[1;33m(\u001b[0m\u001b[0mself\u001b[0m\u001b[1;33m,\u001b[0m \u001b[0mX\u001b[0m\u001b[1;33m:\u001b[0m \u001b[0mOptional\u001b[0m\u001b[1;33m[\u001b[0m\u001b[0mInT\u001b[0m\u001b[1;33m]\u001b[0m \u001b[1;33m=\u001b[0m \u001b[1;32mNone\u001b[0m\u001b[1;33m,\u001b[0m \u001b[0mY\u001b[0m\u001b[1;33m:\u001b[0m \u001b[0mOptional\u001b[0m\u001b[1;33m[\u001b[0m\u001b[0mOutT\u001b[0m\u001b[1;33m]\u001b[0m \u001b[1;33m=\u001b[0m \u001b[1;32mNone\u001b[0m\u001b[1;33m)\u001b[0m \u001b[1;33m->\u001b[0m \u001b[1;34m\"Model\"\u001b[0m\u001b[1;33m:\u001b[0m\u001b[1;33m\u001b[0m\u001b[1;33m\u001b[0m\u001b[0m\n",
      "\u001b[1;32m~\\anaconda3\\envs\\topicmodelling\\lib\\site-packages\\thinc\\layers\\chain.py\u001b[0m in \u001b[0;36mforward\u001b[1;34m(model, X, is_train)\u001b[0m\n\u001b[0;32m     52\u001b[0m     \u001b[0mcallbacks\u001b[0m \u001b[1;33m=\u001b[0m \u001b[1;33m[\u001b[0m\u001b[1;33m]\u001b[0m\u001b[1;33m\u001b[0m\u001b[1;33m\u001b[0m\u001b[0m\n\u001b[0;32m     53\u001b[0m     \u001b[1;32mfor\u001b[0m \u001b[0mlayer\u001b[0m \u001b[1;32min\u001b[0m \u001b[0mmodel\u001b[0m\u001b[1;33m.\u001b[0m\u001b[0mlayers\u001b[0m\u001b[1;33m:\u001b[0m\u001b[1;33m\u001b[0m\u001b[1;33m\u001b[0m\u001b[0m\n\u001b[1;32m---> 54\u001b[1;33m         \u001b[0mY\u001b[0m\u001b[1;33m,\u001b[0m \u001b[0minc_layer_grad\u001b[0m \u001b[1;33m=\u001b[0m \u001b[0mlayer\u001b[0m\u001b[1;33m(\u001b[0m\u001b[0mX\u001b[0m\u001b[1;33m,\u001b[0m \u001b[0mis_train\u001b[0m\u001b[1;33m=\u001b[0m\u001b[0mis_train\u001b[0m\u001b[1;33m)\u001b[0m\u001b[1;33m\u001b[0m\u001b[1;33m\u001b[0m\u001b[0m\n\u001b[0m\u001b[0;32m     55\u001b[0m         \u001b[0mcallbacks\u001b[0m\u001b[1;33m.\u001b[0m\u001b[0mappend\u001b[0m\u001b[1;33m(\u001b[0m\u001b[0minc_layer_grad\u001b[0m\u001b[1;33m)\u001b[0m\u001b[1;33m\u001b[0m\u001b[1;33m\u001b[0m\u001b[0m\n\u001b[0;32m     56\u001b[0m         \u001b[0mX\u001b[0m \u001b[1;33m=\u001b[0m \u001b[0mY\u001b[0m\u001b[1;33m\u001b[0m\u001b[1;33m\u001b[0m\u001b[0m\n",
      "\u001b[1;32m~\\anaconda3\\envs\\topicmodelling\\lib\\site-packages\\thinc\\model.py\u001b[0m in \u001b[0;36m__call__\u001b[1;34m(self, X, is_train)\u001b[0m\n\u001b[0;32m    289\u001b[0m         \"\"\"Call the model's `forward` function, returning the output and a\n\u001b[0;32m    290\u001b[0m         callback to compute the gradients via backpropagation.\"\"\"\n\u001b[1;32m--> 291\u001b[1;33m         \u001b[1;32mreturn\u001b[0m \u001b[0mself\u001b[0m\u001b[1;33m.\u001b[0m\u001b[0m_func\u001b[0m\u001b[1;33m(\u001b[0m\u001b[0mself\u001b[0m\u001b[1;33m,\u001b[0m \u001b[0mX\u001b[0m\u001b[1;33m,\u001b[0m \u001b[0mis_train\u001b[0m\u001b[1;33m=\u001b[0m\u001b[0mis_train\u001b[0m\u001b[1;33m)\u001b[0m\u001b[1;33m\u001b[0m\u001b[1;33m\u001b[0m\u001b[0m\n\u001b[0m\u001b[0;32m    292\u001b[0m \u001b[1;33m\u001b[0m\u001b[0m\n\u001b[0;32m    293\u001b[0m     \u001b[1;32mdef\u001b[0m \u001b[0minitialize\u001b[0m\u001b[1;33m(\u001b[0m\u001b[0mself\u001b[0m\u001b[1;33m,\u001b[0m \u001b[0mX\u001b[0m\u001b[1;33m:\u001b[0m \u001b[0mOptional\u001b[0m\u001b[1;33m[\u001b[0m\u001b[0mInT\u001b[0m\u001b[1;33m]\u001b[0m \u001b[1;33m=\u001b[0m \u001b[1;32mNone\u001b[0m\u001b[1;33m,\u001b[0m \u001b[0mY\u001b[0m\u001b[1;33m:\u001b[0m \u001b[0mOptional\u001b[0m\u001b[1;33m[\u001b[0m\u001b[0mOutT\u001b[0m\u001b[1;33m]\u001b[0m \u001b[1;33m=\u001b[0m \u001b[1;32mNone\u001b[0m\u001b[1;33m)\u001b[0m \u001b[1;33m->\u001b[0m \u001b[1;34m\"Model\"\u001b[0m\u001b[1;33m:\u001b[0m\u001b[1;33m\u001b[0m\u001b[1;33m\u001b[0m\u001b[0m\n",
      "\u001b[1;32m~\\anaconda3\\envs\\topicmodelling\\lib\\site-packages\\thinc\\layers\\maxout.py\u001b[0m in \u001b[0;36mforward\u001b[1;34m(model, X, is_train)\u001b[0m\n\u001b[0;32m     47\u001b[0m     \u001b[0mW\u001b[0m \u001b[1;33m=\u001b[0m \u001b[0mmodel\u001b[0m\u001b[1;33m.\u001b[0m\u001b[0mget_param\u001b[0m\u001b[1;33m(\u001b[0m\u001b[1;34m\"W\"\u001b[0m\u001b[1;33m)\u001b[0m\u001b[1;33m\u001b[0m\u001b[1;33m\u001b[0m\u001b[0m\n\u001b[0;32m     48\u001b[0m     \u001b[0mW\u001b[0m \u001b[1;33m=\u001b[0m \u001b[0mmodel\u001b[0m\u001b[1;33m.\u001b[0m\u001b[0mops\u001b[0m\u001b[1;33m.\u001b[0m\u001b[0mreshape2f\u001b[0m\u001b[1;33m(\u001b[0m\u001b[0mW\u001b[0m\u001b[1;33m,\u001b[0m \u001b[0mnO\u001b[0m \u001b[1;33m*\u001b[0m \u001b[0mnP\u001b[0m\u001b[1;33m,\u001b[0m \u001b[0mnI\u001b[0m\u001b[1;33m)\u001b[0m\u001b[1;33m\u001b[0m\u001b[1;33m\u001b[0m\u001b[0m\n\u001b[1;32m---> 49\u001b[1;33m     \u001b[0mY\u001b[0m \u001b[1;33m=\u001b[0m \u001b[0mmodel\u001b[0m\u001b[1;33m.\u001b[0m\u001b[0mops\u001b[0m\u001b[1;33m.\u001b[0m\u001b[0mgemm\u001b[0m\u001b[1;33m(\u001b[0m\u001b[0mX\u001b[0m\u001b[1;33m,\u001b[0m \u001b[0mW\u001b[0m\u001b[1;33m,\u001b[0m \u001b[0mtrans2\u001b[0m\u001b[1;33m=\u001b[0m\u001b[1;32mTrue\u001b[0m\u001b[1;33m)\u001b[0m\u001b[1;33m\u001b[0m\u001b[1;33m\u001b[0m\u001b[0m\n\u001b[0m\u001b[0;32m     50\u001b[0m     \u001b[0mY\u001b[0m \u001b[1;33m+=\u001b[0m \u001b[0mmodel\u001b[0m\u001b[1;33m.\u001b[0m\u001b[0mops\u001b[0m\u001b[1;33m.\u001b[0m\u001b[0mreshape1f\u001b[0m\u001b[1;33m(\u001b[0m\u001b[0mb\u001b[0m\u001b[1;33m,\u001b[0m \u001b[0mnO\u001b[0m \u001b[1;33m*\u001b[0m \u001b[0mnP\u001b[0m\u001b[1;33m)\u001b[0m\u001b[1;33m\u001b[0m\u001b[1;33m\u001b[0m\u001b[0m\n\u001b[0;32m     51\u001b[0m     \u001b[0mZ\u001b[0m \u001b[1;33m=\u001b[0m \u001b[0mmodel\u001b[0m\u001b[1;33m.\u001b[0m\u001b[0mops\u001b[0m\u001b[1;33m.\u001b[0m\u001b[0mreshape3f\u001b[0m\u001b[1;33m(\u001b[0m\u001b[0mY\u001b[0m\u001b[1;33m,\u001b[0m \u001b[0mY\u001b[0m\u001b[1;33m.\u001b[0m\u001b[0mshape\u001b[0m\u001b[1;33m[\u001b[0m\u001b[1;36m0\u001b[0m\u001b[1;33m]\u001b[0m\u001b[1;33m,\u001b[0m \u001b[0mnO\u001b[0m\u001b[1;33m,\u001b[0m \u001b[0mnP\u001b[0m\u001b[1;33m)\u001b[0m\u001b[1;33m\u001b[0m\u001b[1;33m\u001b[0m\u001b[0m\n",
      "\u001b[1;31mKeyboardInterrupt\u001b[0m: "
     ]
    }
   ],
   "metadata": {
    "scrolled": true
   }
  },
  {
   "cell_type": "code",
   "execution_count": 30,
   "source": [
    "# Store word_list in txt file for easier reference\r\n",
    "\r\n",
    "with open('ohio_text_list.txt','w') as file:\r\n",
    "    file.writelines(\"%s\\n\" % text for text in text_list)"
   ],
   "outputs": [],
   "metadata": {}
  },
  {
   "cell_type": "code",
   "execution_count": 31,
   "source": [
    "sample_list = []\r\n",
    "with open('ohio_text_list.txt','r') as file:\r\n",
    "    file_contents = file.readlines()\r\n",
    "    for line in file_contents:\r\n",
    "        current_text = line[:-1]\r\n",
    "        sample_list.append(current_text)"
   ],
   "outputs": [],
   "metadata": {}
  },
  {
   "cell_type": "code",
   "execution_count": 33,
   "source": [
    "len(sample_list)"
   ],
   "outputs": [
    {
     "output_type": "execute_result",
     "data": {
      "text/plain": [
       "6307"
      ]
     },
     "metadata": {},
     "execution_count": 33
    }
   ],
   "metadata": {}
  },
  {
   "cell_type": "code",
   "execution_count": 64,
   "source": [
    "# Build the bigram and trigram models\r\n",
    "bigram = gensim.models.Phrases(text_list, min_count=5, threshold=30) # higher threshold fewer phrases.\r\n",
    "trigram = gensim.models.Phrases(bigram[text_list], threshold=30) \r\n",
    "# Faster way to get a sentence clubbed as a trigram/bigram\r\n",
    "bigram_mod = gensim.models.phrases.Phraser(bigram)\r\n",
    "\r\n",
    "trigram_mod = gensim.models.phrases.Phraser(trigram)\r\n",
    "# See trigram example\r\n",
    "\r\n",
    "print(trigram_mod[bigram_mod[text_list[1]]])"
   ],
   "outputs": [
    {
     "output_type": "stream",
     "name": "stderr",
     "text": [
      "/opt/anaconda3/envs/APL2021_DataPlus/lib/python3.9/site-packages/ipykernel/ipkernel.py:287: DeprecationWarning: `should_run_async` will not call `transform_cell` automatically in the future. Please pass the result to `transformed_cell` argument and any exception that happen during thetransform in `preprocessing_exc_tuple` in IPython 7.17 and above.\n",
      "  and should_run_async(code)\n"
     ]
    },
    {
     "output_type": "stream",
     "name": "stdout",
     "text": [
      "['charge_responsibility', 'enforce', 'broker', 'codify', 'revise', 'responsibility', 'protect', 'public', 'proscribe', 'practice', 'find', 'order_necessary_appropriate', 'public', 'interest', 'consistent', 'purpose', 'broker', 'send', 'certify_mail', 'intent', 'revoke', 'certificate', 'registration', 'opportunity', 'hear', 'crew', 'funding', 'business', 'address', 'record', 'hold', 'hearing', 'matter', 'accordance', 'daysjuly', 'hearing', 'officer', 'issue', 'report', 'recommendation', 'determine', 'crew', 'funding', 'violate', 'list', 'fictitious', 'creditor', 'false', 'information', 'loan', 'document', 'convert', 'borrower', 'creditor', 'money', 'cause', 'customer', 'sign_blank', 'loan', 'document', 'charge', 'excess', 'fee', 'interfere', 'crew', 'funding', 'order', 'page', 'hearing', 'officer', 'report', 'recommend', 'superintendent', 'revoke', 'broker', 'certificate', 'registration', 'file', 'objection', 'hearing', 'officer', 'report', 'recommendation', 'carefully', 'consider', 'hearing', 'officer', 'report', 'recommendation', 'objection', 'thereto', 'reject', 'objection', 'confirm', 'approve', 'hearing', 'officer', 'report', 'recommendation', 'order', 'broker', 'certificate', 'registration', 'previously', 'issue', 'crew', 'funding', 'revoke']\n"
     ]
    }
   ],
   "metadata": {
    "scrolled": true
   }
  },
  {
   "cell_type": "code",
   "execution_count": 65,
   "source": [
    "grammed_list = [trigram_mod[bigram_mod[doc]]for doc in text_list]"
   ],
   "outputs": [
    {
     "output_type": "stream",
     "name": "stderr",
     "text": [
      "/opt/anaconda3/envs/APL2021_DataPlus/lib/python3.9/site-packages/ipykernel/ipkernel.py:287: DeprecationWarning: `should_run_async` will not call `transform_cell` automatically in the future. Please pass the result to `transformed_cell` argument and any exception that happen during thetransform in `preprocessing_exc_tuple` in IPython 7.17 and above.\n",
      "  and should_run_async(code)\n"
     ]
    }
   ],
   "metadata": {}
  },
  {
   "cell_type": "code",
   "execution_count": 34,
   "source": [
    "# Creates, which is a mapping of word IDs to words.\r\n",
    "words = corpora.Dictionary(text_list)\r\n",
    "\r\n",
    "# Turns each document into a bag of words.\r\n",
    "corpus = [words.doc2bow(doc) for doc in text_list]"
   ],
   "outputs": [],
   "metadata": {}
  },
  {
   "cell_type": "code",
   "execution_count": 67,
   "source": [
    "# Creates, which is a mapping of word IDs to words.\r\n",
    "grammed_words = corpora.Dictionary(grammed_list)\r\n",
    "\r\n",
    "# Turns each document into a bag of words.\r\n",
    "grammed_corpus = [words.doc2bow(doc) for doc in grammed_list]"
   ],
   "outputs": [
    {
     "output_type": "stream",
     "name": "stderr",
     "text": [
      "/opt/anaconda3/envs/APL2021_DataPlus/lib/python3.9/site-packages/ipykernel/ipkernel.py:287: DeprecationWarning: `should_run_async` will not call `transform_cell` automatically in the future. Please pass the result to `transformed_cell` argument and any exception that happen during thetransform in `preprocessing_exc_tuple` in IPython 7.17 and above.\n",
      "  and should_run_async(code)\n"
     ]
    }
   ],
   "metadata": {}
  },
  {
   "cell_type": "code",
   "execution_count": 35,
   "source": [
    "def compute_coherence_values(dictionary, corpus, texts, limit, start=2, step=3):\r\n",
    "    \"\"\"\r\n",
    "    Compute c_v coherence for various number of topics\r\n",
    "\r\n",
    "    Parameters:\r\n",
    "    ----------\r\n",
    "    dictionary : Gensim dictionary\r\n",
    "    corpus : Gensim corpus\r\n",
    "    texts : List of input texts\r\n",
    "    limit : Max num of topics\r\n",
    "\r\n",
    "    Returns:\r\n",
    "    -------\r\n",
    "    model_list : List of LDA topic models\r\n",
    "    coherence_values : Coherence values corresponding to the LDA model with respective number of topics\r\n",
    "    \"\"\"\r\n",
    "    coherence_values = []\r\n",
    "    model_list = []\r\n",
    "    for num_topics in range(start, limit, step):\r\n",
    "        model = gensim.models.ldamodel.LdaModel(corpus=corpus, num_topics=num_topics, id2word=words, random_state = 12)\r\n",
    "        model_list.append(model)\r\n",
    "        coherencemodel = CoherenceModel(model=model, texts=texts, dictionary=dictionary, coherence='c_v')\r\n",
    "        coherence_values.append(coherencemodel.get_coherence())\r\n",
    "\r\n",
    "    return model_list, coherence_values"
   ],
   "outputs": [],
   "metadata": {}
  },
  {
   "cell_type": "code",
   "execution_count": 40,
   "source": [
    "model = gensim.models.ldamodel.LdaModel(corpus=corpus, num_topics=19, id2word=words, random_state = 12)"
   ],
   "outputs": [],
   "metadata": {}
  },
  {
   "cell_type": "code",
   "execution_count": 41,
   "source": [
    "# Can take a long time to run.\r\n",
    "model_list, coherence_values = compute_coherence_values(dictionary=words, corpus=corpus, texts=text_list, start=18, limit=25, step=1)"
   ],
   "outputs": [],
   "metadata": {
    "scrolled": true
   }
  },
  {
   "cell_type": "code",
   "execution_count": 134,
   "source": [
    "# Can take a long time to run.\r\n",
    "grammed_model_list, grammed_coherence_values = compute_coherence_values(dictionary=grammed_words, corpus=grammed_corpus, texts=grammed_list, start=18, limit=25, step=1)"
   ],
   "outputs": [
    {
     "output_type": "stream",
     "name": "stderr",
     "text": [
      "/opt/anaconda3/envs/APL2021_DataPlus/lib/python3.9/site-packages/ipykernel/ipkernel.py:287: DeprecationWarning: `should_run_async` will not call `transform_cell` automatically in the future. Please pass the result to `transformed_cell` argument and any exception that happen during thetransform in `preprocessing_exc_tuple` in IPython 7.17 and above.\n",
      "  and should_run_async(code)\n"
     ]
    }
   ],
   "metadata": {
    "scrolled": false
   }
  },
  {
   "cell_type": "code",
   "execution_count": 37,
   "source": [
    "import tomotopy as tp\r\n",
    "import numpy as np\r\n",
    "\r\n",
    "term_weight = tp.TermWeight.ONE\r\n",
    "hdp = tp.HDPModel(tw = term_weight, min_cf =5, rm_top = 7, gamma = 1, alpha = 0.1,initial_k = 10, seed = 12)"
   ],
   "outputs": [],
   "metadata": {
    "scrolled": false
   }
  },
  {
   "cell_type": "code",
   "execution_count": 38,
   "source": [
    "sum = 0\r\n",
    "for text in text_list:\r\n",
    "    if len(text) > 0:\r\n",
    "        hdp.add_doc(text)\r\n",
    "print(sum)\r\n",
    "# Initiate sampling burn-in  (i.e. discard N first iterations)\r\n",
    "hdp.burn_in = 100\r\n",
    "hdp.train(0)\r\n",
    "print('Num docs:', len(hdp.docs), ', Vocab size:', hdp.num_vocabs,\r\n",
    "      ', Num words:', hdp.num_words)\r\n",
    "print('Removed top words:', hdp.removed_top_words)\r\n",
    "\r\n",
    "# Train model\r\n",
    "for i in range(0, 1000, 100):\r\n",
    "    hdp.train(100) # 100 iterations at a time\r\n",
    "    print('Iteration: {}\\tLog-likelihood: {}\\tNum. of topics: {}'.format(i, hdp.ll_per_word, hdp.live_k))"
   ],
   "outputs": [
    {
     "output_type": "stream",
     "name": "stdout",
     "text": [
      "0\n",
      "Num docs: 6307 , Vocab size: 3075 , Num words: 711371\n",
      "Removed top words: ['license', 'fail', 'agreement', 'applicant', 'deny', 'settlement', 'require']\n",
      "Iteration: 0\tLog-likelihood: -5.5123050165948655\tNum. of topics: 20\n",
      "Iteration: 100\tLog-likelihood: -5.4955127267725405\tNum. of topics: 21\n",
      "Iteration: 200\tLog-likelihood: -5.492154133615611\tNum. of topics: 21\n",
      "Iteration: 300\tLog-likelihood: -5.490310820734719\tNum. of topics: 22\n",
      "Iteration: 400\tLog-likelihood: -5.490012325040066\tNum. of topics: 21\n",
      "Iteration: 500\tLog-likelihood: -5.489481220700889\tNum. of topics: 21\n",
      "Iteration: 600\tLog-likelihood: -5.489107288511624\tNum. of topics: 22\n",
      "Iteration: 700\tLog-likelihood: -5.489021376904994\tNum. of topics: 21\n",
      "Iteration: 800\tLog-likelihood: -5.488699733876569\tNum. of topics: 21\n",
      "Iteration: 900\tLog-likelihood: -5.488527247577251\tNum. of topics: 21\n"
     ]
    }
   ],
   "metadata": {}
  },
  {
   "cell_type": "code",
   "execution_count": 87,
   "source": [
    "model = model_list[4].save(\"lda.model\")\r\n",
    "model2= gensim.models.ldamodel.LdaModel.load(\"lda.model\")"
   ],
   "outputs": [],
   "metadata": {}
  },
  {
   "cell_type": "code",
   "execution_count": 131,
   "source": [
    "term_weight = tp.TermWeight.ONE\r\n",
    "hdp_gram = tp.HDPModel(tw = term_weight, min_cf =5, rm_top = 7, gamma = 1, alpha = 0.1,initial_k = 10, seed = 12)"
   ],
   "outputs": [
    {
     "output_type": "stream",
     "name": "stderr",
     "text": [
      "/opt/anaconda3/envs/APL2021_DataPlus/lib/python3.9/site-packages/ipykernel/ipkernel.py:287: DeprecationWarning: `should_run_async` will not call `transform_cell` automatically in the future. Please pass the result to `transformed_cell` argument and any exception that happen during thetransform in `preprocessing_exc_tuple` in IPython 7.17 and above.\n",
      "  and should_run_async(code)\n"
     ]
    }
   ],
   "metadata": {}
  },
  {
   "cell_type": "code",
   "execution_count": 132,
   "source": [
    "sum = 0\r\n",
    "for text in grammed_list:\r\n",
    "    if len(text) > 0:\r\n",
    "        hdp_gram.add_doc(text)\r\n",
    "print(sum)\r\n",
    "# Initiate sampling burn-in  (i.e. discard N first iterations)\r\n",
    "hdp_gram.burn_in = 100\r\n",
    "hdp_gram.train(0)\r\n",
    "print('Num docs:', len(hdp_gram.docs), ', Vocab size:', hdp_gram.num_vocabs,\r\n",
    "      ', Num words:', hdp_gram.num_words)\r\n",
    "print('Removed top words:', hdp_gram.removed_top_words)\r\n",
    "\r\n",
    "# Train model\r\n",
    "for i in range(0, 1000, 100):\r\n",
    "    hdp_gram.train(100) # 100 iterations at a time\r\n",
    "    print('Iteration: {}\\tLog-likelihood: {}\\tNum. of topics: {}'.format(i, hdp_gram.ll_per_word, hdp_gram.live_k))"
   ],
   "outputs": [
    {
     "output_type": "stream",
     "name": "stderr",
     "text": [
      "/opt/anaconda3/envs/APL2021_DataPlus/lib/python3.9/site-packages/ipykernel/ipkernel.py:287: DeprecationWarning: `should_run_async` will not call `transform_cell` automatically in the future. Please pass the result to `transformed_cell` argument and any exception that happen during thetransform in `preprocessing_exc_tuple` in IPython 7.17 and above.\n",
      "  and should_run_async(code)\n"
     ]
    },
    {
     "output_type": "stream",
     "name": "stdout",
     "text": [
      "0\n",
      "Num docs: 5596 , Vocab size: 3609 , Num words: 525801\n",
      "Removed top words: ['loan', 'officer', 'license', 'application', 'hearing', 'fail', 'deny']\n",
      "Iteration: 0\tLog-likelihood: -5.440105475753123\tNum. of topics: 23\n",
      "Iteration: 100\tLog-likelihood: -5.43156534654541\tNum. of topics: 23\n",
      "Iteration: 200\tLog-likelihood: -5.427888941099954\tNum. of topics: 23\n",
      "Iteration: 300\tLog-likelihood: -5.426786755578517\tNum. of topics: 25\n",
      "Iteration: 400\tLog-likelihood: -5.427086953384736\tNum. of topics: 24\n",
      "Iteration: 500\tLog-likelihood: -5.425923427824316\tNum. of topics: 25\n",
      "Iteration: 600\tLog-likelihood: -5.426840598779457\tNum. of topics: 24\n",
      "Iteration: 700\tLog-likelihood: -5.426455026874063\tNum. of topics: 24\n",
      "Iteration: 800\tLog-likelihood: -5.4272274290496405\tNum. of topics: 25\n",
      "Iteration: 900\tLog-likelihood: -5.4266974182563805\tNum. of topics: 24\n"
     ]
    }
   ],
   "metadata": {}
  },
  {
   "cell_type": "code",
   "execution_count": 42,
   "source": [
    "# Show graph\r\n",
    "limit=25; start=18; step=1;\r\n",
    "x = range(start, limit, step)\r\n",
    "plt.plot(x, coherence_values)\r\n",
    "plt.xlabel(\"Num Topics\")\r\n",
    "plt.ylabel(\"Coherence score\")\r\n",
    "plt.legend((\"coherence_values\"), loc='best')\r\n",
    "plt.show()"
   ],
   "outputs": [
    {
     "output_type": "display_data",
     "data": {
      "text/plain": [
       "<Figure size 432x288 with 1 Axes>"
      ],
      "image/png": "[encoded data removed]"
     },
     "metadata": {
      "needs_background": "light"
     }
    }
   ],
   "metadata": {}
  },
  {
   "cell_type": "code",
   "execution_count": 43,
   "source": [
    "# Print the coherence scores\r\n",
    "for m, cv in zip(x, coherence_values):\r\n",
    "    print(\"Num Topics =\", m, \" has Coherence Value of\", round(cv, 4))"
   ],
   "outputs": [
    {
     "output_type": "stream",
     "name": "stdout",
     "text": [
      "Num Topics = 18  has Coherence Value of 0.5145\n",
      "Num Topics = 19  has Coherence Value of 0.5227\n",
      "Num Topics = 20  has Coherence Value of 0.543\n",
      "Num Topics = 21  has Coherence Value of 0.5411\n",
      "Num Topics = 22  has Coherence Value of 0.5536\n",
      "Num Topics = 23  has Coherence Value of 0.5337\n",
      "Num Topics = 24  has Coherence Value of 0.5293\n"
     ]
    }
   ],
   "metadata": {
    "scrolled": true
   }
  },
  {
   "cell_type": "code",
   "execution_count": 137,
   "source": [
    "# Show graph\r\n",
    "limit=25; start=18; step=1;\r\n",
    "x = range(start, limit, step)\r\n",
    "plt.plot(x, grammed_coherence_values)\r\n",
    "plt.xlabel(\"Num Topics\")\r\n",
    "plt.ylabel(\"Coherence score\")\r\n",
    "plt.legend((\"coherence_values\"), loc='best')\r\n",
    "plt.show()"
   ],
   "outputs": [
    {
     "output_type": "stream",
     "name": "stderr",
     "text": [
      "/opt/anaconda3/envs/APL2021_DataPlus/lib/python3.9/site-packages/ipykernel/ipkernel.py:287: DeprecationWarning: `should_run_async` will not call `transform_cell` automatically in the future. Please pass the result to `transformed_cell` argument and any exception that happen during thetransform in `preprocessing_exc_tuple` in IPython 7.17 and above.\n",
      "  and should_run_async(code)\n"
     ]
    },
    {
     "output_type": "display_data",
     "data": {
      "text/plain": [
       "<Figure size 432x288 with 1 Axes>"
      ],
      "image/png": "[encoded data removed]"
     },
     "metadata": {
      "needs_background": "light"
     }
    }
   ],
   "metadata": {}
  },
  {
   "cell_type": "code",
   "execution_count": 138,
   "source": [
    "# Print the coherence scores\r\n",
    "for m, cv in zip(x, grammed_coherence_values):\r\n",
    "    print(\"Num Topics =\", m, \" has Coherence Value of\", round(cv, 4))"
   ],
   "outputs": [
    {
     "output_type": "stream",
     "name": "stdout",
     "text": [
      "Num Topics = 18  has Coherence Value of 0.4482\n",
      "Num Topics = 19  has Coherence Value of 0.4553\n",
      "Num Topics = 20  has Coherence Value of 0.45\n",
      "Num Topics = 21  has Coherence Value of 0.4414\n",
      "Num Topics = 22  has Coherence Value of 0.4514\n",
      "Num Topics = 23  has Coherence Value of 0.4652\n",
      "Num Topics = 24  has Coherence Value of 0.4588\n"
     ]
    },
    {
     "output_type": "stream",
     "name": "stderr",
     "text": [
      "/opt/anaconda3/envs/APL2021_DataPlus/lib/python3.9/site-packages/ipykernel/ipkernel.py:287: DeprecationWarning: `should_run_async` will not call `transform_cell` automatically in the future. Please pass the result to `transformed_cell` argument and any exception that happen during thetransform in `preprocessing_exc_tuple` in IPython 7.17 and above.\n",
      "  and should_run_async(code)\n"
     ]
    }
   ],
   "metadata": {
    "scrolled": true
   }
  },
  {
   "cell_type": "code",
   "execution_count": null,
   "source": [],
   "outputs": [],
   "metadata": {}
  },
  {
   "cell_type": "code",
   "execution_count": 2,
   "source": [
    "import pyLDAvis\r\n",
    "import pyLDAvis.gensim_models as gensimvis\r\n",
    "pyLDAvis.enable_notebook()\r\n",
    "\r\n",
    "# feed the LDA model into the pyLDAvis instance\r\n",
    "gensimvis.prepare(model_list[4], corpus, words)"
   ],
   "outputs": [
    {
     "output_type": "error",
     "ename": "NameError",
     "evalue": "name 'model_list' is not defined",
     "traceback": [
      "\u001b[1;31m---------------------------------------------------------------------------\u001b[0m",
      "\u001b[1;31mNameError\u001b[0m                                 Traceback (most recent call last)",
      "\u001b[1;32m~\\AppData\\Local\\Temp/ipykernel_31604/1960868404.py\u001b[0m in \u001b[0;36m<module>\u001b[1;34m\u001b[0m\n\u001b[0;32m      4\u001b[0m \u001b[1;33m\u001b[0m\u001b[0m\n\u001b[0;32m      5\u001b[0m \u001b[1;31m# feed the LDA model into the pyLDAvis instance\u001b[0m\u001b[1;33m\u001b[0m\u001b[1;33m\u001b[0m\u001b[1;33m\u001b[0m\u001b[0m\n\u001b[1;32m----> 6\u001b[1;33m \u001b[0mgensimvis\u001b[0m\u001b[1;33m.\u001b[0m\u001b[0mprepare\u001b[0m\u001b[1;33m(\u001b[0m\u001b[0mmodel_list\u001b[0m\u001b[1;33m[\u001b[0m\u001b[1;36m4\u001b[0m\u001b[1;33m]\u001b[0m\u001b[1;33m,\u001b[0m \u001b[0mcorpus\u001b[0m\u001b[1;33m,\u001b[0m \u001b[0mwords\u001b[0m\u001b[1;33m)\u001b[0m\u001b[1;33m\u001b[0m\u001b[1;33m\u001b[0m\u001b[0m\n\u001b[0m",
      "\u001b[1;31mNameError\u001b[0m: name 'model_list' is not defined"
     ]
    }
   ],
   "metadata": {
    "scrolled": false
   }
  },
  {
   "cell_type": "code",
   "execution_count": 53,
   "source": [
    "pd.set_option('display.width', None)\r\n",
    "pd.set_option('display.max_colwidth', None)"
   ],
   "outputs": [],
   "metadata": {}
  },
  {
   "cell_type": "code",
   "execution_count": 70,
   "source": [
    "def format_topics_sentences(ldamodel=model_list[4], corpus=corpus, texts=text_list):\r\n",
    "    # Init output\r\n",
    "    sent_topics_df = pd.DataFrame()\r\n",
    "\r\n",
    "    # Get main topic in each document\r\n",
    "    for i, row in enumerate(ldamodel[corpus]):\r\n",
    "        row = sorted(row, key=lambda x: (x[1]), reverse=True)\r\n",
    "        # Get the Dominant topic, Perc Contribution and Keywords for each document\r\n",
    "        for j, (topic_num, prop_topic) in enumerate(row):\r\n",
    "            if j == 0:  # => dominant topic\r\n",
    "                wp = ldamodel.show_topic(topic_num)\r\n",
    "                topic_keywords = \", \".join([word for word, prop in wp])\r\n",
    "                sent_topics_df = sent_topics_df.append(pd.Series([int(topic_num), round(prop_topic,4), topic_keywords]), ignore_index=True)\r\n",
    "            else:\r\n",
    "                break\r\n",
    "    sent_topics_df.columns = ['Dominant_Topic', 'Perc_Contribution', 'Topic_Keywords']\r\n",
    "\r\n",
    "    # Add original text to the end of the output\r\n",
    "    contents = pd.Series(texts)\r\n",
    "    sent_topics_df = pd.concat([sent_topics_df, contents], axis=1)\r\n",
    "    return(sent_topics_df)\r\n",
    "\r\n",
    "\r\n",
    "df_topic_sents_keywords = format_topics_sentences(ldamodel=model_list[4], corpus=corpus, texts=text_list)"
   ],
   "outputs": [],
   "metadata": {
    "scrolled": false
   }
  },
  {
   "cell_type": "code",
   "execution_count": 77,
   "source": [
    "df_topic_sents_keywords[\"Dominant_Topic\"] = df_topic_sents_keywords[\"Dominant_Topic\"].apply(lambda x: mapping[x])"
   ],
   "outputs": [],
   "metadata": {
    "scrolled": true
   }
  },
  {
   "cell_type": "code",
   "execution_count": 1,
   "source": [
    "df_dominant_topic[df_dominant_topic[\"Dominant_Topic\"]==18]"
   ],
   "outputs": [
    {
     "output_type": "error",
     "ename": "NameError",
     "evalue": "name 'df_dominant_topic' is not defined",
     "traceback": [
      "\u001b[1;31m---------------------------------------------------------------------------\u001b[0m",
      "\u001b[1;31mNameError\u001b[0m                                 Traceback (most recent call last)",
      "\u001b[1;32m~\\AppData\\Local\\Temp/ipykernel_31604/3531820301.py\u001b[0m in \u001b[0;36m<module>\u001b[1;34m\u001b[0m\n\u001b[1;32m----> 1\u001b[1;33m \u001b[0mdf_dominant_topic\u001b[0m\u001b[1;33m[\u001b[0m\u001b[0mdf_dominant_topic\u001b[0m\u001b[1;33m[\u001b[0m\u001b[1;34m\"Dominant_Topic\"\u001b[0m\u001b[1;33m]\u001b[0m\u001b[1;33m==\u001b[0m\u001b[1;36m18\u001b[0m\u001b[1;33m]\u001b[0m\u001b[1;33m\u001b[0m\u001b[1;33m\u001b[0m\u001b[0m\n\u001b[0m",
      "\u001b[1;31mNameError\u001b[0m: name 'df_dominant_topic' is not defined"
     ]
    }
   ],
   "metadata": {}
  },
  {
   "cell_type": "code",
   "execution_count": 73,
   "source": [
    "# Format\r\n",
    "df_dominant_topic = df_topic_sents_keywords.reset_index()\r\n",
    "df_dominant_topic.columns = ['Document_No', 'Dominant_Topic', 'Topic_Perc_Contrib', 'Keywords', 'Text']\r\n",
    "\r\n",
    "# Show\r\n",
    "df_dominant_topic"
   ],
   "outputs": [
    {
     "output_type": "execute_result",
     "data": {
      "text/plain": [
       "      Document_No  Dominant_Topic  Topic_Perc_Contrib  \\\n",
       "0               0            16.0              0.3618   \n",
       "1               1            17.0              0.3324   \n",
       "2               2             7.0              0.4104   \n",
       "3               3            14.0              0.4220   \n",
       "4               4             3.0              0.4314   \n",
       "...           ...             ...                 ...   \n",
       "6302         6302            19.0              0.6882   \n",
       "6303         6303            16.0              0.4072   \n",
       "6304         6304            19.0              0.6181   \n",
       "6305         6305            19.0              0.7928   \n",
       "6306         6306            19.0              0.7925   \n",
       "\n",
       "                                                                                                   Keywords  \\\n",
       "0                       suspension, license, tr, uniform, testimony, hold, appear, court, receive, question   \n",
       "1     license, originate, violation, residential, violate, conduct, examination, document, fine, registrant   \n",
       "2                 report, license, recommendation, file, appellate, deny, objection, issue, recommend, hold   \n",
       "3                 renewal, license, intent, refuse, issue, deny, terminate, renew, termination, requirement   \n",
       "4                           license, issue, fail, day, appellate, allegation, deny, refuse, inform, renewal   \n",
       "...                                                                                                     ...   \n",
       "6302    applicant, agreement, agree, settlement, violation, understand, condition, apply, omba, requirement   \n",
       "6303                    suspension, license, tr, uniform, testimony, hold, appear, court, receive, question   \n",
       "6304    applicant, agreement, agree, settlement, violation, understand, condition, apply, omba, requirement   \n",
       "6305    applicant, agreement, agree, settlement, violation, understand, condition, apply, omba, requirement   \n",
       "6306    applicant, agreement, agree, settlement, violation, understand, condition, apply, omba, requirement   \n",
       "\n",
       "                                                                                                                                                                                                                                                                                                                                                                                                                                                                                                                                                                                                                                                                                                                                                                                                                                                                                                                                                                                Text  \n",
       "0                          [conduct, affair, allege, follow, incorporator, statutory, agent, president, joint, action, cause, customer, proceed, excess, disburse, mean, fictitious, creditor, customer, relate, document, joint, action, cause, customer, proceed, excess, intend, customer, legitimate, creditor, customer, convert, knowledge, improper, fraudulent, dishonest, practice, fail, implement, review, control, measure, design, prevent, future, improper, fraudulent, dishonest, practice, joint, action, fail, disclose, fee, violation, federal, real, estate, settlement, procedure, joint, action, receive, customer, proceed, disbursement, fictitious, creditor, disbursement, constitute, receipt, unearned, fee, thing, value, violation, federal, real, estate, settlement, procedure, joint, action, devise, intend, devise, scheme, artifice, defraud, obtain, money, mean, false, fraudulent, pretense, representation, transmit, cause, transmit, ...]  \n",
       "1                                                               [abovecaptione, license, practice, procedure, commence, office, south, high, floor, hold, close, day, hold, follow, funding, hereinafter, crew, consider, intent, revoke, inter, alia, base, engage, improper, fraudulent, dishonest, activity, appear, hereinafter, represent, general, general, appear, represent, jurisdiction, issue, intent, deny, opportunity, hereinafter, refer, case, 01mb11, service, perfect, timely, schedule, requirement, orc, continue, original, counsel, continue, new, counsel, continue, forward, posthearing, ruling, offer, remain, rule, 3h, letter, apparently, sign, crew, letterhead, letter, white, testimony, p, testimony, letter, examination, additional, testimony, include, testimony, opposition, offer, leave, determine, admission, admit, use, weight, document, 3h, appear, belong, witness, appear, similarity, likely, obtain, document, simply, filing, ...]  \n",
       "2                                                                                                                                                                                                                                                                                                                                                                   [public, practice, public, interest, send, certify, intent, revoke, opportunity, hear, crew, funding, hold, daysjuly, issue, report, recommendation, determine, crew, funding, violate, list, fictitious, creditor, false, information, document, convert, borrower, creditor, money, cause, customer, sign, blank, document, excess, fee, interfere, crew, funding, report, recommend, revoke, file, objection, report, recommendation, carefully, consider, report, recommendation, objection, thereto, reject, objection, confirm, approve, report, recommendation, previously, issue, crew, funding, revoke]  \n",
       "3                                                                                                                                                                                                                                                                                                                                                                                                                                                                                                                                                    [send, services, corporation, certify, intent, deny, receive, inform, intention, issue, deny, base, determination, fail, provide, information, conclude, meet, education, experience, requirement, response, time, expire, recently, contact, secretary, vice, president, inform, long, operate, receive, fax, issue, withdraw, intention, issue, deny, moot, accordingly, terminate, services, corporation, termination, hear]  \n",
       "4                                                                                                                                                                                                                                                                                                                                                                                                                                                                                                                                                                                                                          [public, lending, practice, interest, public, specialists, corporation, renew, period, certify, intent, revoke, entitle, adjudicative, day, day, issue, revoke, specialists, specialists, fail, fail, defend, allegation, violate, substantial, misrepresentation, renewal, obtain, false, fraudulent, representation, allegation, contain, true, revoke]  \n",
       "...                                                                                                                                                                                                                                                                                                                                                                                                                                                                                                                                                                                                                                                                                                                                                                                                                                                                                                                                                                              ...  \n",
       "6302  [settlement, agreement, enter, basis, following, stipulation, admission, understanding, empower, refuse, renew, second, lender, applicant, default, payment, annual, fee, prescribe, community, require, submit, renewal, annual, fee, community, submit, renewal, remain, pende, community, understand, timely, submit, renewal, authority, refuse, renew, community, omla, enter, settlement, agreement, lieu, formal, proceeding, deny, community, renewal, basis, untimely, filing, expressly, reserve, institute, formal, proceeding, base, violation, noncompliance, provision, omla, specifically, occur, effective, settlement, agreement, agree, condition, wherefore, consideration, forego, mutual, promise, hereinafter, set, forth, lieu, formal, disciplinary, proceeding, time, community, knowingly, voluntarily, agree, following, term, condition, limitation, community, properly, file, agreement, fully, comply, provision, agree, execute, approve, ...]  \n",
       "6303                                                                                                                                                                                                                                                                                                                                                                                           [orchard, view, court, termination, summary, suspension, intent, deny, renewal, issue, summary, suspension, intent, deny, renewal, hear, summary, suspension, summary, suspension, unclaimed, room, 19th, floor, government, art, locate, high, hold, appear, file, report, recommendation, requirement, establish, jurisdiction, recommend, obtain, proper, service, concern, summary, suspension, follow, issuance, summary, suspension, license, cancel, operation, failure, renew, license, summary, suspension, moot, terminate, summary, suspension, supersede, replace, issue]  \n",
       "6304                       [settlement, agreement, enter, basis, following, stipulation, admission, understanding, authorize, refuse, renewal, license, individual, fail, fulfill, continue, education, requirement, impose, fine, violation, require, complete, hour, approve, continue, education, calendar, year, 31st, applicant, hold, license, calendar, year, d, applicant, admit, fail, complete, require, credit, hour, calendar, year, e, applicant, fail, comply, authority, refuse, renew, applicant, license, impose, fine, enter, settlement, agreement, lieu, formal, proceeding, refuse, renewal, applicant, license, impose, fine, basis, applicant, admit, violation, noncompliance, expressly, reserve, institute, formal, proceeding, base, violation, noncompliance, provision, omba, specifically, occur, effective, settlement, agreement, agree, condition, wherefore, consideration, forego, mutual, promise, hereinafter, set, forth, lieu, continue, ...]  \n",
       "6305                  [settlement, agreement, enter, basis, following, stipulation, admission, understanding, empower, issue, applicant, originator, license, thing, applicant, character, general, fitness, command, confidence, public, warrant, belief, originator, operate, honestly, fairly, compliance, omla, effect, require, complete, hour, approve, continue, education, calendar, year, 31st, applicant, hold, omba, license, calendar, year, d, applicant, admit, fail, complete, require, credit, hour, omba, calendar, year, e, applicant, fail, comply, applicant, satisfy, requirement, licensure, set, enter, settlement, agreement, lieu, formal, proceeding, refuse, issue, applicant, originator, license, basis, applicant, admit, violation, noncompliance, expressly, reserve, institute, formal, proceeding, base, violation, noncompliance, provision, omba, omla, specifically, occur, effective, settlement, agreement, agree, condition, wherefore, ...]  \n",
       "6306                  [settlement, agreement, enter, basis, following, stipulation, admission, understanding, empower, issue, applicant, originator, license, thing, applicant, character, general, fitness, command, confidence, public, warrant, belief, originator, operate, honestly, fairly, compliance, omla, effect, require, complete, hour, approve, continue, education, calendar, year, 31st, applicant, hold, omba, license, calendar, year, d, applicant, admit, fail, complete, require, credit, hour, omba, calendar, year, e, applicant, fail, comply, applicant, satisfy, requirement, licensure, set, enter, settlement, agreement, lieu, formal, proceeding, refuse, issue, applicant, originator, license, basis, applicant, admit, violation, noncompliance, expressly, reserve, institute, formal, proceeding, base, violation, noncompliance, provision, omba, omla, specifically, occur, effective, settlement, agreement, agree, condition, wherefore, ...]  \n",
       "\n",
       "[6307 rows x 5 columns]"
      ],
      "text/html": [
       "<div>\n",
       "<style scoped>\n",
       "    .dataframe tbody tr th:only-of-type {\n",
       "        vertical-align: middle;\n",
       "    }\n",
       "\n",
       "    .dataframe tbody tr th {\n",
       "        vertical-align: top;\n",
       "    }\n",
       "\n",
       "    .dataframe thead th {\n",
       "        text-align: right;\n",
       "    }\n",
       "</style>\n",
       "<table border=\"1\" class=\"dataframe\">\n",
       "  <thead>\n",
       "    <tr style=\"text-align: right;\">\n",
       "      <th></th>\n",
       "      <th>Document_No</th>\n",
       "      <th>Dominant_Topic</th>\n",
       "      <th>Topic_Perc_Contrib</th>\n",
       "      <th>Keywords</th>\n",
       "      <th>Text</th>\n",
       "    </tr>\n",
       "  </thead>\n",
       "  <tbody>\n",
       "    <tr>\n",
       "      <th>0</th>\n",
       "      <td>0</td>\n",
       "      <td>16.0</td>\n",
       "      <td>0.3618</td>\n",
       "      <td>suspension, license, tr, uniform, testimony, hold, appear, court, receive, question</td>\n",
       "      <td>[conduct, affair, allege, follow, incorporator, statutory, agent, president, joint, action, cause, customer, proceed, excess, disburse, mean, fictitious, creditor, customer, relate, document, joint, action, cause, customer, proceed, excess, intend, customer, legitimate, creditor, customer, convert, knowledge, improper, fraudulent, dishonest, practice, fail, implement, review, control, measure, design, prevent, future, improper, fraudulent, dishonest, practice, joint, action, fail, disclose, fee, violation, federal, real, estate, settlement, procedure, joint, action, receive, customer, proceed, disbursement, fictitious, creditor, disbursement, constitute, receipt, unearned, fee, thing, value, violation, federal, real, estate, settlement, procedure, joint, action, devise, intend, devise, scheme, artifice, defraud, obtain, money, mean, false, fraudulent, pretense, representation, transmit, cause, transmit, ...]</td>\n",
       "    </tr>\n",
       "    <tr>\n",
       "      <th>1</th>\n",
       "      <td>1</td>\n",
       "      <td>17.0</td>\n",
       "      <td>0.3324</td>\n",
       "      <td>license, originate, violation, residential, violate, conduct, examination, document, fine, registrant</td>\n",
       "      <td>[abovecaptione, license, practice, procedure, commence, office, south, high, floor, hold, close, day, hold, follow, funding, hereinafter, crew, consider, intent, revoke, inter, alia, base, engage, improper, fraudulent, dishonest, activity, appear, hereinafter, represent, general, general, appear, represent, jurisdiction, issue, intent, deny, opportunity, hereinafter, refer, case, 01mb11, service, perfect, timely, schedule, requirement, orc, continue, original, counsel, continue, new, counsel, continue, forward, posthearing, ruling, offer, remain, rule, 3h, letter, apparently, sign, crew, letterhead, letter, white, testimony, p, testimony, letter, examination, additional, testimony, include, testimony, opposition, offer, leave, determine, admission, admit, use, weight, document, 3h, appear, belong, witness, appear, similarity, likely, obtain, document, simply, filing, ...]</td>\n",
       "    </tr>\n",
       "    <tr>\n",
       "      <th>2</th>\n",
       "      <td>2</td>\n",
       "      <td>7.0</td>\n",
       "      <td>0.4104</td>\n",
       "      <td>report, license, recommendation, file, appellate, deny, objection, issue, recommend, hold</td>\n",
       "      <td>[public, practice, public, interest, send, certify, intent, revoke, opportunity, hear, crew, funding, hold, daysjuly, issue, report, recommendation, determine, crew, funding, violate, list, fictitious, creditor, false, information, document, convert, borrower, creditor, money, cause, customer, sign, blank, document, excess, fee, interfere, crew, funding, report, recommend, revoke, file, objection, report, recommendation, carefully, consider, report, recommendation, objection, thereto, reject, objection, confirm, approve, report, recommendation, previously, issue, crew, funding, revoke]</td>\n",
       "    </tr>\n",
       "    <tr>\n",
       "      <th>3</th>\n",
       "      <td>3</td>\n",
       "      <td>14.0</td>\n",
       "      <td>0.4220</td>\n",
       "      <td>renewal, license, intent, refuse, issue, deny, terminate, renew, termination, requirement</td>\n",
       "      <td>[send, services, corporation, certify, intent, deny, receive, inform, intention, issue, deny, base, determination, fail, provide, information, conclude, meet, education, experience, requirement, response, time, expire, recently, contact, secretary, vice, president, inform, long, operate, receive, fax, issue, withdraw, intention, issue, deny, moot, accordingly, terminate, services, corporation, termination, hear]</td>\n",
       "    </tr>\n",
       "    <tr>\n",
       "      <th>4</th>\n",
       "      <td>4</td>\n",
       "      <td>3.0</td>\n",
       "      <td>0.4314</td>\n",
       "      <td>license, issue, fail, day, appellate, allegation, deny, refuse, inform, renewal</td>\n",
       "      <td>[public, lending, practice, interest, public, specialists, corporation, renew, period, certify, intent, revoke, entitle, adjudicative, day, day, issue, revoke, specialists, specialists, fail, fail, defend, allegation, violate, substantial, misrepresentation, renewal, obtain, false, fraudulent, representation, allegation, contain, true, revoke]</td>\n",
       "    </tr>\n",
       "    <tr>\n",
       "      <th>...</th>\n",
       "      <td>...</td>\n",
       "      <td>...</td>\n",
       "      <td>...</td>\n",
       "      <td>...</td>\n",
       "      <td>...</td>\n",
       "    </tr>\n",
       "    <tr>\n",
       "      <th>6302</th>\n",
       "      <td>6302</td>\n",
       "      <td>19.0</td>\n",
       "      <td>0.6882</td>\n",
       "      <td>applicant, agreement, agree, settlement, violation, understand, condition, apply, omba, requirement</td>\n",
       "      <td>[settlement, agreement, enter, basis, following, stipulation, admission, understanding, empower, refuse, renew, second, lender, applicant, default, payment, annual, fee, prescribe, community, require, submit, renewal, annual, fee, community, submit, renewal, remain, pende, community, understand, timely, submit, renewal, authority, refuse, renew, community, omla, enter, settlement, agreement, lieu, formal, proceeding, deny, community, renewal, basis, untimely, filing, expressly, reserve, institute, formal, proceeding, base, violation, noncompliance, provision, omla, specifically, occur, effective, settlement, agreement, agree, condition, wherefore, consideration, forego, mutual, promise, hereinafter, set, forth, lieu, formal, disciplinary, proceeding, time, community, knowingly, voluntarily, agree, following, term, condition, limitation, community, properly, file, agreement, fully, comply, provision, agree, execute, approve, ...]</td>\n",
       "    </tr>\n",
       "    <tr>\n",
       "      <th>6303</th>\n",
       "      <td>6303</td>\n",
       "      <td>16.0</td>\n",
       "      <td>0.4072</td>\n",
       "      <td>suspension, license, tr, uniform, testimony, hold, appear, court, receive, question</td>\n",
       "      <td>[orchard, view, court, termination, summary, suspension, intent, deny, renewal, issue, summary, suspension, intent, deny, renewal, hear, summary, suspension, summary, suspension, unclaimed, room, 19th, floor, government, art, locate, high, hold, appear, file, report, recommendation, requirement, establish, jurisdiction, recommend, obtain, proper, service, concern, summary, suspension, follow, issuance, summary, suspension, license, cancel, operation, failure, renew, license, summary, suspension, moot, terminate, summary, suspension, supersede, replace, issue]</td>\n",
       "    </tr>\n",
       "    <tr>\n",
       "      <th>6304</th>\n",
       "      <td>6304</td>\n",
       "      <td>19.0</td>\n",
       "      <td>0.6181</td>\n",
       "      <td>applicant, agreement, agree, settlement, violation, understand, condition, apply, omba, requirement</td>\n",
       "      <td>[settlement, agreement, enter, basis, following, stipulation, admission, understanding, authorize, refuse, renewal, license, individual, fail, fulfill, continue, education, requirement, impose, fine, violation, require, complete, hour, approve, continue, education, calendar, year, 31st, applicant, hold, license, calendar, year, d, applicant, admit, fail, complete, require, credit, hour, calendar, year, e, applicant, fail, comply, authority, refuse, renew, applicant, license, impose, fine, enter, settlement, agreement, lieu, formal, proceeding, refuse, renewal, applicant, license, impose, fine, basis, applicant, admit, violation, noncompliance, expressly, reserve, institute, formal, proceeding, base, violation, noncompliance, provision, omba, specifically, occur, effective, settlement, agreement, agree, condition, wherefore, consideration, forego, mutual, promise, hereinafter, set, forth, lieu, continue, ...]</td>\n",
       "    </tr>\n",
       "    <tr>\n",
       "      <th>6305</th>\n",
       "      <td>6305</td>\n",
       "      <td>19.0</td>\n",
       "      <td>0.7928</td>\n",
       "      <td>applicant, agreement, agree, settlement, violation, understand, condition, apply, omba, requirement</td>\n",
       "      <td>[settlement, agreement, enter, basis, following, stipulation, admission, understanding, empower, issue, applicant, originator, license, thing, applicant, character, general, fitness, command, confidence, public, warrant, belief, originator, operate, honestly, fairly, compliance, omla, effect, require, complete, hour, approve, continue, education, calendar, year, 31st, applicant, hold, omba, license, calendar, year, d, applicant, admit, fail, complete, require, credit, hour, omba, calendar, year, e, applicant, fail, comply, applicant, satisfy, requirement, licensure, set, enter, settlement, agreement, lieu, formal, proceeding, refuse, issue, applicant, originator, license, basis, applicant, admit, violation, noncompliance, expressly, reserve, institute, formal, proceeding, base, violation, noncompliance, provision, omba, omla, specifically, occur, effective, settlement, agreement, agree, condition, wherefore, ...]</td>\n",
       "    </tr>\n",
       "    <tr>\n",
       "      <th>6306</th>\n",
       "      <td>6306</td>\n",
       "      <td>19.0</td>\n",
       "      <td>0.7925</td>\n",
       "      <td>applicant, agreement, agree, settlement, violation, understand, condition, apply, omba, requirement</td>\n",
       "      <td>[settlement, agreement, enter, basis, following, stipulation, admission, understanding, empower, issue, applicant, originator, license, thing, applicant, character, general, fitness, command, confidence, public, warrant, belief, originator, operate, honestly, fairly, compliance, omla, effect, require, complete, hour, approve, continue, education, calendar, year, 31st, applicant, hold, omba, license, calendar, year, d, applicant, admit, fail, complete, require, credit, hour, omba, calendar, year, e, applicant, fail, comply, applicant, satisfy, requirement, licensure, set, enter, settlement, agreement, lieu, formal, proceeding, refuse, issue, applicant, originator, license, basis, applicant, admit, violation, noncompliance, expressly, reserve, institute, formal, proceeding, base, violation, noncompliance, provision, omba, omla, specifically, occur, effective, settlement, agreement, agree, condition, wherefore, ...]</td>\n",
       "    </tr>\n",
       "  </tbody>\n",
       "</table>\n",
       "<p>6307 rows × 5 columns</p>\n",
       "</div>"
      ]
     },
     "metadata": {},
     "execution_count": 73
    }
   ],
   "metadata": {}
  },
  {
   "cell_type": "code",
   "execution_count": 80,
   "source": [
    "# Group top 5 sentences under each topic\r\n",
    "sent_topics_sorteddf_mallet = pd.DataFrame()\r\n",
    "\r\n",
    "sent_topics_outdf_grpd = df_topic_sents_keywords.groupby('Dominant_Topic')\r\n",
    "\r\n",
    "for i, grp in sent_topics_outdf_grpd:\r\n",
    "    sent_topics_sorteddf_mallet = pd.concat([sent_topics_sorteddf_mallet, \r\n",
    "                                             grp.sort_values(['Perc_Contribution'], ascending=[0]).head(1)], \r\n",
    "                                            axis=0)\r\n",
    "\r\n",
    "# Reset Index    \r\n",
    "sent_topics_sorteddf_mallet.reset_index(drop=True, inplace=True)\r\n",
    "\r\n",
    "# Format\r\n",
    "sent_topics_sorteddf_mallet.columns = ['Topic_Num', \"Topic_Perc_Contrib\", \"Keywords\", \"Text\"]\r\n",
    "\r\n",
    "# Show\r\n",
    "sent_topics_sorteddf_mallet"
   ],
   "outputs": [
    {
     "output_type": "execute_result",
     "data": {
      "text/plain": [
       "    Topic_Num  Topic_Perc_Contrib  \\\n",
       "0           1              0.9841   \n",
       "1           2              0.9888   \n",
       "2           3              0.9974   \n",
       "3           4              0.9894   \n",
       "4           5              0.9327   \n",
       "5           6              0.9944   \n",
       "6           7              0.9755   \n",
       "7           8              0.9226   \n",
       "8           9              0.9860   \n",
       "9          10              0.9950   \n",
       "10         11              0.9495   \n",
       "11         12              0.8807   \n",
       "12         13              0.9022   \n",
       "13         14              0.7773   \n",
       "14         15              0.5384   \n",
       "15         16              0.9929   \n",
       "16         17              0.9291   \n",
       "17         18              0.7799   \n",
       "18         19              0.9749   \n",
       "19         20              0.9612   \n",
       "20         21              0.5940   \n",
       "\n",
       "                                                                                                 Keywords  \\\n",
       "0                       license, year, calendar, fail, require, refuse, comply, complete, hour, authorize   \n",
       "1                         license, issue, fail, day, appellate, allegation, deny, refuse, inform, renewal   \n",
       "2              list, action, license, violate, statement, applicant, prohibit, criminal, conduct, provide   \n",
       "3               report, license, recommendation, file, appellate, deny, objection, issue, recommend, hold   \n",
       "4     applicant, agreement, agree, settlement, violation, understand, condition, apply, omba, requirement   \n",
       "5                    guilty, convict, offense, theft, plead, involve, criminal, license, money, applicant   \n",
       "6               renewal, license, intent, refuse, issue, deny, terminate, renew, termination, requirement   \n",
       "7         applicant, agreement, settlement, license, omba, hour, proceeding, requirement, fail, violation   \n",
       "8   license, originate, violation, residential, violate, conduct, examination, document, fine, registrant   \n",
       "9                     suspension, license, tr, uniform, testimony, hold, appear, court, receive, question   \n",
       "10                        bond, company, dollar, registrant, maintain, fine, surety, provide, issue, fail   \n",
       "11          license, criminal, offense, convict, conviction, fitness, general, public, character, involve   \n",
       "12                         renewal, renew, meet, requirement, refuse, set, license, require, submit, fail   \n",
       "13              license, deny, offense, criminal, involve, conviction, theft, security, public, character   \n",
       "14        agreement, settlement, agree, license, formal, proceeding, term, requirement, renewal, complete   \n",
       "15          registrant, operation, judgment, manager, violation, defendant, provide, civil, fail, consent   \n",
       "16                 originator, testimony, tr, license, conviction, summary, letter, criminal, check, hold   \n",
       "17          applicant, license, violate, material, prohibit, provide, statement, false, require, criminal   \n",
       "18       license, character, fitness, compliance, public, general, confidence, warrant, command, honestly   \n",
       "19                  license, renewal, continue, education, fail, complete, deny, requirement, hour, issue   \n",
       "20                     license, offense, criminal, agreement, check, money, tend, general, theft, convict   \n",
       "\n",
       "                                                                                                                                                                                                                                                                                                                                                                                                                                                                                                                                                                                                                                                                                                                                                                                                                                                                                                                                                                                                Text  \n",
       "0                                                                                                                                                                                                                                                                                                                                                                                                                                                                                    [conduct, follow, authorize, refuse, renew, license, licensee, applicant, violate, fail, comply, provision, section, rule, adopt, section, applicable, conduct, b, previously, hold, license, calendar, year, require, licensed, complete, hour, approve, continue, education, calendar, year, 31st, fail, complete, require, hour, credit, calendar, year, require, e, fail, comply, authorize, refuse, renew, license, park, opportunity, case, suspend, license, license, suspend, meet, condition, renewal]  \n",
       "1                                                                                                                                                                                                                                                                             [silverleaf, drive, denial, renewal, appellate, administer, interest, public, issue, m, fast, license, license, expire, file, renew, license, renewal, remain, pende, issue, inform, conduct, thereof, allege, fail, comply, complete, hour, continue, education, calendar, year, fail, comply, authorize, refuse, renew, license, informed, intent, deny, license, renewal, opportunity, regard, denial, day, far, caution, receive, write, office, day, time, issue, deny, renewal, license, unable, obtain, service, provide, publish, consecutive, week, m, fast, appellate, fail, statutory, deadline, fail, defend, allegation, allegation, contain, true, license, renewal, deny, fast, license, renewal, deny]  \n",
       "2                                                                                                                          [conduct, follow, convict, unauthorized, use, property, misdemeanor, fourth, degree, case, crb, court, common, pleas, plead, guilty, convict, attempt, receive, steal, property, misdemeanor, degree, case, cr, c, convict, theft, misdemeanor, degree, case, crb, plead, guilty, convict, operate, motor, vehicle, intoxicate, case, trc, e, plead, guilty, convict, operate, motor, vehicle, intoxicate, misdemeanor, degree, case, intent, deny, license, opportunity, hear, plead, guilty, convict, operate, motor, vehicle, intoxicate, misdemeanor, degree, case, trc, plead, guilty, convict, assault, misdemeanor, degree, case, crb, h, attest, swear, statement, information, provide, criminal, license, submit, complete, truthful, attempt, obtain, license, provide, untruthful, information, criminal, finding, list, determine, action, list, prove, ...]  \n",
       "3                                                                                                                            [denial, license, submit, license, issue, intent, deny, thereto, hold, file, write, report, recommendation, recommend, deny, copy, report, recommendation, letter, explain, submit, written, objection, report, certify, objection, file, consideration, report, recommendation, objection, thereto, evidence, admit, modify, certain, report, recommendation, follow, report, recommendation, specifically, approve, modify, report, recommendation, include, trotter, felony, conviction, separate, reason, cite, support, position, trotter, grant, license, modify, report, recommendation, strike, reference, withdrawal, trotter, mention, withdraw, want, cancel, inform, trotter, present, need, submit, sentence, modify, read, indication, attempt, continue, modification, andor, disapproval, approve, finding, recommendation, accordingly, license, deny]  \n",
       "4                                                 [settlement, agreement, enter, basis, following, stipulation, admission, understanding, empower, issue, applicant, license, thing, applicant, comply, section, require, complete, hour, approve, continue, education, calendar, year, 31st, hold, license, calendar, year, d, admit, fail, complete, require, credit, hour, calendar, year, e, fail, comply, authority, refuse, issue, enter, settlement, agreement, lieu, formal, proceeding, deny, license, basis, admit, violation, noncompliance, expressly, reserve, institute, formal, proceeding, base, violation, noncompliance, provision, omba, specifically, occur, effective, settlement, agreement, agree, condition, wherefore, consideration, forego, mutual, promise, hereinafter, set, forth, lieu, continue, formal, disciplinary, proceeding, time, knowingly, voluntarily, agree, following, term, condition, limitation, penalty, violation, describe, agree, pay, fine, ...]  \n",
       "5                                                                                                                                            [convict, number, criminal, offense, involve, theft, receive, steal, property, embezzlement, forgery, fraud, pass, bad, check, money, laundering, drug, trafficking, intent, deny, license, opportunity, hear, criminal, offense, involve, money, security, wit, misdemeanor, theft, conviction, misdemeanor, conviction, pass, bad, check, felony, theft, conviction, felony, conviction, pass, bad, check, municipal, court, convict, pass, bad, check, degree, misdemeanor, municipal, court, plead, guilty, convict, reduce, theft, degree, misdemeanor, municipal, court, convict, pass, bad, check, degree, misdemeanor, 93crb17348, common, plea, plead, guilty, convict, count, pass, bad, check, degree, felony, b, count, theft, felony, degree, common, plea, plead, guilty, convict, count, attempt, pass, bad, check, fourth, degree, ...]  \n",
       "6                                                                                                                                                                                                                                                                                                                                                                                                                                                                                                                                                                                                                                                                     [drive, termination, intent, deny, renewal, license, issue, intent, deny, renewal, license, license, submit, check, renewal, issue, deny, renewal, license, prior, issue, receive, check, intent, deny, renewal, license, base, failure, submit, check, moot, supersede, terminate, intent, deny, license, renewal, appellate]  \n",
       "7                                                                                                                                                                                                                                  [settlement, agreement, enter, basis, following, stipulation, admission, understanding, require, suspend, prior, hear, registrant, operation, manager, fail, fulfill, continue, education, requirement, require, operation, manager, complete, hour, approve, continue, education, calendar, year, 31st, admit, violate, operation, manager, failure, complete, hour, approve, d, fail, comply, require, suspend, operation, manager, complete, hour, approve, registrant, pay, fine, dollar, enter, settlement, agreement, lieu, formal, proceeding, suspend, basis, admit, violation, noncompliance, expressly, reserve, institute, formal, proceeding, base, violation, noncompliance, provision, omba, specifically, occur, effective, settlement, agreement]  \n",
       "8                                                                                                                                                                                                                                                                                                                                                                           [conduct, affair, thereof, allege, follow, apply, license, issue, license, reveal, originate, license, originate, property, locate, settlement, occur, originate, property, locate, close, person, person, behalf, behalf, person, obtain, license, define, employee, originate, consideration, direct, gain, indirect, gain, profit, fee, include, employee, solicit, information, public, sale, originate, obtain, license, violate, authorize, opportunity, revoke, license, violation, failure, comply, provision, section, rule, adopt, section, applicable, conduct, finding, originate, obtain, license, violate]  \n",
       "9                                                                                                                         [abovecaptione, license, practice, adjudicative, procedure, hold, pm, south, high, 19th, floor, hold, hereinafter, consider, intent, deny, license, opportunity, hereinafter, base, allegation, fail, disclose, past, criminal, offense, ineligible, obtain, license, appear, represent, general, office, assistant, general, appear, pro, se, 4c, admit, discuss, tr, admit, appear, sole, witness, character, witness, misunderstand, participation, remain, present, swear, testimony, case, open, pm, allow, time, submit, write, statement, witness, mill, tr, pp, receive, timely, admit, b, objection, document, subject, weight, deem, afford, document, b, jurisdiction, file, issue, receive, schedule, continue, motion, seek, continuance, grant, case, assign, new, continue, forward, propose, issuance, deny, license, agency, responsible, licensing, ...]  \n",
       "10                                                 [perform, examination, allege, follow, rule, provide, day, prior, effective, change, registrant, writing, new, registrant, intend, location, municipal, corporation, currently, locate, new, file, dollar, relocation, fee, new, obtain, prior, conduct, new, location, change, provide, prior, relocation, occur, receive, relocation, provide, impose, fine, dollar, day, violation, rule, commit, repeat, continue, services, certify, service, intent, fine, provide, determine, fine, consider, seriousness, violation, registrant, good, faith, effort, prevent, violation, registrant, history, regard, violation, compliance, registrant, resource, consider, rely, registrant, representation, perform, execute, examination, regulatory, function, duty, provide, applicant, copy, rule, rule, thereunder, available, online, public, library, participant, regulated, profession, presume, knowledge, regard, profession, office, ...]  \n",
       "11  [route, denial, license, appellate, submit, license, intend, deny, license, convict, attempted, trafficking, marijuana, violate, fail, fully, disclose, criminal, conviction, license, violate, false, statement, material, omit, statement, require, licensing, violate, engage, conduct, constitute, improper, fraudulent, dishonest, dealing, character, general, fitness, command, confidence, public, warrant, belief, operate, honestly, fairly, compliance, hold, report, recommendation, file, recommend, deny, license, objection, file, consider, report, recommendation, testimony, applicable, modify, disapprove, finding, andor, conclusion, list, finding, andor, conclusion, specifically, approve, adopt, incorporate, examiner, report, recommendation, attach, hereto, reason, disapprove, andor, modify, orderdenial, license, appellate, burden, proof, preponderance, evidence, applicant, character, general, fitness, command, confidence, public, warrant, belief, ...]  \n",
       "12                                                                                                                                        [conduct, 132210b, follow, 1322041b3, originator, license, renew, applicant, character, general, fitness, command, confidence, public, warrant, belief, operate, honestly, fairly, compliance, b, originator, license, renew, applicant, successfully, complete, write, test, require, section, require, submit, check, renewal, opportunity, nationwide, licensing, system, registry, nmls, deficient, failure, complete, check, letter, inform, incomplete, submit, check, successfully, complete, require, write, test, e, submit, check, successfully, complete, write, test, require, submit, check, character, general, fitness, meet, renewal, requirement, set, successfully, complete, write, test, authorize, refuse, renew, originator, license, finding, list, authorize, refuse, renewal, failure, meet, requirement, renewal, set, 1322041b]  \n",
       "13                                                                                                                                                                                                                                                                                                                                                                                                                                                                                                                                [termination, intent, deny, license, issue, bowermaster, intent, deny, license, prior, file, evidence, activity, employment, concern, character, theft, conviction, expunge, determine, prove, preponderance, evidence, honest, truthful, good, reputation, basis, believe, repeat, crime, intend, deny, character, general, fitness, command, confidence, public, warrant, belief, operate, honestly, fairly, compliance, intent, deny, license, moot, terminate]  \n",
       "14                                            [settlement, agreement, enter, basis, following, stipulation, admission, understanding, require, complete, hour, approve, continue, education, calendar, year, losalate, cerevoke, b, year, impose, requirement, operation, manager, extend, deadline, dfis, complete, hour, approve, expiration, extended, deadline, d, admit, extension, time, grant, comply, requirement, fail, complete, require, credit, hour, extended, deadline, authorize, revoke, licensee, license, licensee, violate, fail, comply, provision, section, fail, comply, authority, revoke, enter, settlement, agreement, lieu, formal, proceeding, revoke, license, basis, admit, noncompliance, omba, h, expressly, reserve, institute, formal, proceeding, base, violation, noncompliance, provision, omba, specifically, occur, effective, settlement, agreement, agree, condition, wherefore, consideration, forego, mutual, promise, hereinafter, set, forth, lieu, ...]  \n",
       "15                            [conduct, affair, thereof, allege, following, registrant, branch, office, send, direct, potential, customer, seek, solicit, consist, pink, telephone, message, note, refer, consumer, leave, phone, number, message, great, news, sign, person, identify, micah, consumer, simply, urge, good, news, branch, location, person, direct, contend, solicitation, improper, dishonest, practice, violation, direct, solicit, consider, advertisement, rule, govern, registrant, branch, fail, identity, provide, telephone, number, registrant, branch, provide, registrant, addition, solicitation, set, provide, registrant, office, number, registrant, require, clearly, identity, advertisement, 13018707a1, addition, registrant, street, advertisement, solely, provide, telephone, number, 13018707a2, registrant, require, 13018707a1, provide, number, advertisement, finding, base, allegation, determine, branch, fail, clearly, identity, advertisement, ...]  \n",
       "16                                                                   [license, practice, procedure, hold, begin, south, hold, consider, allegation, intent, deny, license, opportunity, allege, convict, nonsupport, dependent, violate, c, fail, disclose, conviction, license, assert, eligible, license, follow, reason, violate, c, fail, disclose, conviction, prove, honest, truthful, good, reputation, basis, believe, commit, offense, require, character, general, fitness, command, confidence, public, warrant, belief, operate, honestly, fairly, compliance, require, assistant, general, executive, agency, section, general, office, represent, executive, secretary, attend, representative, testify, appear, represent, counsel, admit, jurisdiction, procedural, issue, certify, reference, abbreviate, tr, hear, receive, schedule, continue, send, letter, time, location, tr, letter, send, regular, provide, receive, contact, present, continuance, tr, hold, location, ...]  \n",
       "17                                                                                                                                                                                                                                                                                                                                                                                                                                                                                                                                       [prove, honest, truthful, good, reputation, basis, believe, commit, criminal, offense, involve, fraud, criminal, offense, involve, money, security, 1322041a3, character, general, fitness, command, confidence, public, warrant, belief, operate, honestly, fairly, compliance, violate, prohibit, applicant, substantial, misrepresentation, license, violate, prohibit, applicant, false, misleading, statement, material, omission, statement, require]  \n",
       "18                                                                                                                                                                                                                                                                                                                                                                                                                                                                                                                                                                                                                  [conduct, follow, determine, violate, c, b, determine, character, general, fitness, command, confidence, public, warrent, belief, operate, honestly, fairly, compliance, finding, list, determine, action, list, character, general, fitness, command, confidence, public, warrant, belief, operate, honestly, fairly, compliance, damel, broxterman, copy, opportunity, hearma]  \n",
       "19                                                                             [license, practice, procedure, hold, pm, south, high, hold, consider, allegation, intent, deny, license, renewal, opportunity, hear, allege, fail, comply, fail, complete, hour, approve, continue, education, calendar, year, require, assert, eligible, license, renewal, following, reason, fail, comply, continue, education, requirement, set, failure, comply, continue, education, requirement, set, character, general, fitness, command, confidence, public, warrant, belief, operate, honestly, fairly, compliance, general, executive, agency, section, office, general, represent, appear, counsel, admit, jurisdiction, procedural, issue, hear, receive, schedule, motion, continue, receive, certify, receive, write, time, location, license, renewal, 124th, modify, thing, add, requirement, complete, hour, continue, education, calendar, year, begin, calendar, year, fulfill, requirement, ...]  \n",
       "20                                                                      [license, practice, procedure, hold, pm, south, hold, consider, allegation, intent, deny, license, opportunity, hear, allege, convict, drug, trafficking, conviction, assert, eligible, license, follow, reason, prove, honest, truthful, good, reputation, basis, believe, commit, criminal, offense, involve, drug, trafficking, criminal, offense, involve, money, security, character, general, fitness, command, confidence, public, warrant, belief, operate, honestly, fairly, compliance, require, assistant, general, executive, agency, section, office, general, represent, admit, appear, explanation, absence, b, jurisdiction, procedural, issue, certify, receipt, postal, service, mark, unclaimed, remaile, certify, receipt, different, hear, receive, schedule, motion, continue, continue, send, ordinary, file, question, ask, follow, question, company, owner, director, convict, plead, guilty, ...]  "
      ],
      "text/html": [
       "<div>\n",
       "<style scoped>\n",
       "    .dataframe tbody tr th:only-of-type {\n",
       "        vertical-align: middle;\n",
       "    }\n",
       "\n",
       "    .dataframe tbody tr th {\n",
       "        vertical-align: top;\n",
       "    }\n",
       "\n",
       "    .dataframe thead th {\n",
       "        text-align: right;\n",
       "    }\n",
       "</style>\n",
       "<table border=\"1\" class=\"dataframe\">\n",
       "  <thead>\n",
       "    <tr style=\"text-align: right;\">\n",
       "      <th></th>\n",
       "      <th>Topic_Num</th>\n",
       "      <th>Topic_Perc_Contrib</th>\n",
       "      <th>Keywords</th>\n",
       "      <th>Text</th>\n",
       "    </tr>\n",
       "  </thead>\n",
       "  <tbody>\n",
       "    <tr>\n",
       "      <th>0</th>\n",
       "      <td>1</td>\n",
       "      <td>0.9841</td>\n",
       "      <td>license, year, calendar, fail, require, refuse, comply, complete, hour, authorize</td>\n",
       "      <td>[conduct, follow, authorize, refuse, renew, license, licensee, applicant, violate, fail, comply, provision, section, rule, adopt, section, applicable, conduct, b, previously, hold, license, calendar, year, require, licensed, complete, hour, approve, continue, education, calendar, year, 31st, fail, complete, require, hour, credit, calendar, year, require, e, fail, comply, authorize, refuse, renew, license, park, opportunity, case, suspend, license, license, suspend, meet, condition, renewal]</td>\n",
       "    </tr>\n",
       "    <tr>\n",
       "      <th>1</th>\n",
       "      <td>2</td>\n",
       "      <td>0.9888</td>\n",
       "      <td>license, issue, fail, day, appellate, allegation, deny, refuse, inform, renewal</td>\n",
       "      <td>[silverleaf, drive, denial, renewal, appellate, administer, interest, public, issue, m, fast, license, license, expire, file, renew, license, renewal, remain, pende, issue, inform, conduct, thereof, allege, fail, comply, complete, hour, continue, education, calendar, year, fail, comply, authorize, refuse, renew, license, informed, intent, deny, license, renewal, opportunity, regard, denial, day, far, caution, receive, write, office, day, time, issue, deny, renewal, license, unable, obtain, service, provide, publish, consecutive, week, m, fast, appellate, fail, statutory, deadline, fail, defend, allegation, allegation, contain, true, license, renewal, deny, fast, license, renewal, deny]</td>\n",
       "    </tr>\n",
       "    <tr>\n",
       "      <th>2</th>\n",
       "      <td>3</td>\n",
       "      <td>0.9974</td>\n",
       "      <td>list, action, license, violate, statement, applicant, prohibit, criminal, conduct, provide</td>\n",
       "      <td>[conduct, follow, convict, unauthorized, use, property, misdemeanor, fourth, degree, case, crb, court, common, pleas, plead, guilty, convict, attempt, receive, steal, property, misdemeanor, degree, case, cr, c, convict, theft, misdemeanor, degree, case, crb, plead, guilty, convict, operate, motor, vehicle, intoxicate, case, trc, e, plead, guilty, convict, operate, motor, vehicle, intoxicate, misdemeanor, degree, case, intent, deny, license, opportunity, hear, plead, guilty, convict, operate, motor, vehicle, intoxicate, misdemeanor, degree, case, trc, plead, guilty, convict, assault, misdemeanor, degree, case, crb, h, attest, swear, statement, information, provide, criminal, license, submit, complete, truthful, attempt, obtain, license, provide, untruthful, information, criminal, finding, list, determine, action, list, prove, ...]</td>\n",
       "    </tr>\n",
       "    <tr>\n",
       "      <th>3</th>\n",
       "      <td>4</td>\n",
       "      <td>0.9894</td>\n",
       "      <td>report, license, recommendation, file, appellate, deny, objection, issue, recommend, hold</td>\n",
       "      <td>[denial, license, submit, license, issue, intent, deny, thereto, hold, file, write, report, recommendation, recommend, deny, copy, report, recommendation, letter, explain, submit, written, objection, report, certify, objection, file, consideration, report, recommendation, objection, thereto, evidence, admit, modify, certain, report, recommendation, follow, report, recommendation, specifically, approve, modify, report, recommendation, include, trotter, felony, conviction, separate, reason, cite, support, position, trotter, grant, license, modify, report, recommendation, strike, reference, withdrawal, trotter, mention, withdraw, want, cancel, inform, trotter, present, need, submit, sentence, modify, read, indication, attempt, continue, modification, andor, disapproval, approve, finding, recommendation, accordingly, license, deny]</td>\n",
       "    </tr>\n",
       "    <tr>\n",
       "      <th>4</th>\n",
       "      <td>5</td>\n",
       "      <td>0.9327</td>\n",
       "      <td>applicant, agreement, agree, settlement, violation, understand, condition, apply, omba, requirement</td>\n",
       "      <td>[settlement, agreement, enter, basis, following, stipulation, admission, understanding, empower, issue, applicant, license, thing, applicant, comply, section, require, complete, hour, approve, continue, education, calendar, year, 31st, hold, license, calendar, year, d, admit, fail, complete, require, credit, hour, calendar, year, e, fail, comply, authority, refuse, issue, enter, settlement, agreement, lieu, formal, proceeding, deny, license, basis, admit, violation, noncompliance, expressly, reserve, institute, formal, proceeding, base, violation, noncompliance, provision, omba, specifically, occur, effective, settlement, agreement, agree, condition, wherefore, consideration, forego, mutual, promise, hereinafter, set, forth, lieu, continue, formal, disciplinary, proceeding, time, knowingly, voluntarily, agree, following, term, condition, limitation, penalty, violation, describe, agree, pay, fine, ...]</td>\n",
       "    </tr>\n",
       "    <tr>\n",
       "      <th>5</th>\n",
       "      <td>6</td>\n",
       "      <td>0.9944</td>\n",
       "      <td>guilty, convict, offense, theft, plead, involve, criminal, license, money, applicant</td>\n",
       "      <td>[convict, number, criminal, offense, involve, theft, receive, steal, property, embezzlement, forgery, fraud, pass, bad, check, money, laundering, drug, trafficking, intent, deny, license, opportunity, hear, criminal, offense, involve, money, security, wit, misdemeanor, theft, conviction, misdemeanor, conviction, pass, bad, check, felony, theft, conviction, felony, conviction, pass, bad, check, municipal, court, convict, pass, bad, check, degree, misdemeanor, municipal, court, plead, guilty, convict, reduce, theft, degree, misdemeanor, municipal, court, convict, pass, bad, check, degree, misdemeanor, 93crb17348, common, plea, plead, guilty, convict, count, pass, bad, check, degree, felony, b, count, theft, felony, degree, common, plea, plead, guilty, convict, count, attempt, pass, bad, check, fourth, degree, ...]</td>\n",
       "    </tr>\n",
       "    <tr>\n",
       "      <th>6</th>\n",
       "      <td>7</td>\n",
       "      <td>0.9755</td>\n",
       "      <td>renewal, license, intent, refuse, issue, deny, terminate, renew, termination, requirement</td>\n",
       "      <td>[drive, termination, intent, deny, renewal, license, issue, intent, deny, renewal, license, license, submit, check, renewal, issue, deny, renewal, license, prior, issue, receive, check, intent, deny, renewal, license, base, failure, submit, check, moot, supersede, terminate, intent, deny, license, renewal, appellate]</td>\n",
       "    </tr>\n",
       "    <tr>\n",
       "      <th>7</th>\n",
       "      <td>8</td>\n",
       "      <td>0.9226</td>\n",
       "      <td>applicant, agreement, settlement, license, omba, hour, proceeding, requirement, fail, violation</td>\n",
       "      <td>[settlement, agreement, enter, basis, following, stipulation, admission, understanding, require, suspend, prior, hear, registrant, operation, manager, fail, fulfill, continue, education, requirement, require, operation, manager, complete, hour, approve, continue, education, calendar, year, 31st, admit, violate, operation, manager, failure, complete, hour, approve, d, fail, comply, require, suspend, operation, manager, complete, hour, approve, registrant, pay, fine, dollar, enter, settlement, agreement, lieu, formal, proceeding, suspend, basis, admit, violation, noncompliance, expressly, reserve, institute, formal, proceeding, base, violation, noncompliance, provision, omba, specifically, occur, effective, settlement, agreement]</td>\n",
       "    </tr>\n",
       "    <tr>\n",
       "      <th>8</th>\n",
       "      <td>9</td>\n",
       "      <td>0.9860</td>\n",
       "      <td>license, originate, violation, residential, violate, conduct, examination, document, fine, registrant</td>\n",
       "      <td>[conduct, affair, thereof, allege, follow, apply, license, issue, license, reveal, originate, license, originate, property, locate, settlement, occur, originate, property, locate, close, person, person, behalf, behalf, person, obtain, license, define, employee, originate, consideration, direct, gain, indirect, gain, profit, fee, include, employee, solicit, information, public, sale, originate, obtain, license, violate, authorize, opportunity, revoke, license, violation, failure, comply, provision, section, rule, adopt, section, applicable, conduct, finding, originate, obtain, license, violate]</td>\n",
       "    </tr>\n",
       "    <tr>\n",
       "      <th>9</th>\n",
       "      <td>10</td>\n",
       "      <td>0.9950</td>\n",
       "      <td>suspension, license, tr, uniform, testimony, hold, appear, court, receive, question</td>\n",
       "      <td>[abovecaptione, license, practice, adjudicative, procedure, hold, pm, south, high, 19th, floor, hold, hereinafter, consider, intent, deny, license, opportunity, hereinafter, base, allegation, fail, disclose, past, criminal, offense, ineligible, obtain, license, appear, represent, general, office, assistant, general, appear, pro, se, 4c, admit, discuss, tr, admit, appear, sole, witness, character, witness, misunderstand, participation, remain, present, swear, testimony, case, open, pm, allow, time, submit, write, statement, witness, mill, tr, pp, receive, timely, admit, b, objection, document, subject, weight, deem, afford, document, b, jurisdiction, file, issue, receive, schedule, continue, motion, seek, continuance, grant, case, assign, new, continue, forward, propose, issuance, deny, license, agency, responsible, licensing, ...]</td>\n",
       "    </tr>\n",
       "    <tr>\n",
       "      <th>10</th>\n",
       "      <td>11</td>\n",
       "      <td>0.9495</td>\n",
       "      <td>bond, company, dollar, registrant, maintain, fine, surety, provide, issue, fail</td>\n",
       "      <td>[perform, examination, allege, follow, rule, provide, day, prior, effective, change, registrant, writing, new, registrant, intend, location, municipal, corporation, currently, locate, new, file, dollar, relocation, fee, new, obtain, prior, conduct, new, location, change, provide, prior, relocation, occur, receive, relocation, provide, impose, fine, dollar, day, violation, rule, commit, repeat, continue, services, certify, service, intent, fine, provide, determine, fine, consider, seriousness, violation, registrant, good, faith, effort, prevent, violation, registrant, history, regard, violation, compliance, registrant, resource, consider, rely, registrant, representation, perform, execute, examination, regulatory, function, duty, provide, applicant, copy, rule, rule, thereunder, available, online, public, library, participant, regulated, profession, presume, knowledge, regard, profession, office, ...]</td>\n",
       "    </tr>\n",
       "    <tr>\n",
       "      <th>11</th>\n",
       "      <td>12</td>\n",
       "      <td>0.8807</td>\n",
       "      <td>license, criminal, offense, convict, conviction, fitness, general, public, character, involve</td>\n",
       "      <td>[route, denial, license, appellate, submit, license, intend, deny, license, convict, attempted, trafficking, marijuana, violate, fail, fully, disclose, criminal, conviction, license, violate, false, statement, material, omit, statement, require, licensing, violate, engage, conduct, constitute, improper, fraudulent, dishonest, dealing, character, general, fitness, command, confidence, public, warrant, belief, operate, honestly, fairly, compliance, hold, report, recommendation, file, recommend, deny, license, objection, file, consider, report, recommendation, testimony, applicable, modify, disapprove, finding, andor, conclusion, list, finding, andor, conclusion, specifically, approve, adopt, incorporate, examiner, report, recommendation, attach, hereto, reason, disapprove, andor, modify, orderdenial, license, appellate, burden, proof, preponderance, evidence, applicant, character, general, fitness, command, confidence, public, warrant, belief, ...]</td>\n",
       "    </tr>\n",
       "    <tr>\n",
       "      <th>12</th>\n",
       "      <td>13</td>\n",
       "      <td>0.9022</td>\n",
       "      <td>renewal, renew, meet, requirement, refuse, set, license, require, submit, fail</td>\n",
       "      <td>[conduct, 132210b, follow, 1322041b3, originator, license, renew, applicant, character, general, fitness, command, confidence, public, warrant, belief, operate, honestly, fairly, compliance, b, originator, license, renew, applicant, successfully, complete, write, test, require, section, require, submit, check, renewal, opportunity, nationwide, licensing, system, registry, nmls, deficient, failure, complete, check, letter, inform, incomplete, submit, check, successfully, complete, require, write, test, e, submit, check, successfully, complete, write, test, require, submit, check, character, general, fitness, meet, renewal, requirement, set, successfully, complete, write, test, authorize, refuse, renew, originator, license, finding, list, authorize, refuse, renewal, failure, meet, requirement, renewal, set, 1322041b]</td>\n",
       "    </tr>\n",
       "    <tr>\n",
       "      <th>13</th>\n",
       "      <td>14</td>\n",
       "      <td>0.7773</td>\n",
       "      <td>license, deny, offense, criminal, involve, conviction, theft, security, public, character</td>\n",
       "      <td>[termination, intent, deny, license, issue, bowermaster, intent, deny, license, prior, file, evidence, activity, employment, concern, character, theft, conviction, expunge, determine, prove, preponderance, evidence, honest, truthful, good, reputation, basis, believe, repeat, crime, intend, deny, character, general, fitness, command, confidence, public, warrant, belief, operate, honestly, fairly, compliance, intent, deny, license, moot, terminate]</td>\n",
       "    </tr>\n",
       "    <tr>\n",
       "      <th>14</th>\n",
       "      <td>15</td>\n",
       "      <td>0.5384</td>\n",
       "      <td>agreement, settlement, agree, license, formal, proceeding, term, requirement, renewal, complete</td>\n",
       "      <td>[settlement, agreement, enter, basis, following, stipulation, admission, understanding, require, complete, hour, approve, continue, education, calendar, year, losalate, cerevoke, b, year, impose, requirement, operation, manager, extend, deadline, dfis, complete, hour, approve, expiration, extended, deadline, d, admit, extension, time, grant, comply, requirement, fail, complete, require, credit, hour, extended, deadline, authorize, revoke, licensee, license, licensee, violate, fail, comply, provision, section, fail, comply, authority, revoke, enter, settlement, agreement, lieu, formal, proceeding, revoke, license, basis, admit, noncompliance, omba, h, expressly, reserve, institute, formal, proceeding, base, violation, noncompliance, provision, omba, specifically, occur, effective, settlement, agreement, agree, condition, wherefore, consideration, forego, mutual, promise, hereinafter, set, forth, lieu, ...]</td>\n",
       "    </tr>\n",
       "    <tr>\n",
       "      <th>15</th>\n",
       "      <td>16</td>\n",
       "      <td>0.9929</td>\n",
       "      <td>registrant, operation, judgment, manager, violation, defendant, provide, civil, fail, consent</td>\n",
       "      <td>[conduct, affair, thereof, allege, following, registrant, branch, office, send, direct, potential, customer, seek, solicit, consist, pink, telephone, message, note, refer, consumer, leave, phone, number, message, great, news, sign, person, identify, micah, consumer, simply, urge, good, news, branch, location, person, direct, contend, solicitation, improper, dishonest, practice, violation, direct, solicit, consider, advertisement, rule, govern, registrant, branch, fail, identity, provide, telephone, number, registrant, branch, provide, registrant, addition, solicitation, set, provide, registrant, office, number, registrant, require, clearly, identity, advertisement, 13018707a1, addition, registrant, street, advertisement, solely, provide, telephone, number, 13018707a2, registrant, require, 13018707a1, provide, number, advertisement, finding, base, allegation, determine, branch, fail, clearly, identity, advertisement, ...]</td>\n",
       "    </tr>\n",
       "    <tr>\n",
       "      <th>16</th>\n",
       "      <td>17</td>\n",
       "      <td>0.9291</td>\n",
       "      <td>originator, testimony, tr, license, conviction, summary, letter, criminal, check, hold</td>\n",
       "      <td>[license, practice, procedure, hold, begin, south, hold, consider, allegation, intent, deny, license, opportunity, allege, convict, nonsupport, dependent, violate, c, fail, disclose, conviction, license, assert, eligible, license, follow, reason, violate, c, fail, disclose, conviction, prove, honest, truthful, good, reputation, basis, believe, commit, offense, require, character, general, fitness, command, confidence, public, warrant, belief, operate, honestly, fairly, compliance, require, assistant, general, executive, agency, section, general, office, represent, executive, secretary, attend, representative, testify, appear, represent, counsel, admit, jurisdiction, procedural, issue, certify, reference, abbreviate, tr, hear, receive, schedule, continue, send, letter, time, location, tr, letter, send, regular, provide, receive, contact, present, continuance, tr, hold, location, ...]</td>\n",
       "    </tr>\n",
       "    <tr>\n",
       "      <th>17</th>\n",
       "      <td>18</td>\n",
       "      <td>0.7799</td>\n",
       "      <td>applicant, license, violate, material, prohibit, provide, statement, false, require, criminal</td>\n",
       "      <td>[prove, honest, truthful, good, reputation, basis, believe, commit, criminal, offense, involve, fraud, criminal, offense, involve, money, security, 1322041a3, character, general, fitness, command, confidence, public, warrant, belief, operate, honestly, fairly, compliance, violate, prohibit, applicant, substantial, misrepresentation, license, violate, prohibit, applicant, false, misleading, statement, material, omission, statement, require]</td>\n",
       "    </tr>\n",
       "    <tr>\n",
       "      <th>18</th>\n",
       "      <td>19</td>\n",
       "      <td>0.9749</td>\n",
       "      <td>license, character, fitness, compliance, public, general, confidence, warrant, command, honestly</td>\n",
       "      <td>[conduct, follow, determine, violate, c, b, determine, character, general, fitness, command, confidence, public, warrent, belief, operate, honestly, fairly, compliance, finding, list, determine, action, list, character, general, fitness, command, confidence, public, warrant, belief, operate, honestly, fairly, compliance, damel, broxterman, copy, opportunity, hearma]</td>\n",
       "    </tr>\n",
       "    <tr>\n",
       "      <th>19</th>\n",
       "      <td>20</td>\n",
       "      <td>0.9612</td>\n",
       "      <td>license, renewal, continue, education, fail, complete, deny, requirement, hour, issue</td>\n",
       "      <td>[license, practice, procedure, hold, pm, south, high, hold, consider, allegation, intent, deny, license, renewal, opportunity, hear, allege, fail, comply, fail, complete, hour, approve, continue, education, calendar, year, require, assert, eligible, license, renewal, following, reason, fail, comply, continue, education, requirement, set, failure, comply, continue, education, requirement, set, character, general, fitness, command, confidence, public, warrant, belief, operate, honestly, fairly, compliance, general, executive, agency, section, office, general, represent, appear, counsel, admit, jurisdiction, procedural, issue, hear, receive, schedule, motion, continue, receive, certify, receive, write, time, location, license, renewal, 124th, modify, thing, add, requirement, complete, hour, continue, education, calendar, year, begin, calendar, year, fulfill, requirement, ...]</td>\n",
       "    </tr>\n",
       "    <tr>\n",
       "      <th>20</th>\n",
       "      <td>21</td>\n",
       "      <td>0.5940</td>\n",
       "      <td>license, offense, criminal, agreement, check, money, tend, general, theft, convict</td>\n",
       "      <td>[license, practice, procedure, hold, pm, south, hold, consider, allegation, intent, deny, license, opportunity, hear, allege, convict, drug, trafficking, conviction, assert, eligible, license, follow, reason, prove, honest, truthful, good, reputation, basis, believe, commit, criminal, offense, involve, drug, trafficking, criminal, offense, involve, money, security, character, general, fitness, command, confidence, public, warrant, belief, operate, honestly, fairly, compliance, require, assistant, general, executive, agency, section, office, general, represent, admit, appear, explanation, absence, b, jurisdiction, procedural, issue, certify, receipt, postal, service, mark, unclaimed, remaile, certify, receipt, different, hear, receive, schedule, motion, continue, continue, send, ordinary, file, question, ask, follow, question, company, owner, director, convict, plead, guilty, ...]</td>\n",
       "    </tr>\n",
       "  </tbody>\n",
       "</table>\n",
       "</div>"
      ]
     },
     "metadata": {},
     "execution_count": 80
    }
   ],
   "metadata": {}
  },
  {
   "cell_type": "code",
   "execution_count": 75,
   "source": [
    "# Number of Documents for Each Topic\r\n",
    "topic_counts = df_topic_sents_keywords['Dominant_Topic'].value_counts()\r\n",
    "topic_counts.head()\r\n",
    "# Percentage of Documents for Each Topic\r\n",
    "topic_contribution = round(topic_counts/topic_counts.sum(), 4)\r\n",
    "\r\n",
    "# Topic Number and Keywords\r\n",
    "topic_num_keywords = df_topic_sents_keywords[['Dominant_Topic', 'Topic_Keywords']]\r\n",
    "\r\n",
    "# Concatenate Column wise\r\n",
    "df_dominant_topics = pd.concat([topic_counts, topic_contribution], axis=1)\r\n",
    "\r\n",
    "# Change Column names\r\n",
    "df_dominant_topics.columns = ['Num_Documents', 'Perc_Documents']\r\n",
    "\r\n",
    "# Show\r\n",
    "df_dominant_topics"
   ],
   "outputs": [
    {
     "output_type": "execute_result",
     "data": {
      "text/plain": [
       "      Num_Documents  Perc_Documents\n",
       "0.0             881          0.1397\n",
       "3.0             811          0.1286\n",
       "10.0            666          0.1056\n",
       "7.0             611          0.0969\n",
       "19.0            568          0.0901\n",
       "13.0            433          0.0687\n",
       "14.0            348          0.0552\n",
       "8.0             335          0.0531\n",
       "17.0            310          0.0492\n",
       "16.0            273          0.0433\n",
       "21.0            199          0.0316\n",
       "1.0             154          0.0244\n",
       "12.0            129          0.0205\n",
       "4.0             124          0.0197\n",
       "18.0            108          0.0171\n",
       "6.0             108          0.0171\n",
       "2.0              88          0.0140\n",
       "20.0             68          0.0108\n",
       "9.0              64          0.0101\n",
       "15.0             24          0.0038\n",
       "11.0              5          0.0008"
      ],
      "text/html": [
       "<div>\n",
       "<style scoped>\n",
       "    .dataframe tbody tr th:only-of-type {\n",
       "        vertical-align: middle;\n",
       "    }\n",
       "\n",
       "    .dataframe tbody tr th {\n",
       "        vertical-align: top;\n",
       "    }\n",
       "\n",
       "    .dataframe thead th {\n",
       "        text-align: right;\n",
       "    }\n",
       "</style>\n",
       "<table border=\"1\" class=\"dataframe\">\n",
       "  <thead>\n",
       "    <tr style=\"text-align: right;\">\n",
       "      <th></th>\n",
       "      <th>Num_Documents</th>\n",
       "      <th>Perc_Documents</th>\n",
       "    </tr>\n",
       "  </thead>\n",
       "  <tbody>\n",
       "    <tr>\n",
       "      <th>0.0</th>\n",
       "      <td>881</td>\n",
       "      <td>0.1397</td>\n",
       "    </tr>\n",
       "    <tr>\n",
       "      <th>3.0</th>\n",
       "      <td>811</td>\n",
       "      <td>0.1286</td>\n",
       "    </tr>\n",
       "    <tr>\n",
       "      <th>10.0</th>\n",
       "      <td>666</td>\n",
       "      <td>0.1056</td>\n",
       "    </tr>\n",
       "    <tr>\n",
       "      <th>7.0</th>\n",
       "      <td>611</td>\n",
       "      <td>0.0969</td>\n",
       "    </tr>\n",
       "    <tr>\n",
       "      <th>19.0</th>\n",
       "      <td>568</td>\n",
       "      <td>0.0901</td>\n",
       "    </tr>\n",
       "    <tr>\n",
       "      <th>13.0</th>\n",
       "      <td>433</td>\n",
       "      <td>0.0687</td>\n",
       "    </tr>\n",
       "    <tr>\n",
       "      <th>14.0</th>\n",
       "      <td>348</td>\n",
       "      <td>0.0552</td>\n",
       "    </tr>\n",
       "    <tr>\n",
       "      <th>8.0</th>\n",
       "      <td>335</td>\n",
       "      <td>0.0531</td>\n",
       "    </tr>\n",
       "    <tr>\n",
       "      <th>17.0</th>\n",
       "      <td>310</td>\n",
       "      <td>0.0492</td>\n",
       "    </tr>\n",
       "    <tr>\n",
       "      <th>16.0</th>\n",
       "      <td>273</td>\n",
       "      <td>0.0433</td>\n",
       "    </tr>\n",
       "    <tr>\n",
       "      <th>21.0</th>\n",
       "      <td>199</td>\n",
       "      <td>0.0316</td>\n",
       "    </tr>\n",
       "    <tr>\n",
       "      <th>1.0</th>\n",
       "      <td>154</td>\n",
       "      <td>0.0244</td>\n",
       "    </tr>\n",
       "    <tr>\n",
       "      <th>12.0</th>\n",
       "      <td>129</td>\n",
       "      <td>0.0205</td>\n",
       "    </tr>\n",
       "    <tr>\n",
       "      <th>4.0</th>\n",
       "      <td>124</td>\n",
       "      <td>0.0197</td>\n",
       "    </tr>\n",
       "    <tr>\n",
       "      <th>18.0</th>\n",
       "      <td>108</td>\n",
       "      <td>0.0171</td>\n",
       "    </tr>\n",
       "    <tr>\n",
       "      <th>6.0</th>\n",
       "      <td>108</td>\n",
       "      <td>0.0171</td>\n",
       "    </tr>\n",
       "    <tr>\n",
       "      <th>2.0</th>\n",
       "      <td>88</td>\n",
       "      <td>0.0140</td>\n",
       "    </tr>\n",
       "    <tr>\n",
       "      <th>20.0</th>\n",
       "      <td>68</td>\n",
       "      <td>0.0108</td>\n",
       "    </tr>\n",
       "    <tr>\n",
       "      <th>9.0</th>\n",
       "      <td>64</td>\n",
       "      <td>0.0101</td>\n",
       "    </tr>\n",
       "    <tr>\n",
       "      <th>15.0</th>\n",
       "      <td>24</td>\n",
       "      <td>0.0038</td>\n",
       "    </tr>\n",
       "    <tr>\n",
       "      <th>11.0</th>\n",
       "      <td>5</td>\n",
       "      <td>0.0008</td>\n",
       "    </tr>\n",
       "  </tbody>\n",
       "</table>\n",
       "</div>"
      ]
     },
     "metadata": {},
     "execution_count": 75
    }
   ],
   "metadata": {
    "scrolled": true
   }
  },
  {
   "cell_type": "code",
   "execution_count": 76,
   "source": [
    "df_dominant_topics.sort_values(by = [\"Num_Documents\"],ascending = False, inplace = True)\r\n",
    "df_dominant_topics[\"Old Index\"] = df_dominant_topics.index \r\n",
    "df_dominant_topics.reset_index(inplace = True)\r\n",
    "mapping = df_dominant_topics[[\"Old Index\"]].to_dict()['Old Index']\r\n",
    "mapping = {value : key+1 for (key, value) in mapping.items()}\r\n",
    "mapping"
   ],
   "outputs": [
    {
     "output_type": "execute_result",
     "data": {
      "text/plain": [
       "{0.0: 1,\n",
       " 3.0: 2,\n",
       " 10.0: 3,\n",
       " 7.0: 4,\n",
       " 19.0: 5,\n",
       " 13.0: 6,\n",
       " 14.0: 7,\n",
       " 8.0: 8,\n",
       " 17.0: 9,\n",
       " 16.0: 10,\n",
       " 21.0: 11,\n",
       " 1.0: 12,\n",
       " 12.0: 13,\n",
       " 4.0: 14,\n",
       " 18.0: 15,\n",
       " 6.0: 16,\n",
       " 2.0: 17,\n",
       " 20.0: 18,\n",
       " 9.0: 19,\n",
       " 15.0: 20,\n",
       " 11.0: 21}"
      ]
     },
     "metadata": {},
     "execution_count": 76
    }
   ],
   "metadata": {}
  },
  {
   "cell_type": "code",
   "execution_count": null,
   "source": [],
   "outputs": [],
   "metadata": {}
  }
 ],
 "metadata": {
  "interpreter": {
   "hash": "c200356685012de8850201f95537ce902c61c8fd611b23a6f6394b46e0ce5b2e"
  },
  "kernelspec": {
   "name": "python3",
   "display_name": "Python 3.7.10 64-bit ('topicmodelling': conda)"
  },
  "language_info": {
   "codemirror_mode": {
    "name": "ipython",
    "version": 3
   },
   "file_extension": ".py",
   "mimetype": "text/x-python",
   "name": "python",
   "nbconvert_exporter": "python",
   "pygments_lexer": "ipython3",
   "version": "3.7.10"
  }
 },
 "nbformat": 4,
 "nbformat_minor": 2
}