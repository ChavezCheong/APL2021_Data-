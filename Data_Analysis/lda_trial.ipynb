{
 "cells": [
  {
   "cell_type": "markdown",
   "metadata": {},
   "source": [
    "# Trying out an LDA model to apply topic modelling to MEAs"
   ]
  },
  {
   "cell_type": "code",
   "execution_count": 13,
   "metadata": {},
   "outputs": [],
   "source": [
    "import os\n",
    "os.environ[\"KMP_DUPLICATE_LIB_OK\"]=\"TRUE\"\n"
   ]
  },
  {
   "cell_type": "code",
   "execution_count": 14,
   "metadata": {},
   "outputs": [],
   "source": [
    "# Handle imports\n",
    "import numpy as np\n",
    "import pandas as pd\n",
    "import gensim\n",
    "import gensim.corpora as corpora\n",
    "from gensim.utils import simple_preprocess\n",
    "import pickle\n",
    "from gensim.models import CoherenceModel\n",
    "import spacy\n",
    "from spacy.lang.en.stop_words import STOP_WORDS\n",
    "import string\n",
    "import pprint\n",
    "import pyLDAvis.gensim_models as gensimvis\n",
    "from tqdm import tqdm_notebook as tqdm"
   ]
  },
  {
   "cell_type": "code",
   "execution_count": 15,
   "metadata": {},
   "outputs": [],
   "source": [
    "import matplotlib.pyplot as plt\n",
    "%matplotlib inline"
   ]
  },
  {
   "cell_type": "code",
   "execution_count": 16,
   "metadata": {},
   "outputs": [],
   "source": [
    "nlp = spacy.load('en_core_web_lg')\n",
    "lemmatizer = nlp.get_pipe(\"lemmatizer\")"
   ]
  },
  {
   "cell_type": "code",
   "execution_count": 17,
   "metadata": {},
   "outputs": [],
   "source": [
    "stop_word_list = [\n",
    "    \"transcript\",\n",
    "    \"respondent\",\n",
    "    \"ohio\",\n",
    "    \"division\",\n",
    "    \"department\",\n",
    "    \"commerce\",\n",
    "    \"financial\",\n",
    "    \"revised\",\n",
    "    \"code\",\n",
    "    \"institutions\",\n",
    "    \"chapter\",\n",
    "    \"codified\",\n",
    "    \"institution\",\n",
    "    \"heshe\",\n",
    "    \"rc\",\n",
    "    \"oh\",\n",
    "    \"mortgage\",\n",
    "    \"fact\",\n",
    "    \"notice\",\n",
    "    \"act\",\n",
    "    \"chapters\",\n",
    "    \"arizona\",\n",
    "    \"january\",\n",
    "    \"february\",\n",
    "    \"april\",\n",
    "    \"march\",\n",
    "    \"may\",\n",
    "    \"june\",\n",
    "    \"july\",\n",
    "    \"august\",\n",
    "    \"september\",\n",
    "    \"october\",\n",
    "    \"november\",\n",
    "    \"december\",\n",
    "    \"dfi\",\n",
    "    \"ce\",\n",
    "    \"pursuant\",\n",
    "    \"realize\",\n",
    "    \"days\",\n",
    "    \"result\",\n",
    "    \"investigation\",\n",
    "    \"indicate\",\n",
    "    \"state\",\n",
    "    \"address\",\n",
    "    \"appropriate\",\n",
    "    \"broker\",\n",
    "    \"business\",\n",
    "    \"certificate\",\n",
    "    \"charge\",\n",
    "    \"codify\",\n",
    "    \"consistent\",\n",
    "    \"date\",\n",
    "    \"enforce\",\n",
    "    \"find\",\n",
    "    \"hearing\",\n",
    "    \"mail\",\n",
    "    \"mailing\",\n",
    "    \"matter\",\n",
    "    \"necessary\",\n",
    "    \"notify\",\n",
    "    \"order\",\n",
    "    \"purpose\",\n",
    "    \"record\",\n",
    "    \"registration\",\n",
    "    \"request\",\n",
    "    \"responsibility\",\n",
    "    \"return\",\n",
    "    \"right\",\n",
    "    \"serve\",\n",
    "    \"loan\",\n",
    "    \"officer\",\n",
    "    \"application\",\n",
    "    \"background\",\n",
    "    \"come\",\n",
    "    \"attorney\",\n",
    "    \"law\",\n",
    "    \"duly\",\n",
    "    \"appoint\",\n",
    "    \"accordance\",\n",
    "    \"revise\",\n",
    "    \"administrative\",\n",
    "    \"detailed\",\n",
    "    \"paragraph\",\n",
    "    \"page\",\n",
    "    \"exhibit\",\n",
    "    \"robert\",\n",
    "    \"grieser\",\n",
    "    \"superintendent\",\n",
    "    \"bob\",\n",
    "    \"taft\",\n",
    "    \"jennifer\",\n",
    "    \"protect\",\n",
    "    \"proscribe\",\n",
    "    \"\\\\t\",\n",
    "    \"m\",\n",
    "    'allege',\n",
    "    'allegation',\n",
    "    'appellate',\n",
    "    'case',\n",
    "    'authorize',\n",
    "    'applicant',\n",
    "    'denial',\n",
    "    'settlement',\n",
    "    'agreement',\n",
    "    'report',\n",
    "    'recommendation',\n",
    "    'following',\n",
    "    'stipulation',\n",
    "    'admission',\n",
    "    'finding',\n",
    "    'findings',\n",
    "    'basis',\n",
    "    'administer',\n",
    "    'amend',\n",
    "    'amendment',\n",
    "    'bill',\n",
    "    'understanding',\n",
    "    'empower',\n",
    "    'formal',\n",
    "    'proceeding',\n",
    "    'institute',\n",
    "    'terminate',\n",
    "    'intent',\n",
    "    'originate',\n",
    "    'section',\n",
    "    'rule',\n",
    "    'adjucative',\n",
    "    'hereinafter',\n",
    "    'motion',\n",
    "    'jurisdiction',\n",
    "    'continue',\n",
    "    'file',\n",
    "    'opportunity',\n",
    "    'registrant',\n",
    "    'conclusion',\n",
    "    'andor',\n",
    "    'consideration',\n",
    "    'wherefore',\n",
    "    'lieu',\n",
    "    'specifically',\n",
    "    'expressly',\n",
    "    'condition',\n",
    "    'hearma',\n",
    "    'damel',\n",
    "    'broxterman',\n",
    "    'practice',\n",
    "    'procedure',\n",
    "    'time',\n",
    "    'thereof',\n",
    "    'attest',\n",
    "    'tr',\n",
    "    'p',\n",
    "    'consider',\n",
    "    'consist',\n",
    "    'reserve',\n",
    "    'occur',\n",
    "    'e',\n",
    "    'b',\n",
    "    'licensee',\n",
    "    '31st',\n",
    "    'previously',\n",
    "    'apply',\n",
    "    'understand',\n",
    "    'originator',\n",
    "    'transfer',\n",
    "    'dollar',\n",
    "    'operation',\n",
    "    'manager',\n",
    "    'sections',\n",
    "    'municipal',\n",
    "    'constitute',\n",
    "    'evidence',\n",
    "    'adjudicatory',\n",
    "    'defendant',\n",
    "    'agree',\n",
    "    'provide',\n",
    "    'provision',\n",
    "    'follow',\n",
    "    'ace',\n",
    "    'adopt',\n",
    "    'applicable'\n",
    "]"
   ]
  },
  {
   "cell_type": "code",
   "execution_count": 27,
   "metadata": {},
   "outputs": [
    {
     "data": {
      "text/plain": [
       "181"
      ]
     },
     "execution_count": 27,
     "metadata": {},
     "output_type": "execute_result"
    }
   ],
   "source": [
    "len(stop_word_list)"
   ]
  },
  {
   "cell_type": "code",
   "execution_count": 28,
   "metadata": {},
   "outputs": [],
   "source": [
    "nlp.Defaults.stop_words.update(stop_word_list)\n",
    "# Iterates over the words in the stop words list and resets the \"is_stop\" flag.\n",
    "for word in STOP_WORDS:\n",
    "    lexeme = nlp.vocab[word]\n",
    "    lexeme.is_stop = True\n",
    "lemma_tags = {\"NNS\", \"NNPS\"}"
   ]
  },
  {
   "cell_type": "code",
   "execution_count": 29,
   "metadata": {},
   "outputs": [
    {
     "data": {
      "text/plain": [
       "506"
      ]
     },
     "execution_count": 29,
     "metadata": {},
     "output_type": "execute_result"
    }
   ],
   "source": [
    "# Store word_list in txt file for easier reference\n",
    "\n",
    "with open('stop_words.txt','w') as file:\n",
    "    file.writelines(\"%s\\n\" % word for word in nlp.Defaults.stop_words)\n",
    "\n",
    "len(nlp.Defaults.stop_words)"
   ]
  },
  {
   "cell_type": "code",
   "execution_count": 30,
   "metadata": {},
   "outputs": [],
   "source": [
    "# Load data\n",
    "df = pd.read_csv(\"Standardized Data/Ohio_Final_cleaned.csv\")"
   ]
  },
  {
   "cell_type": "code",
   "execution_count": 31,
   "metadata": {},
   "outputs": [],
   "source": [
    "def clean_text(sample_text):\n",
    "    sample_text = sample_text.translate(str.maketrans('', '', string.punctuation))\n",
    "    sample_text = \" \".join([w for w in sample_text.split() if not w.isdigit()])\n",
    "    sample_text = sample_text.lower()\n",
    "    doc = nlp(sample_text)\n",
    "    doc = [token.lemma_ for token in doc if (token.tag_ in lemma_tags or token.lemma_ != '-PRON-' and token.pos_ in ['NOUN', 'ADJ', 'VERB', 'ADV'])]\n",
    "    doc = u' '.join(doc)\n",
    "    doc = nlp.make_doc(doc)\n",
    "    tokens = [token.text for token in doc if token.is_stop != True and token.is_punct != True]\n",
    "    return tokens"
   ]
  },
  {
   "cell_type": "code",
   "execution_count": 32,
   "metadata": {},
   "outputs": [
    {
     "name": "stdout",
     "output_type": "stream",
     "text": [
      "['accountable', 'licensing', 'individual', 'residential', 'hold', 'license', 'number', 'issue', 'birth', 'employer', 'require', 'suspend', 'prior', 'hear', 'license', 'fail', 'fulfill', 'education', 'requirement', 'require', 'education', 'complete', 'fine', 'pay', 'treasurer', 'credit', 'consumer', 'finance', 'fund', 'c4', 'individual', 'suspend', 'license', 'permit', 'residential', 'hold', 'license', 'calendar', 'year', 'fail', 'fulfill', 'education', 'requirement', 'calendar', 'year', 'license', 'number', 'issue', 'suspend', 'license', 'suspension', 'hear']\n",
      "52\n"
     ]
    }
   ],
   "source": [
    "sample_text = df.loc[4590,\"Text\"]\n",
    "print(clean_text(sample_text))\n",
    "print(len(clean_text(sample_text)))"
   ]
  },
  {
   "cell_type": "code",
   "execution_count": 33,
   "metadata": {},
   "outputs": [
    {
     "data": {
      "text/plain": [
       "\" WHEREAS, the Ohio Department of Commerce, by and through the Superintendent of the Division of Financial Institutions (Division), is charged with the responsibility of administering and enforcing the Ohio Mortgage Broker Act, codified in Ohio Revised Code (R.C.) Chapter 1322. In accordance therewith, the Division is accountable for the licensing of individuals as residential mortgage loan officers; and WHEREAS, DeLise S. Simmons (Respondent) holds a loan officer license number 002825 issued by the Division. Her address of record is 914 Lincoln Avenue, Apt. 2, Toledo, Ohio 43607, and her date of birth is April 1, 1970. Respondent's employer of record is MJM Development, Inc. d/b/a American Eagle Funding, 3962-A Brown Park Road, Hilliard, Ohio 43026; and WHEREAS, R.C. 1322.10 (F)(2) requires the Division to suspend, without a prior hearing, the license of a licensee who failed to fulfill the continuing education requirements of R.C. 1322.052 until such time as the required continuing education is completed and a fine of five hundred dollars ($500.00) is paid to the treasurer of state to the credit of the consumer finance fund; pursuant to Ohio Administrative Code section 1301:8-7-08 (C)(4), an individual with a suspended license is not permitted to originate residential mortgage loans; and WHEREAS, Respondent held a loan officer license during the 2006 calendar year and failed to fulfill the continuing education requirements of R.C. 1322.052 for calendar year 2006; and Pursuant to R.C. 1322.10 (F)(2), loan officer license number 002825 issued to Respondent is hereby SUSPENDED. It is so ordered. DeLise S. Simmons License Suspension Order & Notice of Hearing Page 2 of 2 \""
      ]
     },
     "execution_count": 33,
     "metadata": {},
     "output_type": "execute_result"
    }
   ],
   "source": [
    "sample_text"
   ]
  },
  {
   "cell_type": "code",
   "execution_count": null,
   "metadata": {
    "scrolled": true
   },
   "outputs": [
    {
     "name": "stderr",
     "output_type": "stream",
     "text": [
      "C:\\Users\\chave\\anaconda3\\envs\\topicmodelling\\lib\\site-packages\\ipykernel_launcher.py:3: TqdmDeprecationWarning: This function will be removed in tqdm==5.0.0\n",
      "Please use `tqdm.notebook.tqdm` instead of `tqdm.tqdm_notebook`\n",
      "  This is separate from the ipykernel package so we can avoid doing imports until\n"
     ]
    },
    {
     "data": {
      "application/vnd.jupyter.widget-view+json": {
       "model_id": "dc584f3f101a48f98a3710132c2928d4",
       "version_major": 2,
       "version_minor": 0
      },
      "text/plain": [
       "  0%|          | 0/6918 [00:00<?, ?it/s]"
      ]
     },
     "metadata": {},
     "output_type": "display_data"
    }
   ],
   "source": [
    "text = df[\"Text\"]\n",
    "text_list = []\n",
    "for doc in tqdm(text):\n",
    "    if not pd.isna(doc):\n",
    "        pr = clean_text(doc)\n",
    "        text_list.append(pr)"
   ]
  },
  {
   "cell_type": "code",
   "execution_count": null,
   "metadata": {},
   "outputs": [],
   "source": [
    "# Store word_list in txt file for easier reference\n",
    "\n",
    "with open('ohio_text_list.txt','w') as file:\n",
    "    file.writelines(\"%s\\n\" % text for text in text_list)"
   ]
  },
  {
   "cell_type": "code",
   "execution_count": null,
   "metadata": {},
   "outputs": [],
   "source": [
    "sample_list = []\n",
    "with open('ohio_text_list.txt','r') as file:\n",
    "    file_contents = file.readlines()\n",
    "    for line in file_contents:\n",
    "        current_text = line[:-1]\n",
    "        sample_list.append(current_text)"
   ]
  },
  {
   "cell_type": "code",
   "execution_count": 20,
   "metadata": {},
   "outputs": [],
   "source": [
    "len(sample_list)\n",
    "text_list = sample_list"
   ]
  },
  {
   "cell_type": "code",
   "execution_count": null,
   "metadata": {
    "scrolled": true
   },
   "outputs": [],
   "source": [
    "# Build the bigram and trigram models\n",
    "bigram = gensim.models.Phrases(text_list, min_count=5, threshold=30) # higher threshold fewer phrases.\n",
    "trigram = gensim.models.Phrases(bigram[text_list], threshold=30) \n",
    "# Faster way to get a sentence clubbed as a trigram/bigram\n",
    "bigram_mod = gensim.models.phrases.Phraser(bigram)\n",
    "\n",
    "trigram_mod = gensim.models.phrases.Phraser(trigram)\n",
    "# See trigram example\n",
    "\n",
    "print(trigram_mod[bigram_mod[text_list[1]]])"
   ]
  },
  {
   "cell_type": "code",
   "execution_count": null,
   "metadata": {},
   "outputs": [],
   "source": [
    "grammed_list = [trigram_mod[bigram_mod[doc]]for doc in text_list]"
   ]
  },
  {
   "cell_type": "code",
   "execution_count": 22,
   "metadata": {},
   "outputs": [
    {
     "name": "stderr",
     "output_type": "stream",
     "text": [
      "/opt/anaconda3/envs/APL2021_DataPlus/lib/python3.9/site-packages/ipykernel/ipkernel.py:287: DeprecationWarning: `should_run_async` will not call `transform_cell` automatically in the future. Please pass the result to `transformed_cell` argument and any exception that happen during thetransform in `preprocessing_exc_tuple` in IPython 7.17 and above.\n",
      "  and should_run_async(code)\n"
     ]
    }
   ],
   "source": [
    "# RUN NEXT \n",
    "#Creates, which is a mapping of word IDs to words.\n",
    "words = corpora.Dictionary(text_list)\n",
    "\n",
    "# Turns each document into a bag of words.\n",
    "corpus = [words.doc2bow(doc) for doc in text_list]"
   ]
  },
  {
   "cell_type": "code",
   "execution_count": null,
   "metadata": {},
   "outputs": [],
   "source": [
    "# Creates, which is a mapping of word IDs to words.\n",
    "grammed_words = corpora.Dictionary(grammed_list)\n",
    "\n",
    "# Turns each document into a bag of words.\n",
    "grammed_corpus = [words.doc2bow(doc) for doc in grammed_list]"
   ]
  },
  {
   "cell_type": "code",
   "execution_count": 21,
   "metadata": {},
   "outputs": [],
   "source": [
    "def compute_coherence_values(dictionary, corpus, texts, limit, start=2, step=3):\n",
    "    \"\"\"\n",
    "    Compute c_v coherence for various number of topics\n",
    "\n",
    "    Parameters:\n",
    "    ----------\n",
    "    dictionary : Gensim dictionary\n",
    "    corpus : Gensim corpus\n",
    "    texts : List of input texts\n",
    "    limit : Max num of topics\n",
    "\n",
    "    Returns:\n",
    "    -------\n",
    "    model_list : List of LDA topic models\n",
    "    coherence_values : Coherence values corresponding to the LDA model with respective number of topics\n",
    "    \"\"\"\n",
    "    coherence_values = []\n",
    "    model_list = []\n",
    "    for num_topics in range(start, limit, step):\n",
    "        model = gensim.models.ldamodel.LdaModel(corpus=corpus, num_topics=num_topics, id2word=words, random_state = 12)\n",
    "        model_list.append(model)\n",
    "        coherencemodel = CoherenceModel(model=model, texts=texts, dictionary=dictionary, coherence='c_v')\n",
    "        coherence_values.append(coherencemodel.get_coherence())\n",
    "\n",
    "    return model_list, coherence_values"
   ]
  },
  {
   "cell_type": "code",
   "execution_count": null,
   "metadata": {},
   "outputs": [],
   "source": [
    "model = gensim.models.ldamodel.LdaModel(corpus=corpus, num_topics=19, id2word=words, random_state = 12)"
   ]
  },
  {
   "cell_type": "code",
   "execution_count": null,
   "metadata": {
    "scrolled": true
   },
   "outputs": [],
   "source": [
    "# Can take a long time to run.\n",
    "model_list, coherence_values = compute_coherence_values(dictionary=words, corpus=corpus, texts=text_list, start=10, limit=15, step=1)"
   ]
  },
  {
   "cell_type": "code",
   "execution_count": null,
   "metadata": {
    "scrolled": false
   },
   "outputs": [],
   "source": [
    "# Can take a long time to run.\n",
    "grammed_model_list, grammed_coherence_values = compute_coherence_values(dictionary=grammed_words, corpus=grammed_corpus, texts=grammed_list, start=18, limit=25, step=1)"
   ]
  },
  {
   "cell_type": "code",
   "execution_count": 17,
   "metadata": {
    "scrolled": false
   },
   "outputs": [
    {
     "name": "stderr",
     "output_type": "stream",
     "text": [
      "/opt/anaconda3/envs/APL2021_DataPlus/lib/python3.9/site-packages/ipykernel/ipkernel.py:287: DeprecationWarning: `should_run_async` will not call `transform_cell` automatically in the future. Please pass the result to `transformed_cell` argument and any exception that happen during thetransform in `preprocessing_exc_tuple` in IPython 7.17 and above.\n",
      "  and should_run_async(code)\n"
     ]
    }
   ],
   "source": [
    "import tomotopy as tp\n",
    "import numpy as np\n",
    "\n",
    "term_weight = tp.TermWeight.ONE\n",
    "hdp = tp.HDPModel(tw = term_weight, min_cf =5, rm_top = 7, gamma = 1, alpha = 0.1,initial_k = 10, seed = 12)"
   ]
  },
  {
   "cell_type": "code",
   "execution_count": null,
   "metadata": {},
   "outputs": [],
   "source": [
    "sum = 0\n",
    "for text in text_list:\n",
    "    if len(text) > 0:\n",
    "        hdp.add_doc(text)\n",
    "print(sum)\n",
    "# Initiate sampling burn-in  (i.e. discard N first iterations)\n",
    "hdp.burn_in = 100\n",
    "hdp.train(0)\n",
    "print('Num docs:', len(hdp.docs), ', Vocab size:', hdp.num_vocabs,\n",
    "      ', Num words:', hdp.num_words)\n",
    "print('Removed top words:', hdp.removed_top_words)\n",
    "\n",
    "# Train model\n",
    "for i in range(0, 1000, 100):\n",
    "    hdp.train(100) # 100 iterations at a time\n",
    "    print('Iteration: {}\\tLog-likelihood: {}\\tNum. of topics: {}'.format(i, hdp.ll_per_word, hdp.live_k))"
   ]
  },
  {
   "cell_type": "code",
   "execution_count": null,
   "metadata": {},
   "outputs": [],
   "source": [
    "model = model_list[5].save(\"lda2.model\")\n",
    "model2= gensim.models.ldamodel.LdaModel.load(\"lda2.model\")"
   ]
  },
  {
   "cell_type": "markdown",
   "metadata": {},
   "source": [
    "Start of Code that Needs to be Run"
   ]
  },
  {
   "cell_type": "code",
   "execution_count": 22,
   "metadata": {},
   "outputs": [],
   "source": [
    "# RUN THIS LINE TO SELECT THE MODEL\n",
    "\n",
    "model_selected = gensim.models.ldamodel.LdaModel.load(\"lda1.model\")\n",
    "\n"
   ]
  },
  {
   "cell_type": "code",
   "execution_count": null,
   "metadata": {},
   "outputs": [],
   "source": [
    "term_weight = tp.TermWeight.ONE\n",
    "hdp_gram = tp.HDPModel(tw = term_weight, min_cf =5, rm_top = 7, gamma = 1, alpha = 0.1,initial_k = 10, seed = 12)"
   ]
  },
  {
   "cell_type": "code",
   "execution_count": null,
   "metadata": {},
   "outputs": [],
   "source": [
    "sum = 0\n",
    "for text in grammed_list:\n",
    "    if len(text) > 0:\n",
    "        hdp_gram.add_doc(text)\n",
    "print(sum)\n",
    "# Initiate sampling burn-in  (i.e. discard N first iterations)\n",
    "hdp_gram.burn_in = 100\n",
    "hdp_gram.train(0)\n",
    "print('Num docs:', len(hdp_gram.docs), ', Vocab size:', hdp_gram.num_vocabs,\n",
    "      ', Num words:', hdp_gram.num_words)\n",
    "print('Removed top words:', hdp_gram.removed_top_words)\n",
    "\n",
    "# Train model\n",
    "for i in range(0, 1000, 100):\n",
    "    hdp_gram.train(100) # 100 iterations at a time\n",
    "    print('Iteration: {}\\tLog-likelihood: {}\\tNum. of topics: {}'.format(i, hdp_gram.ll_per_word, hdp_gram.live_k))"
   ]
  },
  {
   "cell_type": "code",
   "execution_count": null,
   "metadata": {},
   "outputs": [],
   "source": [
    "# Show graph\n",
    "limit=28; start=20; step=1;\n",
    "x = range(start, limit, step)\n",
    "plt.plot(x, coherence_values)\n",
    "plt.xlabel(\"Num Topics\")\n",
    "plt.ylabel(\"Coherence score\")\n",
    "plt.legend((\"coherence_values\"), loc='best')\n",
    "plt.show()"
   ]
  },
  {
   "cell_type": "code",
   "execution_count": null,
   "metadata": {
    "scrolled": true
   },
   "outputs": [],
   "source": [
    "# Print the coherence scores\n",
    "for m, cv in zip(x, coherence_values):\n",
    "    print(\"Num Topics =\", m, \" has Coherence Value of\", round(cv, 4))"
   ]
  },
  {
   "cell_type": "code",
   "execution_count": null,
   "metadata": {},
   "outputs": [],
   "source": []
  },
  {
   "cell_type": "code",
   "execution_count": 23,
   "metadata": {
    "scrolled": false
   },
   "outputs": [
    {
     "name": "stderr",
     "output_type": "stream",
     "text": [
      "C:\\Users\\chave\\anaconda3\\envs\\topicmodelling\\lib\\site-packages\\pyLDAvis\\_prepare.py:187: DeprecationWarning: The default dtype for empty Series will be 'object' instead of 'float64' in a future version. Specify a dtype explicitly to silence this warning.\n",
      "  return pd.Series(data, name=name)\n"
     ]
    },
    {
     "ename": "ValidationError",
     "evalue": "\n * Not all rows (distributions) in topic_term_dists sum to 1.",
     "output_type": "error",
     "traceback": [
      "\u001b[1;31m---------------------------------------------------------------------------\u001b[0m",
      "\u001b[1;31mValidationError\u001b[0m                           Traceback (most recent call last)",
      "\u001b[1;32m~\\AppData\\Local\\Temp/ipykernel_35720/527397165.py\u001b[0m in \u001b[0;36m<module>\u001b[1;34m\u001b[0m\n\u001b[0;32m      6\u001b[0m \u001b[1;33m\u001b[0m\u001b[0m\n\u001b[0;32m      7\u001b[0m \u001b[1;31m# feed the LDA model into the pyLDAvis instance\u001b[0m\u001b[1;33m\u001b[0m\u001b[1;33m\u001b[0m\u001b[1;33m\u001b[0m\u001b[0m\n\u001b[1;32m----> 8\u001b[1;33m \u001b[0mgensimvis\u001b[0m\u001b[1;33m.\u001b[0m\u001b[0mprepare\u001b[0m\u001b[1;33m(\u001b[0m\u001b[0mmodel_selected\u001b[0m\u001b[1;33m,\u001b[0m \u001b[0mcorpus\u001b[0m\u001b[1;33m,\u001b[0m \u001b[0mwords\u001b[0m\u001b[1;33m)\u001b[0m\u001b[1;33m\u001b[0m\u001b[1;33m\u001b[0m\u001b[0m\n\u001b[0m",
      "\u001b[1;32m~\\anaconda3\\envs\\topicmodelling\\lib\\site-packages\\pyLDAvis\\gensim_models.py\u001b[0m in \u001b[0;36mprepare\u001b[1;34m(topic_model, corpus, dictionary, doc_topic_dist, **kwargs)\u001b[0m\n\u001b[0;32m    121\u001b[0m     \"\"\"\n\u001b[0;32m    122\u001b[0m     \u001b[0mopts\u001b[0m \u001b[1;33m=\u001b[0m \u001b[0mfp\u001b[0m\u001b[1;33m.\u001b[0m\u001b[0mmerge\u001b[0m\u001b[1;33m(\u001b[0m\u001b[0m_extract_data\u001b[0m\u001b[1;33m(\u001b[0m\u001b[0mtopic_model\u001b[0m\u001b[1;33m,\u001b[0m \u001b[0mcorpus\u001b[0m\u001b[1;33m,\u001b[0m \u001b[0mdictionary\u001b[0m\u001b[1;33m,\u001b[0m \u001b[0mdoc_topic_dist\u001b[0m\u001b[1;33m)\u001b[0m\u001b[1;33m,\u001b[0m \u001b[0mkwargs\u001b[0m\u001b[1;33m)\u001b[0m\u001b[1;33m\u001b[0m\u001b[1;33m\u001b[0m\u001b[0m\n\u001b[1;32m--> 123\u001b[1;33m     \u001b[1;32mreturn\u001b[0m \u001b[0mpyLDAvis\u001b[0m\u001b[1;33m.\u001b[0m\u001b[0mprepare\u001b[0m\u001b[1;33m(\u001b[0m\u001b[1;33m**\u001b[0m\u001b[0mopts\u001b[0m\u001b[1;33m)\u001b[0m\u001b[1;33m\u001b[0m\u001b[1;33m\u001b[0m\u001b[0m\n\u001b[0m",
      "\u001b[1;32m~\\anaconda3\\envs\\topicmodelling\\lib\\site-packages\\pyLDAvis\\_prepare.py\u001b[0m in \u001b[0;36mprepare\u001b[1;34m(topic_term_dists, doc_topic_dists, doc_lengths, vocab, term_frequency, R, lambda_step, mds, n_jobs, plot_opts, sort_topics, start_index)\u001b[0m\n\u001b[0;32m    413\u001b[0m     \u001b[0mdoc_lengths\u001b[0m \u001b[1;33m=\u001b[0m \u001b[0m_series_with_name\u001b[0m\u001b[1;33m(\u001b[0m\u001b[0mdoc_lengths\u001b[0m\u001b[1;33m,\u001b[0m \u001b[1;34m'doc_length'\u001b[0m\u001b[1;33m)\u001b[0m\u001b[1;33m\u001b[0m\u001b[1;33m\u001b[0m\u001b[0m\n\u001b[0;32m    414\u001b[0m     \u001b[0mvocab\u001b[0m \u001b[1;33m=\u001b[0m \u001b[0m_series_with_name\u001b[0m\u001b[1;33m(\u001b[0m\u001b[0mvocab\u001b[0m\u001b[1;33m,\u001b[0m \u001b[1;34m'vocab'\u001b[0m\u001b[1;33m)\u001b[0m\u001b[1;33m\u001b[0m\u001b[1;33m\u001b[0m\u001b[0m\n\u001b[1;32m--> 415\u001b[1;33m     \u001b[0m_input_validate\u001b[0m\u001b[1;33m(\u001b[0m\u001b[0mtopic_term_dists\u001b[0m\u001b[1;33m,\u001b[0m \u001b[0mdoc_topic_dists\u001b[0m\u001b[1;33m,\u001b[0m \u001b[0mdoc_lengths\u001b[0m\u001b[1;33m,\u001b[0m \u001b[0mvocab\u001b[0m\u001b[1;33m,\u001b[0m \u001b[0mterm_frequency\u001b[0m\u001b[1;33m)\u001b[0m\u001b[1;33m\u001b[0m\u001b[1;33m\u001b[0m\u001b[0m\n\u001b[0m\u001b[0;32m    416\u001b[0m     \u001b[0mR\u001b[0m \u001b[1;33m=\u001b[0m \u001b[0mmin\u001b[0m\u001b[1;33m(\u001b[0m\u001b[0mR\u001b[0m\u001b[1;33m,\u001b[0m \u001b[0mlen\u001b[0m\u001b[1;33m(\u001b[0m\u001b[0mvocab\u001b[0m\u001b[1;33m)\u001b[0m\u001b[1;33m)\u001b[0m\u001b[1;33m\u001b[0m\u001b[1;33m\u001b[0m\u001b[0m\n\u001b[0;32m    417\u001b[0m \u001b[1;33m\u001b[0m\u001b[0m\n",
      "\u001b[1;32m~\\anaconda3\\envs\\topicmodelling\\lib\\site-packages\\pyLDAvis\\_prepare.py\u001b[0m in \u001b[0;36m_input_validate\u001b[1;34m(*args)\u001b[0m\n\u001b[0;32m     72\u001b[0m     \u001b[0mres\u001b[0m \u001b[1;33m=\u001b[0m \u001b[0m_input_check\u001b[0m\u001b[1;33m(\u001b[0m\u001b[1;33m*\u001b[0m\u001b[0margs\u001b[0m\u001b[1;33m)\u001b[0m\u001b[1;33m\u001b[0m\u001b[1;33m\u001b[0m\u001b[0m\n\u001b[0;32m     73\u001b[0m     \u001b[1;32mif\u001b[0m \u001b[0mres\u001b[0m\u001b[1;33m:\u001b[0m\u001b[1;33m\u001b[0m\u001b[1;33m\u001b[0m\u001b[0m\n\u001b[1;32m---> 74\u001b[1;33m         \u001b[1;32mraise\u001b[0m \u001b[0mValidationError\u001b[0m\u001b[1;33m(\u001b[0m\u001b[1;34m'\\n'\u001b[0m \u001b[1;33m+\u001b[0m \u001b[1;34m'\\n'\u001b[0m\u001b[1;33m.\u001b[0m\u001b[0mjoin\u001b[0m\u001b[1;33m(\u001b[0m\u001b[1;33m[\u001b[0m\u001b[1;34m' * '\u001b[0m \u001b[1;33m+\u001b[0m \u001b[0ms\u001b[0m \u001b[1;32mfor\u001b[0m \u001b[0ms\u001b[0m \u001b[1;32min\u001b[0m \u001b[0mres\u001b[0m\u001b[1;33m]\u001b[0m\u001b[1;33m)\u001b[0m\u001b[1;33m)\u001b[0m\u001b[1;33m\u001b[0m\u001b[1;33m\u001b[0m\u001b[0m\n\u001b[0m\u001b[0;32m     75\u001b[0m \u001b[1;33m\u001b[0m\u001b[0m\n\u001b[0;32m     76\u001b[0m \u001b[1;33m\u001b[0m\u001b[0m\n",
      "\u001b[1;31mValidationError\u001b[0m: \n * Not all rows (distributions) in topic_term_dists sum to 1."
     ]
    }
   ],
   "source": [
    "# EVERYTHING AFTER THIS CAN BE RUN TO VISUALIZE STUFF AND SEE CATEGORIES\n",
    "\n",
    "import pyLDAvis\n",
    "import pyLDAvis.gensim_models as gensimvis\n",
    "pyLDAvis.enable_notebook()\n",
    "\n",
    "# feed the LDA model into the pyLDAvis instance\n",
    "gensimvis.prepare(model_selected, corpus, words)"
   ]
  },
  {
   "cell_type": "code",
   "execution_count": 24,
   "metadata": {},
   "outputs": [
    {
     "name": "stderr",
     "output_type": "stream",
     "text": [
      "/opt/anaconda3/envs/APL2021_DataPlus/lib/python3.9/site-packages/ipykernel/ipkernel.py:287: DeprecationWarning: `should_run_async` will not call `transform_cell` automatically in the future. Please pass the result to `transformed_cell` argument and any exception that happen during thetransform in `preprocessing_exc_tuple` in IPython 7.17 and above.\n",
      "  and should_run_async(code)\n"
     ]
    }
   ],
   "source": [
    "pd.set_option('display.width', None)\n",
    "pd.set_option('display.max_colwidth', None)"
   ]
  },
  {
   "cell_type": "code",
   "execution_count": 25,
   "metadata": {
    "scrolled": false
   },
   "outputs": [
    {
     "name": "stderr",
     "output_type": "stream",
     "text": [
      "/opt/anaconda3/envs/APL2021_DataPlus/lib/python3.9/site-packages/ipykernel/ipkernel.py:287: DeprecationWarning: `should_run_async` will not call `transform_cell` automatically in the future. Please pass the result to `transformed_cell` argument and any exception that happen during thetransform in `preprocessing_exc_tuple` in IPython 7.17 and above.\n",
      "  and should_run_async(code)\n"
     ]
    },
    {
     "data": {
      "text/plain": [
       "{15.0: 1,\n",
       " 11.0: 2,\n",
       " 2.0: 3,\n",
       " 8.0: 4,\n",
       " 4.0: 5,\n",
       " 6.0: 6,\n",
       " 16.0: 7,\n",
       " 17.0: 8,\n",
       " 7.0: 9,\n",
       " 10.0: 10,\n",
       " 14.0: 11,\n",
       " 9.0: 12,\n",
       " 0.0: 13,\n",
       " 13.0: 14,\n",
       " 3.0: 15,\n",
       " 18.0: 16,\n",
       " 19.0: 17,\n",
       " 5.0: 18,\n",
       " 1.0: 19}"
      ]
     },
     "execution_count": 25,
     "metadata": {},
     "output_type": "execute_result"
    }
   ],
   "source": [
    "def format_topics_sentences(ldamodel=model_selected, corpus=corpus, texts=text_list):\n",
    "    # Init output\n",
    "    sent_topics_df = pd.DataFrame()\n",
    "\n",
    "    # Get main topic in each document\n",
    "    for i, row in enumerate(ldamodel[corpus]):\n",
    "        row = sorted(row, key=lambda x: (x[1]), reverse=True)\n",
    "        # Get the Dominant topic, Perc Contribution and Keywords for each document\n",
    "        for j, (topic_num, prop_topic) in enumerate(row):\n",
    "            if j == 0:  # => dominant topic\n",
    "                wp = ldamodel.show_topic(topic_num)\n",
    "                topic_keywords = \", \".join([word for word, prop in wp])\n",
    "                sent_topics_df = sent_topics_df.append(pd.Series([int(topic_num), round(prop_topic,4), topic_keywords]), ignore_index=True)\n",
    "            else:\n",
    "                break\n",
    "    sent_topics_df.columns = ['Dominant_Topic', 'Perc_Contribution', 'Topic_Keywords']\n",
    "\n",
    "    # Add original text to the end of the output\n",
    "    contents = pd.Series(texts)\n",
    "    sent_topics_df = pd.concat([sent_topics_df, contents], axis=1)\n",
    "    return(sent_topics_df)\n",
    "\n",
    "\n",
    "df_topic_sents_keywords = format_topics_sentences(ldamodel=model_selected, corpus=corpus, texts=text_list)\n",
    "# Number of Documents for Each Topic\n",
    "topic_counts = df_topic_sents_keywords['Dominant_Topic'].value_counts()\n",
    "topic_counts.head()\n",
    "# Percentage of Documents for Each Topic\n",
    "topic_contribution = round(topic_counts/topic_counts.sum(), 4)\n",
    "\n",
    "# Topic Number and Keywords\n",
    "topic_num_keywords = df_topic_sents_keywords[['Dominant_Topic', 'Topic_Keywords']]\n",
    "\n",
    "# Concatenate Column wise\n",
    "df_dominant_topics = pd.concat([topic_counts, topic_contribution], axis=1)\n",
    "\n",
    "# Change Column names\n",
    "df_dominant_topics.columns = ['Num_Documents', 'Perc_Documents']\n",
    "\n",
    "# Show\n",
    "df_dominant_topics\n",
    "\n",
    "df_dominant_topics.sort_values(by = [\"Num_Documents\"],ascending = False, inplace = True)\n",
    "df_dominant_topics[\"Old Index\"] = df_dominant_topics.index \n",
    "df_dominant_topics.reset_index(inplace = True)\n",
    "mapping = df_dominant_topics[[\"Old Index\"]].to_dict()['Old Index']\n",
    "mapping = {value : key+1 for (key, value) in mapping.items()}\n",
    "mapping"
   ]
  },
  {
   "cell_type": "code",
   "execution_count": 26,
   "metadata": {
    "scrolled": true
   },
   "outputs": [
    {
     "name": "stderr",
     "output_type": "stream",
     "text": [
      "/opt/anaconda3/envs/APL2021_DataPlus/lib/python3.9/site-packages/ipykernel/ipkernel.py:287: DeprecationWarning: `should_run_async` will not call `transform_cell` automatically in the future. Please pass the result to `transformed_cell` argument and any exception that happen during thetransform in `preprocessing_exc_tuple` in IPython 7.17 and above.\n",
      "  and should_run_async(code)\n"
     ]
    }
   ],
   "source": [
    "df_topic_sents_keywords[\"Dominant_Topic\"] = df_topic_sents_keywords[\"Dominant_Topic\"].apply(lambda x: mapping[x])"
   ]
  },
  {
   "cell_type": "code",
   "execution_count": 27,
   "metadata": {},
   "outputs": [
    {
     "name": "stderr",
     "output_type": "stream",
     "text": [
      "/opt/anaconda3/envs/APL2021_DataPlus/lib/python3.9/site-packages/ipykernel/ipkernel.py:287: DeprecationWarning: `should_run_async` will not call `transform_cell` automatically in the future. Please pass the result to `transformed_cell` argument and any exception that happen during thetransform in `preprocessing_exc_tuple` in IPython 7.17 and above.\n",
      "  and should_run_async(code)\n"
     ]
    },
    {
     "data": {
      "text/html": [
       "<div>\n",
       "<style scoped>\n",
       "    .dataframe tbody tr th:only-of-type {\n",
       "        vertical-align: middle;\n",
       "    }\n",
       "\n",
       "    .dataframe tbody tr th {\n",
       "        vertical-align: top;\n",
       "    }\n",
       "\n",
       "    .dataframe thead th {\n",
       "        text-align: right;\n",
       "    }\n",
       "</style>\n",
       "<table border=\"1\" class=\"dataframe\">\n",
       "  <thead>\n",
       "    <tr style=\"text-align: right;\">\n",
       "      <th></th>\n",
       "      <th>Document_No</th>\n",
       "      <th>Dominant_Topic</th>\n",
       "      <th>Topic_Perc_Contrib</th>\n",
       "      <th>Keywords</th>\n",
       "      <th>Text</th>\n",
       "    </tr>\n",
       "  </thead>\n",
       "  <tbody>\n",
       "    <tr>\n",
       "      <th>0</th>\n",
       "      <td>0</td>\n",
       "      <td>18</td>\n",
       "      <td>0.8879</td>\n",
       "      <td>consumer, disclosure, document, violation, taxis, relate, statement, cause, letter, borrower</td>\n",
       "      <td>[conduct, affair, incorporator, statutory, agent, president, joint, action, cause, customer, proceed, excess, disburse, mean, fictitious, creditor, customer, relate, document, joint, action, cause, customer, proceed, excess, intend, customer, legitimate, creditor, customer, convert, knowledge, improper, fraudulent, dishonest, fail, implement, review, control, measure, design, prevent, future, improper, fraudulent, dishonest, joint, action, fail, disclose, fee, violation, federal, real, estate, joint, action, receive, customer, proceed, disbursement, fictitious, creditor, disbursement, receipt, unearned, fee, thing, value, violation, federal, real, estate, joint, action, devise, intend, devise, scheme, artifice, defraud, obtain, money, mean, false, fraudulent, pretense, representation, transmit, cause, transmit, writing, form, federal, real, estate, document, relate, document, mean, ...]</td>\n",
       "    </tr>\n",
       "    <tr>\n",
       "      <th>1</th>\n",
       "      <td>1</td>\n",
       "      <td>9</td>\n",
       "      <td>0.5799</td>\n",
       "      <td>bond, testimony, license, surety, company, hold, letter, submit, issue, question</td>\n",
       "      <td>[abovecaptione, license, commence, office, south, high, floor, hold, close, day, hold, funding, crew, revoke, inter, alia, base, engage, improper, fraudulent, dishonest, activity, appear, represent, general, general, appear, represent, issue, deny, refer, 01mb11, service, perfect, timely, schedule, requirement, orc, original, counsel, new, counsel, forward, posthearing, ruling, offer, remain, 3h, letter, apparently, sign, crew, letterhead, letter, white, testimony, testimony, letter, examination, additional, testimony, include, testimony, opposition, offer, leave, determine, admit, use, weight, document, 3h, appear, belong, witness, appear, similarity, likely, obtain, document, simply, filing, error, introduce, reason, include, demonstrate, activity, involve, client, letter, accessible, review, argument, propose, limit, review, issue, introduce, identify, ...]</td>\n",
       "    </tr>\n",
       "    <tr>\n",
       "      <th>2</th>\n",
       "      <td>2</td>\n",
       "      <td>13</td>\n",
       "      <td>0.3784</td>\n",
       "      <td>cease, license, residential, issue, conduct, uniform, require, summary, document, cancellation</td>\n",
       "      <td>[public, public, interest, send, certify, revoke, hear, crew, funding, hold, daysjuly, issue, determine, crew, funding, violate, list, fictitious, creditor, false, information, document, convert, borrower, creditor, money, cause, customer, sign, blank, document, excess, fee, interfere, crew, funding, recommend, revoke, objection, carefully, objection, thereto, reject, objection, confirm, approve, issue, crew, funding, revoke]</td>\n",
       "    </tr>\n",
       "    <tr>\n",
       "      <th>3</th>\n",
       "      <td>3</td>\n",
       "      <td>9</td>\n",
       "      <td>0.3644</td>\n",
       "      <td>bond, testimony, license, surety, company, hold, letter, submit, issue, question</td>\n",
       "      <td>[send, services, corporation, certify, deny, receive, inform, intention, issue, deny, base, determination, fail, information, conclude, meet, education, experience, requirement, response, expire, recently, contact, secretary, vice, president, inform, long, operate, receive, fax, issue, withdraw, intention, issue, deny, moot, accordingly, services, corporation, termination, hear]</td>\n",
       "    </tr>\n",
       "    <tr>\n",
       "      <th>4</th>\n",
       "      <td>4</td>\n",
       "      <td>3</td>\n",
       "      <td>0.5012</td>\n",
       "      <td>license, issue, renewal, fail, deny, day, public, inform, conduct, refuse</td>\n",
       "      <td>[public, lending, interest, public, specialists, corporation, renew, period, certify, revoke, entitle, adjudicative, day, day, issue, revoke, specialists, specialists, fail, fail, defend, violate, substantial, misrepresentation, renewal, obtain, false, fraudulent, representation, contain, true, revoke]</td>\n",
       "    </tr>\n",
       "    <tr>\n",
       "      <th>...</th>\n",
       "      <td>...</td>\n",
       "      <td>...</td>\n",
       "      <td>...</td>\n",
       "      <td>...</td>\n",
       "      <td>...</td>\n",
       "    </tr>\n",
       "    <tr>\n",
       "      <th>6302</th>\n",
       "      <td>6302</td>\n",
       "      <td>4</td>\n",
       "      <td>0.5931</td>\n",
       "      <td>violation, omba, license, requirement, hour, complete, comply, year, calendar, fail</td>\n",
       "      <td>[enter, refuse, renew, second, lender, default, payment, annual, fee, prescribe, community, require, submit, renewal, annual, fee, community, submit, renewal, remain, pende, community, timely, submit, renewal, authority, refuse, renew, community, omla, enter, deny, community, renewal, untimely, filing, base, violation, noncompliance, omla, effective, forego, mutual, promise, set, forth, disciplinary, community, knowingly, voluntarily, term, limitation, community, properly, fully, comply, execute, approve, community, omla, renewal, remain, deficiency, respect, penalty, violation, describe, community, pay, fine, payment, form, cashier, check, money, payable, treasurer, submit, community, discover, community, false, fraudulent, misleading, information, regard, renewal, community, firmly, establish, community, general, fitness, command, public, confidence, community, public, term, use, ...]</td>\n",
       "    </tr>\n",
       "    <tr>\n",
       "      <th>6303</th>\n",
       "      <td>6303</td>\n",
       "      <td>13</td>\n",
       "      <td>0.2228</td>\n",
       "      <td>cease, license, residential, issue, conduct, uniform, require, summary, document, cancellation</td>\n",
       "      <td>[orchard, view, court, termination, summary, suspension, deny, renewal, issue, summary, suspension, deny, renewal, hear, summary, suspension, summary, suspension, unclaimed, room, 19th, floor, government, art, locate, high, hold, appear, requirement, establish, recommend, obtain, proper, service, concern, summary, suspension, issuance, summary, suspension, license, cancel, failure, renew, license, summary, suspension, moot, summary, suspension, supersede, replace, issue]</td>\n",
       "    </tr>\n",
       "    <tr>\n",
       "      <th>6304</th>\n",
       "      <td>6304</td>\n",
       "      <td>4</td>\n",
       "      <td>0.9813</td>\n",
       "      <td>violation, omba, license, requirement, hour, complete, comply, year, calendar, fail</td>\n",
       "      <td>[enter, refuse, renewal, license, individual, fail, fulfill, education, requirement, impose, fine, violation, require, complete, hour, approve, education, calendar, year, hold, license, calendar, year, d, admit, fail, complete, require, credit, hour, calendar, year, fail, comply, authority, refuse, renew, license, impose, fine, enter, refuse, renewal, license, impose, fine, admit, violation, noncompliance, base, violation, noncompliance, omba, effective, forego, mutual, promise, set, forth, disciplinary, knowingly, voluntarily, term, limitation, penalty, violation, describe, pay, fine, payment, form, cashier, check, money, payable, treasurer, submit, complete, hour, approve, calendar, year, requirement, submit, copy, attendance, issue, provider, designate, red, ink, face, copy, attendance, requirement, hour, credit, earn, requirement, credit, ...]</td>\n",
       "    </tr>\n",
       "    <tr>\n",
       "      <th>6305</th>\n",
       "      <td>6305</td>\n",
       "      <td>4</td>\n",
       "      <td>0.9828</td>\n",
       "      <td>violation, omba, license, requirement, hour, complete, comply, year, calendar, fail</td>\n",
       "      <td>[enter, issue, license, thing, character, general, fitness, command, confidence, public, warrant, belief, operate, honestly, fairly, compliance, omla, effect, require, complete, hour, approve, education, calendar, year, hold, omba, license, calendar, year, d, admit, fail, complete, require, credit, hour, omba, calendar, year, fail, comply, satisfy, requirement, licensure, set, enter, refuse, issue, license, admit, violation, noncompliance, base, violation, noncompliance, omba, omla, effective, forego, mutual, promise, set, forth, disciplinary, knowingly, voluntarily, term, limitation, penalty, violation, describe, pay, fine, payment, form, cashier, check, money, payable, treasurer, submit, complete, hour, approve, calendar, year, requirement, submit, copy, attendance, credit, hour, issue, provider, write, red, ink, face, copy, ...]</td>\n",
       "    </tr>\n",
       "    <tr>\n",
       "      <th>6306</th>\n",
       "      <td>6306</td>\n",
       "      <td>4</td>\n",
       "      <td>0.9831</td>\n",
       "      <td>violation, omba, license, requirement, hour, complete, comply, year, calendar, fail</td>\n",
       "      <td>[enter, issue, license, thing, character, general, fitness, command, confidence, public, warrant, belief, operate, honestly, fairly, compliance, omla, effect, require, complete, hour, approve, education, calendar, year, hold, omba, license, calendar, year, d, admit, fail, complete, require, credit, hour, omba, calendar, year, fail, comply, satisfy, requirement, licensure, set, enter, refuse, issue, license, admit, violation, noncompliance, base, violation, noncompliance, omba, omla, effective, forego, mutual, promise, set, forth, disciplinary, knowingly, voluntarily, term, limitation, penalty, violation, describe, pay, fine, payment, form, cashier, check, money, payable, treasurer, submit, complete, hour, approve, calendar, year, requirement, submit, copy, attendance, credit, hour, issue, provider, write, red, ink, face, copy, ...]</td>\n",
       "    </tr>\n",
       "  </tbody>\n",
       "</table>\n",
       "<p>6307 rows × 5 columns</p>\n",
       "</div>"
      ],
      "text/plain": [
       "      Document_No  Dominant_Topic  Topic_Perc_Contrib  \\\n",
       "0               0              18              0.8879   \n",
       "1               1               9              0.5799   \n",
       "2               2              13              0.3784   \n",
       "3               3               9              0.3644   \n",
       "4               4               3              0.5012   \n",
       "...           ...             ...                 ...   \n",
       "6302         6302               4              0.5931   \n",
       "6303         6303              13              0.2228   \n",
       "6304         6304               4              0.9813   \n",
       "6305         6305               4              0.9828   \n",
       "6306         6306               4              0.9831   \n",
       "\n",
       "                                                                                            Keywords  \\\n",
       "0       consumer, disclosure, document, violation, taxis, relate, statement, cause, letter, borrower   \n",
       "1                   bond, testimony, license, surety, company, hold, letter, submit, issue, question   \n",
       "2     cease, license, residential, issue, conduct, uniform, require, summary, document, cancellation   \n",
       "3                   bond, testimony, license, surety, company, hold, letter, submit, issue, question   \n",
       "4                          license, issue, renewal, fail, deny, day, public, inform, conduct, refuse   \n",
       "...                                                                                              ...   \n",
       "6302             violation, omba, license, requirement, hour, complete, comply, year, calendar, fail   \n",
       "6303  cease, license, residential, issue, conduct, uniform, require, summary, document, cancellation   \n",
       "6304             violation, omba, license, requirement, hour, complete, comply, year, calendar, fail   \n",
       "6305             violation, omba, license, requirement, hour, complete, comply, year, calendar, fail   \n",
       "6306             violation, omba, license, requirement, hour, complete, comply, year, calendar, fail   \n",
       "\n",
       "                                                                                                                                                                                                                                                                                                                                                                                                                                                                                                                                                                                                                                                                                                                                                                                                                                                                                                                                     Text  \n",
       "0     [conduct, affair, incorporator, statutory, agent, president, joint, action, cause, customer, proceed, excess, disburse, mean, fictitious, creditor, customer, relate, document, joint, action, cause, customer, proceed, excess, intend, customer, legitimate, creditor, customer, convert, knowledge, improper, fraudulent, dishonest, fail, implement, review, control, measure, design, prevent, future, improper, fraudulent, dishonest, joint, action, fail, disclose, fee, violation, federal, real, estate, joint, action, receive, customer, proceed, disbursement, fictitious, creditor, disbursement, receipt, unearned, fee, thing, value, violation, federal, real, estate, joint, action, devise, intend, devise, scheme, artifice, defraud, obtain, money, mean, false, fraudulent, pretense, representation, transmit, cause, transmit, writing, form, federal, real, estate, document, relate, document, mean, ...]  \n",
       "1                                [abovecaptione, license, commence, office, south, high, floor, hold, close, day, hold, funding, crew, revoke, inter, alia, base, engage, improper, fraudulent, dishonest, activity, appear, represent, general, general, appear, represent, issue, deny, refer, 01mb11, service, perfect, timely, schedule, requirement, orc, original, counsel, new, counsel, forward, posthearing, ruling, offer, remain, 3h, letter, apparently, sign, crew, letterhead, letter, white, testimony, testimony, letter, examination, additional, testimony, include, testimony, opposition, offer, leave, determine, admit, use, weight, document, 3h, appear, belong, witness, appear, similarity, likely, obtain, document, simply, filing, error, introduce, reason, include, demonstrate, activity, involve, client, letter, accessible, review, argument, propose, limit, review, issue, introduce, identify, ...]  \n",
       "2                                                                                                                                                                                                                                                                                                                                                                                                                                                                                           [public, public, interest, send, certify, revoke, hear, crew, funding, hold, daysjuly, issue, determine, crew, funding, violate, list, fictitious, creditor, false, information, document, convert, borrower, creditor, money, cause, customer, sign, blank, document, excess, fee, interfere, crew, funding, recommend, revoke, objection, carefully, objection, thereto, reject, objection, confirm, approve, issue, crew, funding, revoke]  \n",
       "3                                                                                                                                                                                                                                                                                                                                                                                                                                                                                                                                           [send, services, corporation, certify, deny, receive, inform, intention, issue, deny, base, determination, fail, information, conclude, meet, education, experience, requirement, response, expire, recently, contact, secretary, vice, president, inform, long, operate, receive, fax, issue, withdraw, intention, issue, deny, moot, accordingly, services, corporation, termination, hear]  \n",
       "4                                                                                                                                                                                                                                                                                                                                                                                                                                                                                                                                                                                                                         [public, lending, interest, public, specialists, corporation, renew, period, certify, revoke, entitle, adjudicative, day, day, issue, revoke, specialists, specialists, fail, fail, defend, violate, substantial, misrepresentation, renewal, obtain, false, fraudulent, representation, contain, true, revoke]  \n",
       "...                                                                                                                                                                                                                                                                                                                                                                                                                                                                                                                                                                                                                                                                                                                                                                                                                                                                                                                                   ...  \n",
       "6302  [enter, refuse, renew, second, lender, default, payment, annual, fee, prescribe, community, require, submit, renewal, annual, fee, community, submit, renewal, remain, pende, community, timely, submit, renewal, authority, refuse, renew, community, omla, enter, deny, community, renewal, untimely, filing, base, violation, noncompliance, omla, effective, forego, mutual, promise, set, forth, disciplinary, community, knowingly, voluntarily, term, limitation, community, properly, fully, comply, execute, approve, community, omla, renewal, remain, deficiency, respect, penalty, violation, describe, community, pay, fine, payment, form, cashier, check, money, payable, treasurer, submit, community, discover, community, false, fraudulent, misleading, information, regard, renewal, community, firmly, establish, community, general, fitness, command, public, confidence, community, public, term, use, ...]  \n",
       "6303                                                                                                                                                                                                                                                                                                                                                                                                                                          [orchard, view, court, termination, summary, suspension, deny, renewal, issue, summary, suspension, deny, renewal, hear, summary, suspension, summary, suspension, unclaimed, room, 19th, floor, government, art, locate, high, hold, appear, requirement, establish, recommend, obtain, proper, service, concern, summary, suspension, issuance, summary, suspension, license, cancel, failure, renew, license, summary, suspension, moot, summary, suspension, supersede, replace, issue]  \n",
       "6304                                          [enter, refuse, renewal, license, individual, fail, fulfill, education, requirement, impose, fine, violation, require, complete, hour, approve, education, calendar, year, hold, license, calendar, year, d, admit, fail, complete, require, credit, hour, calendar, year, fail, comply, authority, refuse, renew, license, impose, fine, enter, refuse, renewal, license, impose, fine, admit, violation, noncompliance, base, violation, noncompliance, omba, effective, forego, mutual, promise, set, forth, disciplinary, knowingly, voluntarily, term, limitation, penalty, violation, describe, pay, fine, payment, form, cashier, check, money, payable, treasurer, submit, complete, hour, approve, calendar, year, requirement, submit, copy, attendance, issue, provider, designate, red, ink, face, copy, attendance, requirement, hour, credit, earn, requirement, credit, ...]  \n",
       "6305                                                          [enter, issue, license, thing, character, general, fitness, command, confidence, public, warrant, belief, operate, honestly, fairly, compliance, omla, effect, require, complete, hour, approve, education, calendar, year, hold, omba, license, calendar, year, d, admit, fail, complete, require, credit, hour, omba, calendar, year, fail, comply, satisfy, requirement, licensure, set, enter, refuse, issue, license, admit, violation, noncompliance, base, violation, noncompliance, omba, omla, effective, forego, mutual, promise, set, forth, disciplinary, knowingly, voluntarily, term, limitation, penalty, violation, describe, pay, fine, payment, form, cashier, check, money, payable, treasurer, submit, complete, hour, approve, calendar, year, requirement, submit, copy, attendance, credit, hour, issue, provider, write, red, ink, face, copy, ...]  \n",
       "6306                                                          [enter, issue, license, thing, character, general, fitness, command, confidence, public, warrant, belief, operate, honestly, fairly, compliance, omla, effect, require, complete, hour, approve, education, calendar, year, hold, omba, license, calendar, year, d, admit, fail, complete, require, credit, hour, omba, calendar, year, fail, comply, satisfy, requirement, licensure, set, enter, refuse, issue, license, admit, violation, noncompliance, base, violation, noncompliance, omba, omla, effective, forego, mutual, promise, set, forth, disciplinary, knowingly, voluntarily, term, limitation, penalty, violation, describe, pay, fine, payment, form, cashier, check, money, payable, treasurer, submit, complete, hour, approve, calendar, year, requirement, submit, copy, attendance, credit, hour, issue, provider, write, red, ink, face, copy, ...]  \n",
       "\n",
       "[6307 rows x 5 columns]"
      ]
     },
     "execution_count": 27,
     "metadata": {},
     "output_type": "execute_result"
    }
   ],
   "source": [
    "# Format\n",
    "df_dominant_topic = df_topic_sents_keywords.reset_index()\n",
    "df_dominant_topic.columns = ['Document_No', 'Dominant_Topic', 'Topic_Perc_Contrib', 'Keywords', 'Text']\n",
    "\n",
    "# Show topics per text\n",
    "df_dominant_topic"
   ]
  },
  {
   "cell_type": "code",
   "execution_count": 28,
   "metadata": {},
   "outputs": [
    {
     "name": "stderr",
     "output_type": "stream",
     "text": [
      "/opt/anaconda3/envs/APL2021_DataPlus/lib/python3.9/site-packages/ipykernel/ipkernel.py:287: DeprecationWarning: `should_run_async` will not call `transform_cell` automatically in the future. Please pass the result to `transformed_cell` argument and any exception that happen during thetransform in `preprocessing_exc_tuple` in IPython 7.17 and above.\n",
      "  and should_run_async(code)\n"
     ]
    },
    {
     "data": {
      "text/html": [
       "<div>\n",
       "<style scoped>\n",
       "    .dataframe tbody tr th:only-of-type {\n",
       "        vertical-align: middle;\n",
       "    }\n",
       "\n",
       "    .dataframe tbody tr th {\n",
       "        vertical-align: top;\n",
       "    }\n",
       "\n",
       "    .dataframe thead th {\n",
       "        text-align: right;\n",
       "    }\n",
       "</style>\n",
       "<table border=\"1\" class=\"dataframe\">\n",
       "  <thead>\n",
       "    <tr style=\"text-align: right;\">\n",
       "      <th></th>\n",
       "      <th>Topic_Num</th>\n",
       "      <th>Topic_Perc_Contrib</th>\n",
       "      <th>Keywords</th>\n",
       "      <th>Text</th>\n",
       "    </tr>\n",
       "  </thead>\n",
       "  <tbody>\n",
       "    <tr>\n",
       "      <th>0</th>\n",
       "      <td>1</td>\n",
       "      <td>0.9971</td>\n",
       "      <td>license, list, criminal, convict, offense, violate, statement, involve, prohibit, theft</td>\n",
       "      <td>[conduct, convict, unauthorized, use, property, misdemeanor, fourth, degree, crb, court, common, pleas, plead, guilty, convict, attempt, receive, steal, property, misdemeanor, degree, cr, c, convict, theft, misdemeanor, degree, crb, plead, guilty, convict, operate, motor, vehicle, intoxicate, trc, plead, guilty, convict, operate, motor, vehicle, intoxicate, misdemeanor, degree, deny, license, hear, plead, guilty, convict, operate, motor, vehicle, intoxicate, misdemeanor, degree, trc, plead, guilty, convict, assault, misdemeanor, degree, crb, h, swear, statement, information, criminal, license, submit, complete, truthful, attempt, obtain, license, untruthful, information, criminal, list, determine, action, list, prove, honest, truthful, good, reputation, believe, commit, criminal, offense, involve, theft, criminal, offense, involve, money, security, ...]</td>\n",
       "    </tr>\n",
       "    <tr>\n",
       "      <th>1</th>\n",
       "      <td>2</td>\n",
       "      <td>0.9849</td>\n",
       "      <td>license, fail, refuse, require, calendar, year, comply, issue, complete, hour</td>\n",
       "      <td>[conduct, refuse, issue, license, violate, fail, comply, conduct, hold, license, calendar, year, require, licensed, complete, hour, approve, education, calendar, year, d, year, impose, requirement, extend, deadline, comply, requirement, extension, grant, comply, requirement, fail, complete, require, hour, credit, extended, deny, license, renewal, hear, fail, comply, character, general, fitness, command, confidence, public, warrant, belief, operate, honestly, fairly, compliance, g, fail, comply, refuse, issue, license]</td>\n",
       "    </tr>\n",
       "    <tr>\n",
       "      <th>2</th>\n",
       "      <td>3</td>\n",
       "      <td>0.9888</td>\n",
       "      <td>license, issue, renewal, fail, deny, day, public, inform, conduct, refuse</td>\n",
       "      <td>[license, renewal, interest, public, kohler, submit, renewal, license, issue, inform, conduct, action, character, general, fitness, command, confidence, public, warrant, belief, operate, honestly, fairly, compliance, action, violate, prohibit, substantial, misrepresentation, license, action, violate, prohibit, false, misleading, statement, material, omission, statement, require, action, violate, prohibit, engage, conduct, improper, fraudulent, dishonest, dealing, fail, cooperate, violate, violate, license, deny, kohler, informed, deny, license, renewal, regard, day, far, caution, receive, write, office, day, issue, deny, renewal, license, certify, service, perfect, fail, fail, defend, contain, true, respondentd, renewal, license, deny, kohlers, license, renewal, deny]</td>\n",
       "    </tr>\n",
       "    <tr>\n",
       "      <th>3</th>\n",
       "      <td>4</td>\n",
       "      <td>0.9954</td>\n",
       "      <td>violation, omba, license, requirement, hour, complete, comply, year, calendar, fail</td>\n",
       "      <td>[enter, refuse, issue, license, thing, fail, comply, omba, thereunder, issue, license, thing, comply, omba, c, require, complete, hour, approve, education, calendar, year, hold, license, calendar, year, admit, fail, complete, require, credit, hour, calendar, year, fail, comply, authority, refuse, issue, license, enter, deny, license, admit, violation, noncompliance, omba, h, base, violation, noncompliance, omba, effective, forego, mutual, promise, set, forth, disciplinary, knowingly, voluntarily, term, limitation, penalty, violation, describe, pay, fine, payment, form, cashier, check, money, payable, consumer, finance, submit, complete, hour, approve, calendar, year, requirement, calendar, year, requirement, submit, copy, attendance, credit, hour, issue, provider, write, red, ink, face, copy, attendance, requirement, ...]</td>\n",
       "    </tr>\n",
       "    <tr>\n",
       "      <th>4</th>\n",
       "      <td>5</td>\n",
       "      <td>0.9768</td>\n",
       "      <td>license, objection, deny, hold, recommend, submit, suspension, testimony, copy, attach</td>\n",
       "      <td>[license, submit, license, issue, deny, thereto, hold, write, recommend, deny, attach, copy, letter, explain, submit, written, objection, objection, receive, objection, attach, objection, attach, objection, submit, appear, attempt, submit, additional, close, hear, attach, objection, objection, thereto, confirm, approve, accordingly, license, deny]</td>\n",
       "    </tr>\n",
       "    <tr>\n",
       "      <th>5</th>\n",
       "      <td>6</td>\n",
       "      <td>0.9712</td>\n",
       "      <td>renewal, license, issue, requirement, education, deny, refuse, termination, complete, require</td>\n",
       "      <td>[drive, termination, deny, renewal, license, issue, deny, renewal, license, license, submit, check, renewal, issue, deny, renewal, license, prior, issue, receive, check, deny, renewal, license, base, failure, submit, check, moot, supersede, deny, license, renewal]</td>\n",
       "    </tr>\n",
       "    <tr>\n",
       "      <th>6</th>\n",
       "      <td>7</td>\n",
       "      <td>0.9963</td>\n",
       "      <td>testimony, license, conviction, letter, hold, check, court, receive, offense, high</td>\n",
       "      <td>[abovecaptione, license, adjudicative, hold, pm, south, high, hold, roberto, gerena, deny, license, base, convict, possession, drug, convict, criminal, damaging, criminal, endangering, disorderly, conduct, fail, disclose, criminal, offense, swear, ineligible, hold, license, appear, represent, general, office, assistant, general, appear, pro, se, admit, admit, hearsay, objection, subject, weight, deem, afford, document, discuss, appear, witness, additional, witness, appear, behalf, issue, successful, attempt, certify, receipt, receive, letter, schedule, forward, propose, issuance, deny, license, agency, responsible, licensing, regulation, orc, individual, wish, conduct, receive, sign, oath, answer, question, number, ask, convict, criminal, offense, exclude, minor, misdemeanor, traffic, parking, offense, submit, explanation, circumstance, certify, copy, journal, entry, ...]</td>\n",
       "    </tr>\n",
       "    <tr>\n",
       "      <th>7</th>\n",
       "      <td>8</td>\n",
       "      <td>0.9956</td>\n",
       "      <td>violation, fine, violate, license, impose, residential, fail, disclosure, conduct, examination</td>\n",
       "      <td>[conduct, revoke, violate, fail, comply, conduct, statute, relevant, person, person, behalf, behalf, person, obtain, license, origination, disclosure, statement, contain, hear, telephone, number, buyer, typewritten, number, designate, license, street, telephone, number, facsimile, number, number, designate, signature, statement, buyer, pay, service, bona, fide, party, unable, assist, buyer, obtain, statement, describe, method, fee, pay, buyer, calculate, statement, lender, pay, compensation, h, description, service, perform, buyer, statement, buyer, enter, exclusive, brokerage, service, fail, maintain, special, account, deposit, special, account, bona, fide, thirdparty, fee, receive, pay, bona, fide, thirdparty, fee, bona, fide, party, special, account, examiner, examine, office, authority, examination, office, determine, use, employ, individual, ...]</td>\n",
       "    </tr>\n",
       "    <tr>\n",
       "      <th>8</th>\n",
       "      <td>9</td>\n",
       "      <td>0.9202</td>\n",
       "      <td>bond, testimony, license, surety, company, hold, letter, submit, issue, question</td>\n",
       "      <td>[license, hold, south, high, hold, luster, deny, license, fail, disclose, criminal, information, license, assert, eligible, license, reason, violate, c, fail, disclose, criminal, conviction, character, general, fitness, command, confidence, public, warrant, belief, operate, honestly, fairly, compliance, require, assistant, general, executive, agency, general, office, represent, appear, pro, se, testify, admit, inadvertent, copying, error, contain, certify, service, receipt, leave, briefly, reopen, permit, submit, attach, procedural, issue, hear, receive, schedule, receive, certify, receive, write, location, unlawful, discharge, weapon, conviction, individual, seek, conduct, reference, abbreviate, effective, required, license, sign, submit, receive, answer, question, ask, company, owner, director, convict, criminal, offense, exclude, minor, misdemeanor, traffic, parking, ...]</td>\n",
       "    </tr>\n",
       "    <tr>\n",
       "      <th>9</th>\n",
       "      <td>10</td>\n",
       "      <td>0.9933</td>\n",
       "      <td>license, offense, convict, criminal, conviction, involve, bad, drug, check, pass</td>\n",
       "      <td>[drive, license, submit, license, gardier, intend, deny, license, convict, attempt, drug, trafficking, prove, honest, truthful, good, reputation, believe, commit, thefttype, offense, character, general, fitness, command, confidence, public, warrant, belief, operate, honestly, fairly, compliance, hold, recommend, approve, gardier, grant, license, objection, testimony, modify, disapprove, list, approve, incorporate, examiner, attach, hereto, modify, license, add, text, convict, plead, guilty, criminal, offense, describe, a2, convict, plead, guilty, offense, prove, preponderance, orderdenial, license, activity, employment, conviction, honest, truthful, good, reputation, believe, commit, offense, disapprove, license, burden, preponderance, activity, employment, conviction, honest, truthful, good, reputation, believe, commit, offense, 1322041a3, burden, place, convict, drug, traffic, enumerate, offense, ...]</td>\n",
       "    </tr>\n",
       "    <tr>\n",
       "      <th>10</th>\n",
       "      <td>11</td>\n",
       "      <td>0.9948</td>\n",
       "      <td>license, conviction, material, criminal, disclose, question, answer, require, offense, deny</td>\n",
       "      <td>[license, akron, submit, license, intend, deny, swear, statement, information, criminal, submit, complete, truthful, attempt, obtain, license, untruthful, information, criminal, violate, fail, disclose, conviction, violate, false, statement, material, omit, statement, require, violate, prohibit, engage, improper, dishonest, conduct, character, general, fitness, command, confidence, public, warrant, belief, operate, honestly, fairly, compliance, hold, present, counsel, recommend, deny, objection, timely, testimony, final, approve, incorporate, examiner, attach, disapprove, 5of, criminal, conviction, fail, disclose, response, question, inquire, criminal, history, conviction, alcoholrelate, misdemeanor, thing, fine, receive, suspend, jail, sentence, discuss, offer, conflicting, explanation, answer, question, negative, information, concern, criminal, history, material, licensing, mind, untruthful, answer, question, violate, prohibit, ...]</td>\n",
       "    </tr>\n",
       "    <tr>\n",
       "      <th>11</th>\n",
       "      <td>12</td>\n",
       "      <td>0.5944</td>\n",
       "      <td>suspend, fulfill, require, license, fail, hear, education, requirement, licensing, year</td>\n",
       "      <td>[tere, accountable, licensing, individual, residential, hold, license, number, calendar, year, birth, employer, require, suspend, prior, hear, license, fail, fulfill, education, requirement, require, education, complete, fine, pay, treasurer, credit, consumer, finance, fund, c4, individual, suspend, license, permit, residential, fail, fulfill, education, requirement, calendar, year, license, number, issue, suspend, suspension, hear]</td>\n",
       "    </tr>\n",
       "    <tr>\n",
       "      <th>12</th>\n",
       "      <td>13</td>\n",
       "      <td>0.8642</td>\n",
       "      <td>cease, license, residential, issue, conduct, uniform, require, summary, document, cancellation</td>\n",
       "      <td>[conduct, renew, conduct, second, lender, refuse, renew, second, lender, commit, violation, violation, require, foreign, entity, register, second, lender, maintain, license, transact, require, cancel, corporation, article, incorporation, certification, taxation, corporation, failure, failure, pay, tax, fee, prosper, hear, cancellation, power, privilege, franchise, confer, corporation, article, incorporation, authority, cease, subject, corporation, cease, carry, require, wind, affair, obtain, reinstatement, secretary, cancel, article, incorporationcertificate, authority, issue, nonpayment, corporate, franchise, tax, require, article, incorporationcertificate, authority, cancel, fail, correct, violation, h, long, conduct, list, determine, second, lender, renewal, deny]</td>\n",
       "    </tr>\n",
       "    <tr>\n",
       "      <th>13</th>\n",
       "      <td>14</td>\n",
       "      <td>0.7152</td>\n",
       "      <td>suspension, automatically, suspend, community, designate, license, service, revoke, require, individual</td>\n",
       "      <td>[termination, suspension, issue, suspension, automatically, suspend, fail, maintain, bond, require, service, suspension, surrender, number, document, deliver, surrender, automatic, suspension, moot, suspension]</td>\n",
       "    </tr>\n",
       "    <tr>\n",
       "      <th>14</th>\n",
       "      <td>15</td>\n",
       "      <td>0.6804</td>\n",
       "      <td>treasurer, check, requirement, set, submit, 132210b, require, violation, failure, renew</td>\n",
       "      <td>[conduct, 132210b, 1322041b3, license, renew, character, general, fitness, command, confidence, public, warrant, belief, operate, honestly, fairly, compliance, license, renew, successfully, complete, write, test, require, require, submit, check, renewal, nationwide, licensing, system, registry, nmls, deficient, failure, complete, check, letter, inform, incomplete, submit, check, successfully, complete, require, write, test, submit, check, successfully, complete, write, test, require, submit, check, character, general, fitness, meet, renewal, requirement, set, successfully, complete, write, test, refuse, renew, license, list, refuse, renewal, failure, meet, requirement, renewal, set, 1322041b]</td>\n",
       "    </tr>\n",
       "    <tr>\n",
       "      <th>15</th>\n",
       "      <td>16</td>\n",
       "      <td>0.9830</td>\n",
       "      <td>guilty, plead, theft, criminal, offense, convict, license, plea, conviction, involve</td>\n",
       "      <td>[conduct, revoke, license, convict, plead, guilty, criminal, offense, involve, theft, receive, steal, property, embezzlement, forgery, fraud, pass, bad, check, money, launder, drug, trafficking, criminal, offense, involve, money, security, court, southern, district, western, plead, guilty, convict, fraud, violation, violation, false, income, tax, violation, base, conviction, authority, revoke, d, base, conviction, revocation, license, permanent, revoke, license, hear]</td>\n",
       "    </tr>\n",
       "    <tr>\n",
       "      <th>16</th>\n",
       "      <td>17</td>\n",
       "      <td>0.8868</td>\n",
       "      <td>consent, license, violation, party, set, office, automatic, acknowledge, compliance, public</td>\n",
       "      <td>[distribute, ad, solicit, ad, love, feel, deserve, local, bank, feature, card, senior, ad, fail, set, office, number, ad, issue, distribute, solicit, advertisement, govern, ad, fail, number, violation, 13018707a1, ally, home, capital, corporation, admit, aver, violation, error, far, avoid, cost, uncertainty, litigation, enter, consent]</td>\n",
       "    </tr>\n",
       "    <tr>\n",
       "      <th>17</th>\n",
       "      <td>18</td>\n",
       "      <td>0.8879</td>\n",
       "      <td>consumer, disclosure, document, violation, taxis, relate, statement, cause, letter, borrower</td>\n",
       "      <td>[conduct, affair, incorporator, statutory, agent, president, joint, action, cause, customer, proceed, excess, disburse, mean, fictitious, creditor, customer, relate, document, joint, action, cause, customer, proceed, excess, intend, customer, legitimate, creditor, customer, convert, knowledge, improper, fraudulent, dishonest, fail, implement, review, control, measure, design, prevent, future, improper, fraudulent, dishonest, joint, action, fail, disclose, fee, violation, federal, real, estate, joint, action, receive, customer, proceed, disbursement, fictitious, creditor, disbursement, receipt, unearned, fee, thing, value, violation, federal, real, estate, joint, action, devise, intend, devise, scheme, artifice, defraud, obtain, money, mean, false, fraudulent, pretense, representation, transmit, cause, transmit, writing, form, federal, real, estate, document, relate, document, mean, ...]</td>\n",
       "    </tr>\n",
       "    <tr>\n",
       "      <th>18</th>\n",
       "      <td>19</td>\n",
       "      <td>0.5307</td>\n",
       "      <td>license, fail, require, calendar, year, renew, conduct, comply, education, complete</td>\n",
       "      <td>[license, hold, south, hold, wojcik, deny, license, renewal, hear, fail, comply, fail, complete, hour, approve, education, calendar, year, require, assert, eligible, license, renewal, reason, fail, comply, education, requirement, set, failure, comply, education, requirement, set, character, general, fitness, command, confidence, public, warrant, belief, operate, honestly, fairly, compliance, general, executive, agency, office, general, represent, appear, counsel, g, admit, procedural, issue, certify, receipt, hear, receive, schedule, location, send, ordinary, c, license, renewal, 124th, modify, thing, add, requirement, complete, hour, education, calendar, year, begin, calendar, year, fulfill, requirement, hour, education, offer, course, program, study, approve, amsubsb, work, onehalf, year, work, preferred, close, receive, complaint, ...]</td>\n",
       "    </tr>\n",
       "  </tbody>\n",
       "</table>\n",
       "</div>"
      ],
      "text/plain": [
       "    Topic_Num  Topic_Perc_Contrib  \\\n",
       "0           1              0.9971   \n",
       "1           2              0.9849   \n",
       "2           3              0.9888   \n",
       "3           4              0.9954   \n",
       "4           5              0.9768   \n",
       "5           6              0.9712   \n",
       "6           7              0.9963   \n",
       "7           8              0.9956   \n",
       "8           9              0.9202   \n",
       "9          10              0.9933   \n",
       "10         11              0.9948   \n",
       "11         12              0.5944   \n",
       "12         13              0.8642   \n",
       "13         14              0.7152   \n",
       "14         15              0.6804   \n",
       "15         16              0.9830   \n",
       "16         17              0.8868   \n",
       "17         18              0.8879   \n",
       "18         19              0.5307   \n",
       "\n",
       "                                                                                                   Keywords  \\\n",
       "0                   license, list, criminal, convict, offense, violate, statement, involve, prohibit, theft   \n",
       "1                             license, fail, refuse, require, calendar, year, comply, issue, complete, hour   \n",
       "2                                 license, issue, renewal, fail, deny, day, public, inform, conduct, refuse   \n",
       "3                       violation, omba, license, requirement, hour, complete, comply, year, calendar, fail   \n",
       "4                    license, objection, deny, hold, recommend, submit, suspension, testimony, copy, attach   \n",
       "5             renewal, license, issue, requirement, education, deny, refuse, termination, complete, require   \n",
       "6                        testimony, license, conviction, letter, hold, check, court, receive, offense, high   \n",
       "7            violation, fine, violate, license, impose, residential, fail, disclosure, conduct, examination   \n",
       "8                          bond, testimony, license, surety, company, hold, letter, submit, issue, question   \n",
       "9                          license, offense, convict, criminal, conviction, involve, bad, drug, check, pass   \n",
       "10              license, conviction, material, criminal, disclose, question, answer, require, offense, deny   \n",
       "11                  suspend, fulfill, require, license, fail, hear, education, requirement, licensing, year   \n",
       "12           cease, license, residential, issue, conduct, uniform, require, summary, document, cancellation   \n",
       "13  suspension, automatically, suspend, community, designate, license, service, revoke, require, individual   \n",
       "14                  treasurer, check, requirement, set, submit, 132210b, require, violation, failure, renew   \n",
       "15                     guilty, plead, theft, criminal, offense, convict, license, plea, conviction, involve   \n",
       "16              consent, license, violation, party, set, office, automatic, acknowledge, compliance, public   \n",
       "17             consumer, disclosure, document, violation, taxis, relate, statement, cause, letter, borrower   \n",
       "18                      license, fail, require, calendar, year, renew, conduct, comply, education, complete   \n",
       "\n",
       "                                                                                                                                                                                                                                                                                                                                                                                                                                                                                                                                                                                                                                                                                                                                                                                                                                                                                                                                                                                    Text  \n",
       "0                                                                                      [conduct, convict, unauthorized, use, property, misdemeanor, fourth, degree, crb, court, common, pleas, plead, guilty, convict, attempt, receive, steal, property, misdemeanor, degree, cr, c, convict, theft, misdemeanor, degree, crb, plead, guilty, convict, operate, motor, vehicle, intoxicate, trc, plead, guilty, convict, operate, motor, vehicle, intoxicate, misdemeanor, degree, deny, license, hear, plead, guilty, convict, operate, motor, vehicle, intoxicate, misdemeanor, degree, trc, plead, guilty, convict, assault, misdemeanor, degree, crb, h, swear, statement, information, criminal, license, submit, complete, truthful, attempt, obtain, license, untruthful, information, criminal, list, determine, action, list, prove, honest, truthful, good, reputation, believe, commit, criminal, offense, involve, theft, criminal, offense, involve, money, security, ...]  \n",
       "1                                                                                                                                                                                                                                                                                                                                                                                                                                            [conduct, refuse, issue, license, violate, fail, comply, conduct, hold, license, calendar, year, require, licensed, complete, hour, approve, education, calendar, year, d, year, impose, requirement, extend, deadline, comply, requirement, extension, grant, comply, requirement, fail, complete, require, hour, credit, extended, deny, license, renewal, hear, fail, comply, character, general, fitness, command, confidence, public, warrant, belief, operate, honestly, fairly, compliance, g, fail, comply, refuse, issue, license]  \n",
       "2                                                                                                                                                                             [license, renewal, interest, public, kohler, submit, renewal, license, issue, inform, conduct, action, character, general, fitness, command, confidence, public, warrant, belief, operate, honestly, fairly, compliance, action, violate, prohibit, substantial, misrepresentation, license, action, violate, prohibit, false, misleading, statement, material, omission, statement, require, action, violate, prohibit, engage, conduct, improper, fraudulent, dishonest, dealing, fail, cooperate, violate, violate, license, deny, kohler, informed, deny, license, renewal, regard, day, far, caution, receive, write, office, day, issue, deny, renewal, license, certify, service, perfect, fail, fail, defend, contain, true, respondentd, renewal, license, deny, kohlers, license, renewal, deny]  \n",
       "3                                                                                                                      [enter, refuse, issue, license, thing, fail, comply, omba, thereunder, issue, license, thing, comply, omba, c, require, complete, hour, approve, education, calendar, year, hold, license, calendar, year, admit, fail, complete, require, credit, hour, calendar, year, fail, comply, authority, refuse, issue, license, enter, deny, license, admit, violation, noncompliance, omba, h, base, violation, noncompliance, omba, effective, forego, mutual, promise, set, forth, disciplinary, knowingly, voluntarily, term, limitation, penalty, violation, describe, pay, fine, payment, form, cashier, check, money, payable, consumer, finance, submit, complete, hour, approve, calendar, year, requirement, calendar, year, requirement, submit, copy, attendance, credit, hour, issue, provider, write, red, ink, face, copy, attendance, requirement, ...]  \n",
       "4                                                                                                                                                                                                                                                                                                                                                                                                                                                                                                                                                                                                                          [license, submit, license, issue, deny, thereto, hold, write, recommend, deny, attach, copy, letter, explain, submit, written, objection, objection, receive, objection, attach, objection, attach, objection, submit, appear, attempt, submit, additional, close, hear, attach, objection, objection, thereto, confirm, approve, accordingly, license, deny]  \n",
       "5                                                                                                                                                                                                                                                                                                                                                                                                                                                                                                                                                                                                                                                                                                               [drive, termination, deny, renewal, license, issue, deny, renewal, license, license, submit, check, renewal, issue, deny, renewal, license, prior, issue, receive, check, deny, renewal, license, base, failure, submit, check, moot, supersede, deny, license, renewal]  \n",
       "6                                                                   [abovecaptione, license, adjudicative, hold, pm, south, high, hold, roberto, gerena, deny, license, base, convict, possession, drug, convict, criminal, damaging, criminal, endangering, disorderly, conduct, fail, disclose, criminal, offense, swear, ineligible, hold, license, appear, represent, general, office, assistant, general, appear, pro, se, admit, admit, hearsay, objection, subject, weight, deem, afford, document, discuss, appear, witness, additional, witness, appear, behalf, issue, successful, attempt, certify, receipt, receive, letter, schedule, forward, propose, issuance, deny, license, agency, responsible, licensing, regulation, orc, individual, wish, conduct, receive, sign, oath, answer, question, number, ask, convict, criminal, offense, exclude, minor, misdemeanor, traffic, parking, offense, submit, explanation, circumstance, certify, copy, journal, entry, ...]  \n",
       "7                                                                                        [conduct, revoke, violate, fail, comply, conduct, statute, relevant, person, person, behalf, behalf, person, obtain, license, origination, disclosure, statement, contain, hear, telephone, number, buyer, typewritten, number, designate, license, street, telephone, number, facsimile, number, number, designate, signature, statement, buyer, pay, service, bona, fide, party, unable, assist, buyer, obtain, statement, describe, method, fee, pay, buyer, calculate, statement, lender, pay, compensation, h, description, service, perform, buyer, statement, buyer, enter, exclusive, brokerage, service, fail, maintain, special, account, deposit, special, account, bona, fide, thirdparty, fee, receive, pay, bona, fide, thirdparty, fee, bona, fide, party, special, account, examiner, examine, office, authority, examination, office, determine, use, employ, individual, ...]  \n",
       "8                                                                [license, hold, south, high, hold, luster, deny, license, fail, disclose, criminal, information, license, assert, eligible, license, reason, violate, c, fail, disclose, criminal, conviction, character, general, fitness, command, confidence, public, warrant, belief, operate, honestly, fairly, compliance, require, assistant, general, executive, agency, general, office, represent, appear, pro, se, testify, admit, inadvertent, copying, error, contain, certify, service, receipt, leave, briefly, reopen, permit, submit, attach, procedural, issue, hear, receive, schedule, receive, certify, receive, write, location, unlawful, discharge, weapon, conviction, individual, seek, conduct, reference, abbreviate, effective, required, license, sign, submit, receive, answer, question, ask, company, owner, director, convict, criminal, offense, exclude, minor, misdemeanor, traffic, parking, ...]  \n",
       "9                                   [drive, license, submit, license, gardier, intend, deny, license, convict, attempt, drug, trafficking, prove, honest, truthful, good, reputation, believe, commit, thefttype, offense, character, general, fitness, command, confidence, public, warrant, belief, operate, honestly, fairly, compliance, hold, recommend, approve, gardier, grant, license, objection, testimony, modify, disapprove, list, approve, incorporate, examiner, attach, hereto, modify, license, add, text, convict, plead, guilty, criminal, offense, describe, a2, convict, plead, guilty, offense, prove, preponderance, orderdenial, license, activity, employment, conviction, honest, truthful, good, reputation, believe, commit, offense, disapprove, license, burden, preponderance, activity, employment, conviction, honest, truthful, good, reputation, believe, commit, offense, 1322041a3, burden, place, convict, drug, traffic, enumerate, offense, ...]  \n",
       "10  [license, akron, submit, license, intend, deny, swear, statement, information, criminal, submit, complete, truthful, attempt, obtain, license, untruthful, information, criminal, violate, fail, disclose, conviction, violate, false, statement, material, omit, statement, require, violate, prohibit, engage, improper, dishonest, conduct, character, general, fitness, command, confidence, public, warrant, belief, operate, honestly, fairly, compliance, hold, present, counsel, recommend, deny, objection, timely, testimony, final, approve, incorporate, examiner, attach, disapprove, 5of, criminal, conviction, fail, disclose, response, question, inquire, criminal, history, conviction, alcoholrelate, misdemeanor, thing, fine, receive, suspend, jail, sentence, discuss, offer, conflicting, explanation, answer, question, negative, information, concern, criminal, history, material, licensing, mind, untruthful, answer, question, violate, prohibit, ...]  \n",
       "11                                                                                                                                                                                                                                                                                                                                                                                                                                                                                                                                  [tere, accountable, licensing, individual, residential, hold, license, number, calendar, year, birth, employer, require, suspend, prior, hear, license, fail, fulfill, education, requirement, require, education, complete, fine, pay, treasurer, credit, consumer, finance, fund, c4, individual, suspend, license, permit, residential, fail, fulfill, education, requirement, calendar, year, license, number, issue, suspend, suspension, hear]  \n",
       "12                                                                                                                                                                             [conduct, renew, conduct, second, lender, refuse, renew, second, lender, commit, violation, violation, require, foreign, entity, register, second, lender, maintain, license, transact, require, cancel, corporation, article, incorporation, certification, taxation, corporation, failure, failure, pay, tax, fee, prosper, hear, cancellation, power, privilege, franchise, confer, corporation, article, incorporation, authority, cease, subject, corporation, cease, carry, require, wind, affair, obtain, reinstatement, secretary, cancel, article, incorporationcertificate, authority, issue, nonpayment, corporate, franchise, tax, require, article, incorporationcertificate, authority, cancel, fail, correct, violation, h, long, conduct, list, determine, second, lender, renewal, deny]  \n",
       "13                                                                                                                                                                                                                                                                                                                                                                                                                                                                                                                                                                                                                                                                                                                                                                    [termination, suspension, issue, suspension, automatically, suspend, fail, maintain, bond, require, service, suspension, surrender, number, document, deliver, surrender, automatic, suspension, moot, suspension]  \n",
       "14                                                                                                                                                                                                                                                         [conduct, 132210b, 1322041b3, license, renew, character, general, fitness, command, confidence, public, warrant, belief, operate, honestly, fairly, compliance, license, renew, successfully, complete, write, test, require, require, submit, check, renewal, nationwide, licensing, system, registry, nmls, deficient, failure, complete, check, letter, inform, incomplete, submit, check, successfully, complete, require, write, test, submit, check, successfully, complete, write, test, require, submit, check, character, general, fitness, meet, renewal, requirement, set, successfully, complete, write, test, refuse, renew, license, list, refuse, renewal, failure, meet, requirement, renewal, set, 1322041b]  \n",
       "15                                                                                                                                                                                                                                                                                                                                                                                                                                                                                              [conduct, revoke, license, convict, plead, guilty, criminal, offense, involve, theft, receive, steal, property, embezzlement, forgery, fraud, pass, bad, check, money, launder, drug, trafficking, criminal, offense, involve, money, security, court, southern, district, western, plead, guilty, convict, fraud, violation, violation, false, income, tax, violation, base, conviction, authority, revoke, d, base, conviction, revocation, license, permanent, revoke, license, hear]  \n",
       "16                                                                                                                                                                                                                                                                                                                                                                                                                                                                                                                                                                                                                                     [distribute, ad, solicit, ad, love, feel, deserve, local, bank, feature, card, senior, ad, fail, set, office, number, ad, issue, distribute, solicit, advertisement, govern, ad, fail, number, violation, 13018707a1, ally, home, capital, corporation, admit, aver, violation, error, far, avoid, cost, uncertainty, litigation, enter, consent]  \n",
       "17                                                   [conduct, affair, incorporator, statutory, agent, president, joint, action, cause, customer, proceed, excess, disburse, mean, fictitious, creditor, customer, relate, document, joint, action, cause, customer, proceed, excess, intend, customer, legitimate, creditor, customer, convert, knowledge, improper, fraudulent, dishonest, fail, implement, review, control, measure, design, prevent, future, improper, fraudulent, dishonest, joint, action, fail, disclose, fee, violation, federal, real, estate, joint, action, receive, customer, proceed, disbursement, fictitious, creditor, disbursement, receipt, unearned, fee, thing, value, violation, federal, real, estate, joint, action, devise, intend, devise, scheme, artifice, defraud, obtain, money, mean, false, fraudulent, pretense, representation, transmit, cause, transmit, writing, form, federal, real, estate, document, relate, document, mean, ...]  \n",
       "18                                                                                                    [license, hold, south, hold, wojcik, deny, license, renewal, hear, fail, comply, fail, complete, hour, approve, education, calendar, year, require, assert, eligible, license, renewal, reason, fail, comply, education, requirement, set, failure, comply, education, requirement, set, character, general, fitness, command, confidence, public, warrant, belief, operate, honestly, fairly, compliance, general, executive, agency, office, general, represent, appear, counsel, g, admit, procedural, issue, certify, receipt, hear, receive, schedule, location, send, ordinary, c, license, renewal, 124th, modify, thing, add, requirement, complete, hour, education, calendar, year, begin, calendar, year, fulfill, requirement, hour, education, offer, course, program, study, approve, amsubsb, work, onehalf, year, work, preferred, close, receive, complaint, ...]  "
      ]
     },
     "execution_count": 28,
     "metadata": {},
     "output_type": "execute_result"
    }
   ],
   "source": [
    "# Group top 5 sentences under each topic\n",
    "sent_topics_sorteddf_mallet = pd.DataFrame()\n",
    "\n",
    "sent_topics_outdf_grpd = df_topic_sents_keywords.groupby('Dominant_Topic')\n",
    "\n",
    "for i, grp in sent_topics_outdf_grpd:\n",
    "    sent_topics_sorteddf_mallet = pd.concat([sent_topics_sorteddf_mallet, \n",
    "                                             grp.sort_values(['Perc_Contribution'], ascending=[0]).head(1)], \n",
    "                                            axis=0)\n",
    "\n",
    "# Reset Index    \n",
    "sent_topics_sorteddf_mallet.reset_index(drop=True, inplace=True)\n",
    "\n",
    "# Format\n",
    "sent_topics_sorteddf_mallet.columns = ['Topic_Num', \"Topic_Perc_Contrib\", \"Keywords\", \"Text\"]\n",
    "\n",
    "# Show\n",
    "sent_topics_sorteddf_mallet"
   ]
  }
 ],
 "metadata": {
  "interpreter": {
   "hash": "c200356685012de8850201f95537ce902c61c8fd611b23a6f6394b46e0ce5b2e"
  },
  "kernelspec": {
   "display_name": "Python 3 (ipykernel)",
   "language": "python",
   "name": "python3"
  },
  "language_info": {
   "codemirror_mode": {
    "name": "ipython",
    "version": 3
   },
   "file_extension": ".py",
   "mimetype": "text/x-python",
   "name": "python",
   "nbconvert_exporter": "python",
   "pygments_lexer": "ipython3",
   "version": "3.7.10"
  }
 },
 "nbformat": 4,
 "nbformat_minor": 2
}
