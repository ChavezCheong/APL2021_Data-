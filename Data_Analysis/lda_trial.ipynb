{
 "cells": [
  {
   "cell_type": "markdown",
   "metadata": {},
   "source": [
    "# Trying out an LDA model to apply topic modelling to MEAs"
   ]
  },
  {
   "cell_type": "code",
   "execution_count": 4,
   "metadata": {},
   "outputs": [],
   "source": [
    "import os\n",
    "os.environ[\"KMP_DUPLICATE_LIB_OK\"]=\"TRUE\"\n"
   ]
  },
  {
   "cell_type": "code",
   "execution_count": 34,
   "metadata": {},
   "outputs": [],
   "source": [
    "# Handle imports\n",
    "import numpy as np\n",
    "import pandas as pd\n",
    "import gensim\n",
    "import gensim.corpora as corpora\n",
    "from gensim.utils import simple_preprocess\n",
    "import pickle\n",
    "from gensim.models import CoherenceModel\n",
    "import spacy\n",
    "from spacy.lang.en.stop_words import STOP_WORDS\n",
    "import string\n",
    "import pprint\n",
    "import pyLDAvis.gensim_models as gensimvis\n",
    "from tqdm import tqdm_notebook as tqdm"
   ]
  },
  {
   "cell_type": "code",
   "execution_count": 42,
   "metadata": {},
   "outputs": [],
   "source": [
    "import matplotlib.pyplot as plt\n",
    "%matplotlib inline"
   ]
  },
  {
   "cell_type": "code",
   "execution_count": 96,
   "metadata": {},
   "outputs": [],
   "source": [
    "nlp = spacy.load('en_core_web_trf')\n",
    "lemmatizer = nlp.get_pipe(\"lemmatizer\")"
   ]
  },
  {
   "cell_type": "code",
   "execution_count": 194,
   "metadata": {},
   "outputs": [],
   "source": [
    "stop_word_list = [\"transcript\",\"respondent\",\"ohio\",\"division\", \"department\", \"commerce\",\"financial\",\"revised\",\"code\",\"institutions\",\"chapter\",\"codified\",\"institution\",\"heshe\",\"rc\",\"oh\",\"mortgage\",\"fact\",\"notice\",\"act\",\"chapters\",\"arizona\",\"january\",\"february\",\"april\",\"march\",\"may\",\"june\",\"july\",\"august\",\"september\",\"october\",\"november\",\"december\",\"dfi\",\"ce\",\"pursuant\",\"realize\",\"days\",\"result\",\"investigation\",\"indicate\",\"state\"]"
   ]
  },
  {
   "cell_type": "code",
   "execution_count": 195,
   "metadata": {},
   "outputs": [
    {
     "data": {
      "text/plain": [
       "43"
      ]
     },
     "execution_count": 195,
     "metadata": {},
     "output_type": "execute_result"
    }
   ],
   "source": [
    "len(stop_word_list)"
   ]
  },
  {
   "cell_type": "code",
   "execution_count": 196,
   "metadata": {},
   "outputs": [],
   "source": [
    "nlp.Defaults.stop_words.update(stop_word_list)\n",
    "# Iterates over the words in the stop words list and resets the \"is_stop\" flag.\n",
    "for word in STOP_WORDS:\n",
    "    lexeme = nlp.vocab[word]\n",
    "    lexeme.is_stop = True\n",
    "lemma_tags = {\"NNS\", \"NNPS\"}"
   ]
  },
  {
   "cell_type": "code",
   "execution_count": 197,
   "metadata": {},
   "outputs": [],
   "source": [
    "# Load data\n",
    "df = pd.read_csv(\"Standardized Data/Final_cleaned.csv\")"
   ]
  },
  {
   "cell_type": "code",
   "execution_count": 199,
   "metadata": {},
   "outputs": [],
   "source": [
    "def clean_text(sample_text):\n",
    "    sample_text = sample_text.translate(str.maketrans('', '', string.punctuation))\n",
    "    sample_text = \" \".join([w for w in sample_text.split() if not w.isdigit()])\n",
    "    sample_text = sample_text.lower()\n",
    "    doc = nlp(sample_text)\n",
    "    doc = [token.lemma_ for token in doc if (token.tag_ in lemma_tags or token.lemma_ != '-PRON-' and token.pos_ in ['NOUN', 'ADJ', 'VERB', 'ADV'])]\n",
    "    doc = u' '.join(doc)\n",
    "    doc = nlp.make_doc(doc)\n",
    "    tokens = [token.text for token in doc if token.is_stop != True and token.is_punct != True]\n",
    "    return tokens"
   ]
  },
  {
   "cell_type": "code",
   "execution_count": 168,
   "metadata": {},
   "outputs": [
    {
     "name": "stdout",
     "output_type": "stream",
     "text": [
      "['charge', 'responsibility', 'enforce', 'codify', 'revise', 'responsibility', 'protect', 'public', 'proscribed', 'practice', 'find', 'order', 'necessary', 'appropriate', 'public', 'interest', 'consistent', 'purpose', 'send', 'certified', 'mail', 'intent', 'revoke', 'certificate', 'registration', 'opportunity', 'hear', 'fund', 'business', 'address', 'record', 'hold', 'hearing', 'matter', 'accordance', 'daysjuly', 'hearing', 'officer', 'issue', 'report', 'recommendation', 'determine', 'violate', 'list', 'fictitious', 'creditor', 'false', 'information', 'loan', 'document', 'convert', 'borrower', 'creditor', 'money', 'cause', 'customer', 'sign', 'blank', 'loan', 'document', 'charge', 'excess', 'fee', 'interfere', 'investigation', 'order', 'page', 'hearing', 'officer', 'report', 'recommend', 'superintendent', 'revoke', 'broker', 'certificate', 'registration', 'file', 'objection', 'hearing', 'officer', 'report', 'recommendation', 'carefully', 'consider', 'hearing', 'officer', 'report', 'recommendation', 'objection', 'thereto', 'reject', 'objection', 'confirm', 'approve', 'hearing', 'officer', 'report', 'recommendation', 'order', 'pursuant', 'broker', 'certificate', 'registration', 'previously', 'issue', 'revoke']\n",
      "106\n"
     ]
    }
   ],
   "source": [
    "sample_text = df.loc[1,\"Text\"]\n",
    "print(clean_text(sample_text))\n",
    "print(len(clean_text(sample_text)))"
   ]
  },
  {
   "cell_type": "code",
   "execution_count": 268,
   "metadata": {
    "scrolled": true
   },
   "outputs": [
    {
     "name": "stderr",
     "output_type": "stream",
     "text": [
      "C:\\Users\\chave\\anaconda3\\envs\\topicmodelling\\lib\\site-packages\\ipykernel_launcher.py:3: TqdmDeprecationWarning: This function will be removed in tqdm==5.0.0\n",
      "Please use `tqdm.notebook.tqdm` instead of `tqdm.tqdm_notebook`\n",
      "  This is separate from the ipykernel package so we can avoid doing imports until\n"
     ]
    },
    {
     "data": {
      "application/vnd.jupyter.widget-view+json": {
       "model_id": "4d09c7bf6b884bd892b9dbfaec1fe62e",
       "version_major": 2,
       "version_minor": 0
      },
      "text/plain": [
       "  0%|          | 0/200 [00:00<?, ?it/s]"
      ]
     },
     "metadata": {},
     "output_type": "display_data"
    }
   ],
   "source": [
    "text = df[\"Text\"].sample(n=200, random_state = 1)\n",
    "text_list = []\n",
    "for doc in tqdm(text):\n",
    "    if not pd.isna(doc):\n",
    "        pr = clean_text(doc)\n",
    "        text_list.append(pr)"
   ]
  },
  {
   "cell_type": "code",
   "execution_count": 270,
   "metadata": {
    "scrolled": true
   },
   "outputs": [
    {
     "name": "stdout",
     "output_type": "stream",
     "text": [
      "['conduct', 'find', 'follow', 'attest_swear_statement', 'information_provide', 'criminal_background', 'loan', 'officer', 'license', 'application', 'submit', 'complete', 'truthful', 'attempt_obtain', 'loan', 'officer', 'license_provide_untruthful', 'information', 'criminal_background', 'finding_list_determine', 'respondents', 'action_list', 'character_general', 'fitness_command_confidence_public', 'warrant_belief', 'business_operate_honestly_fairly', 'compliance_purpose_action_list', 'paragraph', 'b_violate_prohibit', 'loan', 'officer', 'applicant_substantial_misrepresentation', 'registration', 'license', 'application', 'opportunity', 'hearing', 'page', 'action_list_paragraph', 'b_violate_prohibit', 'loan', 'officer', 'applicant_false_misleading', 'statement_material_omission_statement', 'require', 'law', 'action_list_paragraph', 'b_violate_prohibit', 'loan', 'officer', 'applicant', 'engage', 'conduct_constitute_improper', 'fraudulent_dishonest_dealing']\n"
     ]
    }
   ],
   "source": [
    "# Build the bigram and trigram models\n",
    "bigram = gensim.models.Phrases(text_list, min_count=5, threshold=30) # higher threshold fewer phrases.\n",
    "trigram = gensim.models.Phrases(bigram[text_list], threshold=30) \n",
    "# Faster way to get a sentence clubbed as a trigram/bigram\n",
    "bigram_mod = gensim.models.phrases.Phraser(bigram)\n",
    "trigram_mod = gensim.models.phrases.Phraser(trigram)\n",
    "# See trigram example\n",
    "\n",
    "print(trigram_mod[bigram_mod[text_list[1]]])"
   ]
  },
  {
   "cell_type": "code",
   "execution_count": 271,
   "metadata": {},
   "outputs": [],
   "source": [
    "grammed_list = [trigram_mod[bigram_mod[doc]]for doc in text_list]"
   ]
  },
  {
   "cell_type": "code",
   "execution_count": 263,
   "metadata": {},
   "outputs": [],
   "source": [
    "# Creates, which is a mapping of word IDs to words.\n",
    "words = corpora.Dictionary(text_list)\n",
    "\n",
    "# Turns each document into a bag of words.\n",
    "corpus = [words.doc2bow(doc) for doc in text_list]"
   ]
  },
  {
   "cell_type": "code",
   "execution_count": null,
   "metadata": {},
   "outputs": [],
   "source": [
    "# Creates, which is a mapping of word IDs to words.\n",
    "words = corpora.Dictionary(grammed_list)\n",
    "\n",
    "# Turns each document into a bag of words.\n",
    "corpus = [words.doc2bow(doc) for doc in grammed_list]"
   ]
  },
  {
   "cell_type": "code",
   "execution_count": 222,
   "metadata": {},
   "outputs": [],
   "source": [
    "def compute_coherence_values(dictionary, corpus, texts, limit, start=2, step=3):\n",
    "    \"\"\"\n",
    "    Compute c_v coherence for various number of topics\n",
    "\n",
    "    Parameters:\n",
    "    ----------\n",
    "    dictionary : Gensim dictionary\n",
    "    corpus : Gensim corpus\n",
    "    texts : List of input texts\n",
    "    limit : Max num of topics\n",
    "\n",
    "    Returns:\n",
    "    -------\n",
    "    model_list : List of LDA topic models\n",
    "    coherence_values : Coherence values corresponding to the LDA model with respective number of topics\n",
    "    \"\"\"\n",
    "    coherence_values = []\n",
    "    model_list = []\n",
    "    for num_topics in range(start, limit, step):\n",
    "        model = gensim.models.ldamodel.LdaModel(corpus=corpus, num_topics=num_topics, id2word=words)\n",
    "        model_list.append(model)\n",
    "        coherencemodel = CoherenceModel(model=model, texts=texts, dictionary=dictionary, coherence='c_v')\n",
    "        coherence_values.append(coherencemodel.get_coherence())\n",
    "\n",
    "    return model_list, coherence_values"
   ]
  },
  {
   "cell_type": "code",
   "execution_count": 264,
   "metadata": {},
   "outputs": [],
   "source": [
    "# Can take a long time to run.\n",
    "model_list, coherence_values = compute_coherence_values(dictionary=words, corpus=corpus, texts=text_list, start=2, limit=20, step=3)"
   ]
  },
  {
   "cell_type": "code",
   "execution_count": 265,
   "metadata": {},
   "outputs": [
    {
     "data": {
      "image/png": "[encoded data removed]",
      "text/plain": [
       "<Figure size 432x288 with 1 Axes>"
      ]
     },
     "metadata": {
      "needs_background": "light"
     },
     "output_type": "display_data"
    }
   ],
   "source": [
    "# Show graph\n",
    "limit=20; start=2; step=3;\n",
    "x = range(start, limit, step)\n",
    "plt.plot(x, coherence_values)\n",
    "plt.xlabel(\"Num Topics\")\n",
    "plt.ylabel(\"Coherence score\")\n",
    "plt.legend((\"coherence_values\"), loc='best')\n",
    "plt.show()"
   ]
  },
  {
   "cell_type": "code",
   "execution_count": 266,
   "metadata": {},
   "outputs": [
    {
     "name": "stdout",
     "output_type": "stream",
     "text": [
      "Num Topics = 2  has Coherence Value of 0.3284\n",
      "Num Topics = 5  has Coherence Value of 0.3312\n",
      "Num Topics = 8  has Coherence Value of 0.3401\n",
      "Num Topics = 11  has Coherence Value of 0.3188\n",
      "Num Topics = 14  has Coherence Value of 0.3238\n",
      "Num Topics = 17  has Coherence Value of 0.367\n"
     ]
    }
   ],
   "source": [
    "# Print the coherence scores\n",
    "for m, cv in zip(x, coherence_values):\n",
    "    print(\"Num Topics =\", m, \" has Coherence Value of\", round(cv, 4))"
   ]
  },
  {
   "cell_type": "code",
   "execution_count": 248,
   "metadata": {},
   "outputs": [],
   "source": [
    "lda_model = gensim.models.ldamodel.LdaModel(corpus=corpus,\n",
    "                                           id2word=words,\n",
    "                                           num_topics=6 \n",
    "                                           )"
   ]
  },
  {
   "cell_type": "code",
   "execution_count": 249,
   "metadata": {},
   "outputs": [
    {
     "name": "stdout",
     "output_type": "stream",
     "text": [
      "\n",
      "Perplexity:  -4.648300682771347\n",
      "\n",
      "Coherence Score:  0.4670602855533237\n"
     ]
    }
   ],
   "source": [
    "# Compute Perplexity\n",
    "print('\\nPerplexity: ', lda_model.log_perplexity(corpus))  # a measure of how good the model is. lower the better.\n",
    "\n",
    "# Compute Coherence Score\n",
    "coherence_model_lda = CoherenceModel(model=lda_model, texts=text_list, dictionary=words, coherence='c_v')\n",
    "coherence_lda = coherence_model_lda.get_coherence()\n",
    "print('\\nCoherence Score: ', coherence_lda)"
   ]
  },
  {
   "cell_type": "code",
   "execution_count": 267,
   "metadata": {
    "scrolled": true
   },
   "outputs": [
    {
     "name": "stderr",
     "output_type": "stream",
     "text": [
      "C:\\Users\\chave\\anaconda3\\envs\\topicmodelling\\lib\\site-packages\\pyLDAvis\\_prepare.py:247: FutureWarning: In a future version of pandas all arguments of DataFrame.drop except for the argument 'labels' will be keyword-only\n",
      "  by='saliency', ascending=False).head(R).drop('saliency', 1)\n"
     ]
    },
    {
     "data": {
      "text/html": [
       "\n",
       "<link rel=\"stylesheet\" type=\"text/css\" href=\"https://cdn.jsdelivr.net/gh/bmabey/pyLDAvis@3.3.1/pyLDAvis/js/ldavis.v1.0.0.css\">\n",
       "\n",
       "\n",
       "<div id=\"ldavis_el3022825157276618964285115357\"></div>\n",
       "<script type=\"text/javascript\">\n",
       "\n",
       "var ldavis_el3022825157276618964285115357_data = {\"mdsDat\": {\"x\": [0.018012483891460387, -0.06484287710474394, 0.04098234534515809, 0.04592634756985672, -0.04009903107689115, -0.01216738141589174, -0.01230346896421183, 0.024491581755263447], \"y\": [4.0016943697386035e-05, -0.022645234118186, -0.038992582937219016, -0.004661656526655148, 0.03362645371740298, 0.008599097195186188, -0.032813808859506945, 0.05684771458528053], \"topics\": [1, 2, 3, 4, 5, 6, 7, 8], \"cluster\": [1, 1, 1, 1, 1, 1, 1, 1], \"Freq\": [24.26020416709442, 22.228935940220133, 17.343074466369192, 10.930469861274723, 8.199168398751882, 6.709344788073494, 6.592066084766304, 3.736736293449852]}, \"tinfo\": {\"Term\": [\"officer\", \"loan\", \"license\", \"renewal\", \"application\", \"hearing\", \"applicant\", \"convict\", \"certificate_registration\", \"require\", \"registrant\", \"violation\", \"order\", \"calendar_year\", \"suspension\", \"business\", \"conviction\", \"fitness_command_confidence_public\", \"renew\", \"operation_manager\", \"find\", \"offense\", \"submit\", \"officer_complete_hour\", \"suspend\", \"warrant_belief\", \"conduct\", \"hold\", \"fail_complete\", \"opportunity_hearing_page\", \"complete_minimum\", \"admit_violation_noncompliance\", \"hour_approve_continue_education\", \"fail_comply_authority_refuse\", \"expire_effort\", \"rule_adopt_thereunder_empower\", \"satisfy\", \"effort_renew\", \"comply\", \"h\", \"f_fail_comply\", \"judgment\", \"license_find_thing\", \"find_thing\", \"certify\", \"complete_hour_approve_continue\", \"authorize_refuse_renew\", \"report_recommendation_recommend\", \"education\", \"background\", \"unpaid\", \"comply_requirement\", \"applicant\", \"duly\", \"certified_mail\", \"come\", \"alcohol\", \"written\", \"31\", \"law_impose\", \"require_credit_hour\", \"exhibit\", \"fail_complete\", \"formal_proceeding\", \"approve_continue\", \"grant_comply\", \"calendar_year\", \"empower_refuse\", \"enter_settlement_agreement_lieu\", \"settlement_agreement_enter_basis\", \"empower\", \"admit\", \"hearing\", \"renewal\", \"follow_stipulation_admission_understanding\", \"renew\", \"loan\", \"application\", \"d\", \"license\", \"record\", \"officer\", \"broker_certificate_registration\", \"issue\", \"requirement\", \"hold\", \"require\", \"deny\", \"violate_fail_comply\", \"education_calendar_year_31st\", \"violation\", \"page\", \"order\", \"conviction\", \"business\", \"find\", \"paragraph\", \"submit\", \"paragraph_b_violate_prohibit\", \"pass_bad_check\", \"c_violate_prohibit\", \"finding_list_determine_respondents\", \"criminal_offense_involve_theft\", \"applicable_law\", \"testimony_exhibit\", \"criminal_offense_involve\", \"action_list_paragraph_b\", \"attempted\", \"security_section_action_list\", \"paragraph_b\", \"assault\", \"degree\", \"compliance_purpose_action_list\", \"law_action_list\", \"complete_truthful\", \"misrepresentation_registration_license\", \"codify\", \"action_list\", \"information_criminal_background\", \"information_provide_criminal_background\", \"basis_believe\", \"misdemeanor_degree\", \"statement_material_omission_statement\", \"reputation_basis_believe_commit\", \"trustworthy\", \"compliance_purpose_violate_prohibit\", \"prove_honest_truthful_good\", \"attempt_obtain\", \"applicant_substantial\", \"convict\", \"applicant_false_misleading\", \"criminal_offense_involve_money\", \"attest_swear_statement\", \"fitness_command_confidence_public\", \"warrant_belief\", \"business_operate_honestly_fairly\", \"character_general\", \"action_list_paragraph\", \"violate_prohibit\", \"application\", \"officer\", \"loan\", \"deny\", \"theft\", \"fraudulent_dishonest_dealing\", \"license\", \"compliance_purpose\", \"law\", \"conviction\", \"applicant\", \"require\", \"submit\", \"page\", \"conduct\", \"follow\", \"paragraph\", \"issue\", \"appellate_right\", \"hearing\", \"find\", \"order\", \"opportunity_hearing_page\", \"surrender\", \"mail_return\", \"objection_consideration\", \"objection_file\", \"mail_ordinary\", \"mailing\", \"hallucinogennarcotic\", \"automatic\", \"refusal\", \"refuse\", \"refund\", \"direct\", \"mail_certified\", \"superior\", \"fulfil\", \"dent\", \"unclaimed\", \"immediately\", \"suspension_automatically\", \"postdate\", \"rider\", \"writing\", \"little\", \"query\", \"misleading\", \"inform_intent\", \"portion\", \"outline_authority\", \"complete_hour\", \"telephone\", \"fail_request\", \"mail\", \"cancel\", \"fine\", \"suspension\", \"article\", \"registration\", \"hearing_statutory_deadline\", \"order\", \"fail_comply_complete_hour\", \"continue_education_calendar_year\", \"renewal\", \"public_consistent_purpose\", \"caution_receive_write_request\", \"find_allegation_contain\", \"fail_defend_allegation\", \"responsibility_administer_enforce_codify\", \"revise_find\", \"officer\", \"certificate_registration\", \"issue_inform\", \"loan\", \"license\", \"request_day_mailing_far\", \"superintendent_charge\", \"time_mailing_superintendent\", \"true\", \"application\", \"issue\", \"opportunity_hearing_regard_denial\", \"hearing_office_day\", \"broker\", \"deny\", \"appellate_right\", \"renew\", \"order_necessary_appropriate_interest\", \"require\", \"page\", \"find\", \"denial\", \"hearing\", \"violation\", \"hereto\", \"completion\", \"summary_suspension\", \"lieu\", \"intent_revoke\", \"satisfaction\", \"assessment\", \"education_requirement\", \"attendance\", \"automatically_suspend\", \"source\", \"prescribe\", \"annual\", \"amend\", \"fulfill_continue\", \"suspension\", \"default\", \"bank\", \"report_file_recommend\", \"house\", \"untimely\", \"condo\", \"treasurer\", \"suspend\", \"administrative_hearing\", \"moot\", \"appear_report_recommendation\", \"fine_dollar\", \"proceed\", \"revoke_broker_certificate\", \"terminate\", \"termination\", \"fee\", \"day\", \"basis_admit\", \"borrower\", \"order\", \"license\", \"loan\", \"require\", \"requirement\", \"settlement_agreement_enter_basis\", \"registrant\", \"officer\", \"complete_hour_approve\", \"formal_proceeding\", \"continue\", \"pay\", \"enter_settlement_agreement_lieu\", \"violation\", \"hold\", \"calendar_year\", \"issue\", \"page\", \"statement\", \"application\", \"deny\", \"violate\", \"broker\", \"hearing\", \"admit\", \"find\", \"approve_continue\", \"renewal\", \"applicant\", \"fail\", \"notico\", \"complicity\", \"material_omission\", \"fraudulent\", \"omission_statement\", \"objection_report\", \"false_misleading_statement_material\", \"file_objection_consideration\", \"wellreasoned\", \"felony_fifth_degree\", \"confirm_approve\", \"thereto\", \"thereto_administrative_hearing\", \"write_report_recommendation\", \"season\", \"money_security_section\", \"notify_right\", \"hallucinogen\", \"matter_request\", \"meet_condition_outline_authority\", \"material\", \"substantial_misrepresentation\", \"letter_explain_right\", \"copy_report_recommendation\", \"recommendation_accordingly\", \"list_paragraph\", \"report_recommendation_confirm_approve\", \"municipal\", \"submit_write\", \"security_section\", \"recommend\", \"mail_certified_mail\", \"prohibit\", \"hearing\", \"representation\", \"exam_examiner_note\", \"file\", \"license\", \"offense\", \"officer\", \"loan\", \"application\", \"compliance_purpose\", \"violation\", \"law\", \"conduct\", \"convict\", \"fail_comply\", \"warrant_belief\", \"intent_deny\", \"fitness_command_confidence_public\", \"business_operate_honestly_fairly\", \"intent_deny_loan\", \"paragraph\", \"deny\", \"hold\", \"renewal\", \"character_general\", \"follow\", \"submit\", \"applicant\", \"order\", \"opportunity_hearing_page\", \"issue\", \"require\", \"find\", \"authorize_refuse_issue\", \"collectively\", \"st\", \"credit_calendar_year\", \"previously_hold\", \"subsequently\", \"consultant\", \"require_hour\", \"specified\", \"require_licensed\", \"originate\", \"notify_intend\", \"twice\", \"d\", \"virtue\", \"indirect\", \"profit\", \"capacity\", \"knoll\", \"marihuana\", \"equity\", \"stander\", \"find_licensee\", \"define\", \"permanently\", \"opportunity\", \"permit\", \"colleague\", \"convincingly\", \"petty\", \"officer_complete_hour\", \"conduct_find_following\", \"suspend\", \"education_calendar_year_31st\", \"c\", \"question\", \"fail_complete\", \"business_conduct\", \"conviction\", \"fail_comply_authorize_refuse\", \"material\", \"calendar_year\", \"officer\", \"opportunity_hearing_page\", \"loan\", \"license\", \"approve_continue\", \"hearing\", \"provision_section_revise_rule\", \"require\", \"violate\", \"hold\", \"adopt_section_law_applicable\", \"issue\", \"exhibit\", \"application\", \"applicant\", \"fail\", \"theft\", \"deny\", \"submit\", \"order\", \"paragraph\", \"v\", \"cocaine\", \"violator\", \"cr\", \"occassion\", \"urine\", \"previously_hold\", \"determine_prove_honest_truthful\", \"anonymous\", \"good_reputation_basis_believe\", \"sample\", \"conspiracy\", \"information_provide_licensing\", \"court_pleas_plead_guilty\", \"alcoholic\", \"security_section_character_general\", \"truthful_know_information_provide\", \"probation\", \"credit_calendar_year\", \"require_licensed\", \"launder\", \"reckless\", \"amend\", \"recently\", \"fork\", \"commit_criminal_offense_involve\", \"wells\", \"robbery\", \"case\", \"require_hour\", \"false_provide_untruthful\", \"fail_comply_authorize_refuse\", \"authorize_refuse_renew\", \"renewal\", \"business_conduct\", \"officer_complete_hour\", \"renew\", \"officer\", \"loan\", \"application\", \"adopt_section_law_applicable\", \"license\", \"provision_section_revise_rule\", \"calendar_year\", \"deny\", \"violate_prohibit\", \"applicant\", \"operation_manager\", \"fitness_command_confidence_public\", \"opportunity_hearing_page\", \"education_calendar_year_31st\", \"submit\", \"violate_fail_comply\", \"find\", \"issue\", \"conduct\", \"business_operate_honestly_fairly\", \"warrant_belief\", \"approve_continue\", \"require\", \"page\", \"violation\", \"order\", \"convict\", \"hearing\", \"hold\", \"paragraph\", \"agreement\", \"money_laundering\", \"forgery\", \"launder\", \"taxis\", \"evade\", \"integrity\", \"engage_conduct\", \"mayors\", \"clerical\", \"malfunction\", \"thereunder\", \"filing\", \"competence\", \"court_pleas_plead_guilty\", \"money\", \"conspiracy\", \"amend\", \"supplementary\", \"solicitation\", \"arts\", \"registrant\", \"mental\", \"specify\", \"actually\", \"webster\", \"awareness\", \"detail\", \"felony_fourth_degree\", \"expunge\", \"refund\", \"attempt\", \"refuse_renew\", \"conceal\", \"certificate_registration\", \"branch\", \"business\", \"meet\", \"carry\", \"violation\", \"operation_manager\", \"offense\", \"information\", \"finding_list_determine\", \"failure\", \"find\", \"superintendent\", \"require\", \"plead_guilty\", \"broker_certificate_registration\", \"submit\", \"set\", \"renewal\", \"convict\", \"application\", \"conviction\", \"applicant\", \"conduct\", \"broker\", \"loan\", \"officer\", \"license\", \"order\", \"hold\", \"renew\", \"hearing\", \"deny\", \"page\"], \"Freq\": [770.0, 792.0, 645.0, 163.0, 430.0, 156.0, 169.0, 93.0, 58.0, 155.0, 40.0, 88.0, 146.0, 62.0, 35.0, 51.0, 66.0, 77.0, 65.0, 45.0, 74.0, 36.0, 73.0, 35.0, 31.0, 79.0, 65.0, 75.0, 37.0, 53.0, 5.150613273172706, 3.8928656313536876, 4.093389720556923, 7.563738830128879, 3.3826775040772503, 5.882720205995142, 1.6859527180614473, 1.1123863329374069, 11.069512503635808, 2.433025427989173, 4.182533866701549, 3.279404330396642, 13.248452558331959, 1.860783571524726, 2.9237151681098092, 0.9873360154452464, 8.049548180745509, 2.843618918058559, 1.2579274866733947, 1.8970433691783364, 2.3233865476989988, 1.382957881556762, 83.89427886754686, 2.731648009789122, 3.860558089494443, 2.27263478454922, 2.246546994535123, 2.179544879113095, 0.8772802220835636, 3.978337954077719, 10.70284814940497, 19.711663013932053, 17.5265304927028, 15.11451064053464, 19.922064819194915, 4.025736005897305, 26.273835997010213, 5.9390907944748434, 13.760196814595208, 13.894428423039619, 5.956439055731665, 18.164804103610997, 55.34582492021214, 56.434008206892294, 12.916358261358946, 24.93665474843241, 211.5464925328791, 120.00320693576955, 12.328536491718154, 157.44791300795072, 12.6432504780202, 175.77927705067455, 17.243728194685286, 44.13012031325304, 17.398594428636986, 24.127559492530438, 38.1286371052407, 39.87800500294105, 13.426754709827328, 14.254254125252153, 23.121232141978183, 21.869357771851387, 24.804761881020223, 16.68425110015469, 15.260377052514183, 15.994532116140583, 14.585605222297147, 14.625656595574206, 5.832386766323134, 9.127721381657459, 7.6656160370557185, 4.78441815706755, 10.89951069839147, 2.1689914127675594, 2.1688993464901882, 7.744254924076938, 7.2934428728327685, 3.728785427058242, 4.590593642445493, 4.437626316268583, 2.529876140240113, 4.310911371614055, 6.784827485546175, 8.02701347845225, 6.119816096925409, 15.462658272407976, 2.585414526807992, 2.308185504798566, 6.658892723224885, 5.878188548802939, 7.333488528789881, 8.500787335477602, 14.44210358775178, 17.5655710987796, 3.715224699341355, 3.9556815771265668, 17.89403024209709, 6.190136875153651, 13.427950684072076, 54.05755922830426, 13.10101936475406, 13.940339201381267, 10.931066414960338, 38.7028915245531, 39.415335300540384, 37.664549000169, 31.122227263916947, 9.570705418300689, 19.534038587896763, 120.35617450305936, 188.92613468393688, 170.13892503927582, 54.44454871378548, 21.13742201614853, 12.378664177802921, 129.06295219740625, 24.72432894456682, 24.587527980491352, 23.879176391798246, 38.277719931556724, 36.30257446263095, 23.424861059965153, 24.796443824691586, 20.26296698958226, 18.068125985255815, 19.50115981542809, 25.549682485651825, 17.610275625841602, 23.34120614817683, 18.25786664616915, 21.302641300289014, 16.212280950956995, 2.828424779077941, 7.40374948872932, 1.6122034677974, 1.6119251251814626, 7.220676212385339, 3.66526417599523, 1.502209679975603, 3.20713823770392, 3.1333467927352983, 5.39684535505729, 3.263767491856059, 3.3999339999496385, 2.662453009287124, 1.8259069712448082, 2.7136253239443864, 1.7088772146274893, 3.2519012414685045, 2.9289751976479086, 4.101038490115524, 1.242804269556903, 1.2110050189472186, 1.7155015521572843, 1.0364794771473331, 1.1210416822244886, 1.0835982533023656, 2.652621849015872, 1.0443256273002008, 3.2161668795541387, 1.775548475904555, 1.0410941902784687, 10.115494529351585, 8.720740425000388, 6.482750616609937, 6.822156462898266, 16.239704560685254, 3.732498934003114, 12.594348848035278, 6.555970514894443, 52.86349343033812, 7.905800306801519, 7.988430600490693, 56.296147084692244, 10.292259119219105, 13.245512047171228, 14.294819744125157, 12.477731032297275, 11.131315659042654, 10.851702388938754, 147.91851106702833, 19.89914273778828, 13.303970808016997, 144.22835302968804, 117.65367877449636, 13.190726541937783, 13.447525005942477, 11.918660537338013, 13.958200420132084, 69.94801582049917, 33.54045488868641, 11.926369915688221, 11.729890370968175, 17.109859927778217, 33.267536702817246, 16.1484143749296, 16.782391543002763, 12.43484459649175, 21.414730975723792, 15.080783745816422, 13.577612251228572, 12.221519595656115, 14.97566250184147, 12.452043012098073, 1.7197916739407324, 1.0495080463153303, 3.099542209330517, 0.9892991845420285, 5.315031783710143, 0.9950306578552531, 1.634970961900156, 6.346891723736445, 0.9300064764935527, 1.2374053212597336, 1.7290952686781669, 0.871103255736824, 2.7015919597461897, 1.4551578898664699, 5.3319506745636716, 14.46729236571288, 0.8262793371214471, 2.2786087609088215, 1.9231750689773144, 1.8293345844767817, 0.9588750755212571, 1.4276883034330445, 1.7298231181762713, 11.448452079339495, 2.8824012879762764, 2.1658845821777057, 2.5175317005138456, 6.597276244030523, 2.227173607730299, 1.8303750385046351, 6.477083119618589, 4.16725956707068, 8.86731745532439, 5.556451071473144, 6.747710441852177, 6.098536986412685, 26.00097893855695, 82.17889623314998, 91.35770205223695, 25.864976844992622, 9.945802302422571, 7.488153102211363, 8.5944312629058, 68.90609972890879, 3.3207315739923113, 7.211731863812167, 6.66447333908824, 5.824913578068133, 6.907861528040484, 13.270392454424407, 11.798319381248769, 10.26198324654182, 17.12742500335068, 12.206122722671513, 6.37903535280475, 22.1123799666791, 13.220658283571614, 7.543539131740589, 8.18036958660284, 10.95715405838673, 7.3392620233792565, 8.36197213419212, 7.198038926819943, 8.630111108758193, 8.070714474066412, 6.935569763250365, 1.0314163520097641, 0.9916426034210166, 1.9050303378309965, 1.8266940849154698, 2.074733636311896, 3.249363338199828, 1.9580458039011905, 2.7002099270173487, 0.6842403732738244, 2.1924932186302906, 0.6815102067512582, 0.6752914371933297, 4.0351407444347265, 2.660840609594259, 0.6747244577795853, 1.9242173251841495, 3.8474987354666643, 0.6559964990675844, 3.7846179593338545, 2.421807738793294, 2.0474379724173213, 1.8607270480112383, 3.606578665599892, 3.8961780202659764, 3.535781401894357, 4.15476952182567, 3.129851367204178, 1.7188620215794899, 3.255026545510469, 1.3172769505959299, 3.0156679927176158, 3.9016875349512317, 5.111619408272761, 29.546092792522355, 2.2858071838244776, 2.4124702531184314, 8.318560361639694, 58.10377045356983, 6.66211628182971, 52.4904544038594, 43.648349628148644, 29.202999329038448, 8.85379419767581, 10.910032317074862, 8.837091761392465, 8.714182744254003, 10.303952913936659, 6.078148709892716, 8.563457411155733, 3.9530425351715444, 7.809116440891159, 7.836853129433625, 5.626363236240312, 6.553918430045312, 9.571456203331191, 6.826792221347278, 8.782356108909383, 6.359167917592266, 5.9260755656567765, 6.292633940941003, 7.6027836521890455, 7.031949334652154, 5.546177841480501, 6.862886861232149, 6.752619282092557, 5.592881663734856, 4.242398953585696, 0.5162742025728703, 0.45175135099850217, 3.5791424770916462, 2.0162464116583196, 0.483714876000826, 0.48206898801370857, 3.6982663787771335, 0.4488048925948565, 3.8512258926307155, 2.597989495809688, 0.5713808620474476, 0.40212518560317867, 6.764023079662458, 0.41554657642428083, 0.4190571852814386, 0.4167082951607169, 0.5852150049837946, 0.4079381511519308, 0.5729695264933411, 0.5565576591599594, 0.38600877859489263, 3.6655291232244753, 0.8685036942121446, 0.37905017439428706, 0.6826092325928422, 0.7558746494834442, 0.7103259084407418, 0.3470919495315742, 0.9934666129800653, 6.443935371393329, 4.268496960807531, 5.281635476146131, 6.185579856444053, 3.303121027877296, 1.9097830762332744, 5.642077069976163, 4.536126582193014, 8.81470255199463, 3.669688984211837, 1.1390513868128478, 8.280249169998873, 58.60813268770331, 6.562831456908417, 56.8288457562147, 48.13945120100425, 5.53151939167375, 14.091397459583124, 3.9015493108556587, 13.391417782994596, 5.2325939131554735, 7.279925374133809, 3.69605984381862, 10.840028072862337, 4.610641394705821, 19.807923704184933, 8.796143798731578, 4.192179741495479, 4.1306894980516535, 4.605748737014725, 4.084813406013315, 4.236379911422238, 3.8694332196876955, 0.6977053577147505, 0.6493114422755351, 0.5758427092500734, 0.9160802812058937, 0.35120743688894984, 0.3420329804403566, 1.614523926188337, 0.8468640993180292, 0.33171567036485944, 0.8356308587723872, 0.3259186119071034, 0.8802074753987945, 1.6317348987436162, 0.9890992279976545, 0.3128178229079929, 0.9467128184867379, 1.6857187791490245, 1.159539848853276, 2.308997048476162, 3.0084395907771957, 0.356000214009227, 0.2777300247073566, 0.6444746515363662, 0.27628234146458563, 0.2758050172982093, 0.813836585678722, 1.6115707771175658, 0.6817433010163919, 3.937129538428618, 2.2686961077897907, 1.3250357632250132, 3.7225085412000873, 2.460955597584929, 20.35053789604551, 4.296667376477134, 4.869771297102456, 8.31168430929091, 68.90327047717467, 65.84025399897176, 38.926725352841395, 3.9212286182944682, 44.92229346964215, 3.895753912267062, 6.534847924358215, 13.327706036329076, 4.7625757752412845, 12.843932815633812, 4.941087010989885, 7.222905061383053, 5.457017946775717, 4.207156385466483, 6.569805564637744, 3.8614654202148544, 6.21742547078236, 9.136231209003121, 5.432303475983713, 5.744480541802239, 5.706357216099751, 4.038191162311517, 6.931042045935145, 5.3907645051616715, 5.354355121559554, 6.243543199306088, 5.0879470413155925, 4.637380801555919, 4.277937816386618, 4.17535831106932, 0.68889398465584, 0.6445058842292359, 0.9615839859264288, 0.6033946779666419, 0.37935239931844755, 0.366143124336748, 0.38792070839912146, 0.383012671821299, 0.3799786662133567, 0.35116832105928103, 0.348745906300564, 0.34120442009802054, 0.3204129995963035, 0.3414187904289527, 0.9424150022750617, 0.7576228405235024, 0.7521555465411772, 0.639734768486714, 0.29774718122356414, 0.493228207238517, 0.2778161939320369, 6.744408280803458, 0.2703621302652602, 0.38395564111113584, 0.2706083376089315, 0.2589087774403351, 0.25816044920638037, 0.2545083319152783, 1.2228297401913464, 0.2514022969422126, 0.7545121859315111, 1.9230655063702649, 2.474610515447438, 0.7574051680822914, 7.125221780533681, 1.2498656847129457, 5.850227770400843, 1.0212581218629455, 0.9447468258063302, 6.782313571595713, 4.01662717168215, 3.3554606401368128, 1.6369231747886623, 1.5215990746421417, 2.633420272629603, 4.674460372996893, 2.3918141361174143, 6.835193232054994, 2.3650231481401383, 3.0401239179693076, 4.075439957155622, 2.1840157384425485, 6.33758082300562, 4.278806722708352, 10.060939508996476, 3.4632332476860057, 5.4970612723670556, 3.230780694285433, 3.0349510121215406, 8.975298508648649, 8.83926383967027, 7.777877806605549, 4.143222741751064, 2.8744617816387548, 2.5519658175494717, 3.139186425823731, 2.8617259091943072, 2.4079412424636084], \"Total\": [770.0, 792.0, 645.0, 163.0, 430.0, 156.0, 169.0, 93.0, 58.0, 155.0, 40.0, 88.0, 146.0, 62.0, 35.0, 51.0, 66.0, 77.0, 65.0, 45.0, 74.0, 36.0, 73.0, 35.0, 31.0, 79.0, 65.0, 75.0, 37.0, 53.0, 6.891626345808797, 5.3338139876941675, 5.835616654272135, 12.092034707946365, 5.490771949548364, 9.781179080302794, 2.8161941158344033, 1.8815419440063865, 18.909916842101072, 4.159067774227776, 7.3072400457009, 5.743813295427063, 23.281810656328247, 3.29217443150203, 5.557652339533895, 1.8863907940311324, 15.634244153794759, 5.539749200600965, 2.4692364166714214, 3.7610352936871587, 4.632767573885545, 2.7677824905612365, 169.07267304102612, 5.5377236952663305, 7.876574382373854, 4.650724489698682, 4.598916475586398, 4.476802224223198, 1.8031203078900686, 8.203425301862989, 22.324279609313717, 41.70737365304334, 37.40485189030502, 32.34459227576872, 43.7094907368844, 8.477501049567605, 62.79467169055825, 12.825787643064437, 31.793606355481682, 32.38694121379283, 12.979614959247925, 44.49646670609472, 156.0339051081023, 163.9814816048982, 30.891148909914453, 65.74219711370836, 792.5642205460637, 430.4183651210684, 29.93279218033257, 645.2868331438251, 31.00924864000153, 770.3711439389563, 45.3446074925283, 149.1448820333201, 46.85638534905504, 75.6853696282713, 155.6211917316654, 171.1773855889847, 33.803084964845446, 37.11946227808598, 88.82251073529073, 87.01586198408481, 146.62697073733585, 66.4204565948165, 51.43627150228353, 74.87790115102219, 64.26194518306501, 73.9089451970983, 7.461061008144273, 11.71513567432404, 10.023718642304082, 6.366970598615907, 14.676710484229396, 2.945753640499257, 2.9456784173139874, 10.64811325335698, 10.132140570138075, 5.262352337737874, 6.494317730844889, 6.294086750942733, 3.6051618140057062, 6.202977993893076, 9.87593009503333, 11.875572903990163, 9.13553332511293, 23.25232808594228, 3.909856991050705, 3.525844326697234, 10.17335711671013, 9.034500173771136, 11.329379560351148, 13.251922542095647, 22.523974603728874, 27.598978864215443, 5.86298856583749, 6.25630343002049, 28.32604879804531, 9.886636358784761, 21.889580619818325, 93.68253899385502, 21.603919344395187, 23.791350333628305, 18.672898071906374, 77.80477073505847, 79.95008426251388, 78.42522837431953, 62.9927740776912, 16.70252482209438, 41.22530094407421, 430.4183651210684, 770.3711439389563, 792.5642205460637, 171.1773855889847, 48.68134427529253, 23.546042694209866, 645.2868331438251, 63.140623366591804, 63.37758051576194, 66.4204565948165, 169.07267304102612, 155.6211917316654, 73.9089451970983, 87.01586198408481, 65.33648704114057, 53.85858190767164, 64.26194518306501, 149.1448820333201, 54.94529348326434, 156.0339051081023, 74.87790115102219, 146.62697073733585, 53.25890119173113, 3.7070956121020897, 10.660157185113361, 2.327157623522215, 2.3270655627678156, 10.565134415177438, 5.41791341130395, 2.2566743330075902, 4.875196501648233, 4.798384476192388, 8.47406345420919, 5.161766090579238, 5.408826500756283, 4.461031932629642, 3.0625642603366208, 4.572099679831649, 2.8979966669057315, 5.530706852679348, 5.028794579603696, 7.142839976889215, 2.1921349962275505, 2.1896736245557653, 3.1021919583915993, 1.942193522997126, 2.100734077777122, 2.042519782678849, 5.0757294198398, 2.010006589048662, 6.1977796018042515, 3.4408296276725143, 2.023250573483903, 20.20321143828242, 17.51686404643289, 13.04968131886999, 14.02628851117993, 35.777591318558216, 7.49518561948934, 27.444224956542346, 14.007059576758632, 146.62697073733585, 17.436537679858827, 17.653003697892817, 163.9814816048982, 23.61208212395666, 33.22566111959818, 36.8382440753863, 31.32807953350957, 27.51250676809232, 26.845976332794375, 770.3711439389563, 58.78139991430182, 35.06458426696595, 792.5642205460637, 645.2868331438251, 35.25958632968836, 36.90646665910285, 31.677768999951837, 40.09339410130382, 430.4183651210684, 149.1448820333201, 32.53145924445814, 32.08259952761139, 59.36245944012079, 171.1773855889847, 54.94529348326434, 65.74219711370836, 36.11478432741308, 155.6211917316654, 87.01586198408481, 74.87790115102219, 49.385551070367626, 156.0339051081023, 88.82251073529073, 2.9763492570317287, 1.9528558270950722, 5.976511221823551, 1.9143691122195907, 10.40284999736631, 1.9486344192500393, 3.2550098361544375, 12.982620921913162, 1.9435113076932962, 2.648171653892872, 3.875856564768185, 2.0783423714033717, 6.462949525687675, 3.5696883649014293, 13.154804442556122, 35.777591318558216, 2.093632839685044, 5.872055702033125, 5.012139356681998, 4.821198074832585, 2.5709691596400854, 3.8552025044063516, 4.678658509569446, 31.133640577256443, 7.881049558868425, 6.026041284523406, 7.031397277099328, 18.52695612517945, 6.395141332691542, 5.347053705927144, 19.14269577335329, 12.754646955920402, 29.89302930055866, 18.214630641253795, 23.26029471238011, 21.885207603463392, 146.62697073733585, 645.2868331438251, 792.5642205460637, 155.6211917316654, 46.85638534905504, 32.38694121379283, 40.54415438722575, 770.3711439389563, 10.655260934274718, 32.34459227576872, 28.949131800895344, 23.97630866610574, 31.793606355481682, 88.82251073529073, 75.6853696282713, 62.79467169055825, 149.1448820333201, 87.01586198408481, 30.670847232471697, 430.4183651210684, 171.1773855889847, 46.615655086858176, 59.36245944012079, 156.0339051081023, 44.49646670609472, 74.87790115102219, 43.7094907368844, 163.9814816048982, 169.07267304102612, 44.69194120377963, 1.882687539804985, 1.8622105687066994, 3.806077323756128, 3.8316202511443795, 4.610169469260997, 7.589884896844468, 4.597242724650755, 6.624251678019559, 1.771185258448755, 5.789002975317916, 1.816398845982059, 1.8277872419822494, 11.08452957519416, 7.390042965506521, 1.8835991545285076, 5.4685740117143835, 11.020904723641033, 1.8847740995579936, 11.034703143231228, 7.161555895668867, 6.058821917984791, 5.517029759301945, 10.970788429091256, 12.04017564457416, 11.003570855530421, 13.230650123345411, 9.992351026040708, 5.522107596072992, 10.823937005167155, 4.408933033465354, 10.22892580018627, 13.395611754790975, 19.504390854774517, 156.0339051081023, 7.721247683024858, 9.025733337321334, 45.50414009332805, 645.2868331438251, 36.61411096505235, 770.3711439389563, 792.5642205460637, 430.4183651210684, 63.140623366591804, 88.82251073529073, 63.37758051576194, 65.33648704114057, 93.68253899385502, 35.923076176918016, 79.95008426251388, 17.48001984354886, 77.80477073505847, 78.42522837431953, 40.65031522131496, 64.26194518306501, 171.1773855889847, 75.6853696282713, 163.9814816048982, 62.9927740776912, 53.85858190767164, 73.9089451970983, 169.07267304102612, 146.62697073733585, 53.25890119173113, 149.1448820333201, 155.6211917316654, 74.87790115102219, 8.973087771064456, 1.6745642532291112, 1.499724666606814, 12.189721534789639, 6.877311041557066, 1.6573341788102716, 1.6816958618247855, 13.176534847466607, 1.7561622287228287, 16.01792804231173, 10.856393276411362, 2.4062643886549786, 1.7785462894980946, 29.93279218033257, 1.8571999130117058, 1.8838912969754906, 1.8771362097676396, 2.645535622846736, 1.852984119643092, 2.616065918286784, 2.6482034108223873, 1.8672914859882794, 17.86298080646916, 4.2553836619226235, 1.8619714562630973, 3.359434246243452, 3.7361597264357225, 3.5686247753619353, 1.7641213237635733, 5.219541206774434, 35.357569705171, 23.13115436281739, 31.133640577256443, 37.11946227808598, 19.61140030736803, 10.744053161558936, 37.40485189030502, 30.098638752640955, 66.4204565948165, 23.99420803850162, 6.058821917984791, 62.79467169055825, 770.3711439389563, 53.25890119173113, 792.5642205460637, 645.2868331438251, 43.7094907368844, 156.0339051081023, 29.912002540184325, 155.6211917316654, 46.615655086858176, 75.6853696282713, 29.601353525769785, 149.1448820333201, 41.70737365304334, 430.4183651210684, 169.07267304102612, 44.69194120377963, 48.68134427529253, 171.1773855889847, 73.9089451970983, 146.62697073733585, 64.26194518306501, 1.8643218159462644, 1.943146094102506, 2.062413380082047, 3.506834822560534, 1.4137277416625973, 1.4293250997840896, 6.877311041557066, 3.663626678074126, 1.4449879422288687, 3.6814046499515634, 1.4556530920046091, 4.049005468559457, 7.566710219067652, 4.608079539735327, 1.4768190601678766, 4.633584343590542, 8.449005365680575, 5.906288623559432, 12.189721534789639, 16.01792804231173, 1.9148391777270062, 1.5189987253077402, 3.5696883649014293, 1.5337072822204554, 1.550715828953309, 4.592305963480561, 9.168295276244383, 3.926228072517922, 22.85775409992731, 13.176534847466607, 8.082527635915662, 23.99420803850162, 15.634244153794759, 163.9814816048982, 30.098638752640955, 35.357569705171, 65.74219711370836, 770.3711439389563, 792.5642205460637, 430.4183651210684, 29.601353525769785, 645.2868331438251, 29.912002540184325, 62.79467169055825, 171.1773855889847, 41.22530094407421, 169.07267304102612, 45.17181807836947, 77.80477073505847, 53.25890119173113, 37.11946227808598, 73.9089451970983, 33.803084964845446, 74.87790115102219, 149.1448820333201, 65.33648704114057, 78.42522837431953, 79.95008426251388, 43.7094907368844, 155.6211917316654, 87.01586198408481, 88.82251073529073, 146.62697073733585, 93.68253899385502, 156.0339051081023, 75.6853696282713, 64.26194518306501, 1.9409618411136917, 1.9581084904978725, 3.024708019724602, 1.9148391777270062, 1.4158863483388675, 1.4095070150801758, 1.5972493644807149, 1.6015445984333698, 1.6139229176379597, 1.5461539242502258, 1.5597921189267923, 1.5342064525382915, 1.5271775384536614, 1.6382975861841258, 4.608079539735327, 3.904245239422209, 4.049005468559457, 3.5696883649014293, 1.676845029364443, 2.8743594375502948, 1.6243354696020937, 40.54415438722575, 1.6873117773806816, 2.3964705137568227, 1.6930281184762468, 1.7017128775872916, 1.7005622193059544, 1.695738851998971, 8.250297957904824, 1.702618102343426, 5.161766090579238, 13.58219218363688, 18.256409597294073, 5.260603501273761, 58.78139991430182, 9.08304610408841, 51.43627150228353, 7.358232966561909, 6.943206193774553, 88.82251073529073, 45.17181807836947, 36.61411096505235, 14.961337602647871, 14.019952713599258, 31.5583259432456, 74.87790115102219, 30.072922706046096, 155.6211917316654, 29.83995241794647, 45.3446074925283, 73.9089451970983, 27.24407647857096, 163.9814816048982, 93.68253899385502, 430.4183651210684, 66.4204565948165, 169.07267304102612, 65.33648704114057, 59.36245944012079, 792.5642205460637, 770.3711439389563, 645.2868331438251, 146.62697073733585, 75.6853696282713, 65.74219711370836, 156.0339051081023, 171.1773855889847, 87.01586198408481], \"Category\": [\"Default\", \"Default\", \"Default\", \"Default\", \"Default\", \"Default\", \"Default\", \"Default\", \"Default\", \"Default\", \"Default\", \"Default\", \"Default\", \"Default\", \"Default\", \"Default\", \"Default\", \"Default\", \"Default\", \"Default\", \"Default\", \"Default\", \"Default\", \"Default\", \"Default\", \"Default\", \"Default\", \"Default\", \"Default\", \"Default\", \"Topic1\", \"Topic1\", \"Topic1\", \"Topic1\", \"Topic1\", \"Topic1\", \"Topic1\", \"Topic1\", \"Topic1\", \"Topic1\", \"Topic1\", \"Topic1\", \"Topic1\", \"Topic1\", \"Topic1\", \"Topic1\", \"Topic1\", \"Topic1\", \"Topic1\", \"Topic1\", \"Topic1\", \"Topic1\", \"Topic1\", \"Topic1\", \"Topic1\", \"Topic1\", \"Topic1\", \"Topic1\", \"Topic1\", \"Topic1\", \"Topic1\", \"Topic1\", \"Topic1\", \"Topic1\", \"Topic1\", \"Topic1\", \"Topic1\", \"Topic1\", \"Topic1\", \"Topic1\", \"Topic1\", \"Topic1\", \"Topic1\", \"Topic1\", \"Topic1\", \"Topic1\", \"Topic1\", \"Topic1\", \"Topic1\", \"Topic1\", \"Topic1\", \"Topic1\", \"Topic1\", \"Topic1\", \"Topic1\", \"Topic1\", \"Topic1\", \"Topic1\", \"Topic1\", \"Topic1\", \"Topic1\", \"Topic1\", \"Topic1\", \"Topic1\", \"Topic1\", \"Topic1\", \"Topic1\", \"Topic1\", \"Topic2\", \"Topic2\", \"Topic2\", \"Topic2\", \"Topic2\", \"Topic2\", \"Topic2\", \"Topic2\", \"Topic2\", \"Topic2\", \"Topic2\", \"Topic2\", \"Topic2\", \"Topic2\", \"Topic2\", \"Topic2\", \"Topic2\", \"Topic2\", \"Topic2\", \"Topic2\", \"Topic2\", \"Topic2\", \"Topic2\", \"Topic2\", \"Topic2\", \"Topic2\", \"Topic2\", \"Topic2\", \"Topic2\", \"Topic2\", \"Topic2\", \"Topic2\", \"Topic2\", \"Topic2\", \"Topic2\", \"Topic2\", \"Topic2\", \"Topic2\", \"Topic2\", \"Topic2\", \"Topic2\", \"Topic2\", \"Topic2\", \"Topic2\", \"Topic2\", \"Topic2\", \"Topic2\", \"Topic2\", \"Topic2\", \"Topic2\", \"Topic2\", \"Topic2\", \"Topic2\", \"Topic2\", \"Topic2\", \"Topic2\", \"Topic2\", \"Topic2\", \"Topic2\", \"Topic2\", \"Topic2\", \"Topic2\", \"Topic2\", \"Topic2\", \"Topic3\", \"Topic3\", \"Topic3\", \"Topic3\", \"Topic3\", \"Topic3\", \"Topic3\", \"Topic3\", \"Topic3\", \"Topic3\", \"Topic3\", \"Topic3\", \"Topic3\", \"Topic3\", \"Topic3\", \"Topic3\", \"Topic3\", \"Topic3\", \"Topic3\", \"Topic3\", \"Topic3\", \"Topic3\", \"Topic3\", \"Topic3\", \"Topic3\", \"Topic3\", \"Topic3\", \"Topic3\", \"Topic3\", \"Topic3\", \"Topic3\", \"Topic3\", \"Topic3\", \"Topic3\", \"Topic3\", \"Topic3\", \"Topic3\", \"Topic3\", \"Topic3\", \"Topic3\", \"Topic3\", \"Topic3\", \"Topic3\", \"Topic3\", \"Topic3\", \"Topic3\", \"Topic3\", \"Topic3\", \"Topic3\", \"Topic3\", \"Topic3\", \"Topic3\", \"Topic3\", \"Topic3\", \"Topic3\", \"Topic3\", \"Topic3\", \"Topic3\", \"Topic3\", \"Topic3\", \"Topic3\", \"Topic3\", \"Topic3\", \"Topic3\", \"Topic3\", \"Topic3\", \"Topic3\", \"Topic3\", \"Topic3\", \"Topic3\", \"Topic3\", \"Topic3\", \"Topic4\", \"Topic4\", \"Topic4\", \"Topic4\", \"Topic4\", \"Topic4\", \"Topic4\", \"Topic4\", \"Topic4\", \"Topic4\", \"Topic4\", \"Topic4\", \"Topic4\", \"Topic4\", \"Topic4\", \"Topic4\", \"Topic4\", \"Topic4\", \"Topic4\", \"Topic4\", \"Topic4\", \"Topic4\", \"Topic4\", \"Topic4\", \"Topic4\", \"Topic4\", \"Topic4\", \"Topic4\", \"Topic4\", \"Topic4\", \"Topic4\", \"Topic4\", \"Topic4\", \"Topic4\", \"Topic4\", \"Topic4\", \"Topic4\", \"Topic4\", \"Topic4\", \"Topic4\", \"Topic4\", \"Topic4\", \"Topic4\", \"Topic4\", \"Topic4\", \"Topic4\", \"Topic4\", \"Topic4\", \"Topic4\", \"Topic4\", \"Topic4\", \"Topic4\", \"Topic4\", \"Topic4\", \"Topic4\", \"Topic4\", \"Topic4\", \"Topic4\", \"Topic4\", \"Topic4\", \"Topic4\", \"Topic4\", \"Topic4\", \"Topic4\", \"Topic4\", \"Topic4\", \"Topic5\", \"Topic5\", \"Topic5\", \"Topic5\", \"Topic5\", \"Topic5\", \"Topic5\", \"Topic5\", \"Topic5\", \"Topic5\", \"Topic5\", \"Topic5\", \"Topic5\", \"Topic5\", \"Topic5\", \"Topic5\", \"Topic5\", \"Topic5\", \"Topic5\", \"Topic5\", \"Topic5\", \"Topic5\", \"Topic5\", \"Topic5\", \"Topic5\", \"Topic5\", \"Topic5\", \"Topic5\", \"Topic5\", \"Topic5\", \"Topic5\", \"Topic5\", \"Topic5\", \"Topic5\", \"Topic5\", \"Topic5\", \"Topic5\", \"Topic5\", \"Topic5\", \"Topic5\", \"Topic5\", \"Topic5\", \"Topic5\", \"Topic5\", \"Topic5\", \"Topic5\", \"Topic5\", \"Topic5\", \"Topic5\", \"Topic5\", \"Topic5\", \"Topic5\", \"Topic5\", \"Topic5\", \"Topic5\", \"Topic5\", \"Topic5\", \"Topic5\", \"Topic5\", \"Topic5\", \"Topic5\", \"Topic5\", \"Topic5\", \"Topic5\", \"Topic5\", \"Topic5\", \"Topic6\", \"Topic6\", \"Topic6\", \"Topic6\", \"Topic6\", \"Topic6\", \"Topic6\", \"Topic6\", \"Topic6\", \"Topic6\", \"Topic6\", \"Topic6\", \"Topic6\", \"Topic6\", \"Topic6\", \"Topic6\", \"Topic6\", \"Topic6\", \"Topic6\", \"Topic6\", \"Topic6\", \"Topic6\", \"Topic6\", \"Topic6\", \"Topic6\", \"Topic6\", \"Topic6\", \"Topic6\", \"Topic6\", \"Topic6\", \"Topic6\", \"Topic6\", \"Topic6\", \"Topic6\", \"Topic6\", \"Topic6\", \"Topic6\", \"Topic6\", \"Topic6\", \"Topic6\", \"Topic6\", \"Topic6\", \"Topic6\", \"Topic6\", \"Topic6\", \"Topic6\", \"Topic6\", \"Topic6\", \"Topic6\", \"Topic6\", \"Topic6\", \"Topic6\", \"Topic6\", \"Topic6\", \"Topic6\", \"Topic6\", \"Topic6\", \"Topic6\", \"Topic6\", \"Topic6\", \"Topic6\", \"Topic6\", \"Topic6\", \"Topic7\", \"Topic7\", \"Topic7\", \"Topic7\", \"Topic7\", \"Topic7\", \"Topic7\", \"Topic7\", \"Topic7\", \"Topic7\", \"Topic7\", \"Topic7\", \"Topic7\", \"Topic7\", \"Topic7\", \"Topic7\", \"Topic7\", \"Topic7\", \"Topic7\", \"Topic7\", \"Topic7\", \"Topic7\", \"Topic7\", \"Topic7\", \"Topic7\", \"Topic7\", \"Topic7\", \"Topic7\", \"Topic7\", \"Topic7\", \"Topic7\", \"Topic7\", \"Topic7\", \"Topic7\", \"Topic7\", \"Topic7\", \"Topic7\", \"Topic7\", \"Topic7\", \"Topic7\", \"Topic7\", \"Topic7\", \"Topic7\", \"Topic7\", \"Topic7\", \"Topic7\", \"Topic7\", \"Topic7\", \"Topic7\", \"Topic7\", \"Topic7\", \"Topic7\", \"Topic7\", \"Topic7\", \"Topic7\", \"Topic7\", \"Topic7\", \"Topic7\", \"Topic7\", \"Topic7\", \"Topic7\", \"Topic7\", \"Topic7\", \"Topic7\", \"Topic7\", \"Topic7\", \"Topic7\", \"Topic8\", \"Topic8\", \"Topic8\", \"Topic8\", \"Topic8\", \"Topic8\", \"Topic8\", \"Topic8\", \"Topic8\", \"Topic8\", \"Topic8\", \"Topic8\", \"Topic8\", \"Topic8\", \"Topic8\", \"Topic8\", \"Topic8\", \"Topic8\", \"Topic8\", \"Topic8\", \"Topic8\", \"Topic8\", \"Topic8\", \"Topic8\", \"Topic8\", \"Topic8\", \"Topic8\", \"Topic8\", \"Topic8\", \"Topic8\", \"Topic8\", \"Topic8\", \"Topic8\", \"Topic8\", \"Topic8\", \"Topic8\", \"Topic8\", \"Topic8\", \"Topic8\", \"Topic8\", \"Topic8\", \"Topic8\", \"Topic8\", \"Topic8\", \"Topic8\", \"Topic8\", \"Topic8\", \"Topic8\", \"Topic8\", \"Topic8\", \"Topic8\", \"Topic8\", \"Topic8\", \"Topic8\", \"Topic8\", \"Topic8\", \"Topic8\", \"Topic8\", \"Topic8\", \"Topic8\", \"Topic8\", \"Topic8\", \"Topic8\", \"Topic8\", \"Topic8\", \"Topic8\", \"Topic8\", \"Topic8\"], \"logprob\": [30.0, 29.0, 28.0, 27.0, 26.0, 25.0, 24.0, 23.0, 22.0, 21.0, 20.0, 19.0, 18.0, 17.0, 16.0, 15.0, 14.0, 13.0, 12.0, 11.0, 10.0, 9.0, 8.0, 7.0, 6.0, 5.0, 4.0, 3.0, 2.0, 1.0, -6.5824, -6.8624, -6.8122, -6.1982, -7.0029, -6.4495, -7.6992, -8.1151, -5.8174, -7.3324, -6.7906, -7.0339, -5.6377, -7.6006, -7.1487, -8.2343, -6.1359, -7.1765, -7.9921, -7.5813, -7.3785, -7.8973, -3.792, -7.2167, -6.8707, -7.4006, -7.4122, -7.4424, -8.3525, -6.8407, -5.8511, -5.2403, -5.3578, -5.5059, -5.2297, -6.8289, -4.953, -6.44, -5.5998, -5.5901, -6.4371, -5.3221, -4.208, -4.1885, -5.6631, -5.0052, -2.8671, -3.434, -5.7096, -3.1625, -5.6844, -3.0523, -5.3741, -4.4344, -5.3652, -5.0382, -4.5806, -4.5357, -5.6243, -5.5645, -5.0808, -5.1365, -5.0105, -5.4071, -5.4963, -5.4493, -5.5415, -5.5388, -6.3707, -5.9228, -6.0974, -6.5688, -5.7454, -7.3599, -7.3599, -6.0872, -6.1471, -6.818, -6.6101, -6.644, -7.2059, -6.673, -6.2194, -6.0513, -6.3226, -5.3957, -7.1842, -7.2977, -6.2382, -6.3629, -6.1417, -5.994, -5.464, -5.2682, -6.8217, -6.759, -5.2497, -6.3112, -5.5368, -4.1441, -5.5614, -5.4993, -5.7425, -4.4782, -4.46, -4.5054, -4.6962, -5.8754, -5.162, -3.3437, -2.8928, -2.9975, -4.1369, -5.0831, -5.6181, -3.2738, -4.9263, -4.9319, -4.9611, -4.4892, -4.5422, -4.9803, -4.9234, -5.1253, -5.24, -5.1636, -4.8935, -5.2656, -4.9839, -5.2295, -5.0753, -5.3483, -6.8462, -5.8839, -7.4083, -7.4085, -5.909, -6.587, -7.479, -6.7205, -6.7438, -6.2001, -6.703, -6.6622, -6.9067, -7.2838, -6.8876, -7.3501, -6.7067, -6.8113, -6.4747, -7.6685, -7.6945, -7.3462, -7.8501, -7.7717, -7.8056, -6.9104, -7.8425, -6.7177, -7.3118, -7.8456, -5.5718, -5.7202, -6.0168, -5.9657, -5.0985, -6.5688, -5.3527, -6.0055, -3.9182, -5.8183, -5.8079, -3.8553, -5.5545, -5.3023, -5.226, -5.362, -5.4762, -5.5016, -2.8893, -4.8952, -5.2979, -2.9145, -3.1182, -5.3064, -5.2871, -5.4078, -5.2498, -3.6382, -4.3732, -5.4072, -5.4238, -5.0463, -4.3813, -5.1041, -5.0656, -5.3654, -4.8218, -5.1725, -5.2775, -5.3827, -5.1795, -5.364, -6.8821, -7.376, -6.293, -7.435, -5.7537, -7.4293, -6.9327, -5.5763, -7.4968, -7.2113, -6.8767, -7.5623, -6.4304, -7.0492, -5.7506, -4.7524, -7.6151, -6.6007, -6.7703, -6.8203, -7.4663, -7.0682, -6.8763, -4.9864, -6.3657, -6.6514, -6.501, -5.5376, -6.6235, -6.8198, -5.556, -5.997, -5.2419, -5.7093, -5.5151, -5.6162, -4.1661, -3.0154, -2.9095, -4.1714, -5.1271, -5.411, -5.2732, -3.1915, -6.2241, -5.4486, -5.5275, -5.6621, -5.4916, -4.8387, -4.9563, -5.0958, -4.5836, -4.9223, -5.5713, -4.3281, -4.8425, -5.4036, -5.3225, -5.0303, -5.431, -5.3006, -5.4505, -5.269, -5.336, -5.4876, -7.1058, -7.1451, -6.4923, -6.5342, -6.4069, -5.9583, -6.4648, -6.1434, -7.5162, -6.3517, -7.5202, -7.5294, -5.7417, -6.1581, -7.5302, -6.4822, -5.7893, -7.5584, -5.8058, -6.2522, -6.4202, -6.5158, -5.854, -5.7768, -5.8738, -5.7125, -5.9958, -6.5951, -5.9566, -6.8612, -6.0329, -5.7753, -5.5052, -3.7508, -6.31, -6.2561, -5.0183, -3.0745, -5.2403, -3.1761, -3.3606, -3.7625, -4.9559, -4.7471, -4.9578, -4.9718, -4.8042, -5.3321, -4.9893, -5.7623, -5.0815, -5.0779, -5.4093, -5.2567, -4.878, -5.2159, -4.964, -5.2869, -5.3574, -5.2974, -5.1082, -5.1863, -5.4236, -5.2106, -5.2268, -5.4153, -5.4911, -7.5973, -7.7308, -5.6611, -6.235, -7.6625, -7.6659, -5.6284, -7.7374, -5.5878, -5.9815, -7.4959, -7.8472, -5.0246, -7.8144, -7.806, -7.8116, -7.472, -7.8329, -7.4931, -7.5222, -7.8881, -5.6373, -7.0772, -7.9063, -7.3181, -7.2161, -7.2783, -7.9944, -6.9428, -5.0731, -5.485, -5.272, -5.114, -5.7414, -6.2892, -5.206, -5.4242, -4.7598, -5.6361, -6.806, -4.8224, -2.8654, -5.0548, -2.8962, -3.0621, -5.2258, -4.2907, -5.5749, -4.3416, -5.2813, -4.9511, -5.629, -4.553, -5.4079, -3.9501, -4.7619, -5.503, -5.5178, -5.4089, -5.5289, -5.4925, -5.5831, -7.2785, -7.3504, -7.4705, -7.0062, -7.965, -7.9914, -6.4395, -7.0848, -8.0221, -7.0982, -8.0397, -7.0462, -6.4289, -6.9296, -8.0807, -6.9733, -6.3964, -6.7706, -6.0818, -5.8172, -7.9514, -8.1997, -7.3579, -8.2049, -8.2067, -7.1246, -6.4414, -7.3017, -5.5481, -6.0994, -6.6372, -5.6042, -6.018, -3.9055, -5.4608, -5.3355, -4.8009, -2.6859, -2.7314, -3.2569, -5.5522, -3.1137, -5.5587, -5.0414, -4.3287, -5.3578, -4.3657, -5.321, -4.9413, -5.2217, -5.4818, -5.0361, -5.5675, -5.0912, -4.7063, -5.2262, -5.1704, -5.177, -5.5228, -4.9826, -5.2339, -5.2407, -5.087, -5.2917, -5.3844, -5.4651, -5.4894, -6.7236, -6.7902, -6.3901, -6.8561, -7.3202, -7.3557, -7.2979, -7.3106, -7.3186, -7.3974, -7.4043, -7.4262, -7.4891, -7.4256, -6.4102, -6.6285, -6.6357, -6.7976, -7.5624, -7.0577, -7.6317, -4.4422, -7.6589, -7.3082, -7.658, -7.7022, -7.7051, -7.7194, -6.1498, -7.7316, -6.6326, -5.697, -5.4449, -6.6288, -4.3873, -6.1279, -4.5845, -6.3299, -6.4078, -4.4366, -4.9605, -5.1403, -5.8581, -5.9312, -5.3827, -4.8088, -5.4789, -4.4289, -5.4901, -5.239, -4.946, -5.5698, -4.5044, -4.8973, -4.0423, -5.1087, -4.6467, -5.1782, -5.2407, -4.1565, -4.1717, -4.2997, -4.9295, -5.2951, -5.4141, -5.207, -5.2995, -5.4722], \"loglift\": [30.0, 29.0, 28.0, 27.0, 26.0, 25.0, 24.0, 23.0, 22.0, 21.0, 20.0, 19.0, 18.0, 17.0, 16.0, 15.0, 14.0, 13.0, 12.0, 11.0, 10.0, 9.0, 8.0, 7.0, 6.0, 5.0, 4.0, 3.0, 2.0, 1.0, 1.1251, 1.1014, 1.0617, 0.9472, 0.9319, 0.9079, 0.9033, 0.8907, 0.8808, 0.8802, 0.8584, 0.8559, 0.8525, 0.8458, 0.774, 0.7689, 0.7525, 0.7495, 0.7419, 0.7319, 0.7262, 0.7225, 0.7156, 0.7097, 0.7033, 0.7002, 0.6999, 0.6965, 0.6959, 0.6926, 0.6812, 0.6669, 0.6582, 0.6555, 0.6306, 0.6716, 0.545, 0.6464, 0.5788, 0.5701, 0.6374, 0.5204, 0.3799, 0.3497, 0.5444, 0.4469, 0.0955, 0.1391, 0.5293, 0.0057, 0.5192, -0.0613, 0.4495, 0.1986, 0.4256, 0.2731, 0.0099, -0.0405, 0.493, 0.4592, 0.0704, 0.0353, -0.3605, 0.0348, 0.2012, -0.1273, -0.0666, -0.2037, 1.2575, 1.2542, 1.2356, 1.218, 1.2062, 1.1977, 1.1977, 1.1853, 1.175, 1.1593, 1.1569, 1.1543, 1.1496, 1.1399, 1.1284, 1.1121, 1.1031, 1.0958, 1.0902, 1.0801, 1.08, 1.074, 1.0688, 1.0598, 1.0593, 1.0519, 1.0476, 1.0453, 1.0445, 1.0355, 1.0151, 0.9539, 1.0036, 0.9692, 0.9683, 0.8055, 0.7965, 0.7703, 0.7987, 0.9469, 0.7569, 0.2295, 0.0983, -0.0349, 0.3583, 0.6695, 0.8608, -0.1056, 0.5662, 0.5569, 0.4808, 0.0183, 0.0482, 0.3547, 0.2484, 0.333, 0.4116, 0.3113, -0.2605, 0.3659, -0.3961, 0.0925, -0.4253, 0.3144, 1.4814, 1.3875, 1.3849, 1.3848, 1.3714, 1.3612, 1.345, 1.3332, 1.3258, 1.3008, 1.2936, 1.2877, 1.2358, 1.2348, 1.2303, 1.2238, 1.2209, 1.2114, 1.1971, 1.1845, 1.1597, 1.1596, 1.124, 1.1239, 1.1181, 1.1031, 1.0972, 1.096, 1.0904, 1.0875, 1.0602, 1.0545, 1.0524, 1.0312, 0.9621, 1.0548, 0.9731, 0.9928, 0.7318, 0.961, 0.9591, 0.6828, 0.9216, 0.8323, 0.8053, 0.8314, 0.8471, 0.8462, 0.1018, 0.6688, 0.7828, 0.0481, 0.05, 0.7688, 0.7424, 0.7745, 0.6968, -0.065, 0.2598, 0.7485, 0.7458, 0.508, 0.1139, 0.5275, 0.3866, 0.6858, -0.2314, -0.0007, 0.0445, 0.3555, -0.5917, -0.2128, 1.6651, 1.5926, 1.557, 1.5535, 1.5421, 1.5415, 1.525, 1.498, 1.4766, 1.4528, 1.4064, 1.3441, 1.3414, 1.3163, 1.3105, 1.3082, 1.2839, 1.267, 1.2557, 1.2445, 1.2273, 1.2202, 1.2186, 1.2132, 1.2078, 1.1904, 1.1865, 1.181, 1.1588, 1.1416, 1.13, 1.095, 0.9984, 1.0264, 0.9761, 0.9359, 0.4839, 0.1528, 0.0531, 0.4191, 0.6637, 0.7492, 0.6623, -0.2005, 1.0477, 0.7129, 0.7449, 0.7987, 0.687, 0.3125, 0.355, 0.4022, 0.0494, 0.2495, 0.6433, -0.755, -0.3473, 0.3924, 0.2317, -0.4425, 0.4114, 0.0215, 0.4099, -0.7309, -0.8285, 0.3505, 1.8994, 1.871, 1.809, 1.7604, 1.7027, 1.6528, 1.6476, 1.6037, 1.55, 1.5302, 1.5208, 1.5054, 1.4906, 1.4796, 1.4745, 1.4566, 1.4488, 1.4457, 1.431, 1.4169, 1.4162, 1.4143, 1.3887, 1.3729, 1.3659, 1.3429, 1.3403, 1.334, 1.2996, 1.2931, 1.2797, 1.2676, 1.162, 0.837, 1.2839, 1.1817, 0.8018, 0.0937, 0.7971, -0.1851, -0.398, -0.1893, 0.5366, 0.4042, 0.531, 0.4865, 0.2938, 0.7245, 0.2672, 1.0146, 0.2022, 0.1978, 0.5236, 0.2182, -0.3828, 0.0954, -0.4259, 0.208, 0.2941, 0.0377, -0.6007, -0.5363, 0.2391, -0.5777, -0.6364, -0.0932, 1.9526, 1.525, 1.5018, 1.4762, 1.4747, 1.4702, 1.4522, 1.4311, 1.3374, 1.2764, 1.2717, 1.2639, 1.2149, 1.2143, 1.2044, 1.1986, 1.1966, 1.193, 1.1882, 1.1831, 1.1418, 1.1253, 1.1179, 1.1125, 1.1099, 1.1081, 1.1037, 1.0875, 1.0759, 1.0427, 0.9993, 1.0118, 0.9276, 0.9097, 0.9204, 0.9743, 0.8101, 0.8093, 0.6821, 0.824, 1.0303, 0.6757, 0.1257, 0.6079, 0.0664, 0.1061, 0.6346, 0.2972, 0.6648, 0.2489, 0.5146, 0.3602, 0.6211, 0.08, 0.4994, -0.377, -0.2543, 0.3351, 0.2348, -0.9137, -0.1939, -0.8425, -0.1082, 1.7364, 1.6232, 1.4435, 1.3769, 1.3267, 1.2893, 1.2701, 1.2546, 1.2477, 1.2364, 1.2227, 1.1932, 1.1852, 1.1805, 1.1673, 1.1312, 1.1074, 1.0913, 1.0555, 1.047, 1.0368, 1.0201, 1.0075, 1.0053, 0.9925, 0.9889, 0.9808, 0.9685, 0.9605, 0.9601, 0.911, 0.8559, 0.8704, 0.6327, 0.7727, 0.7368, 0.6512, 0.3051, 0.2313, 0.3162, 0.6979, 0.0545, 0.6809, 0.4566, 0.1664, 0.561, 0.1418, 0.5064, 0.3424, 0.441, 0.5419, 0.299, 0.5498, 0.2308, -0.0734, 0.2321, 0.1054, 0.0795, 0.3375, -0.3921, -0.0621, -0.0894, -0.437, -0.1937, -0.7966, -0.1538, -0.0145, 2.2511, 2.1757, 2.141, 2.1321, 1.9699, 1.939, 1.8717, 1.8563, 1.8406, 1.8047, 1.789, 1.7837, 1.7254, 1.7187, 1.6998, 1.6473, 1.6037, 1.5678, 1.5585, 1.5243, 1.5211, 1.4933, 1.4558, 1.4557, 1.4534, 1.404, 1.4018, 1.3904, 1.3779, 1.3741, 1.364, 1.3321, 1.2885, 1.3489, 1.1768, 1.3036, 1.1131, 1.3122, 1.2924, 0.7146, 0.8669, 0.8971, 1.0743, 1.0662, 0.8034, 0.5132, 0.7554, 0.1616, 0.7519, 0.5846, 0.3891, 0.7633, 0.0337, 0.2007, -0.4691, 0.3332, -0.1392, 0.2801, 0.3135, -1.1938, -1.1807, -1.1315, -0.2795, 0.0162, 0.0381, -0.6192, -0.8043, -0.3004]}, \"token.table\": {\"Topic\": [1, 2, 1, 2, 3, 4, 5, 6, 7, 2, 6, 1, 2, 3, 4, 5, 1, 2, 3, 4, 5, 6, 7, 8, 1, 1, 2, 3, 4, 5, 6, 7, 8, 8, 1, 2, 6, 4, 7, 8, 3, 4, 1, 2, 4, 1, 2, 3, 4, 5, 6, 7, 8, 2, 1, 2, 3, 4, 5, 6, 7, 8, 1, 2, 3, 4, 5, 6, 7, 1, 2, 3, 5, 6, 7, 1, 2, 3, 4, 5, 6, 7, 8, 1, 2, 3, 4, 5, 6, 7, 8, 1, 2, 3, 8, 1, 2, 3, 4, 1, 2, 3, 4, 5, 6, 7, 8, 1, 2, 3, 6, 7, 2, 4, 1, 2, 3, 5, 6, 7, 1, 6, 7, 1, 2, 4, 5, 7, 3, 4, 4, 1, 1, 4, 1, 2, 3, 4, 6, 7, 8, 1, 2, 3, 4, 8, 1, 2, 3, 4, 5, 6, 7, 8, 1, 2, 3, 5, 8, 1, 2, 3, 4, 5, 6, 7, 8, 1, 2, 3, 4, 5, 6, 7, 8, 1, 2, 3, 4, 5, 6, 7, 8, 1, 2, 3, 4, 5, 6, 7, 8, 1, 2, 3, 4, 5, 6, 7, 8, 1, 2, 3, 4, 5, 6, 7, 8, 2, 6, 7, 1, 2, 3, 4, 6, 7, 8, 1, 2, 3, 4, 8, 1, 2, 6, 1, 2, 3, 7, 8, 1, 2, 3, 4, 5, 6, 7, 1, 2, 3, 4, 6, 7, 1, 2, 3, 4, 5, 6, 7, 8, 1, 2, 3, 5, 1, 2, 5, 6, 1, 2, 3, 4, 5, 6, 7, 8, 7, 2, 1, 2, 6, 6, 1, 2, 1, 2, 7, 1, 3, 4, 1, 3, 4, 6, 7, 8, 1, 1, 7, 1, 2, 6, 4, 1, 2, 3, 4, 5, 6, 7, 8, 2, 6, 7, 1, 2, 7, 5, 1, 2, 4, 6, 7, 8, 1, 1, 2, 4, 7, 8, 1, 4, 1, 2, 3, 4, 5, 6, 7, 8, 1, 2, 3, 5, 6, 7, 8, 5, 1, 2, 3, 7, 8, 1, 2, 3, 4, 5, 6, 7, 8, 1, 2, 3, 4, 7, 1, 2, 3, 4, 5, 6, 7, 8, 1, 2, 3, 4, 5, 6, 7, 8, 1, 3, 4, 5, 6, 7, 2, 5, 7, 8, 2, 5, 7, 1, 3, 6, 7, 2, 3, 4, 6, 1, 2, 3, 4, 5, 6, 7, 1, 2, 4, 5, 1, 2, 3, 4, 5, 6, 7, 8, 1, 2, 3, 4, 5, 6, 7, 3, 4, 1, 3, 6, 2, 1, 2, 3, 4, 5, 6, 7, 8, 3, 1, 2, 3, 4, 5, 6, 7, 8, 2, 7, 3, 1, 2, 3, 6, 1, 1, 2, 3, 4, 5, 6, 7, 8, 1, 2, 3, 4, 6, 8, 1, 1, 2, 4, 7, 8, 1, 2, 4, 6, 7, 1, 1, 2, 3, 4, 6, 7, 8, 1, 6, 1, 2, 3, 4, 5, 1, 2, 3, 4, 5, 6, 7, 8, 1, 4, 7, 1, 2, 4, 1, 2, 3, 4, 5, 6, 7, 8, 1, 2, 3, 4, 6, 7, 8, 1, 2, 3, 4, 5, 6, 7, 8, 1, 2, 4, 6, 7, 1, 2, 3, 4, 6, 7, 1, 2, 3, 4, 7, 1, 2, 3, 4, 6, 7, 1, 2, 3, 4, 6, 7, 1, 2, 3, 4, 5, 6, 7, 8, 2, 5, 1, 2, 3, 5, 7, 1, 2, 3, 4, 5, 6, 7, 8, 2, 5, 7, 1, 2, 3, 5, 6, 8, 1, 2, 3, 4, 5, 6, 7, 8, 1, 5, 7, 1, 2, 3, 4, 5, 6, 7, 8, 1, 2, 3, 4, 5, 6, 7, 1, 2, 3, 4, 5, 6, 7, 1, 1, 2, 3, 4, 5, 6, 8, 2, 6, 1, 2, 3, 4, 5, 6, 1, 2, 3, 4, 5, 6, 8, 1, 2, 3, 4, 5, 6, 7, 8, 1, 2, 3, 4, 5, 6, 7, 8, 1, 2, 3, 4, 6, 7, 8, 2, 8, 1, 2, 3, 4, 6, 7, 8, 2, 5, 1, 2, 3, 4, 5, 6, 7, 3, 4, 1, 2, 3, 4, 6, 2, 7, 1, 3, 4, 7, 1, 4, 2, 5, 3, 1, 2, 3, 4, 5, 6, 7, 8, 1, 2, 3, 4, 5, 6, 7, 1, 2, 3, 4, 7, 4, 1, 2, 3, 4, 5, 6, 7, 8, 1, 7, 1, 4, 1, 3, 8, 1, 3, 4, 1, 2, 3, 4, 5, 6, 8, 1, 2, 3, 6, 1, 2, 6, 1, 2, 3, 7, 1, 1, 2, 3, 4, 5, 6, 7, 8, 1, 2, 3, 4, 5, 6, 7, 8, 1, 3, 4, 5, 6, 1, 2, 3, 4, 5, 6, 7, 8, 1, 2, 3, 4, 5, 6, 7, 1, 5, 8, 1, 2, 3, 4, 5, 6, 7, 8, 1, 2, 6, 7, 1, 3, 4, 7, 1, 3, 5, 6, 7, 1, 2, 3, 4, 5, 6, 7, 8, 1, 2, 4, 6, 7, 4, 1, 2, 3, 4, 5, 7, 3, 1, 2, 3, 4, 5, 6, 7, 8, 1, 2, 3, 4, 6, 1, 3, 1, 2, 3, 5, 7, 1, 2, 3, 1, 2, 3, 3, 8, 1, 6, 1, 2, 5, 6, 2, 5, 1, 3, 5, 6, 7, 1, 2, 3, 5, 6, 7, 8, 1, 2, 5, 7, 1, 2, 3, 5, 6, 7, 8, 3, 1, 2, 3, 4, 5, 6, 7, 1, 4, 8, 8, 2, 5, 1, 3, 4, 1, 2, 5, 5, 1, 6, 1, 3, 5, 6, 7, 3, 3, 1, 5, 6, 7, 1, 2, 3, 4, 5, 6, 7, 8, 1, 2, 3, 4, 5, 6, 7, 8, 1, 2, 3, 4, 5, 6, 7, 2, 5, 1, 2, 3, 4, 5, 6, 7, 8, 1, 6, 1, 2, 3, 4, 5, 6, 7, 8, 1, 2, 3, 4, 6, 7, 1, 2, 3, 4, 5, 6, 7, 8, 1, 2, 3, 4, 5, 6, 7, 8, 1, 2, 3, 4, 6, 1, 3, 1, 2, 3, 4, 5, 6, 7, 8, 1, 2, 3, 4, 5, 6, 7, 8, 2, 6, 2, 1, 2, 6, 1, 2, 3, 4, 5, 6, 8, 1, 3, 6, 1, 2, 6, 1, 2, 3, 4, 5, 6, 7, 8, 3, 3, 3, 4, 1, 3, 6, 7, 1, 2, 6, 7, 1, 2, 4, 1, 2, 3, 4, 5, 6, 7, 8, 1, 2, 3, 4, 5, 6, 7, 8, 1, 2, 3, 4, 5, 6, 7, 8, 1, 2, 3, 4, 6, 7, 8, 3, 1, 2, 3, 5, 6, 1, 2, 3, 5, 6, 7, 1, 3, 5, 6, 7, 1, 2, 3, 4, 5, 6, 7, 8, 3, 8, 3, 7, 1, 3, 7, 1, 2, 3, 4, 5, 7, 8, 1, 2, 3, 4, 5, 6, 7, 8, 1, 2, 3, 4, 5, 7, 8, 1, 2, 3, 4, 5, 6, 7, 8, 1, 2, 3, 4, 5, 6, 7, 8, 2, 4, 1, 3, 5, 6, 7, 1, 5, 1, 2, 3, 5, 1, 2, 3, 4, 5, 6, 7, 8, 1, 2, 3, 4, 5, 6, 7, 1, 2, 3, 4, 5, 6, 7, 8, 1, 2, 3, 4, 6, 7, 1, 3, 6, 7, 1, 2, 3, 5, 6, 7, 1, 2, 3, 4, 5, 6, 7, 8, 1, 2, 3, 4, 5, 7, 1, 2, 3, 4, 5, 7, 8, 3, 4, 3, 2, 7, 1, 2, 4, 6, 7, 4, 1, 2, 5, 2, 3, 5, 2, 6, 2, 3, 7, 1, 2, 3, 4, 5, 6, 7, 8, 1, 2, 3, 4, 6, 7, 8, 3, 1, 4, 1, 2, 3, 4, 5, 6, 7, 8, 1, 2, 3, 4, 5, 6, 7, 1, 2, 3, 4, 5, 6, 7, 8, 1, 3, 5, 6, 7, 2, 5, 1, 4, 8, 1, 2, 3, 4, 5, 6, 7, 8, 1, 2, 3, 4, 5, 6, 7, 8, 3, 1, 3, 1, 2, 3, 4, 6, 7, 8, 1, 2, 3, 4, 6, 3, 4, 3, 1, 2, 3, 4, 6, 7, 1, 2, 3, 4, 2, 1, 2, 3, 4, 5, 6, 7, 8, 5, 1, 3, 5, 6, 7, 1, 2, 3, 4, 5, 6, 7, 1, 2, 4, 6, 1, 2, 3, 4, 5, 6, 7, 8, 1, 2, 1, 2, 3, 5, 7, 1, 1, 2, 3, 1, 5, 4, 7, 1, 2, 3, 4, 5, 6, 7, 8, 1, 2, 3, 4, 5, 6, 7, 8, 1, 2, 3, 4, 5, 6, 7, 8, 1, 2, 3, 4, 5, 6, 7, 8, 2, 7, 1, 2, 3, 4, 5, 6, 7, 8, 5, 1, 2, 3, 4, 5, 7, 8, 1, 3, 5, 6, 3, 1, 5], \"Freq\": [0.5545941641410249, 0.5672400181869235, 0.11974237555715928, 0.5987118777857964, 0.05987118777857964, 0.05987118777857964, 0.05987118777857964, 0.05987118777857964, 0.05987118777857964, 0.6908707939397063, 0.09869582770567233, 0.25377330583455476, 0.12688665291727738, 0.12688665291727738, 0.3806599587518322, 0.12688665291727738, 0.4045265013712768, 0.1797895561650119, 0.06742108356187947, 0.15731586164438544, 0.02247369452062649, 0.08989477808250596, 0.06742108356187947, 0.02247369452062649, 0.7499324140715335, 0.40538686819010716, 0.06756447803168453, 0.10134671704752679, 0.06756447803168453, 0.10134671704752679, 0.13512895606336905, 0.13512895606336905, 0.033782239015842264, 0.5152084800524551, 0.43488504533994266, 0.21744252266997133, 0.21744252266997133, 0.28013649870178886, 0.28013649870178886, 0.28013649870178886, 0.46418434618376386, 0.46418434618376386, 0.14221924328709407, 0.4266577298612822, 0.4266577298612822, 0.14559936789557237, 0.32759857776503787, 0.29119873579114475, 0.1091995259216793, 0.03639984197389309, 0.03639984197389309, 0.05459976296083965, 0.018199920986946547, 0.6789434026333012, 0.49682777523495525, 0.2247554221300988, 0.02365846548737882, 0.04731693097475764, 0.04731693097475764, 0.05323154734660235, 0.07689001283398117, 0.029573081859223527, 0.09257579461010486, 0.6017426649656815, 0.09257579461010486, 0.04628789730505243, 0.04628789730505243, 0.09257579461010486, 0.09257579461010486, 0.09136767098174763, 0.5938898613813596, 0.09136767098174763, 0.04568383549087381, 0.09136767098174763, 0.09136767098174763, 0.2787985126198003, 0.2787985126198003, 0.16263246569488352, 0.05111306064696339, 0.06737630721645174, 0.04646641876996672, 0.0906095166014351, 0.02323320938498336, 0.45756652989605606, 0.04575665298960561, 0.04575665298960561, 0.16014828546361962, 0.04575665298960561, 0.13726995896881683, 0.09151330597921122, 0.022878326494802804, 0.13341897729653981, 0.13341897729653981, 0.5336759091861593, 0.13341897729653981, 0.6156363748216158, 0.832140179768156, 0.30721873368635616, 0.6144374673727123, 0.14725163456378537, 0.3681290864094634, 0.07362581728189269, 0.07362581728189269, 0.07362581728189269, 0.07362581728189269, 0.07362581728189269, 0.14725163456378537, 0.10114663508499035, 0.6068798105099421, 0.10114663508499035, 0.10114663508499035, 0.10114663508499035, 0.7601163402372025, 0.5145326379329763, 0.107107102084439, 0.5890890614644144, 0.0535535510422195, 0.107107102084439, 0.0535535510422195, 0.107107102084439, 0.3343330720194345, 0.445777429359246, 0.1114443573398115, 0.511697266673313, 0.06396215833416412, 0.06396215833416412, 0.12792431666832824, 0.12792431666832824, 0.6153598114426246, 0.20511993714754154, 0.3776190257644279, 0.5317684743232721, 0.34059622413110374, 0.34059622413110374, 0.3439337333822371, 0.08598343334555927, 0.08598343334555927, 0.30094201670945747, 0.08598343334555927, 0.08598343334555927, 0.04299171667277964, 0.08826608682964855, 0.6178626078075399, 0.08826608682964855, 0.08826608682964855, 0.08826608682964855, 0.41123667470148767, 0.04569296385572085, 0.0913859277114417, 0.27415778313432515, 0.04569296385572085, 0.04569296385572085, 0.04569296385572085, 0.04569296385572085, 0.1100952245029215, 0.1100952245029215, 0.440380898011686, 0.1100952245029215, 0.1100952245029215, 0.16845663226078175, 0.15161096903470359, 0.286376274843329, 0.13476530580862542, 0.08422831613039088, 0.05053698967823453, 0.05053698967823453, 0.05053698967823453, 0.37490676267957973, 0.1323200338869105, 0.176426711849214, 0.11026669490575874, 0.0441066779623035, 0.02205333898115175, 0.06616001694345525, 0.06616001694345525, 0.29162300380450534, 0.1555322686957362, 0.21385686945663726, 0.0777661343478681, 0.05832460076090107, 0.03888306717393405, 0.03888306717393405, 0.11664920152180214, 0.2990168450462003, 0.033224093894022255, 0.13289637557608902, 0.06644818778804451, 0.09967228168206677, 0.16612046947011128, 0.13289637557608902, 0.033224093894022255, 0.12750998890651005, 0.4845379578447382, 0.11475899001585904, 0.051003995562604015, 0.10200799112520803, 0.03825299667195301, 0.07650599334390602, 0.025501997781302008, 0.2039629979149013, 0.35693524635107726, 0.15297224843617596, 0.050990749478725325, 0.050990749478725325, 0.15297224843617596, 0.050990749478725325, 0.050990749478725325, 0.7981069985580816, 0.0997633748197602, 0.0997633748197602, 0.41404786903136775, 0.06369967215867196, 0.09554950823800794, 0.1592491803966799, 0.12739934431734393, 0.11147442627767594, 0.01592491803966799, 0.1532604476025002, 0.1532604476025002, 0.45978134280750066, 0.0766302238012501, 0.0766302238012501, 0.37799528812390254, 0.37799528812390254, 0.37799528812390254, 0.28805136189002256, 0.14402568094501128, 0.28805136189002256, 0.14402568094501128, 0.14402568094501128, 0.21874415037196943, 0.21874415037196943, 0.08749766014878776, 0.04374883007439388, 0.17499532029757553, 0.04374883007439388, 0.17499532029757553, 0.15048609512997008, 0.24077775220795214, 0.39126384733792224, 0.060194438051988035, 0.030097219025994017, 0.060194438051988035, 0.22115839396395578, 0.11908528905751466, 0.34024368302147046, 0.08506092075536761, 0.05103655245322057, 0.01701218415107352, 0.06804873660429409, 0.11908528905751466, 0.5078349807692001, 0.12695874519230002, 0.25391749038460004, 0.12695874519230002, 0.539796269489502, 0.17993208982983402, 0.17993208982983402, 0.17993208982983402, 0.11112385670405076, 0.49211993683222477, 0.12699869337605801, 0.04762451001602175, 0.0952490200320435, 0.04762451001602175, 0.06349934668802901, 0.031749673344014503, 0.5146293441522608, 0.7672914909334837, 0.2802199903178609, 0.2802199903178609, 0.2802199903178609, 0.5971702776239675, 0.43004052474619475, 0.21502026237309738, 0.21775552586267327, 0.43551105172534654, 0.21775552586267327, 0.6103897170044488, 0.5812551670432061, 0.29062758352160306, 0.37540141200420746, 0.09385035300105186, 0.2815510590031556, 0.09385035300105186, 0.09385035300105186, 0.09385035300105186, 0.5301128499800642, 0.7255181504494644, 0.14510363008989288, 0.10946268426946365, 0.6567761056167819, 0.10946268426946365, 0.5120705717879481, 0.15837664354278577, 0.39594160885696444, 0.09502598612567147, 0.0633506574171143, 0.1425389791885072, 0.04751299306283573, 0.0633506574171143, 0.03167532870855715, 0.7087940004273973, 0.10125628577534246, 0.10125628577534246, 0.1598387947748124, 0.6393551790992495, 0.1598387947748124, 0.5369962005395005, 0.5817053608353042, 0.1057646110609644, 0.1057646110609644, 0.0528823055304822, 0.0528823055304822, 0.0528823055304822, 0.36130006725970193, 0.19009225838021587, 0.19009225838021587, 0.19009225838021587, 0.19009225838021587, 0.19009225838021587, 0.2593897464159243, 0.2593897464159243, 0.1989699873489412, 0.3061076728445249, 0.07652691821113122, 0.09183230185335747, 0.13774845278003622, 0.04591615092667874, 0.07652691821113122, 0.04591615092667874, 0.2593904266898505, 0.04323173778164175, 0.172926951126567, 0.12969521334492526, 0.172926951126567, 0.0864634755632835, 0.0864634755632835, 0.5505398785140371, 0.24697422805797714, 0.24697422805797714, 0.24697422805797714, 0.24697422805797714, 0.24697422805797714, 0.2763468022123059, 0.13817340110615295, 0.10363005082961471, 0.24180345193576763, 0.06908670055307647, 0.06908670055307647, 0.03454335027653824, 0.03454335027653824, 0.28323791721614117, 0.05664758344322824, 0.4531806675458259, 0.05664758344322824, 0.05664758344322824, 0.08539478205778293, 0.5764147788900348, 0.0640460865433372, 0.0320230432716686, 0.10674347757222866, 0.04269739102889147, 0.05337173878611433, 0.04269739102889147, 0.2559452444554061, 0.36133446276057335, 0.07527801307511944, 0.04516680784507167, 0.060222410460095556, 0.135500423535215, 0.030111205230047778, 0.04516680784507167, 0.33222106704087645, 0.16611053352043822, 0.08305526676021911, 0.33222106704087645, 0.08305526676021911, 0.08305526676021911, 0.21701014302748706, 0.21701014302748706, 0.21701014302748706, 0.21701014302748706, 0.2851574284499219, 0.2851574284499219, 0.2851574284499219, 0.4101816424378464, 0.08203632848756928, 0.32814531395027713, 0.16407265697513856, 0.7513068099156325, 0.09391335123945406, 0.09391335123945406, 0.09391335123945406, 0.042032082499602066, 0.5884491549944288, 0.08406416499920413, 0.042032082499602066, 0.08406416499920413, 0.08406416499920413, 0.08406416499920413, 0.06813515883375451, 0.7494867471712996, 0.06813515883375451, 0.06813515883375451, 0.40089811627679145, 0.13363270542559716, 0.06681635271279858, 0.03340817635639929, 0.03340817635639929, 0.233857234494795, 0.06681635271279858, 0.03340817635639929, 0.16470276334922687, 0.1098018422328179, 0.27450460558204476, 0.32940552669845374, 0.05490092111640895, 0.05490092111640895, 0.05490092111640895, 0.47763866760440915, 0.47763866760440915, 0.23499643732433526, 0.23499643732433526, 0.23499643732433526, 0.6448515541951075, 0.1822395377784939, 0.2834837254332127, 0.24298605037132517, 0.08099535012377505, 0.060746512592831294, 0.04049767506188753, 0.08099535012377505, 0.020248837530943763, 0.6901319186593314, 0.2336757268629181, 0.31546223126493944, 0.19278247466190743, 0.07594461123044838, 0.058418931715729525, 0.029209465857864762, 0.07594461123044838, 0.017525679514718857, 0.5459071504117741, 0.27295357520588703, 0.5546489612082267, 0.5417388380291369, 0.18057961267637895, 0.18057961267637895, 0.18057961267637895, 0.40498349742792933, 0.37716063597896204, 0.05388009085413743, 0.05388009085413743, 0.13470022713534358, 0.05388009085413743, 0.16164027256241228, 0.10776018170827487, 0.026940045427068716, 0.23107814809075625, 0.07702604936358541, 0.07702604936358541, 0.4621562961815125, 0.07702604936358541, 0.07702604936358541, 0.5314789835993184, 0.46226332744370224, 0.23113166372185112, 0.15408777581456742, 0.07704388790728371, 0.07704388790728371, 0.4678075270678997, 0.3118716847119331, 0.07796792117798328, 0.07796792117798328, 0.07796792117798328, 0.6243972231420839, 0.4403401062297607, 0.15726432365348597, 0.06290572946139439, 0.22017005311488036, 0.06290572946139439, 0.06290572946139439, 0.031452864730697194, 0.3776144974035264, 0.3776144974035264, 0.1107943213727585, 0.221588642745517, 0.221588642745517, 0.1107943213727585, 0.221588642745517, 0.4795315132133865, 0.16783602962468527, 0.11988287830334662, 0.023976575660669325, 0.07192972698200797, 0.11988287830334662, 0.023976575660669325, 0.023976575660669325, 0.5463712621040036, 0.18212375403466788, 0.18212375403466788, 0.5474022989505234, 0.13685057473763085, 0.13685057473763085, 0.2685047835645401, 0.15662779041264838, 0.17900318904302673, 0.15662779041264838, 0.08950159452151336, 0.08950159452151336, 0.04475079726075668, 0.04475079726075668, 0.4812209938108438, 0.053468999312315975, 0.053468999312315975, 0.16040699793694793, 0.16040699793694793, 0.10693799862463195, 0.026734499656157987, 0.3340471161462077, 0.11134903871540257, 0.055674519357701284, 0.13918629839425323, 0.16702355807310384, 0.055674519357701284, 0.08351177903655192, 0.027837259678850642, 0.661592543622352, 0.082699067952794, 0.082699067952794, 0.082699067952794, 0.165398135905588, 0.29173707207871374, 0.041676724582673394, 0.29173707207871374, 0.041676724582673394, 0.16670689833069358, 0.16670689833069358, 0.22940334104404525, 0.05735083526101131, 0.4588066820880905, 0.05735083526101131, 0.11470167052202263, 0.12768098330832775, 0.22344172078957358, 0.3830429499249833, 0.09576073748124582, 0.03192024582708194, 0.09576073748124582, 0.14849124403635136, 0.1979883253818018, 0.49497081345450455, 0.04949708134545045, 0.04949708134545045, 0.04949708134545045, 0.25349887108673563, 0.22181151220089365, 0.1901241533150517, 0.15843679442920974, 0.06337471777168391, 0.031687358885841954, 0.06337471777168391, 0.09506207665752585, 0.21752168851949585, 0.4350433770389917, 0.12372367222802708, 0.4948946889121083, 0.12372367222802708, 0.12372367222802708, 0.12372367222802708, 0.20071568992466976, 0.06690522997488993, 0.2676209198995597, 0.30107353488700467, 0.033452614987444965, 0.033452614987444965, 0.033452614987444965, 0.033452614987444965, 0.3454826346656292, 0.3454826346656292, 0.1727413173328146, 0.12120774365995765, 0.4848309746398306, 0.12120774365995765, 0.12120774365995765, 0.12120774365995765, 0.12120774365995765, 0.2856882906332758, 0.13185613413843497, 0.17580817885124664, 0.08790408942562332, 0.17580817885124664, 0.08790408942562332, 0.04395204471281166, 0.02197602235640583, 0.30192089570454494, 0.4528813435568174, 0.15096044785227247, 0.21368120305254548, 0.24039135343411366, 0.1869710526709773, 0.10684060152627274, 0.08013045114470455, 0.026710150381568185, 0.08013045114470455, 0.06677537595392045, 0.19001991478407879, 0.21716561689609004, 0.38003982956815757, 0.08143710633603377, 0.027145702112011255, 0.027145702112011255, 0.05429140422402251, 0.39187188721968047, 0.05598169817424007, 0.05598169817424007, 0.05598169817424007, 0.16794509452272022, 0.22392679269696028, 0.11196339634848014, 0.6075012249844596, 0.07132691674701633, 0.213980750241049, 0.2853076669880653, 0.07132691674701633, 0.213980750241049, 0.07132691674701633, 0.14265383349403266, 0.7853028253478871, 0.1570605650695774, 0.1425893955058646, 0.0712946977529323, 0.49906288427052614, 0.1425893955058646, 0.0712946977529323, 0.0712946977529323, 0.2159016285769531, 0.05397540714423828, 0.16192622143271485, 0.37782785000966795, 0.05397540714423828, 0.05397540714423828, 0.05397540714423828, 0.11567414073677929, 0.501254609859377, 0.1028214584326927, 0.038558046912259766, 0.1028214584326927, 0.038558046912259766, 0.08996877612860611, 0.025705364608173176, 0.16710428832731736, 0.3342085766546347, 0.12997000203235795, 0.11140285888487823, 0.11140285888487823, 0.05570142944243912, 0.05570142944243912, 0.037134286294959414, 0.42083251865804433, 0.16185866102232474, 0.0647434644089299, 0.1942303932267897, 0.0647434644089299, 0.0647434644089299, 0.03237173220446495, 0.3306104237099386, 0.3306104237099386, 0.4637560390964459, 0.12366827709238558, 0.030917069273096395, 0.21641948491167476, 0.030917069273096395, 0.06183413854619279, 0.030917069273096395, 0.26098619760174113, 0.5219723952034823, 0.08493996320204641, 0.5096397792122785, 0.08493996320204641, 0.04246998160102321, 0.04246998160102321, 0.08493996320204641, 0.08493996320204641, 0.6561536733841428, 0.2187178911280476, 0.3040714149318632, 0.0760178537329658, 0.0760178537329658, 0.380089268664829, 0.0760178537329658, 0.5432708952617622, 0.2716354476308811, 0.4718371577440288, 0.1179592894360072, 0.2359185788720144, 0.1179592894360072, 0.4808769918089023, 0.24043849590445115, 0.5305675625712992, 0.5305675625712992, 0.8862599138682511, 0.3524874927785426, 0.14740386061648142, 0.09613295257596616, 0.07049749855570851, 0.19226590515193231, 0.08972408907090174, 0.03204431752532205, 0.01922659051519323, 0.18701726444692215, 0.24935635259589622, 0.3740345288938443, 0.09350863222346108, 0.031169544074487028, 0.031169544074487028, 0.09350863222346108, 0.21417771399914534, 0.1427851426660969, 0.4997479993313391, 0.07139257133304845, 0.07139257133304845, 0.6719641504688774, 0.3171022367714659, 0.15855111838573294, 0.09248815239167756, 0.15855111838573294, 0.09248815239167756, 0.09248815239167756, 0.052850372795244314, 0.039637779596433234, 0.6854459840283857, 0.17136149600709644, 0.41483464669089526, 0.41483464669089526, 0.19885481185807494, 0.5965644355742248, 0.19885481185807494, 0.19701601824778947, 0.5910480547433684, 0.19701601824778947, 0.40103366151821307, 0.06683894358636884, 0.13367788717273768, 0.06683894358636884, 0.13367788717273768, 0.06683894358636884, 0.13367788717273768, 0.09829596941578522, 0.6880717859104966, 0.09829596941578522, 0.09829596941578522, 0.11068680953742072, 0.6641208572245243, 0.11068680953742072, 0.1321578296311732, 0.5286313185246928, 0.1321578296311732, 0.2643156592623464, 0.6260763173476749, 0.22883269217089772, 0.05720817304272443, 0.05720817304272443, 0.28604086521362215, 0.22883269217089772, 0.05720817304272443, 0.05720817304272443, 0.05720817304272443, 0.3198007181303101, 0.3198007181303101, 0.07380016572237925, 0.024600055240793083, 0.1476003314447585, 0.049200110481586165, 0.049200110481586165, 0.024600055240793083, 0.19225500709001284, 0.19225500709001284, 0.4806375177250321, 0.09612750354500642, 0.09612750354500642, 0.29501515171113996, 0.17432713510203723, 0.22796625359497177, 0.11398312679748589, 0.04693422868131772, 0.07375378792778499, 0.060344008304551354, 0.013409779623233633, 0.17111282296458166, 0.25666923444687245, 0.3707444497565936, 0.08555641148229083, 0.028518803827430276, 0.028518803827430276, 0.05703760765486055, 0.5223010995828242, 0.17410036652760807, 0.5222370691135751, 0.18934140278541575, 0.3944612558029495, 0.0788922511605899, 0.09467070139270788, 0.14200605208906183, 0.03155690046423596, 0.04733535069635394, 0.03155690046423596, 0.08420646381312707, 0.6736517105050166, 0.08420646381312707, 0.08420646381312707, 0.4876011974036753, 0.12190029935091883, 0.24380059870183765, 0.12190029935091883, 0.2734534549991772, 0.18230230333278483, 0.36460460666556965, 0.09115115166639241, 0.09115115166639241, 0.24330265540224802, 0.19991109902477705, 0.18286441616219914, 0.1270752722483079, 0.08988250963904704, 0.0743855252185217, 0.06973642989236409, 0.012397587536420281, 0.5583758150041677, 0.12885595730865407, 0.12885595730865407, 0.04295198576955136, 0.08590397153910272, 0.5223653022904046, 0.07558207576175757, 0.3023283030470303, 0.15116415152351514, 0.07558207576175757, 0.3023283030470303, 0.07558207576175757, 0.5148817500208911, 0.26748621058610933, 0.2144936594322575, 0.18168874681320635, 0.11481719416667902, 0.05551600597070194, 0.07191846228022751, 0.08327400895605291, 0.011355546675825397, 0.11417568776571496, 0.22835137553142992, 0.5137905949457173, 0.11417568776571496, 0.05708784388285748, 0.2241633808280163, 0.6724901424840489, 0.14930262511413073, 0.22395393767119612, 0.14930262511413073, 0.29860525022826145, 0.07465131255706536, 0.09465094912218448, 0.09465094912218448, 0.6625566438552914, 0.0938072471760993, 0.0938072471760993, 0.6566507302326952, 0.7382916071811684, 0.1845729017952921, 0.3822533648750268, 0.3822533648750268, 0.16504858758624932, 0.16504858758624932, 0.33009717517249865, 0.16504858758624932, 0.26273769945722586, 0.5254753989144517, 0.27186957012434204, 0.1812463800828947, 0.3624927601657894, 0.09062319004144735, 0.09062319004144735, 0.2718043868804671, 0.13590219344023355, 0.2718043868804671, 0.13590219344023355, 0.13590219344023355, 0.13590219344023355, 0.13590219344023355, 0.2792689227224423, 0.13963446136122115, 0.2792689227224423, 0.13963446136122115, 0.07546074894593074, 0.6791467405133768, 0.07546074894593074, 0.07546074894593074, 0.07546074894593074, 0.07546074894593074, 0.07546074894593074, 0.4895913412835879, 0.08601289267069756, 0.6450966950302317, 0.08601289267069756, 0.04300644633534878, 0.04300644633534878, 0.04300644633534878, 0.04300644633534878, 0.25613145145257077, 0.25613145145257077, 0.25613145145257077, 0.51069693270455, 0.36572605504026184, 0.36572605504026184, 0.16594642366096718, 0.33189284732193436, 0.33189284732193436, 0.18109027805092806, 0.3621805561018561, 0.3621805561018561, 0.5311555841621937, 0.41558193052882547, 0.41558193052882547, 0.27220995691621175, 0.18147330461080782, 0.36294660922161565, 0.09073665230540391, 0.09073665230540391, 0.8594175056234252, 0.8594515049336198, 0.2635086074666969, 0.3952629112000453, 0.13175430373334845, 0.13175430373334845, 0.13655937200748722, 0.4096781160224616, 0.10924749760598977, 0.027311874401497443, 0.19118312081048208, 0.027311874401497443, 0.027311874401497443, 0.08193562320449232, 0.22846130905176548, 0.24533629210672545, 0.19211519170262098, 0.08956721775324897, 0.0674999322198398, 0.07658646155712592, 0.08956721775324897, 0.011682680576510736, 0.3393898421204276, 0.0848474605301069, 0.028282486843368967, 0.1696949210602138, 0.056564973686737935, 0.1696949210602138, 0.14141243421684482, 0.2169117657534395, 0.433823531506879, 0.2877900547958031, 0.1549638756592786, 0.08855078609101635, 0.11068848261377043, 0.11068848261377043, 0.04427539304550818, 0.11068848261377043, 0.08855078609101635, 0.2976691688840788, 0.2976691688840788, 0.13143342884225345, 0.3004192659251507, 0.15020963296257536, 0.05632861236096576, 0.11265722472193151, 0.13143342884225345, 0.0938810206016096, 0.03755240824064384, 0.15369737835697517, 0.27665528104255527, 0.36887370805674036, 0.12295790268558013, 0.030739475671395032, 0.09221842701418509, 0.17050069215972838, 0.14322058141417182, 0.36146146737862417, 0.1773207198461175, 0.04774019380472394, 0.02728011074555654, 0.04092016611833481, 0.02728011074555654, 0.19382643785267242, 0.24920542009629312, 0.33227389346172415, 0.08306847336543104, 0.027689491121810347, 0.027689491121810347, 0.08306847336543104, 0.027689491121810347, 0.09211162257476319, 0.09211162257476319, 0.27633486772428956, 0.18422324514952637, 0.27633486772428956, 0.16134810597474092, 0.4840443179242228, 0.25282746729583394, 0.2873039401089022, 0.1723823640653413, 0.13790589125227304, 0.03447647281306826, 0.03447647281306826, 0.05746078802178044, 0.022984315208712174, 0.2334196382831088, 0.3112261843774784, 0.14005178296986528, 0.0778065460943696, 0.10892916453211744, 0.06224523687549568, 0.06224523687549568, 0.03112261843774784, 0.6355171382728204, 0.1588792845682051, 0.8041751693828234, 0.0853596601695097, 0.7682369415255873, 0.0853596601695097, 0.16683135238639238, 0.12512351428979426, 0.2502470285795885, 0.2502470285795885, 0.041707838096598095, 0.08341567619319619, 0.041707838096598095, 0.2676545097695796, 0.2676545097695796, 0.2676545097695796, 0.19158772014331485, 0.3831754402866297, 0.19158772014331485, 0.10053635334202904, 0.43565753114879247, 0.10053635334202904, 0.033512117780676344, 0.13404847112270538, 0.033512117780676344, 0.10053635334202904, 0.06702423556135269, 0.4975108069040216, 0.4561762855485187, 0.48115267905776465, 0.48115267905776465, 0.29081133424309796, 0.14540566712154898, 0.29081133424309796, 0.29081133424309796, 0.1693110621128686, 0.3386221242257372, 0.1693110621128686, 0.1693110621128686, 0.3127374198559353, 0.15636870992796764, 0.3127374198559353, 0.10254101319500661, 0.25635253298751653, 0.10254101319500661, 0.10254101319500661, 0.25635253298751653, 0.051270506597503304, 0.051270506597503304, 0.051270506597503304, 0.070606388284483, 0.635457494560347, 0.070606388284483, 0.070606388284483, 0.070606388284483, 0.070606388284483, 0.0353031941422415, 0.0353031941422415, 0.4011767511679963, 0.03343139593066636, 0.10029418779199907, 0.10029418779199907, 0.06686279186133272, 0.13372558372266544, 0.13372558372266544, 0.03343139593066636, 0.21175599736403736, 0.08470239894561493, 0.4235119947280747, 0.08470239894561493, 0.042351199472807466, 0.08470239894561493, 0.042351199472807466, 0.4760240768113513, 0.37229897691790736, 0.18614948845895368, 0.09307474422947684, 0.09307474422947684, 0.18614948845895368, 0.19552395227694191, 0.19552395227694191, 0.19552395227694191, 0.29328592841541284, 0.09776197613847096, 0.09776197613847096, 0.27263876784981966, 0.18175917856654644, 0.3635183571330929, 0.09087958928327322, 0.09087958928327322, 0.4192297643494066, 0.12899377364597128, 0.16124221705746408, 0.12899377364597128, 0.03224844341149282, 0.06449688682298564, 0.03224844341149282, 0.03224844341149282, 0.5811964252846159, 0.1937321417615386, 0.6252104254848204, 0.2084034751616068, 0.118007140895704, 0.5900357044785199, 0.118007140895704, 0.16432584862933036, 0.054775282876443454, 0.3286516972586607, 0.054775282876443454, 0.10955056575288691, 0.054775282876443454, 0.10955056575288691, 0.22198021233945453, 0.04932893607543434, 0.24664468037717172, 0.22198021233945453, 0.02466446803771717, 0.02466446803771717, 0.04932893607543434, 0.1726512762640202, 0.10931261512214209, 0.07287507674809472, 0.4736879988626157, 0.21862523024428418, 0.03643753837404736, 0.03643753837404736, 0.07287507674809472, 0.38027326584111193, 0.04563279190093343, 0.25858582077195613, 0.07605465316822238, 0.04563279190093343, 0.030421861267288956, 0.12168744506915583, 0.04563279190093343, 0.34150197602756177, 0.030491247859603728, 0.34150197602756177, 0.05488424614728671, 0.05488424614728671, 0.01219649914384149, 0.12196499143841491, 0.036589497431524474, 0.3990312035785027, 0.3990312035785027, 0.30022964487354453, 0.200153096582363, 0.30022964487354453, 0.1000765482911815, 0.1000765482911815, 0.5415407613894422, 0.18051358712981405, 0.12951274729840584, 0.3885382418952175, 0.12951274729840584, 0.2590254945968117, 0.07246644920595884, 0.6521980428536296, 0.03623322460297942, 0.07246644920595884, 0.07246644920595884, 0.03623322460297942, 0.03623322460297942, 0.03623322460297942, 0.17016648873580334, 0.255249733103705, 0.3686940589275739, 0.08508324436790167, 0.028361081455967226, 0.028361081455967226, 0.08508324436790167, 0.24418268217302092, 0.2313309620586514, 0.13494306120087998, 0.1670723614868038, 0.04498102040029332, 0.0835361807434019, 0.04498102040029332, 0.04498102040029332, 0.4927370644206941, 0.044794278583699464, 0.08958855716739893, 0.2239713929184973, 0.08958855716739893, 0.08958855716739893, 0.4553549221746712, 0.07589248702911186, 0.30356994811644744, 0.15178497405822372, 0.31215023483638976, 0.062430046967277955, 0.062430046967277955, 0.12486009393455591, 0.24972018786911182, 0.18729014090183388, 0.3628107433673998, 0.04268361686675292, 0.19207627590038814, 0.2134180843337646, 0.06402542530012938, 0.02134180843337646, 0.06402542530012938, 0.04268361686675292, 0.14538842402536026, 0.18173553003170032, 0.3998181660697407, 0.07269421201268013, 0.036347106006340064, 0.1090413180190202, 0.1489981198826321, 0.1862476498532901, 0.40974482967723824, 0.07449905994131605, 0.03724952997065802, 0.07449905994131605, 0.03724952997065802, 0.5610566425907667, 0.3740377617271778, 0.456689064884214, 0.5093947582921192, 0.2546973791460596, 0.6134229780214043, 0.10223716300356739, 0.10223716300356739, 0.10223716300356739, 0.10223716300356739, 0.513179891580107, 0.7101783178775746, 0.5308985181883428, 0.5308985181883428, 0.22681224514177192, 0.22681224514177192, 0.22681224514177192, 0.7699038154927964, 0.1539807630985593, 0.43163129268738204, 0.21581564634369102, 0.21581564634369102, 0.29364181260805305, 0.1101156797280199, 0.2202313594560398, 0.1101156797280199, 0.07341045315201326, 0.03670522657600663, 0.03670522657600663, 0.07341045315201326, 0.4322729926109148, 0.12350656931740422, 0.06175328465870211, 0.2161364963054574, 0.06175328465870211, 0.06175328465870211, 0.030876642329351056, 0.3479036013854486, 0.25800748383984895, 0.5160149676796979, 0.19562550569674866, 0.2608340075956649, 0.09781275284837433, 0.19562550569674866, 0.09781275284837433, 0.06520850189891622, 0.03260425094945811, 0.06520850189891622, 0.08879427521947647, 0.6215599265363353, 0.08879427521947647, 0.044397137609738235, 0.044397137609738235, 0.044397137609738235, 0.08879427521947647, 0.20295242964161403, 0.3111937254504748, 0.13530161976107602, 0.06765080988053801, 0.0811809718566456, 0.054120647904430406, 0.0947111338327532, 0.054120647904430406, 0.2771634755974516, 0.18477565039830107, 0.2771634755974516, 0.09238782519915054, 0.09238782519915054, 0.36251390462919214, 0.36251390462919214, 0.16732169703763736, 0.501965091112912, 0.16732169703763736, 0.19951502747665137, 0.1330100183177676, 0.29927254121497704, 0.1330100183177676, 0.0665050091588838, 0.0665050091588838, 0.0665050091588838, 0.0665050091588838, 0.13547761280384635, 0.2709552256076927, 0.3522417932900005, 0.08128656768230781, 0.027095522560769268, 0.027095522560769268, 0.08128656768230781, 0.027095522560769268, 0.6530475216151613, 0.5963580309976644, 0.8092588683729324, 0.16059798684939433, 0.06423919473975773, 0.16059798684939433, 0.3533155710686675, 0.16059798684939433, 0.03211959736987886, 0.03211959736987886, 0.05590091245082166, 0.05590091245082166, 0.4472072996065733, 0.39130638715575167, 0.02795045622541083, 0.5600013458151198, 0.2800006729075599, 0.49425415373937914, 0.10447849266789311, 0.052239246333946554, 0.3656747243376259, 0.3134354780036793, 0.052239246333946554, 0.052239246333946554, 0.15680559461284405, 0.07840279730642202, 0.39201398653211017, 0.3136111892256881, 0.6789607406716505, 0.20541749922619426, 0.43137674837500795, 0.08216699969047771, 0.020541749922619427, 0.10270874961309713, 0.08216699969047771, 0.041083499845238854, 0.041083499845238854, 0.5471096290810589, 0.27064748031469354, 0.18043165354312904, 0.3608633070862581, 0.09021582677156452, 0.09021582677156452, 0.15783939834928407, 0.2525430373588545, 0.37881455603828174, 0.06313575933971363, 0.031567879669856816, 0.031567879669856816, 0.06313575933971363, 0.2137364797953645, 0.2137364797953645, 0.427472959590729, 0.2137364797953645, 0.17459235260335224, 0.24941764657621748, 0.34918470520670447, 0.07482529397286525, 0.02494176465762175, 0.02494176465762175, 0.07482529397286525, 0.02494176465762175, 0.17056147880396838, 0.6822459152158735, 0.11835712687104549, 0.47342850748418197, 0.11835712687104549, 0.11835712687104549, 0.23671425374209099, 0.562256943159011, 0.18080871516731184, 0.18080871516731184, 0.5424261455019356, 0.43170739047514567, 0.21585369523757283, 0.38895838024754514, 0.5363880803446132, 0.21452020745749825, 0.2574242489489979, 0.0858080829829993, 0.1716161659659986, 0.10726010372874913, 0.10726010372874913, 0.021452020745749825, 0.04290404149149965, 0.3845802835309188, 0.0591661974662952, 0.147915493665738, 0.0887492961994428, 0.0887492961994428, 0.1183323949325904, 0.1183323949325904, 0.0295830987331476, 0.14554169072384782, 0.48513896907949267, 0.07277084536192391, 0.024256948453974633, 0.07277084536192391, 0.07277084536192391, 0.12128474226987317, 0.024256948453974633, 0.2589433670541549, 0.15761770168513775, 0.1351008871586895, 0.14635929442191362, 0.12384247989546537, 0.03377522178967238, 0.056292036316120626, 0.07880885084256888, 0.48486884814537906, 0.48486884814537906, 0.12507804203389303, 0.48780436393218274, 0.10006243362711441, 0.03752341261016791, 0.11257023783050371, 0.03752341261016791, 0.07504682522033582, 0.025015608406778602, 0.5645936782896573, 0.2181430614677216, 0.1090715307338608, 0.2181430614677216, 0.1090715307338608, 0.1090715307338608, 0.2181430614677216, 0.1090715307338608, 0.13531721055852602, 0.27063442111705205, 0.4059516316755781, 0.13531721055852602, 0.6447054298461095, 0.4467474549530796, 0.2233737274765398], \"Term\": [\"31\", \"action_list\", \"action_list_paragraph\", \"action_list_paragraph\", \"action_list_paragraph\", \"action_list_paragraph\", \"action_list_paragraph\", \"action_list_paragraph\", \"action_list_paragraph\", \"action_list_paragraph_b\", \"action_list_paragraph_b\", \"administrative_hearing\", \"administrative_hearing\", \"administrative_hearing\", \"administrative_hearing\", \"administrative_hearing\", \"admit\", \"admit\", \"admit\", \"admit\", \"admit\", \"admit\", \"admit\", \"admit\", \"admit_violation_noncompliance\", \"adopt_section_law_applicable\", \"adopt_section_law_applicable\", \"adopt_section_law_applicable\", \"adopt_section_law_applicable\", \"adopt_section_law_applicable\", \"adopt_section_law_applicable\", \"adopt_section_law_applicable\", \"adopt_section_law_applicable\", \"agreement\", \"alcohol\", \"alcohol\", \"alcohol\", \"amend\", \"amend\", \"amend\", \"annual\", \"annual\", \"appear_report_recommendation\", \"appear_report_recommendation\", \"appear_report_recommendation\", \"appellate_right\", \"appellate_right\", \"appellate_right\", \"appellate_right\", \"appellate_right\", \"appellate_right\", \"appellate_right\", \"appellate_right\", \"applicable_law\", \"applicant\", \"applicant\", \"applicant\", \"applicant\", \"applicant\", \"applicant\", \"applicant\", \"applicant\", \"applicant_false_misleading\", \"applicant_false_misleading\", \"applicant_false_misleading\", \"applicant_false_misleading\", \"applicant_false_misleading\", \"applicant_false_misleading\", \"applicant_false_misleading\", \"applicant_substantial\", \"applicant_substantial\", \"applicant_substantial\", \"applicant_substantial\", \"applicant_substantial\", \"applicant_substantial\", \"application\", \"application\", \"application\", \"application\", \"application\", \"application\", \"application\", \"application\", \"approve_continue\", \"approve_continue\", \"approve_continue\", \"approve_continue\", \"approve_continue\", \"approve_continue\", \"approve_continue\", \"approve_continue\", \"article\", \"article\", \"article\", \"article\", \"arts\", \"assault\", \"assessment\", \"assessment\", \"attempt\", \"attempt\", \"attempt\", \"attempt\", \"attempt\", \"attempt\", \"attempt\", \"attempt\", \"attempt_obtain\", \"attempt_obtain\", \"attempt_obtain\", \"attempt_obtain\", \"attempt_obtain\", \"attempted\", \"attendance\", \"attest_swear_statement\", \"attest_swear_statement\", \"attest_swear_statement\", \"attest_swear_statement\", \"attest_swear_statement\", \"attest_swear_statement\", \"authorize_refuse_issue\", \"authorize_refuse_issue\", \"authorize_refuse_issue\", \"authorize_refuse_renew\", \"authorize_refuse_renew\", \"authorize_refuse_renew\", \"authorize_refuse_renew\", \"authorize_refuse_renew\", \"automatic\", \"automatic\", \"automatically_suspend\", \"background\", \"bank\", \"bank\", \"basis_admit\", \"basis_admit\", \"basis_admit\", \"basis_admit\", \"basis_admit\", \"basis_admit\", \"basis_admit\", \"basis_believe\", \"basis_believe\", \"basis_believe\", \"basis_believe\", \"basis_believe\", \"borrower\", \"borrower\", \"borrower\", \"borrower\", \"borrower\", \"borrower\", \"borrower\", \"borrower\", \"branch\", \"branch\", \"branch\", \"branch\", \"branch\", \"broker\", \"broker\", \"broker\", \"broker\", \"broker\", \"broker\", \"broker\", \"broker\", \"broker_certificate_registration\", \"broker_certificate_registration\", \"broker_certificate_registration\", \"broker_certificate_registration\", \"broker_certificate_registration\", \"broker_certificate_registration\", \"broker_certificate_registration\", \"broker_certificate_registration\", \"business\", \"business\", \"business\", \"business\", \"business\", \"business\", \"business\", \"business\", \"business_conduct\", \"business_conduct\", \"business_conduct\", \"business_conduct\", \"business_conduct\", \"business_conduct\", \"business_conduct\", \"business_conduct\", \"business_operate_honestly_fairly\", \"business_operate_honestly_fairly\", \"business_operate_honestly_fairly\", \"business_operate_honestly_fairly\", \"business_operate_honestly_fairly\", \"business_operate_honestly_fairly\", \"business_operate_honestly_fairly\", \"business_operate_honestly_fairly\", \"c\", \"c\", \"c\", \"c\", \"c\", \"c\", \"c\", \"c\", \"c_violate_prohibit\", \"c_violate_prohibit\", \"c_violate_prohibit\", \"calendar_year\", \"calendar_year\", \"calendar_year\", \"calendar_year\", \"calendar_year\", \"calendar_year\", \"calendar_year\", \"cancel\", \"cancel\", \"cancel\", \"cancel\", \"cancel\", \"capacity\", \"capacity\", \"capacity\", \"carry\", \"carry\", \"carry\", \"carry\", \"carry\", \"case\", \"case\", \"case\", \"case\", \"case\", \"case\", \"case\", \"caution_receive_write_request\", \"caution_receive_write_request\", \"caution_receive_write_request\", \"caution_receive_write_request\", \"caution_receive_write_request\", \"caution_receive_write_request\", \"certificate_registration\", \"certificate_registration\", \"certificate_registration\", \"certificate_registration\", \"certificate_registration\", \"certificate_registration\", \"certificate_registration\", \"certificate_registration\", \"certified_mail\", \"certified_mail\", \"certified_mail\", \"certified_mail\", \"certify\", \"certify\", \"certify\", \"certify\", \"character_general\", \"character_general\", \"character_general\", \"character_general\", \"character_general\", \"character_general\", \"character_general\", \"character_general\", \"cocaine\", \"codify\", \"colleague\", \"colleague\", \"colleague\", \"collectively\", \"come\", \"come\", \"commit_criminal_offense_involve\", \"commit_criminal_offense_involve\", \"commit_criminal_offense_involve\", \"competence\", \"complete_hour\", \"complete_hour\", \"complete_hour_approve\", \"complete_hour_approve\", \"complete_hour_approve\", \"complete_hour_approve\", \"complete_hour_approve\", \"complete_hour_approve\", \"complete_hour_approve_continue\", \"complete_minimum\", \"complete_minimum\", \"complete_truthful\", \"complete_truthful\", \"complete_truthful\", \"completion\", \"compliance_purpose\", \"compliance_purpose\", \"compliance_purpose\", \"compliance_purpose\", \"compliance_purpose\", \"compliance_purpose\", \"compliance_purpose\", \"compliance_purpose\", \"compliance_purpose_action_list\", \"compliance_purpose_action_list\", \"compliance_purpose_action_list\", \"compliance_purpose_violate_prohibit\", \"compliance_purpose_violate_prohibit\", \"compliance_purpose_violate_prohibit\", \"complicity\", \"comply\", \"comply\", \"comply\", \"comply\", \"comply\", \"comply\", \"comply_requirement\", \"conceal\", \"conceal\", \"conceal\", \"conceal\", \"conceal\", \"condo\", \"condo\", \"conduct\", \"conduct\", \"conduct\", \"conduct\", \"conduct\", \"conduct\", \"conduct\", \"conduct\", \"conduct_find_following\", \"conduct_find_following\", \"conduct_find_following\", \"conduct_find_following\", \"conduct_find_following\", \"conduct_find_following\", \"conduct_find_following\", \"confirm_approve\", \"conspiracy\", \"conspiracy\", \"conspiracy\", \"conspiracy\", \"conspiracy\", \"continue\", \"continue\", \"continue\", \"continue\", \"continue\", \"continue\", \"continue\", \"continue\", \"continue_education_calendar_year\", \"continue_education_calendar_year\", \"continue_education_calendar_year\", \"continue_education_calendar_year\", \"continue_education_calendar_year\", \"convict\", \"convict\", \"convict\", \"convict\", \"convict\", \"convict\", \"convict\", \"convict\", \"conviction\", \"conviction\", \"conviction\", \"conviction\", \"conviction\", \"conviction\", \"conviction\", \"conviction\", \"copy_report_recommendation\", \"copy_report_recommendation\", \"copy_report_recommendation\", \"copy_report_recommendation\", \"copy_report_recommendation\", \"copy_report_recommendation\", \"court_pleas_plead_guilty\", \"court_pleas_plead_guilty\", \"court_pleas_plead_guilty\", \"court_pleas_plead_guilty\", \"cr\", \"cr\", \"cr\", \"credit_calendar_year\", \"credit_calendar_year\", \"credit_calendar_year\", \"credit_calendar_year\", \"criminal_offense_involve\", \"criminal_offense_involve\", \"criminal_offense_involve\", \"criminal_offense_involve\", \"criminal_offense_involve_money\", \"criminal_offense_involve_money\", \"criminal_offense_involve_money\", \"criminal_offense_involve_money\", \"criminal_offense_involve_money\", \"criminal_offense_involve_money\", \"criminal_offense_involve_money\", \"criminal_offense_involve_theft\", \"criminal_offense_involve_theft\", \"criminal_offense_involve_theft\", \"criminal_offense_involve_theft\", \"d\", \"d\", \"d\", \"d\", \"d\", \"d\", \"d\", \"d\", \"day\", \"day\", \"day\", \"day\", \"day\", \"day\", \"day\", \"default\", \"default\", \"define\", \"define\", \"define\", \"degree\", \"denial\", \"denial\", \"denial\", \"denial\", \"denial\", \"denial\", \"denial\", \"denial\", \"dent\", \"deny\", \"deny\", \"deny\", \"deny\", \"deny\", \"deny\", \"deny\", \"deny\", \"determine_prove_honest_truthful\", \"determine_prove_honest_truthful\", \"direct\", \"duly\", \"duly\", \"duly\", \"duly\", \"education\", \"education_calendar_year_31st\", \"education_calendar_year_31st\", \"education_calendar_year_31st\", \"education_calendar_year_31st\", \"education_calendar_year_31st\", \"education_calendar_year_31st\", \"education_calendar_year_31st\", \"education_calendar_year_31st\", \"education_requirement\", \"education_requirement\", \"education_requirement\", \"education_requirement\", \"education_requirement\", \"education_requirement\", \"effort_renew\", \"empower\", \"empower\", \"empower\", \"empower\", \"empower\", \"empower_refuse\", \"empower_refuse\", \"empower_refuse\", \"empower_refuse\", \"empower_refuse\", \"engage_conduct\", \"enter_settlement_agreement_lieu\", \"enter_settlement_agreement_lieu\", \"enter_settlement_agreement_lieu\", \"enter_settlement_agreement_lieu\", \"enter_settlement_agreement_lieu\", \"enter_settlement_agreement_lieu\", \"enter_settlement_agreement_lieu\", \"equity\", \"equity\", \"exam_examiner_note\", \"exam_examiner_note\", \"exam_examiner_note\", \"exam_examiner_note\", \"exam_examiner_note\", \"exhibit\", \"exhibit\", \"exhibit\", \"exhibit\", \"exhibit\", \"exhibit\", \"exhibit\", \"exhibit\", \"expire_effort\", \"expire_effort\", \"expire_effort\", \"f_fail_comply\", \"f_fail_comply\", \"f_fail_comply\", \"fail\", \"fail\", \"fail\", \"fail\", \"fail\", \"fail\", \"fail\", \"fail\", \"fail_complete\", \"fail_complete\", \"fail_complete\", \"fail_complete\", \"fail_complete\", \"fail_complete\", \"fail_complete\", \"fail_comply\", \"fail_comply\", \"fail_comply\", \"fail_comply\", \"fail_comply\", \"fail_comply\", \"fail_comply\", \"fail_comply\", \"fail_comply_authority_refuse\", \"fail_comply_authority_refuse\", \"fail_comply_authority_refuse\", \"fail_comply_authority_refuse\", \"fail_comply_authority_refuse\", \"fail_comply_authorize_refuse\", \"fail_comply_authorize_refuse\", \"fail_comply_authorize_refuse\", \"fail_comply_authorize_refuse\", \"fail_comply_authorize_refuse\", \"fail_comply_authorize_refuse\", \"fail_comply_complete_hour\", \"fail_comply_complete_hour\", \"fail_comply_complete_hour\", \"fail_comply_complete_hour\", \"fail_comply_complete_hour\", \"fail_defend_allegation\", \"fail_defend_allegation\", \"fail_defend_allegation\", \"fail_defend_allegation\", \"fail_defend_allegation\", \"fail_defend_allegation\", \"fail_request\", \"fail_request\", \"fail_request\", \"fail_request\", \"fail_request\", \"fail_request\", \"failure\", \"failure\", \"failure\", \"failure\", \"failure\", \"failure\", \"failure\", \"failure\", \"false_misleading_statement_material\", \"false_misleading_statement_material\", \"false_provide_untruthful\", \"false_provide_untruthful\", \"false_provide_untruthful\", \"false_provide_untruthful\", \"false_provide_untruthful\", \"fee\", \"fee\", \"fee\", \"fee\", \"fee\", \"fee\", \"fee\", \"fee\", \"felony_fifth_degree\", \"felony_fifth_degree\", \"felony_fifth_degree\", \"felony_fourth_degree\", \"felony_fourth_degree\", \"felony_fourth_degree\", \"felony_fourth_degree\", \"felony_fourth_degree\", \"felony_fourth_degree\", \"file\", \"file\", \"file\", \"file\", \"file\", \"file\", \"file\", \"file\", \"file_objection_consideration\", \"file_objection_consideration\", \"file_objection_consideration\", \"find\", \"find\", \"find\", \"find\", \"find\", \"find\", \"find\", \"find\", \"find_allegation_contain\", \"find_allegation_contain\", \"find_allegation_contain\", \"find_allegation_contain\", \"find_allegation_contain\", \"find_allegation_contain\", \"find_allegation_contain\", \"find_licensee\", \"find_licensee\", \"find_licensee\", \"find_licensee\", \"find_licensee\", \"find_licensee\", \"find_licensee\", \"find_thing\", \"finding_list_determine\", \"finding_list_determine\", \"finding_list_determine\", \"finding_list_determine\", \"finding_list_determine\", \"finding_list_determine\", \"finding_list_determine\", \"finding_list_determine_respondents\", \"finding_list_determine_respondents\", \"fine\", \"fine\", \"fine\", \"fine\", \"fine\", \"fine\", \"fine_dollar\", \"fine_dollar\", \"fine_dollar\", \"fine_dollar\", \"fine_dollar\", \"fine_dollar\", \"fine_dollar\", \"fitness_command_confidence_public\", \"fitness_command_confidence_public\", \"fitness_command_confidence_public\", \"fitness_command_confidence_public\", \"fitness_command_confidence_public\", \"fitness_command_confidence_public\", \"fitness_command_confidence_public\", \"fitness_command_confidence_public\", \"follow\", \"follow\", \"follow\", \"follow\", \"follow\", \"follow\", \"follow\", \"follow\", \"follow_stipulation_admission_understanding\", \"follow_stipulation_admission_understanding\", \"follow_stipulation_admission_understanding\", \"follow_stipulation_admission_understanding\", \"follow_stipulation_admission_understanding\", \"follow_stipulation_admission_understanding\", \"follow_stipulation_admission_understanding\", \"forgery\", \"forgery\", \"formal_proceeding\", \"formal_proceeding\", \"formal_proceeding\", \"formal_proceeding\", \"formal_proceeding\", \"formal_proceeding\", \"formal_proceeding\", \"fraudulent\", \"fraudulent\", \"fraudulent_dishonest_dealing\", \"fraudulent_dishonest_dealing\", \"fraudulent_dishonest_dealing\", \"fraudulent_dishonest_dealing\", \"fraudulent_dishonest_dealing\", \"fraudulent_dishonest_dealing\", \"fraudulent_dishonest_dealing\", \"fulfil\", \"fulfil\", \"fulfill_continue\", \"fulfill_continue\", \"fulfill_continue\", \"fulfill_continue\", \"fulfill_continue\", \"good_reputation_basis_believe\", \"good_reputation_basis_believe\", \"grant_comply\", \"grant_comply\", \"grant_comply\", \"grant_comply\", \"h\", \"h\", \"hallucinogen\", \"hallucinogen\", \"hallucinogennarcotic\", \"hearing\", \"hearing\", \"hearing\", \"hearing\", \"hearing\", \"hearing\", \"hearing\", \"hearing\", \"hearing_office_day\", \"hearing_office_day\", \"hearing_office_day\", \"hearing_office_day\", \"hearing_office_day\", \"hearing_office_day\", \"hearing_office_day\", \"hearing_statutory_deadline\", \"hearing_statutory_deadline\", \"hearing_statutory_deadline\", \"hearing_statutory_deadline\", \"hearing_statutory_deadline\", \"hereto\", \"hold\", \"hold\", \"hold\", \"hold\", \"hold\", \"hold\", \"hold\", \"hold\", \"hour_approve_continue_education\", \"hour_approve_continue_education\", \"house\", \"house\", \"immediately\", \"immediately\", \"immediately\", \"inform_intent\", \"inform_intent\", \"inform_intent\", \"information\", \"information\", \"information\", \"information\", \"information\", \"information\", \"information\", \"information_criminal_background\", \"information_criminal_background\", \"information_criminal_background\", \"information_criminal_background\", \"information_provide_criminal_background\", \"information_provide_criminal_background\", \"information_provide_criminal_background\", \"information_provide_licensing\", \"information_provide_licensing\", \"information_provide_licensing\", \"information_provide_licensing\", \"integrity\", \"intent_deny\", \"intent_deny\", \"intent_deny\", \"intent_deny\", \"intent_deny\", \"intent_deny\", \"intent_deny\", \"intent_deny\", \"intent_deny_loan\", \"intent_deny_loan\", \"intent_deny_loan\", \"intent_deny_loan\", \"intent_deny_loan\", \"intent_deny_loan\", \"intent_deny_loan\", \"intent_deny_loan\", \"intent_revoke\", \"intent_revoke\", \"intent_revoke\", \"intent_revoke\", \"intent_revoke\", \"issue\", \"issue\", \"issue\", \"issue\", \"issue\", \"issue\", \"issue\", \"issue\", \"issue_inform\", \"issue_inform\", \"issue_inform\", \"issue_inform\", \"issue_inform\", \"issue_inform\", \"issue_inform\", \"judgment\", \"judgment\", \"launder\", \"law\", \"law\", \"law\", \"law\", \"law\", \"law\", \"law\", \"law\", \"law_action_list\", \"law_action_list\", \"law_action_list\", \"law_action_list\", \"law_impose\", \"law_impose\", \"law_impose\", \"law_impose\", \"letter_explain_right\", \"letter_explain_right\", \"letter_explain_right\", \"letter_explain_right\", \"letter_explain_right\", \"license\", \"license\", \"license\", \"license\", \"license\", \"license\", \"license\", \"license\", \"license_find_thing\", \"license_find_thing\", \"license_find_thing\", \"license_find_thing\", \"license_find_thing\", \"lieu\", \"list_paragraph\", \"list_paragraph\", \"list_paragraph\", \"list_paragraph\", \"list_paragraph\", \"list_paragraph\", \"little\", \"loan\", \"loan\", \"loan\", \"loan\", \"loan\", \"loan\", \"loan\", \"loan\", \"mail\", \"mail\", \"mail\", \"mail\", \"mail\", \"mail_certified\", \"mail_certified\", \"mail_certified_mail\", \"mail_certified_mail\", \"mail_certified_mail\", \"mail_certified_mail\", \"mail_certified_mail\", \"mail_ordinary\", \"mail_ordinary\", \"mail_ordinary\", \"mail_return\", \"mail_return\", \"mail_return\", \"mailing\", \"mailing\", \"marihuana\", \"marihuana\", \"material\", \"material\", \"material\", \"material\", \"material_omission\", \"material_omission\", \"matter_request\", \"matter_request\", \"matter_request\", \"matter_request\", \"matter_request\", \"meet\", \"meet\", \"meet\", \"meet\", \"meet\", \"meet\", \"meet\", \"meet_condition_outline_authority\", \"meet_condition_outline_authority\", \"meet_condition_outline_authority\", \"meet_condition_outline_authority\", \"misdemeanor_degree\", \"misdemeanor_degree\", \"misdemeanor_degree\", \"misdemeanor_degree\", \"misdemeanor_degree\", \"misdemeanor_degree\", \"misdemeanor_degree\", \"misleading\", \"misrepresentation_registration_license\", \"misrepresentation_registration_license\", \"misrepresentation_registration_license\", \"misrepresentation_registration_license\", \"misrepresentation_registration_license\", \"misrepresentation_registration_license\", \"misrepresentation_registration_license\", \"money\", \"money\", \"money\", \"money_laundering\", \"money_security_section\", \"money_security_section\", \"moot\", \"moot\", \"moot\", \"municipal\", \"municipal\", \"municipal\", \"notico\", \"notify_intend\", \"notify_intend\", \"notify_right\", \"notify_right\", \"notify_right\", \"notify_right\", \"notify_right\", \"objection_consideration\", \"objection_file\", \"objection_report\", \"objection_report\", \"objection_report\", \"objection_report\", \"offense\", \"offense\", \"offense\", \"offense\", \"offense\", \"offense\", \"offense\", \"offense\", \"officer\", \"officer\", \"officer\", \"officer\", \"officer\", \"officer\", \"officer\", \"officer\", \"officer_complete_hour\", \"officer_complete_hour\", \"officer_complete_hour\", \"officer_complete_hour\", \"officer_complete_hour\", \"officer_complete_hour\", \"officer_complete_hour\", \"omission_statement\", \"omission_statement\", \"operation_manager\", \"operation_manager\", \"operation_manager\", \"operation_manager\", \"operation_manager\", \"operation_manager\", \"operation_manager\", \"operation_manager\", \"opportunity\", \"opportunity\", \"opportunity_hearing_page\", \"opportunity_hearing_page\", \"opportunity_hearing_page\", \"opportunity_hearing_page\", \"opportunity_hearing_page\", \"opportunity_hearing_page\", \"opportunity_hearing_page\", \"opportunity_hearing_page\", \"opportunity_hearing_regard_denial\", \"opportunity_hearing_regard_denial\", \"opportunity_hearing_regard_denial\", \"opportunity_hearing_regard_denial\", \"opportunity_hearing_regard_denial\", \"opportunity_hearing_regard_denial\", \"order\", \"order\", \"order\", \"order\", \"order\", \"order\", \"order\", \"order\", \"order_necessary_appropriate_interest\", \"order_necessary_appropriate_interest\", \"order_necessary_appropriate_interest\", \"order_necessary_appropriate_interest\", \"order_necessary_appropriate_interest\", \"order_necessary_appropriate_interest\", \"order_necessary_appropriate_interest\", \"order_necessary_appropriate_interest\", \"originate\", \"originate\", \"originate\", \"originate\", \"originate\", \"outline_authority\", \"outline_authority\", \"page\", \"page\", \"page\", \"page\", \"page\", \"page\", \"page\", \"page\", \"paragraph\", \"paragraph\", \"paragraph\", \"paragraph\", \"paragraph\", \"paragraph\", \"paragraph\", \"paragraph\", \"paragraph_b\", \"paragraph_b\", \"paragraph_b_violate_prohibit\", \"pass_bad_check\", \"pass_bad_check\", \"pass_bad_check\", \"pay\", \"pay\", \"pay\", \"pay\", \"pay\", \"pay\", \"pay\", \"permit\", \"permit\", \"permit\", \"petty\", \"petty\", \"petty\", \"plead_guilty\", \"plead_guilty\", \"plead_guilty\", \"plead_guilty\", \"plead_guilty\", \"plead_guilty\", \"plead_guilty\", \"plead_guilty\", \"portion\", \"postdate\", \"prescribe\", \"prescribe\", \"previously_hold\", \"previously_hold\", \"previously_hold\", \"previously_hold\", \"probation\", \"probation\", \"probation\", \"probation\", \"proceed\", \"proceed\", \"proceed\", \"prohibit\", \"prohibit\", \"prohibit\", \"prohibit\", \"prohibit\", \"prohibit\", \"prohibit\", \"prohibit\", \"prove_honest_truthful_good\", \"prove_honest_truthful_good\", \"prove_honest_truthful_good\", \"prove_honest_truthful_good\", \"prove_honest_truthful_good\", \"prove_honest_truthful_good\", \"prove_honest_truthful_good\", \"prove_honest_truthful_good\", \"provision_section_revise_rule\", \"provision_section_revise_rule\", \"provision_section_revise_rule\", \"provision_section_revise_rule\", \"provision_section_revise_rule\", \"provision_section_revise_rule\", \"provision_section_revise_rule\", \"provision_section_revise_rule\", \"public_consistent_purpose\", \"public_consistent_purpose\", \"public_consistent_purpose\", \"public_consistent_purpose\", \"public_consistent_purpose\", \"public_consistent_purpose\", \"public_consistent_purpose\", \"query\", \"question\", \"question\", \"question\", \"question\", \"question\", \"recommend\", \"recommend\", \"recommend\", \"recommend\", \"recommend\", \"recommend\", \"recommendation_accordingly\", \"recommendation_accordingly\", \"recommendation_accordingly\", \"recommendation_accordingly\", \"recommendation_accordingly\", \"record\", \"record\", \"record\", \"record\", \"record\", \"record\", \"record\", \"record\", \"refund\", \"refund\", \"refusal\", \"refusal\", \"refuse\", \"refuse\", \"refuse\", \"refuse_renew\", \"refuse_renew\", \"refuse_renew\", \"refuse_renew\", \"refuse_renew\", \"refuse_renew\", \"refuse_renew\", \"registrant\", \"registrant\", \"registrant\", \"registrant\", \"registrant\", \"registrant\", \"registrant\", \"registrant\", \"registration\", \"registration\", \"registration\", \"registration\", \"registration\", \"registration\", \"registration\", \"renew\", \"renew\", \"renew\", \"renew\", \"renew\", \"renew\", \"renew\", \"renew\", \"renewal\", \"renewal\", \"renewal\", \"renewal\", \"renewal\", \"renewal\", \"renewal\", \"renewal\", \"report_file_recommend\", \"report_file_recommend\", \"report_recommendation_confirm_approve\", \"report_recommendation_confirm_approve\", \"report_recommendation_confirm_approve\", \"report_recommendation_confirm_approve\", \"report_recommendation_confirm_approve\", \"report_recommendation_recommend\", \"report_recommendation_recommend\", \"representation\", \"representation\", \"representation\", \"representation\", \"reputation_basis_believe_commit\", \"reputation_basis_believe_commit\", \"reputation_basis_believe_commit\", \"reputation_basis_believe_commit\", \"reputation_basis_believe_commit\", \"reputation_basis_believe_commit\", \"reputation_basis_believe_commit\", \"reputation_basis_believe_commit\", \"request_day_mailing_far\", \"request_day_mailing_far\", \"request_day_mailing_far\", \"request_day_mailing_far\", \"request_day_mailing_far\", \"request_day_mailing_far\", \"request_day_mailing_far\", \"require\", \"require\", \"require\", \"require\", \"require\", \"require\", \"require\", \"require\", \"require_credit_hour\", \"require_credit_hour\", \"require_credit_hour\", \"require_credit_hour\", \"require_credit_hour\", \"require_credit_hour\", \"require_hour\", \"require_hour\", \"require_hour\", \"require_hour\", \"require_licensed\", \"require_licensed\", \"require_licensed\", \"require_licensed\", \"require_licensed\", \"require_licensed\", \"requirement\", \"requirement\", \"requirement\", \"requirement\", \"requirement\", \"requirement\", \"requirement\", \"requirement\", \"responsibility_administer_enforce_codify\", \"responsibility_administer_enforce_codify\", \"responsibility_administer_enforce_codify\", \"responsibility_administer_enforce_codify\", \"responsibility_administer_enforce_codify\", \"responsibility_administer_enforce_codify\", \"revise_find\", \"revise_find\", \"revise_find\", \"revise_find\", \"revise_find\", \"revise_find\", \"revise_find\", \"revoke_broker_certificate\", \"revoke_broker_certificate\", \"rider\", \"robbery\", \"robbery\", \"rule_adopt_thereunder_empower\", \"rule_adopt_thereunder_empower\", \"rule_adopt_thereunder_empower\", \"rule_adopt_thereunder_empower\", \"rule_adopt_thereunder_empower\", \"satisfaction\", \"satisfy\", \"season\", \"season\", \"security_section\", \"security_section\", \"security_section\", \"security_section_action_list\", \"security_section_action_list\", \"security_section_character_general\", \"security_section_character_general\", \"security_section_character_general\", \"set\", \"set\", \"set\", \"set\", \"set\", \"set\", \"set\", \"set\", \"settlement_agreement_enter_basis\", \"settlement_agreement_enter_basis\", \"settlement_agreement_enter_basis\", \"settlement_agreement_enter_basis\", \"settlement_agreement_enter_basis\", \"settlement_agreement_enter_basis\", \"settlement_agreement_enter_basis\", \"solicitation\", \"source\", \"source\", \"statement\", \"statement\", \"statement\", \"statement\", \"statement\", \"statement\", \"statement\", \"statement\", \"statement_material_omission_statement\", \"statement_material_omission_statement\", \"statement_material_omission_statement\", \"statement_material_omission_statement\", \"statement_material_omission_statement\", \"statement_material_omission_statement\", \"statement_material_omission_statement\", \"submit\", \"submit\", \"submit\", \"submit\", \"submit\", \"submit\", \"submit\", \"submit\", \"submit_write\", \"submit_write\", \"submit_write\", \"submit_write\", \"submit_write\", \"substantial_misrepresentation\", \"substantial_misrepresentation\", \"summary_suspension\", \"summary_suspension\", \"summary_suspension\", \"superintendent\", \"superintendent\", \"superintendent\", \"superintendent\", \"superintendent\", \"superintendent\", \"superintendent\", \"superintendent\", \"superintendent_charge\", \"superintendent_charge\", \"superintendent_charge\", \"superintendent_charge\", \"superintendent_charge\", \"superintendent_charge\", \"superintendent_charge\", \"superintendent_charge\", \"superior\", \"supplementary\", \"surrender\", \"suspend\", \"suspend\", \"suspend\", \"suspend\", \"suspend\", \"suspend\", \"suspend\", \"suspension\", \"suspension\", \"suspension\", \"suspension\", \"suspension\", \"suspension_automatically\", \"suspension_automatically\", \"telephone\", \"terminate\", \"terminate\", \"terminate\", \"terminate\", \"terminate\", \"terminate\", \"termination\", \"termination\", \"termination\", \"termination\", \"testimony_exhibit\", \"theft\", \"theft\", \"theft\", \"theft\", \"theft\", \"theft\", \"theft\", \"theft\", \"thereto\", \"thereto_administrative_hearing\", \"thereto_administrative_hearing\", \"thereto_administrative_hearing\", \"thereto_administrative_hearing\", \"thereto_administrative_hearing\", \"time_mailing_superintendent\", \"time_mailing_superintendent\", \"time_mailing_superintendent\", \"time_mailing_superintendent\", \"time_mailing_superintendent\", \"time_mailing_superintendent\", \"time_mailing_superintendent\", \"treasurer\", \"treasurer\", \"treasurer\", \"treasurer\", \"true\", \"true\", \"true\", \"true\", \"true\", \"true\", \"true\", \"true\", \"trustworthy\", \"trustworthy\", \"truthful_know_information_provide\", \"truthful_know_information_provide\", \"truthful_know_information_provide\", \"truthful_know_information_provide\", \"truthful_know_information_provide\", \"twice\", \"unclaimed\", \"unclaimed\", \"unclaimed\", \"unpaid\", \"unpaid\", \"untimely\", \"v\", \"violate\", \"violate\", \"violate\", \"violate\", \"violate\", \"violate\", \"violate\", \"violate\", \"violate_fail_comply\", \"violate_fail_comply\", \"violate_fail_comply\", \"violate_fail_comply\", \"violate_fail_comply\", \"violate_fail_comply\", \"violate_fail_comply\", \"violate_fail_comply\", \"violate_prohibit\", \"violate_prohibit\", \"violate_prohibit\", \"violate_prohibit\", \"violate_prohibit\", \"violate_prohibit\", \"violate_prohibit\", \"violate_prohibit\", \"violation\", \"violation\", \"violation\", \"violation\", \"violation\", \"violation\", \"violation\", \"violation\", \"violator\", \"violator\", \"warrant_belief\", \"warrant_belief\", \"warrant_belief\", \"warrant_belief\", \"warrant_belief\", \"warrant_belief\", \"warrant_belief\", \"warrant_belief\", \"wellreasoned\", \"wells\", \"wells\", \"wells\", \"wells\", \"wells\", \"wells\", \"wells\", \"write_report_recommendation\", \"write_report_recommendation\", \"write_report_recommendation\", \"write_report_recommendation\", \"writing\", \"written\", \"written\"]}, \"R\": 30, \"lambda.step\": 0.01, \"plot.opts\": {\"xlab\": \"PC1\", \"ylab\": \"PC2\"}, \"topic.order\": [4, 3, 2, 6, 7, 5, 1, 8]};\n",
       "\n",
       "function LDAvis_load_lib(url, callback){\n",
       "  var s = document.createElement('script');\n",
       "  s.src = url;\n",
       "  s.async = true;\n",
       "  s.onreadystatechange = s.onload = callback;\n",
       "  s.onerror = function(){console.warn(\"failed to load library \" + url);};\n",
       "  document.getElementsByTagName(\"head\")[0].appendChild(s);\n",
       "}\n",
       "\n",
       "if(typeof(LDAvis) !== \"undefined\"){\n",
       "   // already loaded: just create the visualization\n",
       "   !function(LDAvis){\n",
       "       new LDAvis(\"#\" + \"ldavis_el3022825157276618964285115357\", ldavis_el3022825157276618964285115357_data);\n",
       "   }(LDAvis);\n",
       "}else if(typeof define === \"function\" && define.amd){\n",
       "   // require.js is available: use it to load d3/LDAvis\n",
       "   require.config({paths: {d3: \"https://d3js.org/d3.v5\"}});\n",
       "   require([\"d3\"], function(d3){\n",
       "      window.d3 = d3;\n",
       "      LDAvis_load_lib(\"https://cdn.jsdelivr.net/gh/bmabey/pyLDAvis@3.3.1/pyLDAvis/js/ldavis.v3.0.0.js\", function(){\n",
       "        new LDAvis(\"#\" + \"ldavis_el3022825157276618964285115357\", ldavis_el3022825157276618964285115357_data);\n",
       "      });\n",
       "    });\n",
       "}else{\n",
       "    // require.js not available: dynamically load d3 & LDAvis\n",
       "    LDAvis_load_lib(\"https://d3js.org/d3.v5.js\", function(){\n",
       "         LDAvis_load_lib(\"https://cdn.jsdelivr.net/gh/bmabey/pyLDAvis@3.3.1/pyLDAvis/js/ldavis.v3.0.0.js\", function(){\n",
       "                 new LDAvis(\"#\" + \"ldavis_el3022825157276618964285115357\", ldavis_el3022825157276618964285115357_data);\n",
       "            })\n",
       "         });\n",
       "}\n",
       "</script>"
      ],
      "text/plain": [
       "PreparedData(topic_coordinates=              x         y  topics  cluster       Freq\n",
       "topic                                                \n",
       "3      0.018012  0.000040       1        1  24.260204\n",
       "2     -0.064843 -0.022645       2        1  22.228936\n",
       "1      0.040982 -0.038993       3        1  17.343074\n",
       "5      0.045926 -0.004662       4        1  10.930470\n",
       "6     -0.040099  0.033626       5        1   8.199168\n",
       "4     -0.012167  0.008599       6        1   6.709345\n",
       "0     -0.012303 -0.032814       7        1   6.592066\n",
       "7      0.024492  0.056848       8        1   3.736736, topic_info=            Term        Freq       Total Category  logprob  loglift\n",
       "23       officer  770.000000  770.000000  Default  30.0000  30.0000\n",
       "50          loan  792.000000  792.000000  Default  29.0000  29.0000\n",
       "16       license  645.000000  645.000000  Default  28.0000  28.0000\n",
       "105      renewal  163.000000  163.000000  Default  27.0000  27.0000\n",
       "38   application  430.000000  430.000000  Default  26.0000  26.0000\n",
       "..           ...         ...         ...      ...      ...      ...\n",
       "76          hold    2.874462   75.685370   Topic8  -5.2951   0.0162\n",
       "161        renew    2.551966   65.742197   Topic8  -5.4141   0.0381\n",
       "224      hearing    3.139186  156.033905   Topic8  -5.2070  -0.6192\n",
       "66          deny    2.861726  171.177386   Topic8  -5.2995  -0.8043\n",
       "80          page    2.407941   87.015862   Topic8  -5.4722  -0.3004\n",
       "\n",
       "[564 rows x 6 columns], token_table=      Topic      Freq                         Term\n",
       "term                                              \n",
       "1462      1  0.554594                           31\n",
       "33        2  0.567240                  action_list\n",
       "549       1  0.119742        action_list_paragraph\n",
       "549       2  0.598712        action_list_paragraph\n",
       "549       3  0.059871        action_list_paragraph\n",
       "...     ...       ...                          ...\n",
       "1294      5  0.405952  write_report_recommendation\n",
       "1294      6  0.135317  write_report_recommendation\n",
       "632       3  0.644705                      writing\n",
       "1342      1  0.446747                      written\n",
       "1342      5  0.223374                      written\n",
       "\n",
       "[1462 rows x 3 columns], R=30, lambda_step=0.01, plot_opts={'xlab': 'PC1', 'ylab': 'PC2'}, topic_order=[4, 3, 2, 6, 7, 5, 1, 8])"
      ]
     },
     "execution_count": 267,
     "metadata": {},
     "output_type": "execute_result"
    }
   ],
   "source": [
    "import pyLDAvis\n",
    "import pyLDAvis.gensim_models as gensimvis\n",
    "pyLDAvis.enable_notebook()\n",
    "\n",
    "# feed the LDA model into the pyLDAvis instance\n",
    "gensimvis.prepare(model_list[2], corpus, words)"
   ]
  },
  {
   "cell_type": "code",
   "execution_count": 93,
   "metadata": {},
   "outputs": [],
   "source": [
    "pd.set_option('display.width', None)\n",
    "pd.set_option('display.max_colwidth', None)"
   ]
  },
  {
   "cell_type": "code",
   "execution_count": 254,
   "metadata": {
    "scrolled": true
   },
   "outputs": [
    {
     "data": {
      "text/html": [
       "<div>\n",
       "<style scoped>\n",
       "    .dataframe tbody tr th:only-of-type {\n",
       "        vertical-align: middle;\n",
       "    }\n",
       "\n",
       "    .dataframe tbody tr th {\n",
       "        vertical-align: top;\n",
       "    }\n",
       "\n",
       "    .dataframe thead th {\n",
       "        text-align: right;\n",
       "    }\n",
       "</style>\n",
       "<table border=\"1\" class=\"dataframe\">\n",
       "  <thead>\n",
       "    <tr style=\"text-align: right;\">\n",
       "      <th></th>\n",
       "      <th>Document_No</th>\n",
       "      <th>Dominant_Topic</th>\n",
       "      <th>Topic_Perc_Contrib</th>\n",
       "      <th>Keywords</th>\n",
       "      <th>Text</th>\n",
       "    </tr>\n",
       "  </thead>\n",
       "  <tbody>\n",
       "    <tr>\n",
       "      <th>0</th>\n",
       "      <td>0</td>\n",
       "      <td>3.0</td>\n",
       "      <td>0.9926</td>\n",
       "      <td>hour, comply, officer, loan, complete, agreement, applicant, renew, fail, deadline</td>\n",
       "      <td>[settlement, agreement, enter, basis, following, stipulation_admission_understanding, empower, renew, applicant, broker, dertificate, registration, find, thing_applicants, operation, manager, comply, complete, minimum, hour, approve, continue, education, prior, calendar, year, authorize, refuse, renew, applicant, broker, certificate, registration, find, applicant, violate, fail, comply, provision, section, revise, rule_adopt, section, law_applicable_business, conduct, certificate, registration, require, operation, manager, complete, hour, approve, continue, education, calendar, year, broker, certificate, registration_expire_effort, renew, certificate, submit, renewal, application, renewal, application, remain_pende, admit, fail, comply, requirement, calendar, year, f, fail, comply, authority, refuse, renew, broker, certificate, registration, enter, settlement, agreement, lieu, formal, proceeding, deny, renewal, application, broker, certificate, registration, basis, admit, noncompliance, expressly_reserve, right, ...]</td>\n",
       "    </tr>\n",
       "    <tr>\n",
       "      <th>1</th>\n",
       "      <td>1</td>\n",
       "      <td>3.0</td>\n",
       "      <td>0.9938</td>\n",
       "      <td>hour, comply, officer, loan, complete, agreement, applicant, renew, fail, deadline</td>\n",
       "      <td>[settlement, agreement, enter, basis, follow, stipulation_admission_understanding, empower, renew, applicant, broker, certificate, registration, find, thing_applicants, operation, manager, comply, complete, minimum, hour, approve, continue, education, prior, calendar, year, page, authorize, refuse, renew, applicant, broker, certificate, registration, find, applicant, violate, fail, comply, provision, section, revise, rule_adopt, section, law_applicable_business, conduct, certificate, registration, require, operation, manager, complete, hour, approve, continue, education, calendar, year_31st_d, year, law, impose, requirement, operation, manager, extend, deadline, broker, certificate, registration_expire_effort, renew, certificate, submit, renewal, application, renewal, application, remain_pende, admit_extension_time, grant, comply, requirement, fail, complete, require, credit, hour, extend, deadline, record, complete, hour, approve, expiration, extend, deadline, h, fail, comply, authority, refuse, ...]</td>\n",
       "    </tr>\n",
       "    <tr>\n",
       "      <th>2</th>\n",
       "      <td>2</td>\n",
       "      <td>3.0</td>\n",
       "      <td>0.9938</td>\n",
       "      <td>hour, comply, officer, loan, complete, agreement, applicant, renew, fail, deadline</td>\n",
       "      <td>[settlement, agreement, enter, basis, follow, stipulation_admission_understanding, empower, renew, applicant, broker, certificate, registration, find, thing_applicants, operation, manager, comply, complete, minimum, hour, approve, continue, education, prior, calendar, year, page, authorize, refuse, renew, applicant, broker, certificate, registration, find, applicant, violate, fail, comply, provision, section, revise, rule_adopt, section, law_applicable_business, conduct, certificate, registration, require, operation, manager, complete, hour, approve, continue, education, calendar, year_31st_d, year, law, impose, requirement, operation, manager, extend, deadline, broker, certificate, registration_expire_effort, renew, certificate, submit, renewal, application, renewal, application, remain_pende, admit_extension_time, grant, comply, requirement, fail, complete, require, credit, hour, extend, deadline, record, complete, hour, approve, expiration, extend, deadline, h, fail, comply, authority, refuse, ...]</td>\n",
       "    </tr>\n",
       "    <tr>\n",
       "      <th>3</th>\n",
       "      <td>3</td>\n",
       "      <td>3.0</td>\n",
       "      <td>0.9926</td>\n",
       "      <td>hour, comply, officer, loan, complete, agreement, applicant, renew, fail, deadline</td>\n",
       "      <td>[settlement, agreement, enter, basis, follow, stipulation_admission_understanding, empower, renew, applicant, broker, certificate, registration, find, thing_applicants, operation, manager, comply, complete, minimum, hour, approve, continue, education, prior, calendar, year, authorize, refuse, renew, applicant, broker, certificate, registration, find, applicant, violate, fail, page, comply, provision, section, revise, rule_adopt, section, law_applicable_business, conduct, certificate, registration, require, operation, manager, complete, hour, approve, continue, education, calendar, year, broker, certificate, registration_expire_effort, renew, certificate, submit, renewal, application, renewal, application, remain_pende, admit, fail, comply, requirement, calendar, year, f, fail, comply, authority, refuse, renew, broker, certificate, registration, enter, settlement, agreement, lieu, formal, proceeding, deny, renewal, application, broker, certificate, registration, basis, admit, noncompliance, expressly_reserve, ...]</td>\n",
       "    </tr>\n",
       "    <tr>\n",
       "      <th>4</th>\n",
       "      <td>4</td>\n",
       "      <td>3.0</td>\n",
       "      <td>0.9938</td>\n",
       "      <td>hour, comply, officer, loan, complete, agreement, applicant, renew, fail, deadline</td>\n",
       "      <td>[settlement, agreement, enter, basis, follow, stipulation_admission_understanding, empower, renew, applicant, broker, certificate, registration, find, thing_applicants, operation, manager, comply, complete, minimum, hour, approve, continue, education, prior, calendar, year, page, authorize, refuse, renew, applicant, broker, certificate, registration, find, applicant, violate, fail, comply, provision, section, revise, rule_adopt, section, law_applicable_business, conduct, certificate, registration, require, operation, manager, complete, hour, approve, continue, education, calendar, year_31st_d, year, law, impose, requirement, operation, manager, extend, deadline, broker, certificate, registration_expire_effort, renew, certificate, submit, renewal, application, renewal, application, remain_pende, admit_extension_time, grant, comply, requirement, fail, complete, require, credit, hour, extend, deadline, record, complete, hour, approve, expiration, extend, deadline, h, fail, comply, authority, refuse, ...]</td>\n",
       "    </tr>\n",
       "    <tr>\n",
       "      <th>5</th>\n",
       "      <td>5</td>\n",
       "      <td>3.0</td>\n",
       "      <td>0.9926</td>\n",
       "      <td>hour, comply, officer, loan, complete, agreement, applicant, renew, fail, deadline</td>\n",
       "      <td>[settlement, agreement, enter, basis, follow, stipulation_admission_understanding, empower, renew, applicant, broker, certificate, registration, find, thing_applicants, operation, manager, comply, complete, minimum, hour, approve, continue, education, prior, calendar, year, authorize, refuse, renew, applicant, broker, certificate, registration, find, applicant, violate, fail, page, comply, provision, section, revise, rule_adopt, section, law_applicable_business, conduct, certificate, registration, require, operation, manager, complete, hour, approve, continue, education, calendar, year, broker, certificate, registration_expire_effort, renew, certificate, submit, renewal, application, renewal, application, remain_pende, admit, fail, comply, requirement, calendar, year, f, fail, comply, authority, refuse, renew, broker, certificate, registration, enter, settlement, agreement, lieu, formal, proceeding, deny, renewal, application, broker, certificate, registration, basis, admit, noncompliance, expressly_reserve, ...]</td>\n",
       "    </tr>\n",
       "    <tr>\n",
       "      <th>6</th>\n",
       "      <td>6</td>\n",
       "      <td>1.0</td>\n",
       "      <td>0.9791</td>\n",
       "      <td>loan, officer, license, fail, comply, certificate, require, applicant, renew, application</td>\n",
       "      <td>[conduct, find, following, plead_guilty, convict, felony, offense, delivery, cocaine, finding_list, determine_prove, honest_truthful, good_reputation_basis, believe_commit_criminal_offense, involve_theft, receive_stolen, property_embezzlement, forgery_fraud, pass_bad, check_money_laundering_drug, trafficking_criminal_offense_involve, money_security, section, character_general, fitness_command, confidence_public, warrant_belief, business, operate_honestly, fairly_compliance, purpose, intent, deny, loan, officer, license, opportunity, hearing, page]</td>\n",
       "    </tr>\n",
       "    <tr>\n",
       "      <th>7</th>\n",
       "      <td>7</td>\n",
       "      <td>1.0</td>\n",
       "      <td>0.9884</td>\n",
       "      <td>loan, officer, license, fail, comply, certificate, require, applicant, renew, application</td>\n",
       "      <td>[conduct, find, follow, municipal_court, convict, offense, theft, degree, misdemeanor, violate, fail, disclose, criminal_offense, list_paragraph, loan, officer, license, prohibit, applicant, loan, officer, license, obtain, license, false_fraudulent, representation_material, omission_material, require, law, substantial_misrepresentation, license, application, prohibit, applicant, loan, officer, license, false_misleading, statement_material_omission_statement, require, law, finding_list, determine_prove, honest_truthful, good_reputation_basis, believe_commit_criminal_offense, involve_theft, receive_stolen, property_embezzlement, forgery_fraud, pass_bad, check_money_laundering_drug, trafficking_criminal_offense_involve, money_security, section, intent, deny, loan, officer, license, opportunity, hearing, page, character_general, fitness_command, confidence_public, warrant_belief, business, operate_honestly, fairly_compliance, purpose]</td>\n",
       "    </tr>\n",
       "    <tr>\n",
       "      <th>8</th>\n",
       "      <td>8</td>\n",
       "      <td>3.0</td>\n",
       "      <td>0.9938</td>\n",
       "      <td>hour, comply, officer, loan, complete, agreement, applicant, renew, fail, deadline</td>\n",
       "      <td>[settlement, agreement, enter, basis, follow, stipulation_admission_understanding, empower, renew, applicant, broker, certificate, registration, find, thing_applicants, operation, manager, comply, complete, minimum, hour, approve, continue, education, prior, calendar, year, page, authorize, refuse, renew, applicant, broker, certificate, registration, find, applicant, violate, fail, comply, provision, section, revise, rule_adopt, section, law_applicable_business, conduct, certificate, registration, require, operation, manager, complete, hour, approve, continue, education, calendar, year_31st_d, year, law, impose, requirement, operation, manager, extend, deadline, broker, certificate, registration_expire_effort, renew, certificate, submit, renewal, application, renewal, application, remain_pende, admit_extension_time, grant, comply, requirement, fail, complete, require, credit, hour, extend, deadline, record, complete, hour, approve, expiration, extend, deadline, h, fail, comply, authority, refuse, ...]</td>\n",
       "    </tr>\n",
       "    <tr>\n",
       "      <th>9</th>\n",
       "      <td>9</td>\n",
       "      <td>3.0</td>\n",
       "      <td>0.9938</td>\n",
       "      <td>hour, comply, officer, loan, complete, agreement, applicant, renew, fail, deadline</td>\n",
       "      <td>[settlement, agreement, enter, basis, follow, stipulation_admission_understanding, empower, renew, applicant, broker, certificate, registration, find, thing_applicants, operation, manager, comply, complete, minimum, hour, approve, continue, education, prior, calendar, year, page, authorize, refuse, renew, applicant, broker, certificate, registration, find, applicant, violate, fail, comply, provision, section, revise, rule_adopt, section, law_applicable_business, conduct, certificate, registration, require, operation, manager, complete, hour, approve, continue, education, calendar, year_31st_d, year, law, impose, requirement, operation, manager, extend, deadline, broker, certificate, registration_expire_effort, renew, certificate, submit, renewal, application, renewal, application, remain_pende, admit_extension_time, grant, comply, requirement, fail, complete, require, credit, hour, extend, deadline, record, complete, hour, approve, expiration, extend, deadline, h, fail, comply, authority, refuse, ...]</td>\n",
       "    </tr>\n",
       "  </tbody>\n",
       "</table>\n",
       "</div>"
      ],
      "text/plain": [
       "   Document_No  Dominant_Topic  Topic_Perc_Contrib  \\\n",
       "0            0             3.0              0.9926   \n",
       "1            1             3.0              0.9938   \n",
       "2            2             3.0              0.9938   \n",
       "3            3             3.0              0.9926   \n",
       "4            4             3.0              0.9938   \n",
       "5            5             3.0              0.9926   \n",
       "6            6             1.0              0.9791   \n",
       "7            7             1.0              0.9884   \n",
       "8            8             3.0              0.9938   \n",
       "9            9             3.0              0.9938   \n",
       "\n",
       "                                                                                    Keywords  \\\n",
       "0         hour, comply, officer, loan, complete, agreement, applicant, renew, fail, deadline   \n",
       "1         hour, comply, officer, loan, complete, agreement, applicant, renew, fail, deadline   \n",
       "2         hour, comply, officer, loan, complete, agreement, applicant, renew, fail, deadline   \n",
       "3         hour, comply, officer, loan, complete, agreement, applicant, renew, fail, deadline   \n",
       "4         hour, comply, officer, loan, complete, agreement, applicant, renew, fail, deadline   \n",
       "5         hour, comply, officer, loan, complete, agreement, applicant, renew, fail, deadline   \n",
       "6  loan, officer, license, fail, comply, certificate, require, applicant, renew, application   \n",
       "7  loan, officer, license, fail, comply, certificate, require, applicant, renew, application   \n",
       "8         hour, comply, officer, loan, complete, agreement, applicant, renew, fail, deadline   \n",
       "9         hour, comply, officer, loan, complete, agreement, applicant, renew, fail, deadline   \n",
       "\n",
       "                                                                                                                                                                                                                                                                                                                                                                                                                                                                                                                                                                                                                                                                                                                                                                                                                                                                                                                                                                                                                                                                       Text  \n",
       "0  [settlement, agreement, enter, basis, following, stipulation_admission_understanding, empower, renew, applicant, broker, dertificate, registration, find, thing_applicants, operation, manager, comply, complete, minimum, hour, approve, continue, education, prior, calendar, year, authorize, refuse, renew, applicant, broker, certificate, registration, find, applicant, violate, fail, comply, provision, section, revise, rule_adopt, section, law_applicable_business, conduct, certificate, registration, require, operation, manager, complete, hour, approve, continue, education, calendar, year, broker, certificate, registration_expire_effort, renew, certificate, submit, renewal, application, renewal, application, remain_pende, admit, fail, comply, requirement, calendar, year, f, fail, comply, authority, refuse, renew, broker, certificate, registration, enter, settlement, agreement, lieu, formal, proceeding, deny, renewal, application, broker, certificate, registration, basis, admit, noncompliance, expressly_reserve, right, ...]  \n",
       "1                  [settlement, agreement, enter, basis, follow, stipulation_admission_understanding, empower, renew, applicant, broker, certificate, registration, find, thing_applicants, operation, manager, comply, complete, minimum, hour, approve, continue, education, prior, calendar, year, page, authorize, refuse, renew, applicant, broker, certificate, registration, find, applicant, violate, fail, comply, provision, section, revise, rule_adopt, section, law_applicable_business, conduct, certificate, registration, require, operation, manager, complete, hour, approve, continue, education, calendar, year_31st_d, year, law, impose, requirement, operation, manager, extend, deadline, broker, certificate, registration_expire_effort, renew, certificate, submit, renewal, application, renewal, application, remain_pende, admit_extension_time, grant, comply, requirement, fail, complete, require, credit, hour, extend, deadline, record, complete, hour, approve, expiration, extend, deadline, h, fail, comply, authority, refuse, ...]  \n",
       "2                  [settlement, agreement, enter, basis, follow, stipulation_admission_understanding, empower, renew, applicant, broker, certificate, registration, find, thing_applicants, operation, manager, comply, complete, minimum, hour, approve, continue, education, prior, calendar, year, page, authorize, refuse, renew, applicant, broker, certificate, registration, find, applicant, violate, fail, comply, provision, section, revise, rule_adopt, section, law_applicable_business, conduct, certificate, registration, require, operation, manager, complete, hour, approve, continue, education, calendar, year_31st_d, year, law, impose, requirement, operation, manager, extend, deadline, broker, certificate, registration_expire_effort, renew, certificate, submit, renewal, application, renewal, application, remain_pende, admit_extension_time, grant, comply, requirement, fail, complete, require, credit, hour, extend, deadline, record, complete, hour, approve, expiration, extend, deadline, h, fail, comply, authority, refuse, ...]  \n",
       "3      [settlement, agreement, enter, basis, follow, stipulation_admission_understanding, empower, renew, applicant, broker, certificate, registration, find, thing_applicants, operation, manager, comply, complete, minimum, hour, approve, continue, education, prior, calendar, year, authorize, refuse, renew, applicant, broker, certificate, registration, find, applicant, violate, fail, page, comply, provision, section, revise, rule_adopt, section, law_applicable_business, conduct, certificate, registration, require, operation, manager, complete, hour, approve, continue, education, calendar, year, broker, certificate, registration_expire_effort, renew, certificate, submit, renewal, application, renewal, application, remain_pende, admit, fail, comply, requirement, calendar, year, f, fail, comply, authority, refuse, renew, broker, certificate, registration, enter, settlement, agreement, lieu, formal, proceeding, deny, renewal, application, broker, certificate, registration, basis, admit, noncompliance, expressly_reserve, ...]  \n",
       "4                  [settlement, agreement, enter, basis, follow, stipulation_admission_understanding, empower, renew, applicant, broker, certificate, registration, find, thing_applicants, operation, manager, comply, complete, minimum, hour, approve, continue, education, prior, calendar, year, page, authorize, refuse, renew, applicant, broker, certificate, registration, find, applicant, violate, fail, comply, provision, section, revise, rule_adopt, section, law_applicable_business, conduct, certificate, registration, require, operation, manager, complete, hour, approve, continue, education, calendar, year_31st_d, year, law, impose, requirement, operation, manager, extend, deadline, broker, certificate, registration_expire_effort, renew, certificate, submit, renewal, application, renewal, application, remain_pende, admit_extension_time, grant, comply, requirement, fail, complete, require, credit, hour, extend, deadline, record, complete, hour, approve, expiration, extend, deadline, h, fail, comply, authority, refuse, ...]  \n",
       "5      [settlement, agreement, enter, basis, follow, stipulation_admission_understanding, empower, renew, applicant, broker, certificate, registration, find, thing_applicants, operation, manager, comply, complete, minimum, hour, approve, continue, education, prior, calendar, year, authorize, refuse, renew, applicant, broker, certificate, registration, find, applicant, violate, fail, page, comply, provision, section, revise, rule_adopt, section, law_applicable_business, conduct, certificate, registration, require, operation, manager, complete, hour, approve, continue, education, calendar, year, broker, certificate, registration_expire_effort, renew, certificate, submit, renewal, application, renewal, application, remain_pende, admit, fail, comply, requirement, calendar, year, f, fail, comply, authority, refuse, renew, broker, certificate, registration, enter, settlement, agreement, lieu, formal, proceeding, deny, renewal, application, broker, certificate, registration, basis, admit, noncompliance, expressly_reserve, ...]  \n",
       "6                                                                                                                                                                                                                                                                                                                                                                                                                                                                                                 [conduct, find, following, plead_guilty, convict, felony, offense, delivery, cocaine, finding_list, determine_prove, honest_truthful, good_reputation_basis, believe_commit_criminal_offense, involve_theft, receive_stolen, property_embezzlement, forgery_fraud, pass_bad, check_money_laundering_drug, trafficking_criminal_offense_involve, money_security, section, character_general, fitness_command, confidence_public, warrant_belief, business, operate_honestly, fairly_compliance, purpose, intent, deny, loan, officer, license, opportunity, hearing, page]  \n",
       "7                                                                                          [conduct, find, follow, municipal_court, convict, offense, theft, degree, misdemeanor, violate, fail, disclose, criminal_offense, list_paragraph, loan, officer, license, prohibit, applicant, loan, officer, license, obtain, license, false_fraudulent, representation_material, omission_material, require, law, substantial_misrepresentation, license, application, prohibit, applicant, loan, officer, license, false_misleading, statement_material_omission_statement, require, law, finding_list, determine_prove, honest_truthful, good_reputation_basis, believe_commit_criminal_offense, involve_theft, receive_stolen, property_embezzlement, forgery_fraud, pass_bad, check_money_laundering_drug, trafficking_criminal_offense_involve, money_security, section, intent, deny, loan, officer, license, opportunity, hearing, page, character_general, fitness_command, confidence_public, warrant_belief, business, operate_honestly, fairly_compliance, purpose]  \n",
       "8                  [settlement, agreement, enter, basis, follow, stipulation_admission_understanding, empower, renew, applicant, broker, certificate, registration, find, thing_applicants, operation, manager, comply, complete, minimum, hour, approve, continue, education, prior, calendar, year, page, authorize, refuse, renew, applicant, broker, certificate, registration, find, applicant, violate, fail, comply, provision, section, revise, rule_adopt, section, law_applicable_business, conduct, certificate, registration, require, operation, manager, complete, hour, approve, continue, education, calendar, year_31st_d, year, law, impose, requirement, operation, manager, extend, deadline, broker, certificate, registration_expire_effort, renew, certificate, submit, renewal, application, renewal, application, remain_pende, admit_extension_time, grant, comply, requirement, fail, complete, require, credit, hour, extend, deadline, record, complete, hour, approve, expiration, extend, deadline, h, fail, comply, authority, refuse, ...]  \n",
       "9                  [settlement, agreement, enter, basis, follow, stipulation_admission_understanding, empower, renew, applicant, broker, certificate, registration, find, thing_applicants, operation, manager, comply, complete, minimum, hour, approve, continue, education, prior, calendar, year, page, authorize, refuse, renew, applicant, broker, certificate, registration, find, applicant, violate, fail, comply, provision, section, revise, rule_adopt, section, law_applicable_business, conduct, certificate, registration, require, operation, manager, complete, hour, approve, continue, education, calendar, year_31st_d, year, law, impose, requirement, operation, manager, extend, deadline, broker, certificate, registration_expire_effort, renew, certificate, submit, renewal, application, renewal, application, remain_pende, admit_extension_time, grant, comply, requirement, fail, complete, require, credit, hour, extend, deadline, record, complete, hour, approve, expiration, extend, deadline, h, fail, comply, authority, refuse, ...]  "
      ]
     },
     "execution_count": 254,
     "metadata": {},
     "output_type": "execute_result"
    }
   ],
   "source": [
    "def format_topics_sentences(ldamodel=lda_model, corpus=corpus, texts=text_list):\n",
    "    # Init output\n",
    "    sent_topics_df = pd.DataFrame()\n",
    "\n",
    "    # Get main topic in each document\n",
    "    for i, row in enumerate(ldamodel[corpus]):\n",
    "        row = sorted(row, key=lambda x: (x[1]), reverse=True)\n",
    "        # Get the Dominant topic, Perc Contribution and Keywords for each document\n",
    "        for j, (topic_num, prop_topic) in enumerate(row):\n",
    "            if j == 0:  # => dominant topic\n",
    "                wp = ldamodel.show_topic(topic_num)\n",
    "                topic_keywords = \", \".join([word for word, prop in wp])\n",
    "                sent_topics_df = sent_topics_df.append(pd.Series([int(topic_num), round(prop_topic,4), topic_keywords]), ignore_index=True)\n",
    "            else:\n",
    "                break\n",
    "    sent_topics_df.columns = ['Dominant_Topic', 'Perc_Contribution', 'Topic_Keywords']\n",
    "\n",
    "    # Add original text to the end of the output\n",
    "    contents = pd.Series(texts)\n",
    "    sent_topics_df = pd.concat([sent_topics_df, contents], axis=1)\n",
    "    return(sent_topics_df)\n",
    "\n",
    "\n",
    "df_topic_sents_keywords = format_topics_sentences(ldamodel=lda_model, corpus=corpus, texts=text_list)\n",
    "\n",
    "# Format\n",
    "df_dominant_topic = df_topic_sents_keywords.reset_index()\n",
    "df_dominant_topic.columns = ['Document_No', 'Dominant_Topic', 'Topic_Perc_Contrib', 'Keywords', 'Text']\n",
    "\n",
    "# Show\n",
    "df_dominant_topic.head(10)"
   ]
  },
  {
   "cell_type": "code",
   "execution_count": 255,
   "metadata": {},
   "outputs": [
    {
     "data": {
      "text/html": [
       "<div>\n",
       "<style scoped>\n",
       "    .dataframe tbody tr th:only-of-type {\n",
       "        vertical-align: middle;\n",
       "    }\n",
       "\n",
       "    .dataframe tbody tr th {\n",
       "        vertical-align: top;\n",
       "    }\n",
       "\n",
       "    .dataframe thead th {\n",
       "        text-align: right;\n",
       "    }\n",
       "</style>\n",
       "<table border=\"1\" class=\"dataframe\">\n",
       "  <thead>\n",
       "    <tr style=\"text-align: right;\">\n",
       "      <th></th>\n",
       "      <th>Topic_Num</th>\n",
       "      <th>Topic_Perc_Contrib</th>\n",
       "      <th>Keywords</th>\n",
       "      <th>Text</th>\n",
       "    </tr>\n",
       "  </thead>\n",
       "  <tbody>\n",
       "    <tr>\n",
       "      <th>0</th>\n",
       "      <td>0.0</td>\n",
       "      <td>0.9836</td>\n",
       "      <td>officer, loan, license, application, renew, complete, comply, settlement, applicant, approve</td>\n",
       "      <td>[denial, loan, officer, license, application, order, submit, loan, officer, license, application, issue, intent, deny, application, notify, right, hearing, matter_request, hearing, thereto_administrative, hearing_hold_accordance, revise, hearing, officer, file_write, report_recommendation_recommend, deny, application, copy_report, recommendation_letter, explain, right, submit, write_objection_report, mail_certified, mail, timely, file_objection, consideration, hearing, officer, report_recommendation_confirm, approve, recommendation_accordingly, application, loan, officer, license, deny]</td>\n",
       "    </tr>\n",
       "    <tr>\n",
       "      <th>1</th>\n",
       "      <td>1.0</td>\n",
       "      <td>0.9954</td>\n",
       "      <td>loan, officer, license, fail, comply, certificate, require, applicant, renew, application</td>\n",
       "      <td>[provide, untruthful, information, loan, officer, license, application, course, loan, officer, license, application, supply, false_misleading, statement, document, concern, disposition, charge, aggravated, trafficking, drug, plead_guilty, convict, attempt, trafficking, marijuana, attempted, possession, criminal, tool, municipal_court, convict, drug, abuse, intent, revoke, loan, officer, license, opportunity, hearing, page, finding_list, determine_prove, honest_truthful, good_reputation_basis, believe_commit_criminal_offense, involve, drug_trafficking, section, action_list_paragraph, character_general, fitness_command, confidence_public, warrant_belief, business, operate_honestly, fairly_compliance, purpose, action_list_paragraph, character_general, fitness_command, confidence_public, warrant_belief, business, operate_honestly, fairly_compliance, purpose, action_list_paragraph, character_general, fitness_command, confidence_public, warrant_belief, business, operate_honestly, fairly_compliance, purpose, action_list_paragraph, iv, character_general, fitness_command, confidence_public, warrant_belief, business, operate_honestly, fairly_compliance, purpose, action_list_paragraph, violate, prohibit, loan, officer, applicant, substantial_misrepresentation, registration, license, application, action_list_paragraph, violate, ...]</td>\n",
       "    </tr>\n",
       "    <tr>\n",
       "      <th>2</th>\n",
       "      <td>2.0</td>\n",
       "      <td>0.9912</td>\n",
       "      <td>loan, settlement, agreement, hour, complete, officer, license, comply, applicant, fail</td>\n",
       "      <td>[settlement, agreement, enter, basis, follow, stipulation, information, admission_understanding, require, loan, officer, complete, hour, approve, continue, education, calendar, year, 31st, page, year, law, impose, requirement, operation, manager, extend, deadline, record, complete, hour, approve, expiration, extend, deadline, admit_extension_time, grant, comply, requirement, fail, complete, require, credit, hour, extend, deadline, authorize, revoke, licensee, loan, officer, license, find, licensee, violate, fail, comply, provision, section, revise, fail, comply, authority, revoke, loan, officer, license, enter, settlement, agreement, lieu, formal, proceeding, revoke, loan, officer, license, basis, admit, noncompliance, expressly_reserve, right, institute, formal, proceeding, base, violation, noncompliance, provision, specifically, address, occur_effective_date, settlement, agreement]</td>\n",
       "    </tr>\n",
       "    <tr>\n",
       "      <th>3</th>\n",
       "      <td>3.0</td>\n",
       "      <td>0.9949</td>\n",
       "      <td>hour, comply, officer, loan, complete, agreement, applicant, renew, fail, deadline</td>\n",
       "      <td>[settlement, agreement, enter, basis, following, stipulation_admission_understanding, empower, renew, applicant, broker, certificate, registration, find, thing, applicant, comply, require, applicant, operation, manager, successfully, complete, operation, manager, examination_mandate, require, applicant, operation, manager, complete, minimum, hour, approve, continue, education, prior, calendar, year, page, exam, late, authorize, refuse, renew, applicant, broker, certificate, registration, find, applicant, violate, fail, comply, provision, section, revise, rule_adopt, section, law_applicable_business, conduct, certificate, registration, require, operation, manager, successfully, complete, operation, manager, examination, require, operation, manager, complete, hour, approve, continue, education, calendar, year, 31st, year, law, impose, requirement, operation, manager, extend, deadline, broker, certificate, registration_expire_effort, renew, certificate, submit, renewal, application, renewal, application, remain_pende, ...]</td>\n",
       "    </tr>\n",
       "    <tr>\n",
       "      <th>4</th>\n",
       "      <td>4.0</td>\n",
       "      <td>0.9942</td>\n",
       "      <td>officer, license, loan, complete, fail, comply, settlement, applicant, hour, agreement</td>\n",
       "      <td>[settlement, agreement, enter, basis, follow, stipulation_admission_understanding, empower, refuse, issue, loan, officer, applicant, license, applicant, convict, plead_guilty, criminal_offense_involve, theft, receive_stolen, property_embezzlement, forgery_fraud, pass_bad, check_money_laundering_drug, trafficking_criminal_offense_involve, money_security_empower, grant, loan, officer, applicant, convict, crime_list_paragraph_codify, license, applicant, prove_preponderance, evidence, applicants_activity_employment, record, conviction, applicant, honest_truthful, good_reputation_basis, believe, applicant, commit_offense, page, submit, application, loan, officer, license, application, remain_pende, admit, convict, crime_list, convict, theft, firstdegree_misdemeanor, convict, attempt, grand, theft, firstdegree_misdemeanor, responsibility, action, disclose, convict, criminal_offense, loan, officer, license, application, e, understand, convict, theft, attempted, grand, theft, authority, refuse, issue, loan, officer, license, effort, prove_honest, trustworthy, basis, believe_steal, submit, offense, occur, year, ago, year, old, work, industry, past, ...]</td>\n",
       "    </tr>\n",
       "    <tr>\n",
       "      <th>5</th>\n",
       "      <td>5.0</td>\n",
       "      <td>0.9790</td>\n",
       "      <td>officer, loan, license, applicant, application, find, fail, deny, convict, complete</td>\n",
       "      <td>[conduct, find, follow, court, pleas, plead_guilty, convict, assault, police, officer, misdemeanor_degree, assault, conviction, base, assault, police, officer, time, airport, heighten, security, finding_list, determine, character_general, fitness_command, confidence_public, warrant_belief, business, operate_honestly, fairly_compliance, purpose, intent, deny, loan, officer, license, opportunity, hearing, page]</td>\n",
       "    </tr>\n",
       "  </tbody>\n",
       "</table>\n",
       "</div>"
      ],
      "text/plain": [
       "   Topic_Num  Topic_Perc_Contrib  \\\n",
       "0        0.0              0.9836   \n",
       "1        1.0              0.9954   \n",
       "2        2.0              0.9912   \n",
       "3        3.0              0.9949   \n",
       "4        4.0              0.9942   \n",
       "5        5.0              0.9790   \n",
       "\n",
       "                                                                                       Keywords  \\\n",
       "0  officer, loan, license, application, renew, complete, comply, settlement, applicant, approve   \n",
       "1     loan, officer, license, fail, comply, certificate, require, applicant, renew, application   \n",
       "2        loan, settlement, agreement, hour, complete, officer, license, comply, applicant, fail   \n",
       "3            hour, comply, officer, loan, complete, agreement, applicant, renew, fail, deadline   \n",
       "4        officer, license, loan, complete, fail, comply, settlement, applicant, hour, agreement   \n",
       "5           officer, loan, license, applicant, application, find, fail, deny, convict, complete   \n",
       "\n",
       "                                                                                                                                                                                                                                                                                                                                                                                                                                                                                                                                                                                                                                                                                                                                                                                                                                                                                                                                                                                                                                                                                                                                                                                                                                                                                                                                                                                             Text  \n",
       "0                                                                                                                                                                                                                                                                                                                                                                                                                                                                                                                                                                                                                                                                                                                                                                               [denial, loan, officer, license, application, order, submit, loan, officer, license, application, issue, intent, deny, application, notify, right, hearing, matter_request, hearing, thereto_administrative, hearing_hold_accordance, revise, hearing, officer, file_write, report_recommendation_recommend, deny, application, copy_report, recommendation_letter, explain, right, submit, write_objection_report, mail_certified, mail, timely, file_objection, consideration, hearing, officer, report_recommendation_confirm, approve, recommendation_accordingly, application, loan, officer, license, deny]  \n",
       "1  [provide, untruthful, information, loan, officer, license, application, course, loan, officer, license, application, supply, false_misleading, statement, document, concern, disposition, charge, aggravated, trafficking, drug, plead_guilty, convict, attempt, trafficking, marijuana, attempted, possession, criminal, tool, municipal_court, convict, drug, abuse, intent, revoke, loan, officer, license, opportunity, hearing, page, finding_list, determine_prove, honest_truthful, good_reputation_basis, believe_commit_criminal_offense, involve, drug_trafficking, section, action_list_paragraph, character_general, fitness_command, confidence_public, warrant_belief, business, operate_honestly, fairly_compliance, purpose, action_list_paragraph, character_general, fitness_command, confidence_public, warrant_belief, business, operate_honestly, fairly_compliance, purpose, action_list_paragraph, character_general, fitness_command, confidence_public, warrant_belief, business, operate_honestly, fairly_compliance, purpose, action_list_paragraph, iv, character_general, fitness_command, confidence_public, warrant_belief, business, operate_honestly, fairly_compliance, purpose, action_list_paragraph, violate, prohibit, loan, officer, applicant, substantial_misrepresentation, registration, license, application, action_list_paragraph, violate, ...]  \n",
       "2                                                                                                                                                                                                                                                                                                                                                                                                                                                                [settlement, agreement, enter, basis, follow, stipulation, information, admission_understanding, require, loan, officer, complete, hour, approve, continue, education, calendar, year, 31st, page, year, law, impose, requirement, operation, manager, extend, deadline, record, complete, hour, approve, expiration, extend, deadline, admit_extension_time, grant, comply, requirement, fail, complete, require, credit, hour, extend, deadline, authorize, revoke, licensee, loan, officer, license, find, licensee, violate, fail, comply, provision, section, revise, fail, comply, authority, revoke, loan, officer, license, enter, settlement, agreement, lieu, formal, proceeding, revoke, loan, officer, license, basis, admit, noncompliance, expressly_reserve, right, institute, formal, proceeding, base, violation, noncompliance, provision, specifically, address, occur_effective_date, settlement, agreement]  \n",
       "3                                                                                                                                                                                                                                                                                                                     [settlement, agreement, enter, basis, following, stipulation_admission_understanding, empower, renew, applicant, broker, certificate, registration, find, thing, applicant, comply, require, applicant, operation, manager, successfully, complete, operation, manager, examination_mandate, require, applicant, operation, manager, complete, minimum, hour, approve, continue, education, prior, calendar, year, page, exam, late, authorize, refuse, renew, applicant, broker, certificate, registration, find, applicant, violate, fail, comply, provision, section, revise, rule_adopt, section, law_applicable_business, conduct, certificate, registration, require, operation, manager, successfully, complete, operation, manager, examination, require, operation, manager, complete, hour, approve, continue, education, calendar, year, 31st, year, law, impose, requirement, operation, manager, extend, deadline, broker, certificate, registration_expire_effort, renew, certificate, submit, renewal, application, renewal, application, remain_pende, ...]  \n",
       "4                                                                                                                                                                                      [settlement, agreement, enter, basis, follow, stipulation_admission_understanding, empower, refuse, issue, loan, officer, applicant, license, applicant, convict, plead_guilty, criminal_offense_involve, theft, receive_stolen, property_embezzlement, forgery_fraud, pass_bad, check_money_laundering_drug, trafficking_criminal_offense_involve, money_security_empower, grant, loan, officer, applicant, convict, crime_list_paragraph_codify, license, applicant, prove_preponderance, evidence, applicants_activity_employment, record, conviction, applicant, honest_truthful, good_reputation_basis, believe, applicant, commit_offense, page, submit, application, loan, officer, license, application, remain_pende, admit, convict, crime_list, convict, theft, firstdegree_misdemeanor, convict, attempt, grand, theft, firstdegree_misdemeanor, responsibility, action, disclose, convict, criminal_offense, loan, officer, license, application, e, understand, convict, theft, attempted, grand, theft, authority, refuse, issue, loan, officer, license, effort, prove_honest, trustworthy, basis, believe_steal, submit, offense, occur, year, ago, year, old, work, industry, past, ...]  \n",
       "5                                                                                                                                                                                                                                                                                                                                                                                                                                                                                                                                                                                                                                                                                                                                                                                                                                                                                                                                                                    [conduct, find, follow, court, pleas, plead_guilty, convict, assault, police, officer, misdemeanor_degree, assault, conviction, base, assault, police, officer, time, airport, heighten, security, finding_list, determine, character_general, fitness_command, confidence_public, warrant_belief, business, operate_honestly, fairly_compliance, purpose, intent, deny, loan, officer, license, opportunity, hearing, page]  "
      ]
     },
     "execution_count": 255,
     "metadata": {},
     "output_type": "execute_result"
    }
   ],
   "source": [
    "# Group top 5 sentences under each topic\n",
    "sent_topics_sorteddf_mallet = pd.DataFrame()\n",
    "\n",
    "sent_topics_outdf_grpd = df_topic_sents_keywords.groupby('Dominant_Topic')\n",
    "\n",
    "for i, grp in sent_topics_outdf_grpd:\n",
    "    sent_topics_sorteddf_mallet = pd.concat([sent_topics_sorteddf_mallet, \n",
    "                                             grp.sort_values(['Perc_Contribution'], ascending=[0]).head(1)], \n",
    "                                            axis=0)\n",
    "\n",
    "# Reset Index    \n",
    "sent_topics_sorteddf_mallet.reset_index(drop=True, inplace=True)\n",
    "\n",
    "# Format\n",
    "sent_topics_sorteddf_mallet.columns = ['Topic_Num', \"Topic_Perc_Contrib\", \"Keywords\", \"Text\"]\n",
    "\n",
    "# Show\n",
    "sent_topics_sorteddf_mallet"
   ]
  },
  {
   "cell_type": "code",
   "execution_count": 258,
   "metadata": {},
   "outputs": [
    {
     "data": {
      "text/html": [
       "<div>\n",
       "<style scoped>\n",
       "    .dataframe tbody tr th:only-of-type {\n",
       "        vertical-align: middle;\n",
       "    }\n",
       "\n",
       "    .dataframe tbody tr th {\n",
       "        vertical-align: top;\n",
       "    }\n",
       "\n",
       "    .dataframe thead th {\n",
       "        text-align: right;\n",
       "    }\n",
       "</style>\n",
       "<table border=\"1\" class=\"dataframe\">\n",
       "  <thead>\n",
       "    <tr style=\"text-align: right;\">\n",
       "      <th></th>\n",
       "      <th>Dominant_Topic</th>\n",
       "      <th>Topic_Keywords</th>\n",
       "      <th>Num_Documents</th>\n",
       "      <th>Perc_Documents</th>\n",
       "    </tr>\n",
       "  </thead>\n",
       "  <tbody>\n",
       "    <tr>\n",
       "      <th>0.0</th>\n",
       "      <td>3.0</td>\n",
       "      <td>hour, comply, officer, loan, complete, agreement, applicant, renew, fail, deadline</td>\n",
       "      <td>14.0</td>\n",
       "      <td>0.0741</td>\n",
       "    </tr>\n",
       "    <tr>\n",
       "      <th>1.0</th>\n",
       "      <td>3.0</td>\n",
       "      <td>hour, comply, officer, loan, complete, agreement, applicant, renew, fail, deadline</td>\n",
       "      <td>23.0</td>\n",
       "      <td>0.1217</td>\n",
       "    </tr>\n",
       "    <tr>\n",
       "      <th>2.0</th>\n",
       "      <td>3.0</td>\n",
       "      <td>hour, comply, officer, loan, complete, agreement, applicant, renew, fail, deadline</td>\n",
       "      <td>32.0</td>\n",
       "      <td>0.1693</td>\n",
       "    </tr>\n",
       "    <tr>\n",
       "      <th>3.0</th>\n",
       "      <td>3.0</td>\n",
       "      <td>hour, comply, officer, loan, complete, agreement, applicant, renew, fail, deadline</td>\n",
       "      <td>111.0</td>\n",
       "      <td>0.5873</td>\n",
       "    </tr>\n",
       "    <tr>\n",
       "      <th>4.0</th>\n",
       "      <td>3.0</td>\n",
       "      <td>hour, comply, officer, loan, complete, agreement, applicant, renew, fail, deadline</td>\n",
       "      <td>8.0</td>\n",
       "      <td>0.0423</td>\n",
       "    </tr>\n",
       "    <tr>\n",
       "      <th>...</th>\n",
       "      <td>...</td>\n",
       "      <td>...</td>\n",
       "      <td>...</td>\n",
       "      <td>...</td>\n",
       "    </tr>\n",
       "    <tr>\n",
       "      <th>184.0</th>\n",
       "      <td>2.0</td>\n",
       "      <td>loan, settlement, agreement, hour, complete, officer, license, comply, applicant, fail</td>\n",
       "      <td>NaN</td>\n",
       "      <td>NaN</td>\n",
       "    </tr>\n",
       "    <tr>\n",
       "      <th>185.0</th>\n",
       "      <td>1.0</td>\n",
       "      <td>loan, officer, license, fail, comply, certificate, require, applicant, renew, application</td>\n",
       "      <td>NaN</td>\n",
       "      <td>NaN</td>\n",
       "    </tr>\n",
       "    <tr>\n",
       "      <th>186.0</th>\n",
       "      <td>2.0</td>\n",
       "      <td>loan, settlement, agreement, hour, complete, officer, license, comply, applicant, fail</td>\n",
       "      <td>NaN</td>\n",
       "      <td>NaN</td>\n",
       "    </tr>\n",
       "    <tr>\n",
       "      <th>187.0</th>\n",
       "      <td>3.0</td>\n",
       "      <td>hour, comply, officer, loan, complete, agreement, applicant, renew, fail, deadline</td>\n",
       "      <td>NaN</td>\n",
       "      <td>NaN</td>\n",
       "    </tr>\n",
       "    <tr>\n",
       "      <th>188.0</th>\n",
       "      <td>3.0</td>\n",
       "      <td>hour, comply, officer, loan, complete, agreement, applicant, renew, fail, deadline</td>\n",
       "      <td>NaN</td>\n",
       "      <td>NaN</td>\n",
       "    </tr>\n",
       "  </tbody>\n",
       "</table>\n",
       "<p>189 rows × 4 columns</p>\n",
       "</div>"
      ],
      "text/plain": [
       "       Dominant_Topic  \\\n",
       "0.0               3.0   \n",
       "1.0               3.0   \n",
       "2.0               3.0   \n",
       "3.0               3.0   \n",
       "4.0               3.0   \n",
       "...               ...   \n",
       "184.0             2.0   \n",
       "185.0             1.0   \n",
       "186.0             2.0   \n",
       "187.0             3.0   \n",
       "188.0             3.0   \n",
       "\n",
       "                                                                                  Topic_Keywords  \\\n",
       "0.0           hour, comply, officer, loan, complete, agreement, applicant, renew, fail, deadline   \n",
       "1.0           hour, comply, officer, loan, complete, agreement, applicant, renew, fail, deadline   \n",
       "2.0           hour, comply, officer, loan, complete, agreement, applicant, renew, fail, deadline   \n",
       "3.0           hour, comply, officer, loan, complete, agreement, applicant, renew, fail, deadline   \n",
       "4.0           hour, comply, officer, loan, complete, agreement, applicant, renew, fail, deadline   \n",
       "...                                                                                          ...   \n",
       "184.0     loan, settlement, agreement, hour, complete, officer, license, comply, applicant, fail   \n",
       "185.0  loan, officer, license, fail, comply, certificate, require, applicant, renew, application   \n",
       "186.0     loan, settlement, agreement, hour, complete, officer, license, comply, applicant, fail   \n",
       "187.0         hour, comply, officer, loan, complete, agreement, applicant, renew, fail, deadline   \n",
       "188.0         hour, comply, officer, loan, complete, agreement, applicant, renew, fail, deadline   \n",
       "\n",
       "       Num_Documents  Perc_Documents  \n",
       "0.0             14.0          0.0741  \n",
       "1.0             23.0          0.1217  \n",
       "2.0             32.0          0.1693  \n",
       "3.0            111.0          0.5873  \n",
       "4.0              8.0          0.0423  \n",
       "...              ...             ...  \n",
       "184.0            NaN             NaN  \n",
       "185.0            NaN             NaN  \n",
       "186.0            NaN             NaN  \n",
       "187.0            NaN             NaN  \n",
       "188.0            NaN             NaN  \n",
       "\n",
       "[189 rows x 4 columns]"
      ]
     },
     "execution_count": 258,
     "metadata": {},
     "output_type": "execute_result"
    }
   ],
   "source": [
    "# Number of Documents for Each Topic\n",
    "topic_counts = df_topic_sents_keywords['Dominant_Topic'].value_counts()\n",
    "topic_counts.head()\n",
    "# Percentage of Documents for Each Topic\n",
    "topic_contribution = round(topic_counts/topic_counts.sum(), 4)\n",
    "\n",
    "# Topic Number and Keywords\n",
    "topic_num_keywords = df_topic_sents_keywords[['Dominant_Topic', 'Topic_Keywords']]\n",
    "\n",
    "# Concatenate Column wise\n",
    "df_dominant_topics = pd.concat([topic_num_keywords, topic_counts, topic_contribution], axis=1)\n",
    "\n",
    "# Change Column names\n",
    "df_dominant_topics.columns = ['Dominant_Topic', 'Topic_Keywords', 'Num_Documents', 'Perc_Documents']\n",
    "\n",
    "# Show\n",
    "df_dominant_topics"
   ]
  }
 ],
 "metadata": {
  "interpreter": {
   "hash": "c200356685012de8850201f95537ce902c61c8fd611b23a6f6394b46e0ce5b2e"
  },
  "kernelspec": {
   "display_name": "Python 3 (ipykernel)",
   "language": "python",
   "name": "python3"
  },
  "language_info": {
   "codemirror_mode": {
    "name": "ipython",
    "version": 3
   },
   "file_extension": ".py",
   "mimetype": "text/x-python",
   "name": "python",
   "nbconvert_exporter": "python",
   "pygments_lexer": "ipython3",
   "version": "3.7.10"
  }
 },
 "nbformat": 4,
 "nbformat_minor": 2
}
