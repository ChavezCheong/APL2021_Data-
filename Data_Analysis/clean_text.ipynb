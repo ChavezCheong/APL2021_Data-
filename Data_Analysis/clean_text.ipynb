{
 "cells": [
  {
   "cell_type": "code",
   "execution_count": 1,
   "source": [
    "# Set up imports\r\n",
    "import pandas as pd\r\n",
    "import numpy as np\r\n",
    "import re\r\n",
    "import sys"
   ],
   "outputs": [],
   "metadata": {}
  },
  {
   "cell_type": "code",
   "execution_count": 242,
   "source": [
    "# Load dataset\r\n",
    "init_df = pd.read_csv(\"Standardized Data/Final.csv\")"
   ],
   "outputs": [],
   "metadata": {}
  },
  {
   "cell_type": "code",
   "execution_count": 243,
   "source": [
    "# Look through and check data\r\n",
    "init_df.drop(columns=[\"Unnamed: 0\"], inplace=True)"
   ],
   "outputs": [],
   "metadata": {}
  },
  {
   "cell_type": "code",
   "execution_count": 244,
   "source": [
    "# Drop rows with empty text\r\n",
    "init_df.reset_index(drop = True)\r\n",
    "init_df.columns"
   ],
   "outputs": [
    {
     "output_type": "execute_result",
     "data": {
      "text/plain": [
       "Index(['Entity Type', 'Entity Name', 'City, State', 'Enforcement Action',\n",
       "       'Date', 'Text', 'State Enforcing', 'Text Length'],\n",
       "      dtype='object')"
      ]
     },
     "metadata": {},
     "execution_count": 244
    }
   ],
   "metadata": {}
  },
  {
   "cell_type": "code",
   "execution_count": 245,
   "source": [
    "# Add a new column to check if Text has been processed\r\n",
    "init_df[\"Processed?\"] = False"
   ],
   "outputs": [],
   "metadata": {}
  },
  {
   "cell_type": "code",
   "execution_count": 257,
   "source": [
    "def find_length(text):\r\n",
    "    if not pd.isna(text):\r\n",
    "        return len(text)\r\n",
    "    else:\r\n",
    "        return 0"
   ],
   "outputs": [],
   "metadata": {}
  },
  {
   "cell_type": "code",
   "execution_count": 261,
   "source": [
    "init_df"
   ],
   "outputs": [
    {
     "output_type": "execute_result",
     "data": {
      "text/plain": [
       "                   Entity Type                            Entity Name  \\\n",
       "0                           RM            UNITED MORTGAGE GROUP, INC.   \n",
       "1                           RM            SUPERIOR HOME MORTGAGE, LLC   \n",
       "2                           RM            UNITED MORTGAGE GROUP, INC.   \n",
       "3                           RM            SUPERIOR HOME MORTGAGE, LLC   \n",
       "4                           RM                   T. P. O. T. T., INC.   \n",
       "...                        ...                                    ...   \n",
       "7236  MORTGAGE LOAN ORIGINATOR                       JAMES P. DEORIO�   \n",
       "7237  MORTGAGE LOAN ORIGINATOR                       MATTHEW J. VANCE   \n",
       "7238  MORTGAGE LOAN ORIGINATOR                         RUSSELL TUNICK   \n",
       "7239          MORTGAGE COMPANY        ADVANCED MORTGAGE SERVICES, LLC   \n",
       "7240           MORTGAGE BROKER  A-PLUS MORTGAGE, LLC DBA APM MORTGAGE   \n",
       "\n",
       "       City, State          Enforcement Action        Date  \\\n",
       "0        PARMA, OH   REPORT AND RECOMMENDATION  01/27/2000   \n",
       "1       EUCLID, OH    NOTICE OF INTENT TO DENY  04/12/2000   \n",
       "2        PARMA, OH              DIVISION ORDER  04/12/2000   \n",
       "3       EUCLID, OH   REPORT AND RECOMMENDATION  11/02/2000   \n",
       "4     COLUMBUS, OH  NOTICE OF INTENT TO REVOKE  04/18/2001   \n",
       "...            ...                         ...         ...   \n",
       "7236           NaN               CONSENT ORDER  11/26/2010   \n",
       "7237           NaN               CONSENT ORDER  11/30/2010   \n",
       "7238           NaN               CONSENT ORDER  12/02/2010   \n",
       "7239           NaN               CONSENT ORDER  12/13/2010   \n",
       "7240           NaN               CONSENT ORDER  12/13/2010   \n",
       "\n",
       "                                                   Text State Enforcing  \\\n",
       "0                                                   NaN              OH   \n",
       "1                                                   NaN              OH   \n",
       "2                                                   NaN              OH   \n",
       "3                                                   NaN              OH   \n",
       "4     STATE OF OHIO DEPARTMENT OF COMMERCE DIVISION ...              OH   \n",
       "...                                                 ...             ...   \n",
       "7236   COMMONWEALTH OF MASSACHUSETTS  Suffolk, SS.  ...              MA   \n",
       "7237   COMMONWEALTH OF MASSACHUSETTS  Suffolk, SS.  ...              MA   \n",
       "7238   COMMONWEALTH OF MASSACHUSETTS  Suffolk, SS.  ...              MA   \n",
       "7239   COMMONWEALTH OF MASSACHUSETTS  Suffolk, SS.  ...              MA   \n",
       "7240   COMMONWEALTH OF MASSACHUSETTS  Suffolk, SS.  ...              MA   \n",
       "\n",
       "      Text Length  Processed?  \n",
       "0               0       False  \n",
       "1               0       False  \n",
       "2               0       False  \n",
       "3               0       False  \n",
       "4            8749       False  \n",
       "...           ...         ...  \n",
       "7236         6087       False  \n",
       "7237         6014       False  \n",
       "7238         3976       False  \n",
       "7239         7251       False  \n",
       "7240         7379       False  \n",
       "\n",
       "[7241 rows x 9 columns]"
      ],
      "text/html": [
       "<div>\n",
       "<style scoped>\n",
       "    .dataframe tbody tr th:only-of-type {\n",
       "        vertical-align: middle;\n",
       "    }\n",
       "\n",
       "    .dataframe tbody tr th {\n",
       "        vertical-align: top;\n",
       "    }\n",
       "\n",
       "    .dataframe thead th {\n",
       "        text-align: right;\n",
       "    }\n",
       "</style>\n",
       "<table border=\"1\" class=\"dataframe\">\n",
       "  <thead>\n",
       "    <tr style=\"text-align: right;\">\n",
       "      <th></th>\n",
       "      <th>Entity Type</th>\n",
       "      <th>Entity Name</th>\n",
       "      <th>City, State</th>\n",
       "      <th>Enforcement Action</th>\n",
       "      <th>Date</th>\n",
       "      <th>Text</th>\n",
       "      <th>State Enforcing</th>\n",
       "      <th>Text Length</th>\n",
       "      <th>Processed?</th>\n",
       "    </tr>\n",
       "  </thead>\n",
       "  <tbody>\n",
       "    <tr>\n",
       "      <th>0</th>\n",
       "      <td>RM</td>\n",
       "      <td>UNITED MORTGAGE GROUP, INC.</td>\n",
       "      <td>PARMA, OH</td>\n",
       "      <td>REPORT AND RECOMMENDATION</td>\n",
       "      <td>01/27/2000</td>\n",
       "      <td>NaN</td>\n",
       "      <td>OH</td>\n",
       "      <td>0</td>\n",
       "      <td>False</td>\n",
       "    </tr>\n",
       "    <tr>\n",
       "      <th>1</th>\n",
       "      <td>RM</td>\n",
       "      <td>SUPERIOR HOME MORTGAGE, LLC</td>\n",
       "      <td>EUCLID, OH</td>\n",
       "      <td>NOTICE OF INTENT TO DENY</td>\n",
       "      <td>04/12/2000</td>\n",
       "      <td>NaN</td>\n",
       "      <td>OH</td>\n",
       "      <td>0</td>\n",
       "      <td>False</td>\n",
       "    </tr>\n",
       "    <tr>\n",
       "      <th>2</th>\n",
       "      <td>RM</td>\n",
       "      <td>UNITED MORTGAGE GROUP, INC.</td>\n",
       "      <td>PARMA, OH</td>\n",
       "      <td>DIVISION ORDER</td>\n",
       "      <td>04/12/2000</td>\n",
       "      <td>NaN</td>\n",
       "      <td>OH</td>\n",
       "      <td>0</td>\n",
       "      <td>False</td>\n",
       "    </tr>\n",
       "    <tr>\n",
       "      <th>3</th>\n",
       "      <td>RM</td>\n",
       "      <td>SUPERIOR HOME MORTGAGE, LLC</td>\n",
       "      <td>EUCLID, OH</td>\n",
       "      <td>REPORT AND RECOMMENDATION</td>\n",
       "      <td>11/02/2000</td>\n",
       "      <td>NaN</td>\n",
       "      <td>OH</td>\n",
       "      <td>0</td>\n",
       "      <td>False</td>\n",
       "    </tr>\n",
       "    <tr>\n",
       "      <th>4</th>\n",
       "      <td>RM</td>\n",
       "      <td>T. P. O. T. T., INC.</td>\n",
       "      <td>COLUMBUS, OH</td>\n",
       "      <td>NOTICE OF INTENT TO REVOKE</td>\n",
       "      <td>04/18/2001</td>\n",
       "      <td>STATE OF OHIO DEPARTMENT OF COMMERCE DIVISION ...</td>\n",
       "      <td>OH</td>\n",
       "      <td>8749</td>\n",
       "      <td>False</td>\n",
       "    </tr>\n",
       "    <tr>\n",
       "      <th>...</th>\n",
       "      <td>...</td>\n",
       "      <td>...</td>\n",
       "      <td>...</td>\n",
       "      <td>...</td>\n",
       "      <td>...</td>\n",
       "      <td>...</td>\n",
       "      <td>...</td>\n",
       "      <td>...</td>\n",
       "      <td>...</td>\n",
       "    </tr>\n",
       "    <tr>\n",
       "      <th>7236</th>\n",
       "      <td>MORTGAGE LOAN ORIGINATOR</td>\n",
       "      <td>JAMES P. DEORIO�</td>\n",
       "      <td>NaN</td>\n",
       "      <td>CONSENT ORDER</td>\n",
       "      <td>11/26/2010</td>\n",
       "      <td>COMMONWEALTH OF MASSACHUSETTS  Suffolk, SS.  ...</td>\n",
       "      <td>MA</td>\n",
       "      <td>6087</td>\n",
       "      <td>False</td>\n",
       "    </tr>\n",
       "    <tr>\n",
       "      <th>7237</th>\n",
       "      <td>MORTGAGE LOAN ORIGINATOR</td>\n",
       "      <td>MATTHEW J. VANCE</td>\n",
       "      <td>NaN</td>\n",
       "      <td>CONSENT ORDER</td>\n",
       "      <td>11/30/2010</td>\n",
       "      <td>COMMONWEALTH OF MASSACHUSETTS  Suffolk, SS.  ...</td>\n",
       "      <td>MA</td>\n",
       "      <td>6014</td>\n",
       "      <td>False</td>\n",
       "    </tr>\n",
       "    <tr>\n",
       "      <th>7238</th>\n",
       "      <td>MORTGAGE LOAN ORIGINATOR</td>\n",
       "      <td>RUSSELL TUNICK</td>\n",
       "      <td>NaN</td>\n",
       "      <td>CONSENT ORDER</td>\n",
       "      <td>12/02/2010</td>\n",
       "      <td>COMMONWEALTH OF MASSACHUSETTS  Suffolk, SS.  ...</td>\n",
       "      <td>MA</td>\n",
       "      <td>3976</td>\n",
       "      <td>False</td>\n",
       "    </tr>\n",
       "    <tr>\n",
       "      <th>7239</th>\n",
       "      <td>MORTGAGE COMPANY</td>\n",
       "      <td>ADVANCED MORTGAGE SERVICES, LLC</td>\n",
       "      <td>NaN</td>\n",
       "      <td>CONSENT ORDER</td>\n",
       "      <td>12/13/2010</td>\n",
       "      <td>COMMONWEALTH OF MASSACHUSETTS  Suffolk, SS.  ...</td>\n",
       "      <td>MA</td>\n",
       "      <td>7251</td>\n",
       "      <td>False</td>\n",
       "    </tr>\n",
       "    <tr>\n",
       "      <th>7240</th>\n",
       "      <td>MORTGAGE BROKER</td>\n",
       "      <td>A-PLUS MORTGAGE, LLC DBA APM MORTGAGE</td>\n",
       "      <td>NaN</td>\n",
       "      <td>CONSENT ORDER</td>\n",
       "      <td>12/13/2010</td>\n",
       "      <td>COMMONWEALTH OF MASSACHUSETTS  Suffolk, SS.  ...</td>\n",
       "      <td>MA</td>\n",
       "      <td>7379</td>\n",
       "      <td>False</td>\n",
       "    </tr>\n",
       "  </tbody>\n",
       "</table>\n",
       "<p>7241 rows × 9 columns</p>\n",
       "</div>"
      ]
     },
     "metadata": {},
     "execution_count": 261
    }
   ],
   "metadata": {}
  },
  {
   "cell_type": "code",
   "execution_count": 259,
   "source": [
    "init_df[\"Text Length\"] = init_df[\"Text\"].apply(find_length)"
   ],
   "outputs": [],
   "metadata": {}
  },
  {
   "cell_type": "code",
   "execution_count": 260,
   "source": [
    "init_df[init_df[\"Processed?\"]==True].shape"
   ],
   "outputs": [
    {
     "output_type": "execute_result",
     "data": {
      "text/plain": [
       "(0, 9)"
      ]
     },
     "metadata": {},
     "execution_count": 260
    }
   ],
   "metadata": {}
  },
  {
   "cell_type": "markdown",
   "source": [
    "## Beginning of Filtering Process"
   ],
   "metadata": {}
  },
  {
   "cell_type": "code",
   "execution_count": 264,
   "source": [
    "# Function to extract text between two strings (CAPS SENSITIVE)\r\n",
    "def extract_text(row, sub1, sub2):\r\n",
    "    text = row[\"Text\"]\r\n",
    "    if sub1 in text and sub2 in text:\r\n",
    "        row[\"Found\"] = True\r\n",
    "        index_1 = text.index(sub1)\r\n",
    "        if sub2 in text[index_1:]:\r\n",
    "            index_2 = text[index_1:].index(sub2) + index_1\r\n",
    "            if len(text[index_1 + len(sub1): index_2]) != 0:\r\n",
    "                row[\"Text\"] = text[index_1 + len(sub1): index_2]\r\n",
    "                row[\"Processed?\"] = True\r\n",
    "    return row\r\n",
    "    "
   ],
   "outputs": [],
   "metadata": {}
  },
  {
   "cell_type": "code",
   "execution_count": 12,
   "source": [
    "test = \"Ted Strickland STATE OF OHIO Kimberly A. Zurz Governor Director DEPARTMENT OF COMMERCE Division of Financial Institutions Consumer Finance In the matter of: ) Case No. M2008-257 ) MARIO R. EVANS ) ORDER OF SUMMARY SUSPENSION, 6541 Equestrian Trail ) NOTICE OF INTENT TO REVOKE Medina, Ohio 44256 ) & ) NOTICE OF HEARING DIVISION ORDER WHEREAS, the Ohio Department of Commerce, by and through the Superintendent of the Division of Financial Institutions (Division), is charged with the responsibility of administering and enforcing the Ohio Mortgage Broker Act, codified in Ohio Revised Code (R.C.) Chapter 1322. In accordance therewith, the Division is accountable for the licensing of individuals as residential mortgage loan officers; and WHEREAS, Mario R. Evans (Respondent) held loan officer license number 2648 in calendar year 2007. His address of record is 6541 Equestrian Trail, Medina, Ohio 44256, and his date of birth is January 29, 1972. Respondent's employer of record is National Mortgage Banc, Inc., 3009 Smith Road, Suite 600, Akron, Ohio 44333; and WHEREAS, R.C. 1322.10(F)(2) requires the Division to suspend, without a prior hearing, the license of a licensee who failed to fulfill the continuing education requirements of R.C. 1322.052 until such time as the required continuing education is completed and a fine of five hundred dollars ($500.00) is paid to the treasurer of state to the credit of the consumer finance fund; pursuant to Ohio Administrative Code section 1301:8-7-08(C)(4), an individual with a suspended license is not permitted to originate residential mortgage loans; and WHEREAS, Respondent failed to fulfill the continuing education requirements of R.C. 1322.052 for calendar year 2007; and Pursuant to R.C. 1322.10(F)(2), loan officer license number 002648 issued to Respondent is hereby SUSPENDED. It is so ordered. NOTICE OF INTENT TO REVOKE LOAN OFFICER LICENSE In accordance with sections 1322.041 and 1322.10 of the R.C., and R.C. Chapter 119, the Division intends to REVOKE Respondent's loan officer license. Mario R. Evans Suspension Order, Notice of Intent to Revoke & Notice of Hearing Page 2 of 2 BASIS FOR PROPOSED ACTION The Division has conducted an investigation of Respondent, pursuant to R.C. 1322.031(B), and has found the following: A. The Division is authorized by R.C. 1322.10(A)(1)(a) to revoke a loan officer license if the Division finds that the licensee has violated or fail[ed] to comply with any provision of sections 1322.01 to 1322.12 of the Revised Code or the rules adopted under those sections or any other law applicable to the business conducted[.]' B. Respondent previously held a loan officer license during the 2007 calendar year. C. R.C. 1322.052 requires every licensed loan officer to complete at least six (6) hours of approved continuing education (CE) every calendar year (by December 31st). D. Respondent failed to complete the required 6 hours of CE credit for the 2007 calendar year as required by R.C. 1322.052. E. Because Respondent failed to comply with R.C. 1322.052, the Division is authorized under R.C. 1322.10(A)(1)(a) to revoke Respondent's loan officer license. NOTICE OF HEARING Therefore, pursuant to R.C. 1322.10(F)(4), R.C. Chapter 119 and Section 1301:8-7-27 of the Ohio Administrative Code, Respondent is hereby notified that a hearing shall be held on Thursday, May 22, 2008 at 9:30 a.m. on the continuation or termination of the suspension imposed herein and on the Notice of Intent to Revoke your Loan Officer License. Said hearing will be held in Room 1910 located on the 19th Floor of the Vern Riffe Center for Government and the Arts, 77 South High Street in Columbus. At the hearing, Respondent may appear in person, by Respondent's attorney, or by such other representative as is permitted to practice before the Agency, or Respondent may present its position, arguments, or contentions in writing, and, at the hearing, may present evidence and examine witnesses appearing for and against Respondent. Signed and sealed this 28th day of April 2008. LEIGH A. WILLIS Deputy Superintendent for Consumer Finance Division of Financial Institutions Ohio Department of Commerce \""
   ],
   "outputs": [],
   "metadata": {}
  },
  {
   "cell_type": "code",
   "execution_count": 13,
   "source": [
    "print(test.index(\"BASIS FOR PROPOSED ACTION\"))\r\n",
    "print(test[2148:].index(\"NOTICE OF HEARING\")+2148)"
   ],
   "outputs": [
    {
     "output_type": "stream",
     "name": "stdout",
     "text": [
      "2148\n",
      "3159\n"
     ]
    }
   ],
   "metadata": {}
  },
  {
   "cell_type": "code",
   "execution_count": 265,
   "source": [
    "init_df.loc[(init_df[\"State Enforcing\"]==\"MA\")].shape"
   ],
   "outputs": [
    {
     "output_type": "execute_result",
     "data": {
      "text/plain": [
       "(323, 9)"
      ]
     },
     "metadata": {},
     "execution_count": 265
    }
   ],
   "metadata": {
    "scrolled": true
   }
  },
  {
   "cell_type": "code",
   "execution_count": 266,
   "source": [
    "# Check how many rows remain unprocessed\r\n",
    "## USE THIS TO CHECK HOW MANY ROWS YOU HAVE LEFT\r\n",
    "init_df.loc[(init_df[\"State Enforcing\"]==\"OH\")].shape"
   ],
   "outputs": [
    {
     "output_type": "execute_result",
     "data": {
      "text/plain": [
       "(6918, 9)"
      ]
     },
     "metadata": {},
     "execution_count": 266
    }
   ],
   "metadata": {}
  },
  {
   "cell_type": "code",
   "execution_count": 262,
   "source": [
    "# Function to Filter Text\r\n",
    "def filter_text(df, start_term, end_term, state):\r\n",
    "    df = df.apply(lambda row: extract_text(row, start_term, end_term) if (row[\"State Enforcing\"]==state and row[\"Processed?\"]==False and not pd.isna(row[\"Text\"]))  else row, axis = 1)\r\n",
    "    print(start_term)\r\n",
    "    print(end_term)\r\n",
    "    print(\"processed\")\r\n",
    "    print(len(df[df[\"Processed?\"]==True]))\r\n",
    "    print(len(df[df[\"Found\"]==True]))\r\n",
    "    return df\r\n"
   ],
   "outputs": [],
   "metadata": {}
  },
  {
   "cell_type": "code",
   "execution_count": 268,
   "source": [
    "# Function to extract text between string to end(CAPS SENSITIVE)\r\n",
    "def extract_text_end(row, sub):\r\n",
    "    text = row[\"Text\"]\r\n",
    "    if sub in text:\r\n",
    "        row[\"Found\"] = True\r\n",
    "        index_1 = text.rindex(sub)\r\n",
    "        if len(text[index_1 + len(sub):]) != 0:\r\n",
    "            row[\"Text\"] = text[index_1 + len(sub):]\r\n",
    "            row[\"Processed?\"] = True\r\n",
    "    return row"
   ],
   "outputs": [],
   "metadata": {}
  },
  {
   "cell_type": "code",
   "execution_count": 267,
   "source": [
    "# Function to Filter Text to End\r\n",
    "def filter_text_end(df, start_term, state):\r\n",
    "    df = df.apply(lambda row: extract_text_end(row, start_term) if (row[\"State Enforcing\"]==state and row[\"Processed?\"]==False and not pd.isna(row[\"Text\"]))  else row, axis = 1)\r\n",
    "    print(start_term)\r\n",
    "    print(\"processed\")\r\n",
    "    print(len(df[df[\"Processed?\"]==True]))\r\n",
    "    print(len(df[df[\"Found\"]==True]))\r\n",
    "    return df"
   ],
   "outputs": [],
   "metadata": {}
  },
  {
   "cell_type": "code",
   "execution_count": 269,
   "source": [
    "df[(df[\"Processed?\"]== False) & (df[\"State Enforcing\"]==\"OH\")][\"Enforcement Action\"].value_counts()"
   ],
   "outputs": [
    {
     "output_type": "execute_result",
     "data": {
      "text/plain": [
       "Series([], Name: Enforcement Action, dtype: int64)"
      ]
     },
     "metadata": {},
     "execution_count": 269
    }
   ],
   "metadata": {}
  },
  {
   "cell_type": "code",
   "execution_count": 324,
   "source": [
    "df = init_df.copy()"
   ],
   "outputs": [],
   "metadata": {}
  },
  {
   "cell_type": "code",
   "execution_count": 223,
   "source": [
    "print(len(df[(df[\"Text\"].str.contains(\"FINDINGS OF FACT\"))]))"
   ],
   "outputs": [
    {
     "output_type": "stream",
     "name": "stdout",
     "text": [
      "220\n"
     ]
    }
   ],
   "metadata": {}
  },
  {
   "cell_type": "code",
   "execution_count": 148,
   "source": [
    "print(len(df[(df[\"Text\"].str.contains(\"STIPULATIONS AND ADMISSIONS\")) & (df[\"Text\"].str.contains(\"AGREED CONDITIONS\"))]))"
   ],
   "outputs": [
    {
     "output_type": "stream",
     "name": "stdout",
     "text": [
      "1023\n"
     ]
    }
   ],
   "metadata": {}
  },
  {
   "cell_type": "code",
   "execution_count": 317,
   "source": [
    "# Cleaning of Text\r\n",
    "\r\n",
    "# THIS FUNCTION FILTERS START AND END, JUST KIND OF COPY THE SYNTAX AND KEEP GOING DOWN.\r\n",
    "\r\n",
    "# DIVISION ORDER 2394 hits\r\n",
    "df = filter_text(df, \"DIVISION ORDER\", \"NOTICE OF RIGHT TO APPEAL\", \"OH\")\r\n",
    "# NOTICE OF APPELLATE RIGHTS 1652 hits\r\n",
    "df = filter_text(df, \"DIVISION ORDER\", \"NOTICE OF APPELLATE RIGHTS\", \"OH\")\r\n",
    "\r\n",
    "# BASIS FOR PROPOSED ACTION: 2207 hits\r\n",
    "# NOTICE OF OPPORTUNITY: 2006 hits\r\n",
    "\r\n",
    "\r\n",
    "df = filter_text(df, \"BASIS FOR PROPOSED ACTION\", \"NOTICE OF OPPORTUNITY FOR A HEARING ON PROPOSED ACTION\", \"OH\")\r\n",
    "# NOTICE OF HEARING: 201 hits\r\n",
    "\r\n",
    "df = filter_text(df, \"BASIS FOR PROPOSED ACTION\", \"NOTICE OF HEARING\", \"OH\")\r\n",
    "\r\n",
    "\r\n",
    "# STIPULATIONS AND ADMISSIONS 1031 HITS\r\n",
    "# ACKNOWLEDGEMENTS/LIABILITY RELEASE 696 hits\r\n",
    "df = filter_text(df, \"STIPULATIONS AND ADMISSIONS\", \"ACKNOWLEDGMENTS/LIABILITY RELEASE\", \"OH\")\r\n",
    "# AGREED CONDITIONS 334 hits\r\n",
    "df = filter_text(df, \"STIPULATIONS AND ADMISSIONS\", \"AGREED CONDITIONS\", \"OH\")\r\n",
    "# ACKNOWLEDGEMENTS/LLABILITY RELEASE 1 hit\r\n",
    "df = filter_text(df, \"STIPULATIONS AND ADMISSIONS\", \"ACKNOWLEDGMENTS/LLABILITY RELEASE\", \"OH\")\r\n",
    "df = filter_text(df, \"STIPULATIONS AND ADMISSIONS\", \"ACKNOWLEDGMENTS/LIABILITY] RELEASE\", \"OH\")\r\n",
    "\r\n",
    "# NOTICE OF RIGHT TO APPEAL 560 hits\r\n",
    "# df = filter_text(df, \"DIVISION ORDER\", \"NOTICE OF RIGHT TO APPEAL\", \"OH\")\r\n",
    "# NOTICE OF HEARING 119 hits\r\n",
    "df = filter_text(df, \"DIVISION ORDER\", \"NOTICE OF HEARING\", \"OH\")\r\n",
    "#CONCLUSIONS OF LAW 34 hits\r\n",
    "df = filter_text(df, \"DIVISION ORDER\", \"CONCLUSIONS OF LAW\", \"OH\")\r\n",
    "#Case No 34 hits\r\n",
    "# df = filter_text(df, \"DIVISION ORDER\", \"Case No\", \"OH\")\r\n",
    "# NOW THEREFORE 3 hits\r\n",
    "df = filter_text(df, \"DIVISION ORDER\", \"NOW THEREFORE\", \"OH\")\r\n",
    "# ORDERED AND DECREED 6 hits\r\n",
    "df = filter_text(df, \"DIVISION ORDER\", \"ORDERED AND DECREED\", \"OH\")\r\n",
    "# NOTICE OF APPEAL RIGHTS 4 hits\r\n",
    "df = filter_text(df, \"DIVISION ORDER\", \"NOTICE OF APPEAL RIGHTS\", \"OH\")\r\n",
    "\r\n",
    "df = filter_text_end(df, \"DIVISION ORDER\",\"OH\")\r\n",
    "\r\n",
    "#FINDINGS OF FACT 394 hits\r\n",
    "#CONCLUSIONS OF LAW 393 hits\r\n",
    "df = filter_text(df, \". FINDINGS OF FACT\", \". CONCLUSIONS OF LAW\", \"OH\")\r\n",
    "df = filter_text(df, \". FINDINGS OF FACT\", \" CONCLUSIONS OF LAW\", \"OH\")\r\n",
    "# G.R.C. 1322.06 1 hit\r\n",
    "df = filter_text(df, \"The Division conducted an investigation and found\", \"CONCLUSIONS OF LAW\", \"OH\")\r\n",
    "df = filter_text(df, \".  FINDINGS OF FACT\", \" CONCLUSIONS OF LAW\", \"OH\")\r\n",
    "df = filter_text(df, \" FINDINGS OF FACT\", \" CONCLUSIONS OF LAW\", \"OH\")\r\n",
    "df = filter_text(df, \" FINDINGS OF FACT\", \" Conclusions of Law\", \"OH\")\r\n",
    "\r\n",
    "#NOTICE CONTAINED ALLEGATIONS AND FINDINGS THAT 79 hits\r\n",
    "#compromise 53 hits\r\n",
    "df = filter_text(df, \"Notice contained allegations and findings that\", \"compromise\", \"OH\")\r\n",
    "#Settlement and Consent Order 22 hits\r\n",
    "df = filter_text(df, \"Notice contained allegations and findings that\", \"Settlement and Consent Order\", \"OH\")\r\n",
    "#request a hearing 4 hits\r\n",
    "df = filter_text(df, \"Notice contained allegations and findings that\", \"request a hearing\", \"OH\")\r\n",
    "\r\n",
    "df = filter_text(df, \"ALLEGATIONS\", \"DETERMINATIONS\", \"OH\")\r\n",
    "\r\n",
    "\r\n",
    "\r\n",
    "\r\n",
    "\r\n",
    "\r\n",
    "\r\n",
    "\r\n",
    "\r\n",
    "\r\n",
    "\r\n",
    "\r\n",
    "# STIPULATIONS AND ADMISSIONS: 1031 hits\r\n",
    "# ACKNOWLEDGEMENTS/LIABILITY RELEASE:\r\n",
    "# df.loc[(df[\"Text\"].str.contains(\". FINDINGS OF FACT\")) & (df[\"State Enforcing\"]==\"OH\") & (df[\"Text\"].str.contains(\"NOTICE OF OPPORTUNITY FOR A HEARING ON PROPOSED ACTION\"))& (df[\"Processed?\"]==False)].describe()\r\n",
    "# df.loc[(df[\"Text\"].str.contains(\"NOTICE OF OPPORTUNITY FOR A HEARING ON PROPOSED ACTION\")) & (df[\"State Enforcing\"]==\"OH\") & (df[\"Processed?\"]==False)].describe()"
   ],
   "outputs": [
    {
     "output_type": "stream",
     "name": "stdout",
     "text": [
      "DIVISION ORDER\n",
      "NOTICE OF RIGHT TO APPEAL\n",
      "processed\n",
      "1280\n",
      "1280\n",
      "DIVISION ORDER\n",
      "NOTICE OF APPELLATE RIGHTS\n",
      "processed\n",
      "2186\n",
      "2186\n",
      "BASIS FOR PROPOSED ACTION\n",
      "NOTICE OF OPPORTUNITY FOR A HEARING ON PROPOSED ACTION\n",
      "processed\n",
      "4191\n",
      "4191\n",
      "BASIS FOR PROPOSED ACTION\n",
      "NOTICE OF HEARING\n",
      "processed\n",
      "4392\n",
      "4392\n",
      "STIPULATIONS AND ADMISSIONS\n",
      "ACKNOWLEDGMENTS/LIABILITY RELEASE\n",
      "processed\n",
      "5068\n",
      "5068\n",
      "STIPULATIONS AND ADMISSIONS\n",
      "AGREED CONDITIONS\n",
      "processed\n",
      "5420\n",
      "5420\n",
      "STIPULATIONS AND ADMISSIONS\n",
      "ACKNOWLEDGMENTS/LLABILITY RELEASE\n",
      "processed\n",
      "5421\n",
      "5421\n",
      "STIPULATIONS AND ADMISSIONS\n",
      "ACKNOWLEDGMENTS/LIABILITY] RELEASE\n",
      "processed\n",
      "5423\n",
      "5423\n",
      "DIVISION ORDER\n",
      "NOTICE OF HEARING\n",
      "processed\n",
      "5541\n",
      "5541\n",
      "DIVISION ORDER\n",
      "CONCLUSIONS OF LAW\n",
      "processed\n",
      "5541\n",
      "5541\n",
      "DIVISION ORDER\n",
      "NOW THEREFORE\n",
      "processed\n",
      "5541\n",
      "5541\n",
      "DIVISION ORDER\n",
      "ORDERED AND DECREED\n",
      "processed\n",
      "5541\n",
      "5541\n",
      "DIVISION ORDER\n",
      "NOTICE OF APPEAL RIGHTS\n",
      "processed\n",
      "5572\n",
      "5572\n",
      "DIVISION ORDER\n",
      "processed\n",
      "5581\n",
      "5581\n",
      ". FINDINGS OF FACT\n",
      ". CONCLUSIONS OF LAW\n",
      "processed\n",
      "5913\n",
      "5913\n",
      ". FINDINGS OF FACT\n",
      " CONCLUSIONS OF LAW\n",
      "processed\n",
      "5918\n",
      "5918\n",
      "The Division conducted an investigation and found\n",
      "CONCLUSIONS OF LAW\n",
      "processed\n",
      "5920\n",
      "5920\n",
      ".  FINDINGS OF FACT\n",
      " CONCLUSIONS OF LAW\n",
      "processed\n",
      "5920\n",
      "5920\n",
      " FINDINGS OF FACT\n",
      " CONCLUSIONS OF LAW\n",
      "processed\n",
      "5968\n",
      "5968\n",
      " FINDINGS OF FACT\n",
      " Conclusions of Law\n",
      "processed\n",
      "5969\n",
      "5969\n",
      "Notice contained allegations and findings that\n",
      "compromise\n",
      "processed\n",
      "6024\n",
      "6024\n",
      "Notice contained allegations and findings that\n",
      "Settlement and Consent Order\n",
      "processed\n",
      "6047\n",
      "6047\n",
      "Notice contained allegations and findings that\n",
      "request a hearing\n",
      "processed\n",
      "6051\n",
      "6051\n",
      "ALLEGATIONS\n",
      "DETERMINATIONS\n",
      "processed\n",
      "6057\n",
      "6057\n"
     ]
    }
   ],
   "metadata": {}
  },
  {
   "cell_type": "code",
   "execution_count": 318,
   "source": [
    "df = filter_text(df, \"ALLEGATIONS\", \"PROPOSED ACTION\", \"OH\")\r\n",
    "df = filter_text(df, \"ALLEGATIONS\", \"ORDER OF TEMPORARY SUSPENSION\", \"OH\")\r\n",
    "df = filter_text(df, \"ALLEGATIONS\", \"AGREED FINAL ENTRY AND ORDER\", \"OH\")\r\n",
    "df = filter_text(df, \"ALLEGATIONS\", \"ACKNOWLEDGMENTS/LIABILITY RELEASE\", \"OH\")\r\n",
    "df = filter_text(df, \"BASIS FOR ACTION\", \"AGREED CONDITIONS\", \"OH\")\r\n",
    "df = filter_text(df, \"stipulations, admissions and understandings\", \"ACKNOWLEDGMENTS/LIABILITY RELEASE\", \"OH\")\r\n",
    "df = filter_text(df, \"allegations\", \"purposes of settlement\", \"OH\")\r\n",
    "df = filter_text(df, \"alleged\", \"NOTICE OF RIGHT TO APPEAL\", \"OH\")\r\n",
    "df = filter_text(df, \"STATEMENT OF FACTS\", \"PRAYER FOR RELIEF\", \"OH\")\r\n",
    "df = filter_text(df, \"BASIS FOR ACTION\", \"ORDER OF TEMPORARY SUSPENSION\", \"OH\")\r\n",
    "df = filter_text(df, \"allegations\", \"agree to the following\", \"OH\")\r\n",
    "df = filter_text(df, \"AGREEMENTS AND UNDERSTANDINGS\", \"ACKNOWLEDGMENTS/LIABILITY RELEASE\", \"OH\")\r\n",
    "df = filter_text(df, \"STATEMENT OF FACTS\", \"WHEREFORE, PLAINTIFFS REQUEST THIS COURT\", \"OH\")\r\n",
    "df = filter_text(df, \"TERMINATION OF INTENT TO DENY MORTGAGE BROKER CERTIFICATE OF REGISTRATION APPLICATION\", \"IT IS SO ORDERED\", \"OH\")\r\n",
    "df = filter_text(df, \"BACKGROUND\", \"AGREEMENT NOW COME\", \"OH\")\r\n",
    "df = filter_text(df, \"AGREED CONDITIONS\", \"ACKNOWLEDGMENTS/LIABILITY RELEASE\", \"OH\")\r\n",
    "df = filter_text(df, \"AGREED CONDITIONS\", \"Respondent understands that it must comply\", \"OH\")\r\n",
    "df = filter_text(df, \" Findings of Fact\", \" Conclusions of Law\", \"OH\")\r\n",
    "df = filter_text(df,\"Notice of Opportunity for a Hearing\",\"IT IS SO ORDERED\",\"OH\")\r\n",
    "df = filter_text(df,\"Notice of Appellate Rights\",\"ROBERT M. GRIESER\",\"OH\")\r\n",
    "df = filter_text(df,\"Howard E. Geiss Case No. 05-0231-LOD\",\"Respectfully, Mar\",\"OH\")\r\n",
    "df = filter_text(df,\"BACKGROUND\",\"CORRECTIVE ACTION\",\"OH\")\r\n",
    "df = filter_text(df, \"STATEMENT OF FACTS\", \"NOTICE OF PROPOSED ACTION\", \"OH\")\r\n",
    "df = filter_text(df, \"stipulations, admissions and understandings\", \"AGREED CONDITIONS\", \"OH\")\r\n",
    "df = filter_text(df, \"Enclosed\", \"Respectfully\", \"OH\")\r\n",
    "df = filter_text(df, \"All of the following must be completed and RETURNED to the Division in the envelope provided no later than\", \"EFFECTIVE DATE\", \"OH\")\r\n",
    "df = filter_text(df, \"All of the following must be completed and RETURNED to the Division in the envelope provided no later than\", \"ACKNOWLEDGMENTS/LIABILITY RELEASE\", \"OH\")\r\n",
    "df = filter_text(df,\"WHEREAS, the Ohio Department of Commerce, by and through the Superintendent of the Division of Financial Institutions (the Division),\",\"IT IS SO ORDERED\",\"OH\")\r\n",
    "df = filter_text(df,\"mutual promises set forth herein, the parties agree to the following:\",\"ORDERED and DECREED\",\"OH\")\r\n",
    "df = filter_text(df, \". FINDINGS\", \"NOTICE OF OPPORTUNITY FOR A HEARING ON PROPOSED ACTION\", \"OH\")\r\n",
    "df = filter_text(df, \"Dear Ms. Cracium:\", \"If there is an error in our records,\", \"OH\")\r\n",
    "df = filter_text(df, \"alleged\", \"Respondent makes no admission\", \"OH\")\r\n",
    "df = filter_text(df, \". CONCLUSIONS OF LAW\", \"RECOMMENDATION\", \"OH\")\r\n",
    "df = filter_text(df, \"Dear Mr. McDonald\", \"If you wish to request a hearing,\", \"OH\")\r\n",
    "df = filter_text(df, \"IT IS THEREFORE, agreed as follows\", \"If you wish to request a hearing,\", \"OH\")\r\n",
    "df = filter_text(df,\"WHEREAS, the Ohio Department of Commerce, by and through the Superintendent of the Division of Financial Institutions (the Division)\",\"IT IS SO ORDERED\",\"OH\")\r\n",
    "df = filter_text(df, \"allegations\", \"Respondent does not admit to the allegations\", \"OH\")\r\n",
    "df = filter_text(df, \"NOTICE OF PROPOSED ACTION\", \"NOTICE OF OPPORTUNITY FOR A HEARING ON PROPOSED ACTION\", \"OH\")"
   ],
   "outputs": [
    {
     "output_type": "stream",
     "name": "stdout",
     "text": [
      "ALLEGATIONS\n",
      "PROPOSED ACTION\n",
      "processed\n",
      "6131\n",
      "6131\n",
      "ALLEGATIONS\n",
      "ORDER OF TEMPORARY SUSPENSION\n",
      "processed\n",
      "6151\n",
      "6151\n",
      "ALLEGATIONS\n",
      "AGREED FINAL ENTRY AND ORDER\n",
      "processed\n",
      "6153\n",
      "6153\n",
      "ALLEGATIONS\n",
      "ACKNOWLEDGMENTS/LIABILITY RELEASE\n",
      "processed\n",
      "6154\n",
      "6154\n",
      "BASIS FOR ACTION\n",
      "AGREED CONDITIONS\n",
      "processed\n",
      "6161\n",
      "6161\n",
      "stipulations, admissions and understandings\n",
      "ACKNOWLEDGMENTS/LIABILITY RELEASE\n",
      "processed\n",
      "6167\n",
      "6167\n",
      "allegations\n",
      "purposes of settlement\n",
      "processed\n",
      "6184\n",
      "6184\n",
      "alleged\n",
      "NOTICE OF RIGHT TO APPEAL\n",
      "processed\n",
      "6185\n",
      "6185\n",
      "STATEMENT OF FACTS\n",
      "PRAYER FOR RELIEF\n",
      "processed\n",
      "6189\n",
      "6189\n",
      "BASIS FOR ACTION\n",
      "ORDER OF TEMPORARY SUSPENSION\n",
      "processed\n",
      "6198\n",
      "6198\n",
      "allegations\n",
      "agree to the following\n",
      "processed\n",
      "6205\n",
      "6205\n",
      "AGREEMENTS AND UNDERSTANDINGS\n",
      "ACKNOWLEDGMENTS/LIABILITY RELEASE\n",
      "processed\n",
      "6211\n",
      "6211\n",
      "STATEMENT OF FACTS\n",
      "WHEREFORE, PLAINTIFFS REQUEST THIS COURT\n",
      "processed\n",
      "6212\n",
      "6212\n",
      "TERMINATION OF INTENT TO DENY MORTGAGE BROKER CERTIFICATE OF REGISTRATION APPLICATION\n",
      "IT IS SO ORDERED\n",
      "processed\n",
      "6213\n",
      "6213\n",
      "BACKGROUND\n",
      "AGREEMENT NOW COME\n",
      "processed\n",
      "6214\n",
      "6214\n",
      "AGREED CONDITIONS\n",
      "ACKNOWLEDGMENTS/LIABILITY RELEASE\n",
      "processed\n",
      "6223\n",
      "6223\n",
      "AGREED CONDITIONS\n",
      "Respondent understands that it must comply\n",
      "processed\n",
      "6226\n",
      "6226\n",
      " Findings of Fact\n",
      " Conclusions of Law\n",
      "processed\n",
      "6266\n",
      "6266\n",
      "Notice of Opportunity for a Hearing\n",
      "IT IS SO ORDERED\n",
      "processed\n",
      "6268\n",
      "6268\n",
      "Notice of Appellate Rights\n",
      "ROBERT M. GRIESER\n",
      "processed\n",
      "6269\n",
      "6269\n",
      "Howard E. Geiss Case No. 05-0231-LOD\n",
      "Respectfully, Mar\n",
      "processed\n",
      "6270\n",
      "6270\n",
      "BACKGROUND\n",
      "CORRECTIVE ACTION\n",
      "processed\n",
      "6272\n",
      "6272\n",
      "STATEMENT OF FACTS\n",
      "NOTICE OF PROPOSED ACTION\n",
      "processed\n",
      "6278\n",
      "6278\n",
      "stipulations, admissions and understandings\n",
      "AGREED CONDITIONS\n",
      "processed\n",
      "6279\n",
      "6279\n",
      "Enclosed\n",
      "Respectfully\n",
      "processed\n",
      "6284\n",
      "6284\n",
      "All of the following must be completed and RETURNED to the Division in the envelope provided no later than\n",
      "EFFECTIVE DATE\n",
      "processed\n",
      "6289\n",
      "6289\n",
      "All of the following must be completed and RETURNED to the Division in the envelope provided no later than\n",
      "ACKNOWLEDGMENTS/LIABILITY RELEASE\n",
      "processed\n",
      "6289\n",
      "6289\n",
      "WHEREAS, the Ohio Department of Commerce, by and through the Superintendent of the Division of Financial Institutions (the Division),\n",
      "IT IS SO ORDERED\n",
      "processed\n",
      "6294\n",
      "6294\n",
      "mutual promises set forth herein, the parties agree to the following:\n",
      "ORDERED and DECREED\n",
      "processed\n",
      "6297\n",
      "6297\n",
      ". FINDINGS\n",
      "NOTICE OF OPPORTUNITY FOR A HEARING ON PROPOSED ACTION\n",
      "processed\n",
      "6299\n",
      "6299\n",
      "Dear Ms. Cracium:\n",
      "If there is an error in our records,\n",
      "processed\n",
      "6300\n",
      "6300\n",
      "alleged\n",
      "Respondent makes no admission\n",
      "processed\n",
      "6301\n",
      "6301\n",
      ". CONCLUSIONS OF LAW\n",
      "RECOMMENDATION\n",
      "processed\n",
      "6302\n",
      "6302\n",
      "Dear Mr. McDonald\n",
      "If you wish to request a hearing,\n",
      "processed\n",
      "6303\n",
      "6303\n",
      "IT IS THEREFORE, agreed as follows\n",
      "If you wish to request a hearing,\n",
      "processed\n",
      "6303\n",
      "6303\n",
      "WHEREAS, the Ohio Department of Commerce, by and through the Superintendent of the Division of Financial Institutions (the Division)\n",
      "IT IS SO ORDERED\n",
      "processed\n",
      "6304\n",
      "6304\n",
      "allegations\n",
      "Respondent does not admit to the allegations\n",
      "processed\n",
      "6305\n",
      "6305\n",
      "NOTICE OF PROPOSED ACTION\n",
      "NOTICE OF OPPORTUNITY FOR A HEARING ON PROPOSED ACTION\n",
      "processed\n",
      "6306\n",
      "6306\n"
     ]
    }
   ],
   "metadata": {}
  },
  {
   "cell_type": "code",
   "execution_count": 310,
   "source": [
    "df = filter_text(df, \"IT IS THEREFORE, agreed as follows\", \"ACKNOWLEDGMENTS/LIABILITY RELEASE\", \"OH\")"
   ],
   "outputs": [
    {
     "output_type": "stream",
     "name": "stdout",
     "text": [
      "IT IS THEREFORE, agreed as follows\n",
      "ACKNOWLEDGMENTS/LIABILITY RELEASE\n",
      "processed\n",
      "6307\n",
      "6307\n"
     ]
    }
   ],
   "metadata": {}
  },
  {
   "cell_type": "code",
   "execution_count": null,
   "source": [],
   "outputs": [],
   "metadata": {}
  },
  {
   "cell_type": "code",
   "execution_count": 321,
   "source": [
    "df[(df[\"Processed?\"]==False) & (df[\"State Enforcing\"]==\"MA\")].loc[6919,\"Text\"]"
   ],
   "outputs": [
    {
     "output_type": "execute_result",
     "data": {
      "text/plain": [
       "' COMMONWEALTH OF MASSACHUSETTS  Suffolk, SS.  COMMISSIONER OF BANKS  MORTGAGE BROKER AND MORTGAGE LENDER LICENSING  Docket No. 2003-036  FINDINGS OF FACT AND TEMPORARY ORDER TO CEASE AND DESIST  In the Matter of  PLATINUM CAPITAL GROUP  Irvine, California  Mortgage Lender and Mortgage Broker License  No.(s) MC0958 and MC3142  The Commissioner of Banks (Commissioner) having determined that PLATINUM CAPITAL GROUP (Platinum Capital or the Corporation), located at 17101 Armstrong Avenue, Suite 200, Irvine, California and a branch location located at 200 Baker Avenue, Concord, Massachusetts, 01742 has engaged, or is engaged in, or is about to engage in, acts or practices constituting violations of Massachusetts General Laws chapter 255E, and applicable regulations found at 209 CMR 42.00 \\xa0 et seq. , hereby issues the following FINDINGS OF FACT AND TEMPORARY ORDER TO CEASE AND DESIST (TEMPORARY ORDER) pursuant to General Laws chapter 255E, section 7(b). The activities include conducting business with unlicensed entities as well as unlawful activities being conducted by Platinum Capital in an unlicensed branch location.  FINDINGS OF FACT  The Division of Banks (Division), through the Commissioner, has jurisdiction over the licensing and regulation of persons and entities engaged in the business of either a mortgage lender or a mortgage broker in Massachusetts, or both, pursuant to Massachusetts General Laws chapter 255E, section 2.  Platinum Capital is, and at all relevant times has been, a corporation organized under the laws of the State of California. Platinum Capital is located at located at 17101 Armstrong Avenue, Suite 200, Irvine, California and a branch location located at 200 Baker Avenue, Concord, Massachusetts, 01742 according to records submitted by Platinum Capital and maintained on file with the Division.  Platinum Capital is licensed by the Commissioner as a mortgage lender and mortgage broker as required by Massachusetts General Laws chapter 255E, section 2. The Commissioner issued Platinum Capital&apos;s initial licenses to engage in the business of a mortgage lender and mortgage broker in the Commonwealth of Massachusetts on March 10, 1998. On August 6, 2003, Platinum Capital was granted a branch license to conduct mortgage loan activity at 200 Baker Avenue, Concord, Massachusetts, 01742. Platinum Capital holds mortgage lender and mortgage broker license numbers MC0958 and MC3142, which are set to expire on May 31, 2004.  On September 26, 2003, duly authorized examiners from the Division, in the performance of their official duties, attempted to conduct an inspection of Platinum Capital&apos;s books, accounts, records, and files of the Corporation. The Corporation, its management and employees failed to provide immediate access to the Corporation&apos;s books and records to the examiners.  A. Failure to Acquire a Mortgage Lender or Mortgage Broker License Prior to Conducting Mortgage Loan Activity  On or about June 27, 2003, Platinum Capital submitted to the Division an application to obtain a branch license from the Commissioner to engage in the business of a mortgage lender and mortgage broker at 200 Baker Ave., Concord, Massachusetts.  Platinum Capital was approved by the Commissioner to conduct business at the 200 Baker Ave., Concord, Massachusetts location on or about August 6, 2003.  On September 26, 2003, after being granted access to the books and records, the Division&apos;s examiners conducted an inspection of the Concord, Massachusetts branch location. Books and records reviewed by field examiners indicate that Platinum Capital had accepted applications at the Concord, Massachusetts location in early June, 2003. Further, Platinum Capital&apos;s branch pipeline report submitted to the Division subsequent to the visitation indicated that loan applications were accepted by Platinum Capital as early as April 24, 2003. Platinum Capital&apos;s branch pipeline report indicated that 27 mortgage loan applications had been accepted by Platinum Capital prior to the approval of its branch license application.  B. Findings Indicating that the Corporation had Engaged in the Mortgage Loan Business in Violation of the Memorandum of Understanding with the Corporation  On June 27, 2001, duly authorized examiners from the Division, in the performance of their official duties, conducted an examination/inspection of Platinum Capital&apos;s books, accounts, records, and files of the Corporation.  During the course of the examination/inspection, the examiners observed numerous violations, including, but not limited to, the Corporation&apos;s acting as both a mortgage lender and a mortgage broker in the same transaction, a violation also cited in a prior examination/inspection conducted by the Division.  As a result of the findings of the examination/inspection as of June 27, 2001, Platinum Capital was assessed a less-than-satisfactory compliance rating and a Memorandum of Understanding was issued by the Division and signed by the Corporation on October 10, 2001 (the Memorandum of Understanding).  On or about September 26, 2003, after being granted access to the Corporation&apos;s books and records, the Commissioner conducted an inspection of the Concord, Massachusetts branch location. Books and records reviewed by field examiners indicated the recurrence of similar violations noted in the examination/inspection and which were required to be addressed and corrected pursuant to the terms of the Memorandum of Understanding. The loan files inspected by the examiners which contained documents disclosing Platinum Capital as the lender or creditor in the mortgage loan transaction when acting in the capacity of a mortgage broker, included, but were not limited to, the following:  Scroll left Scroll right  Loan Number  Situs of Property  Settlement Date  0000998928  Westford, MA  August 14, 2003  CONCLUSIONS OF LAW  Based upon the information contained in paragraphs 1 through 11, Platinum Capital is not an entity otherwise exempted from the licensing requirements of Massachusetts General Laws chapter 255E, section 2 for those engaged in the business of a mortgage lender or a mortgage broker, or both, in Massachusetts.  Based upon the information contained in paragraphs 1 through 11, Platinum Capital has unlawfully engaged in the activity of a mortgage lender without a license from the Commissioner in violation of Massachusetts General Laws chapter 255E, §2 and the Division&apos;s regulation 209 CMR 42.00 \\xa0 et seq.  Based upon the information contained in paragraphs 1 through 11, Platinum Capital, while acting in the capacity of a mortgage broker, has provided consumers with misleading disclosures which, by their terms, have the tendency to make assurances to the consumer that the interest rate requested was guaranteed by Platinum Capital by operation of providing commitment letters, Truth-in-Lending disclosures and other mortgage lender disclosures. Providing consumers with such disclosures, while performing in the capacity of a mortgage broker, are repeat violations as cited in the previous examination/inspection and as set forth by the terms of the Memorandum of Understanding.  Based upon the information contained in paragraphs 1 through 11, the Commissioner has determined that:  Platinum Capital has engaged, or is about to engage in, acts or practices which warrant the belief that the Corporation is not operating honestly, fairly, soundly and efficiently in the public interest in violation of standards governing the licensing and conduct of a mortgage lender or mortgage broker including, but not limited to, the provisions of the Division&apos;s regulations at 209 CMR 42.00 \\xa0 et seq.  The public interest will be irreparably harmed by delay in issuing an ORDER TO CEASE AND DESIST to Platinum Capital.  ORDER TO CEASE AND DESIST  After taking into consideration the FINDINGS OF FACT and CONCLUSIONS OF LAW stated herein, it is hereby:  ORDERED that Platinum Capital, its officers, directors, employees, and their successors or assigns, shall immediately cease engaging in the activities of a mortgage broker, as defined under Massachusetts General Laws chapter 255E, §1, relative to any residential property in Massachusetts, not otherwise expressly permitted by the terms of this TEMPORARY ORDER. Therefore, Platinum Capital is ordered to immediately cease soliciting or accepting residential mortgage loan applications from consumers for residential property located in Massachusetts.  IT IS FURTHER ORDERED that Platinum Capital, its officers, directors, employees, and their successors or assigns, shall immediately cease engaging in the activities of a mortgage lender, as defined under Massachusetts General Laws chapter 255E, §1, relative to any residential property in Massachusetts.  IT IS FURTHER ORDERED that Platinum Capital shall immediately place any fees previously collected from Massachusetts consumers relative to any pending mortgage loan applications in a separate escrow account maintained at a federally insured bank.  IT IS FURTHER ORDERED that Platinum Capital shall place its entire open application list to a qualified lender with no loss to applicants. The open application list to be placed with a qualified lender shall include all transactions in which Platinum Capital was performing in the capacity of either a mortgage broker or a mortgage lender. Platinum Capital shall obtain the prior approval of the Commissioner before placing such applications to the qualified lender.  IT IS FURTHER ORDERED that Platinum Capital shall submit to the Commissioner a detailed record of all of the Corporation&apos;s pending residential mortgage loan applications on property located in Massachusetts. The records to be produced shall be submitted to the Commissioner within five (5) days of the effective date of this TEMPORARY ORDER and shall include all information on file, regarding Platinum Capital&apos;s open application list, including but not necessarily limited to, the following:  The names of all individuals from whom Platinum Capital has accepted an application for a residential mortgage loan; the applicants&apos; addresses and telephone numbers; the amount of all prepaid loan fees submitted by the customer; the amount of each loan; application status (i.e. filed, submitted to lenders); scheduled closing dates; an indication of whether Platinum Capital was performing in the capacity of a mortgage broker or a mortgage lender in the transaction; and a list of applicable wholesale lenders. The latter list should include telephone numbers of contact persons familiar with Platinum Capital&apos;s submitted loans.  IT IS FURTHER ORDERED that Platinum Capital shall immediately secure all pending mortgage loan application files and shall make such files, in their entirety, available to the Commissioner upon request.  IT IS FURTHER ORDERED that Platinum Capital shall submit to the Commissioner the Corporation&apos;s year-to-date balance sheet and statement of income and expense. The balance sheet should indicate Platinum Capital&apos;s cash position at each of its depository banks as well as the corresponding bank account numbers. The balance sheet and statement of income and expense shall be signed and dated by an authorized officer of Platinum Capital under the pains and penalties of perjury to certify that the information reported is true and accurate and prepared in accordance with generally accepted accounting principles.  IT IS FURTHER ORDERED that this TEMPORARY ORDER shall become effective immediately and shall remain in effect unless set aside, limited, or suspended by the Commissioner or upon court order after review under General Laws chapter 30A.  IT IS FURTHER ORDERED that a hearing will be scheduled on this matter to determine whether or not such TEMPORARY ORDER shall become permanent and final only upon receipt of a written request for such a hearing from Platinum Capital within twenty (20) days of the effective date of this TEMPORARY ORDER. If no hearing is requested within this twenty (20) day period, this TEMPORARY ORDER shall become permanent and final until it is modified or vacated by the Commissioner.  By ORDER AND direction of the Commissioner of Banks.  Dated at Boston, Massachusetts, this 31st day of October, 2003.  By: Thomas J. Curry  Commissioner of Banks  Commonwealth of Massachusetts  '"
      ]
     },
     "metadata": {},
     "execution_count": 321
    }
   ],
   "metadata": {}
  },
  {
   "cell_type": "code",
   "execution_count": 325,
   "source": [
    "# Mass Processing\r\n",
    "df = filter_text(df, \". FINDINGS OF FACT\", \"CONCLUSIONS OF LAW\", \"MA\")\r\n",
    "df = filter_text(df, \". Findings of Fact\", \"Conclusions of Law\", \"MA\")\r\n",
    "# df = filter_text(df, \" FINDINGS OF FACT\", \"CONCLUSIONS OF LAW\", \"MA\")\r\n",
    "# df = filter_text(df, \".  FINDINGS OF FACT\", \"CONCLUSIONS OF LAW\", \"MA\")\r\n",
    "# df = filter_text(df, \". FINDINGS OF FACT\", \"ORDER AND DECISION\", \"MA\")\r\n",
    "# df = filter_text(df, \". FINDINGS OF FACT\", \"CEASE DIRECTIVE\", \"MA\")\r\n",
    "# df = filter_text(df, \". FINDINGS OF FACT\", \"ORDER NOW COME\", \"MA\")\r\n",
    "# df = filter_text(df, \". FINDINGS OF FACT\", \"ORDER TO CEASE AND DESIST\", \"MA\")\r\n",
    "# df = filter_text(df, \"BACKGROUND AND FINDINGS OF FACT\", \"ORDER TO CEASE AND DESIST\", \"MA\")\r\n",
    "# df = filter_text(df, \". FINDINGS OF FACT\", \"Order to Cease and Desist are the complete\", \"MA\")\r\n",
    "# df = filter_text(df, \"STIPULATION AND CONSENT TO THE ISSUANCE OF A CONSENT ORDER\", \"ORDER NOW COME\", \"MA\")\r\n",
    "# df = filter_text(df, \"STIPULATION AND CONSENT TO THE ISSUANCE OF A CONSENT ORDER\", \"NOTICE OF RIGHT TO A HEARING\", \"MA\")\r\n",
    "# df = filter_text(df, \"STIPULATION AND CONSENT TO THE ISSUANCE OF A CONSENT ORDER\", \"MODIFICATION ORDER\", \"MA\")\r\n",
    "# df = filter_text(df, \"REGULATORY BACKGROUND\", \"contained in this Order and Notice\", \"MA\")\r\n",
    "# df = filter_text(df, \"joint Stipulation and proposed Order\", \"On or before the 30th day\", \"MA\")\r\n",
    "# df = filter_text(df, \"BACKGROUND\", \"AGREEMENT NOW COME\", \"MA\")\r\n",
    "# df = filter_text(df, \"THE MULTI-STATE EXAMINATION ALLEGATIONS\", \"Provide for adequate training\", \"MA\")\r\n",
    "# df = filter_text(df, \"NOW COME\", \"By order and direction of the Commissioner of Banks\", \"MA\")\r\n",
    "# df = filter_text(df, \"NOW COME\", \"BY ORDER AND DIRECTION OF THE COMMISSIONER OF BANKS\", \"MA\")\r\n",
    "# df = filter_text(df, \"STIPULATION AND CONSENT TO THE ISSUANCE OF AN ORDER TO CEASE\", \"IT IS HEREBY ORDERED\", \"MA\")\r\n",
    "# df = filter_text(df, \"ORDER SUSPENDING MORTGAGE BROKER LICENSE\", \"NOW THEREFORE\", \"MA\")\r\n",
    "# df = filter_text(df, \"All States Mortgage\", \"Massachusetts General Laws chapter 255E\", \"MA\")\r\n",
    "\r\n",
    "\r\n"
   ],
   "outputs": [
    {
     "output_type": "stream",
     "name": "stdout",
     "text": [
      ". FINDINGS OF FACT\n",
      "CONCLUSIONS OF LAW\n",
      "processed\n",
      "125\n",
      "125\n",
      ". Findings of Fact\n",
      "Conclusions of Law\n",
      "processed\n",
      "125\n",
      "125\n"
     ]
    }
   ],
   "metadata": {}
  },
  {
   "cell_type": "code",
   "execution_count": 327,
   "source": [
    "df[(df[\"Processed?\"]==False) & (df[\"State Enforcing\"]==\"MA\") & (df[\"Text\"].str.contains(\". FINDINGS OF FACT\"))].loc[6919,\"Text\"]"
   ],
   "outputs": [
    {
     "output_type": "execute_result",
     "data": {
      "text/plain": [
       "' COMMONWEALTH OF MASSACHUSETTS  Suffolk, SS.  COMMISSIONER OF BANKS  MORTGAGE BROKER AND MORTGAGE LENDER LICENSING  Docket No. 2003-036  FINDINGS OF FACT AND TEMPORARY ORDER TO CEASE AND DESIST  In the Matter of  PLATINUM CAPITAL GROUP  Irvine, California  Mortgage Lender and Mortgage Broker License  No.(s) MC0958 and MC3142  The Commissioner of Banks (Commissioner) having determined that PLATINUM CAPITAL GROUP (Platinum Capital or the Corporation), located at 17101 Armstrong Avenue, Suite 200, Irvine, California and a branch location located at 200 Baker Avenue, Concord, Massachusetts, 01742 has engaged, or is engaged in, or is about to engage in, acts or practices constituting violations of Massachusetts General Laws chapter 255E, and applicable regulations found at 209 CMR 42.00 \\xa0 et seq. , hereby issues the following FINDINGS OF FACT AND TEMPORARY ORDER TO CEASE AND DESIST (TEMPORARY ORDER) pursuant to General Laws chapter 255E, section 7(b). The activities include conducting business with unlicensed entities as well as unlawful activities being conducted by Platinum Capital in an unlicensed branch location.  FINDINGS OF FACT  The Division of Banks (Division), through the Commissioner, has jurisdiction over the licensing and regulation of persons and entities engaged in the business of either a mortgage lender or a mortgage broker in Massachusetts, or both, pursuant to Massachusetts General Laws chapter 255E, section 2.  Platinum Capital is, and at all relevant times has been, a corporation organized under the laws of the State of California. Platinum Capital is located at located at 17101 Armstrong Avenue, Suite 200, Irvine, California and a branch location located at 200 Baker Avenue, Concord, Massachusetts, 01742 according to records submitted by Platinum Capital and maintained on file with the Division.  Platinum Capital is licensed by the Commissioner as a mortgage lender and mortgage broker as required by Massachusetts General Laws chapter 255E, section 2. The Commissioner issued Platinum Capital&apos;s initial licenses to engage in the business of a mortgage lender and mortgage broker in the Commonwealth of Massachusetts on March 10, 1998. On August 6, 2003, Platinum Capital was granted a branch license to conduct mortgage loan activity at 200 Baker Avenue, Concord, Massachusetts, 01742. Platinum Capital holds mortgage lender and mortgage broker license numbers MC0958 and MC3142, which are set to expire on May 31, 2004.  On September 26, 2003, duly authorized examiners from the Division, in the performance of their official duties, attempted to conduct an inspection of Platinum Capital&apos;s books, accounts, records, and files of the Corporation. The Corporation, its management and employees failed to provide immediate access to the Corporation&apos;s books and records to the examiners.  A. Failure to Acquire a Mortgage Lender or Mortgage Broker License Prior to Conducting Mortgage Loan Activity  On or about June 27, 2003, Platinum Capital submitted to the Division an application to obtain a branch license from the Commissioner to engage in the business of a mortgage lender and mortgage broker at 200 Baker Ave., Concord, Massachusetts.  Platinum Capital was approved by the Commissioner to conduct business at the 200 Baker Ave., Concord, Massachusetts location on or about August 6, 2003.  On September 26, 2003, after being granted access to the books and records, the Division&apos;s examiners conducted an inspection of the Concord, Massachusetts branch location. Books and records reviewed by field examiners indicate that Platinum Capital had accepted applications at the Concord, Massachusetts location in early June, 2003. Further, Platinum Capital&apos;s branch pipeline report submitted to the Division subsequent to the visitation indicated that loan applications were accepted by Platinum Capital as early as April 24, 2003. Platinum Capital&apos;s branch pipeline report indicated that 27 mortgage loan applications had been accepted by Platinum Capital prior to the approval of its branch license application.  B. Findings Indicating that the Corporation had Engaged in the Mortgage Loan Business in Violation of the Memorandum of Understanding with the Corporation  On June 27, 2001, duly authorized examiners from the Division, in the performance of their official duties, conducted an examination/inspection of Platinum Capital&apos;s books, accounts, records, and files of the Corporation.  During the course of the examination/inspection, the examiners observed numerous violations, including, but not limited to, the Corporation&apos;s acting as both a mortgage lender and a mortgage broker in the same transaction, a violation also cited in a prior examination/inspection conducted by the Division.  As a result of the findings of the examination/inspection as of June 27, 2001, Platinum Capital was assessed a less-than-satisfactory compliance rating and a Memorandum of Understanding was issued by the Division and signed by the Corporation on October 10, 2001 (the Memorandum of Understanding).  On or about September 26, 2003, after being granted access to the Corporation&apos;s books and records, the Commissioner conducted an inspection of the Concord, Massachusetts branch location. Books and records reviewed by field examiners indicated the recurrence of similar violations noted in the examination/inspection and which were required to be addressed and corrected pursuant to the terms of the Memorandum of Understanding. The loan files inspected by the examiners which contained documents disclosing Platinum Capital as the lender or creditor in the mortgage loan transaction when acting in the capacity of a mortgage broker, included, but were not limited to, the following:  Scroll left Scroll right  Loan Number  Situs of Property  Settlement Date  0000998928  Westford, MA  August 14, 2003  CONCLUSIONS OF LAW  Based upon the information contained in paragraphs 1 through 11, Platinum Capital is not an entity otherwise exempted from the licensing requirements of Massachusetts General Laws chapter 255E, section 2 for those engaged in the business of a mortgage lender or a mortgage broker, or both, in Massachusetts.  Based upon the information contained in paragraphs 1 through 11, Platinum Capital has unlawfully engaged in the activity of a mortgage lender without a license from the Commissioner in violation of Massachusetts General Laws chapter 255E, §2 and the Division&apos;s regulation 209 CMR 42.00 \\xa0 et seq.  Based upon the information contained in paragraphs 1 through 11, Platinum Capital, while acting in the capacity of a mortgage broker, has provided consumers with misleading disclosures which, by their terms, have the tendency to make assurances to the consumer that the interest rate requested was guaranteed by Platinum Capital by operation of providing commitment letters, Truth-in-Lending disclosures and other mortgage lender disclosures. Providing consumers with such disclosures, while performing in the capacity of a mortgage broker, are repeat violations as cited in the previous examination/inspection and as set forth by the terms of the Memorandum of Understanding.  Based upon the information contained in paragraphs 1 through 11, the Commissioner has determined that:  Platinum Capital has engaged, or is about to engage in, acts or practices which warrant the belief that the Corporation is not operating honestly, fairly, soundly and efficiently in the public interest in violation of standards governing the licensing and conduct of a mortgage lender or mortgage broker including, but not limited to, the provisions of the Division&apos;s regulations at 209 CMR 42.00 \\xa0 et seq.  The public interest will be irreparably harmed by delay in issuing an ORDER TO CEASE AND DESIST to Platinum Capital.  ORDER TO CEASE AND DESIST  After taking into consideration the FINDINGS OF FACT and CONCLUSIONS OF LAW stated herein, it is hereby:  ORDERED that Platinum Capital, its officers, directors, employees, and their successors or assigns, shall immediately cease engaging in the activities of a mortgage broker, as defined under Massachusetts General Laws chapter 255E, §1, relative to any residential property in Massachusetts, not otherwise expressly permitted by the terms of this TEMPORARY ORDER. Therefore, Platinum Capital is ordered to immediately cease soliciting or accepting residential mortgage loan applications from consumers for residential property located in Massachusetts.  IT IS FURTHER ORDERED that Platinum Capital, its officers, directors, employees, and their successors or assigns, shall immediately cease engaging in the activities of a mortgage lender, as defined under Massachusetts General Laws chapter 255E, §1, relative to any residential property in Massachusetts.  IT IS FURTHER ORDERED that Platinum Capital shall immediately place any fees previously collected from Massachusetts consumers relative to any pending mortgage loan applications in a separate escrow account maintained at a federally insured bank.  IT IS FURTHER ORDERED that Platinum Capital shall place its entire open application list to a qualified lender with no loss to applicants. The open application list to be placed with a qualified lender shall include all transactions in which Platinum Capital was performing in the capacity of either a mortgage broker or a mortgage lender. Platinum Capital shall obtain the prior approval of the Commissioner before placing such applications to the qualified lender.  IT IS FURTHER ORDERED that Platinum Capital shall submit to the Commissioner a detailed record of all of the Corporation&apos;s pending residential mortgage loan applications on property located in Massachusetts. The records to be produced shall be submitted to the Commissioner within five (5) days of the effective date of this TEMPORARY ORDER and shall include all information on file, regarding Platinum Capital&apos;s open application list, including but not necessarily limited to, the following:  The names of all individuals from whom Platinum Capital has accepted an application for a residential mortgage loan; the applicants&apos; addresses and telephone numbers; the amount of all prepaid loan fees submitted by the customer; the amount of each loan; application status (i.e. filed, submitted to lenders); scheduled closing dates; an indication of whether Platinum Capital was performing in the capacity of a mortgage broker or a mortgage lender in the transaction; and a list of applicable wholesale lenders. The latter list should include telephone numbers of contact persons familiar with Platinum Capital&apos;s submitted loans.  IT IS FURTHER ORDERED that Platinum Capital shall immediately secure all pending mortgage loan application files and shall make such files, in their entirety, available to the Commissioner upon request.  IT IS FURTHER ORDERED that Platinum Capital shall submit to the Commissioner the Corporation&apos;s year-to-date balance sheet and statement of income and expense. The balance sheet should indicate Platinum Capital&apos;s cash position at each of its depository banks as well as the corresponding bank account numbers. The balance sheet and statement of income and expense shall be signed and dated by an authorized officer of Platinum Capital under the pains and penalties of perjury to certify that the information reported is true and accurate and prepared in accordance with generally accepted accounting principles.  IT IS FURTHER ORDERED that this TEMPORARY ORDER shall become effective immediately and shall remain in effect unless set aside, limited, or suspended by the Commissioner or upon court order after review under General Laws chapter 30A.  IT IS FURTHER ORDERED that a hearing will be scheduled on this matter to determine whether or not such TEMPORARY ORDER shall become permanent and final only upon receipt of a written request for such a hearing from Platinum Capital within twenty (20) days of the effective date of this TEMPORARY ORDER. If no hearing is requested within this twenty (20) day period, this TEMPORARY ORDER shall become permanent and final until it is modified or vacated by the Commissioner.  By ORDER AND direction of the Commissioner of Banks.  Dated at Boston, Massachusetts, this 31st day of October, 2003.  By: Thomas J. Curry  Commissioner of Banks  Commonwealth of Massachusetts  '"
      ]
     },
     "metadata": {},
     "execution_count": 327
    }
   ],
   "metadata": {}
  },
  {
   "cell_type": "code",
   "execution_count": 312,
   "source": [
    "df[\"New Length\"] = df[\"Text\"].apply(find_length)\r\n",
    "df[\"Percentage\"] = df[\"New Length\"] / df[\"Text Length\"]"
   ],
   "outputs": [],
   "metadata": {}
  },
  {
   "cell_type": "code",
   "execution_count": 289,
   "source": [
    "np.set_printoptions(threshold=sys.maxsize)\r\n",
    "df.loc[(df[\"State Enforcing\"]==\"OH\")].to_csv(\"Standardized Data/Ohio_Final_cleaned.csv\")\r\n"
   ],
   "outputs": [],
   "metadata": {}
  },
  {
   "cell_type": "code",
   "execution_count": 315,
   "source": [
    "df.loc[(df[\"State Enforcing\"]==\"MA\")].to_csv(\"Standardized Data/MA_Final_cleaned.csv\")"
   ],
   "outputs": [],
   "metadata": {}
  },
  {
   "cell_type": "code",
   "execution_count": 323,
   "source": [
    "df.loc[(df[\"State Enforcing\"]==\"MA\")&(df[\"Processed?\"]==False)].shape"
   ],
   "outputs": [
    {
     "output_type": "execute_result",
     "data": {
      "text/plain": [
       "(15, 10)"
      ]
     },
     "metadata": {},
     "execution_count": 323
    }
   ],
   "metadata": {}
  },
  {
   "cell_type": "code",
   "execution_count": null,
   "source": [],
   "outputs": [],
   "metadata": {}
  }
 ],
 "metadata": {
  "interpreter": {
   "hash": "a92bb455a45a29aad0a49bee18305f0547c802aba36bd4b8bfa552a4a5422972"
  },
  "kernelspec": {
   "name": "python3",
   "display_name": "Python 3.9.5 64-bit ('ES_Kibana_DA': conda)"
  },
  "language_info": {
   "codemirror_mode": {
    "name": "ipython",
    "version": 3
   },
   "file_extension": ".py",
   "mimetype": "text/x-python",
   "name": "python",
   "nbconvert_exporter": "python",
   "pygments_lexer": "ipython3",
   "version": "3.9.5"
  }
 },
 "nbformat": 4,
 "nbformat_minor": 2
}