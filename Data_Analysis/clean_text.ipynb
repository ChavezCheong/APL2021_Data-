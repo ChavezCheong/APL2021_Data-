{
 "cells": [
  {
   "cell_type": "code",
   "execution_count": null,
   "metadata": {},
   "outputs": [],
   "source": []
  }
 ],
 "metadata": {
  "interpreter": {
   "hash": "5d5bd94a4e737a2caba3a2a0b82768a00c379120d06de51c7f1c1844f8e16d33"
  },
  "kernelspec": {
   "display_name": "Python 3.9.5 64-bit ('MA_webscrape': conda)",
   "name": "python3"
  },
  "language_info": {
   "name": "python",
   "version": ""
  },
  "orig_nbformat": 4
 },
 "nbformat": 4,
 "nbformat_minor": 2
}