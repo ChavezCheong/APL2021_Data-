{
 "cells": [
  {
   "cell_type": "code",
   "execution_count": 25,
   "source": [
    "# Set up imports\r\n",
    "import pandas as pd\r\n",
    "import numpy as np\r\n",
    "import re\r\n",
    "import sys"
   ],
   "outputs": [],
   "metadata": {}
  },
  {
   "cell_type": "code",
   "execution_count": 26,
   "source": [
    "# Load dataset\r\n",
    "init_df = pd.read_csv(r\"Standardized Data\\Final.csv\")\r\n",
    "df = init_df.copy()"
   ],
   "outputs": [],
   "metadata": {}
  },
  {
   "cell_type": "code",
   "execution_count": 27,
   "source": [
    "# Look through and check data\r\n",
    "df.drop(columns=[\"Unnamed: 0\"], inplace=True)"
   ],
   "outputs": [],
   "metadata": {}
  },
  {
   "cell_type": "code",
   "execution_count": 28,
   "source": [
    "# Drop rows with empty text\r\n",
    "df.dropna(subset=[\"Text\"], inplace=True)\r\n",
    "df.reset_index(drop = True)\r\n",
    "df.columns"
   ],
   "outputs": [
    {
     "output_type": "execute_result",
     "data": {
      "text/plain": [
       "Index(['Entity Type', 'Entity Name', 'City, State', 'Enforcement Action',\n",
       "       'Date', 'Text', 'State Enforcing', 'Text Length'],\n",
       "      dtype='object')"
      ]
     },
     "metadata": {},
     "execution_count": 28
    }
   ],
   "metadata": {}
  },
  {
   "cell_type": "code",
   "execution_count": 45,
   "source": [
    "# Add a new column to check if Text has been processed\r\n",
    "df[\"Processed?\"] = False"
   ],
   "outputs": [],
   "metadata": {}
  },
  {
   "cell_type": "code",
   "execution_count": 46,
   "source": [
    "df.head()"
   ],
   "outputs": [
    {
     "output_type": "execute_result",
     "data": {
      "text/plain": [
       "  Entity Type                         Entity Name        City, State  \\\n",
       "4          RM                T. P. O. T. T., INC.       COLUMBUS, OH   \n",
       "5          RM                T. P. O. T. T., INC.       COLUMBUS, OH   \n",
       "6          RM                T. P. O. T. T., INC.       COLUMBUS, OH   \n",
       "7          RM  ABC FINANCIAL SERVICES CORPORATION     CORAOPOLIS, PA   \n",
       "8          RM          MORTGAGE SPECIALISTS, INC.  NICHOLASVILLE, KY   \n",
       "\n",
       "           Enforcement Action        Date  \\\n",
       "4  NOTICE OF INTENT TO REVOKE  04/18/2001   \n",
       "5   REPORT AND RECOMMENDATION  01/22/2002   \n",
       "6              DIVISION ORDER  02/19/2002   \n",
       "7              DIVISION ORDER  02/26/2002   \n",
       "8              DIVISION ORDER  02/26/2002   \n",
       "\n",
       "                                                Text State Enforcing  \\\n",
       "4  STATE OF OHIO DEPARTMENT OF COMMERCE DIVISION ...              OH   \n",
       "5  STALE OF Ohio Department of Commerce Bob Taft ...              OH   \n",
       "6  STATE OF OHIO DEPARTMENT OF COMMERCE DIVISION ...              OH   \n",
       "7  Ohio Department of Commerce Division of Financ...              OH   \n",
       "8  STATE OF OHIO DEPARTMENT OF COMMERCE DIVISION ...              OH   \n",
       "\n",
       "   Text Length  Processed?  \n",
       "4         8761       False  \n",
       "5        35918       False  \n",
       "6         4314       False  \n",
       "7         1981       False  \n",
       "8         3259       False  "
      ],
      "text/html": [
       "<div>\n",
       "<style scoped>\n",
       "    .dataframe tbody tr th:only-of-type {\n",
       "        vertical-align: middle;\n",
       "    }\n",
       "\n",
       "    .dataframe tbody tr th {\n",
       "        vertical-align: top;\n",
       "    }\n",
       "\n",
       "    .dataframe thead th {\n",
       "        text-align: right;\n",
       "    }\n",
       "</style>\n",
       "<table border=\"1\" class=\"dataframe\">\n",
       "  <thead>\n",
       "    <tr style=\"text-align: right;\">\n",
       "      <th></th>\n",
       "      <th>Entity Type</th>\n",
       "      <th>Entity Name</th>\n",
       "      <th>City, State</th>\n",
       "      <th>Enforcement Action</th>\n",
       "      <th>Date</th>\n",
       "      <th>Text</th>\n",
       "      <th>State Enforcing</th>\n",
       "      <th>Text Length</th>\n",
       "      <th>Processed?</th>\n",
       "    </tr>\n",
       "  </thead>\n",
       "  <tbody>\n",
       "    <tr>\n",
       "      <th>4</th>\n",
       "      <td>RM</td>\n",
       "      <td>T. P. O. T. T., INC.</td>\n",
       "      <td>COLUMBUS, OH</td>\n",
       "      <td>NOTICE OF INTENT TO REVOKE</td>\n",
       "      <td>04/18/2001</td>\n",
       "      <td>STATE OF OHIO DEPARTMENT OF COMMERCE DIVISION ...</td>\n",
       "      <td>OH</td>\n",
       "      <td>8761</td>\n",
       "      <td>False</td>\n",
       "    </tr>\n",
       "    <tr>\n",
       "      <th>5</th>\n",
       "      <td>RM</td>\n",
       "      <td>T. P. O. T. T., INC.</td>\n",
       "      <td>COLUMBUS, OH</td>\n",
       "      <td>REPORT AND RECOMMENDATION</td>\n",
       "      <td>01/22/2002</td>\n",
       "      <td>STALE OF Ohio Department of Commerce Bob Taft ...</td>\n",
       "      <td>OH</td>\n",
       "      <td>35918</td>\n",
       "      <td>False</td>\n",
       "    </tr>\n",
       "    <tr>\n",
       "      <th>6</th>\n",
       "      <td>RM</td>\n",
       "      <td>T. P. O. T. T., INC.</td>\n",
       "      <td>COLUMBUS, OH</td>\n",
       "      <td>DIVISION ORDER</td>\n",
       "      <td>02/19/2002</td>\n",
       "      <td>STATE OF OHIO DEPARTMENT OF COMMERCE DIVISION ...</td>\n",
       "      <td>OH</td>\n",
       "      <td>4314</td>\n",
       "      <td>False</td>\n",
       "    </tr>\n",
       "    <tr>\n",
       "      <th>7</th>\n",
       "      <td>RM</td>\n",
       "      <td>ABC FINANCIAL SERVICES CORPORATION</td>\n",
       "      <td>CORAOPOLIS, PA</td>\n",
       "      <td>DIVISION ORDER</td>\n",
       "      <td>02/26/2002</td>\n",
       "      <td>Ohio Department of Commerce Division of Financ...</td>\n",
       "      <td>OH</td>\n",
       "      <td>1981</td>\n",
       "      <td>False</td>\n",
       "    </tr>\n",
       "    <tr>\n",
       "      <th>8</th>\n",
       "      <td>RM</td>\n",
       "      <td>MORTGAGE SPECIALISTS, INC.</td>\n",
       "      <td>NICHOLASVILLE, KY</td>\n",
       "      <td>DIVISION ORDER</td>\n",
       "      <td>02/26/2002</td>\n",
       "      <td>STATE OF OHIO DEPARTMENT OF COMMERCE DIVISION ...</td>\n",
       "      <td>OH</td>\n",
       "      <td>3259</td>\n",
       "      <td>False</td>\n",
       "    </tr>\n",
       "  </tbody>\n",
       "</table>\n",
       "</div>"
      ]
     },
     "metadata": {},
     "execution_count": 46
    }
   ],
   "metadata": {}
  },
  {
   "cell_type": "markdown",
   "source": [
    "## Beginning of Filtering Process"
   ],
   "metadata": {}
  },
  {
   "cell_type": "code",
   "execution_count": 49,
   "source": [
    "# Function to extract text between two strings (CAPS SENSITIVE)\r\n",
    "def extract_text(row, sub1, sub2):\r\n",
    "    text = row[\"Text\"]\r\n",
    "    if sub1 in text and sub2 in text:\r\n",
    "        index_1 = text.index(sub1)\r\n",
    "        index_2 = text.index(sub2)\r\n",
    "        row[\"Text\"] = text[index_1 + len(sub1): index_2]\r\n",
    "        row[\"Processed?\"] = True\r\n",
    "    return row\r\n",
    "    "
   ],
   "outputs": [],
   "metadata": {}
  },
  {
   "cell_type": "code",
   "execution_count": 61,
   "source": [
    "# Check how many rows remain unprocessed\r\n",
    "## USE THIS TO CHECK HOW MANY ROWS YOU HAVE LEFT\r\n",
    "df.loc[(df[\"State Enforcing\"]==\"OH\")& (df[\"Processed?\"]==False)].shape"
   ],
   "outputs": [
    {
     "output_type": "execute_result",
     "data": {
      "text/plain": [
       "(4100, 9)"
      ]
     },
     "metadata": {},
     "execution_count": 61
    }
   ],
   "metadata": {}
  },
  {
   "cell_type": "code",
   "execution_count": 50,
   "source": [
    "# Function to Filter Text\r\n",
    "def filter_text(df, start_term, end_term, state):\r\n",
    "    df = df.apply(lambda row: extract_text(row, start_term, end_term) if (row[\"Processed?\"]== False) & (row[\"State Enforcing\"]==state)  else row, axis = 1)\r\n",
    "    print(\"processed\")\r\n",
    "    return df\r\n"
   ],
   "outputs": [],
   "metadata": {}
  },
  {
   "cell_type": "code",
   "execution_count": 60,
   "source": [
    "# Cleaning of Text\r\n",
    "\r\n",
    "# THIS FUNCTION FILTERS START AND END, JUST KIND OF COPY THE SYNTAX AND KEEP GOING DOWN.\r\n",
    "\r\n",
    "# BASIS FOR PROPOSED ACTION: 2207 hits\r\n",
    "# NOTICE OF HEARING: 201 hits\r\n",
    "df = filter_text(df, \"BASIS FOR PROPOSED ACTION\", \"NOTICE OF HEARING\", \"OH\")\r\n",
    "# NOTICE OF OPPORTUNITY: 2207 hits\r\n",
    "df = filter_text(df, \"BASIS FOR PROPOSED ACTION\", \"NOTICE OF OPPORTUNITY\", \"OH\")\r\n",
    "\r\n",
    "# STIPULATIONS AND ADMISSIONS: 1031 hits\r\n",
    "# ACKNOWLEDGEMENTS/LIABILITY RELEASE:\r\n",
    "df.loc[(df[\"Text\"].str.contains(\"STIPULATIONS AND ADMISSIONS\")) & (df[\"State Enforcing\"]==\"OH\") & (df[\"Text\"].str.contains(\"AGREED CONDITIONS\"))& (df[\"Processed?\"]==False)].describe()\r\n",
    "# df.loc[(df[\"Text\"].str.contains(\"STIPULATIONS AND ADMISSIONS\")) & (df[\"State Enforcing\"]==\"OH\") & (df[\"Processed?\"]==False)].describe()"
   ],
   "outputs": [
    {
     "output_type": "stream",
     "name": "stdout",
     "text": [
      "processed\n",
      "processed\n"
     ]
    },
    {
     "output_type": "execute_result",
     "data": {
      "text/plain": [
       "        Text Length\n",
       "count   1023.000000\n",
       "mean    8627.347019\n",
       "std     1605.645992\n",
       "min     6188.000000\n",
       "25%     7358.000000\n",
       "50%     8052.000000\n",
       "75%     9751.000000\n",
       "max    15451.000000"
      ],
      "text/html": [
       "<div>\n",
       "<style scoped>\n",
       "    .dataframe tbody tr th:only-of-type {\n",
       "        vertical-align: middle;\n",
       "    }\n",
       "\n",
       "    .dataframe tbody tr th {\n",
       "        vertical-align: top;\n",
       "    }\n",
       "\n",
       "    .dataframe thead th {\n",
       "        text-align: right;\n",
       "    }\n",
       "</style>\n",
       "<table border=\"1\" class=\"dataframe\">\n",
       "  <thead>\n",
       "    <tr style=\"text-align: right;\">\n",
       "      <th></th>\n",
       "      <th>Text Length</th>\n",
       "    </tr>\n",
       "  </thead>\n",
       "  <tbody>\n",
       "    <tr>\n",
       "      <th>count</th>\n",
       "      <td>1023.000000</td>\n",
       "    </tr>\n",
       "    <tr>\n",
       "      <th>mean</th>\n",
       "      <td>8627.347019</td>\n",
       "    </tr>\n",
       "    <tr>\n",
       "      <th>std</th>\n",
       "      <td>1605.645992</td>\n",
       "    </tr>\n",
       "    <tr>\n",
       "      <th>min</th>\n",
       "      <td>6188.000000</td>\n",
       "    </tr>\n",
       "    <tr>\n",
       "      <th>25%</th>\n",
       "      <td>7358.000000</td>\n",
       "    </tr>\n",
       "    <tr>\n",
       "      <th>50%</th>\n",
       "      <td>8052.000000</td>\n",
       "    </tr>\n",
       "    <tr>\n",
       "      <th>75%</th>\n",
       "      <td>9751.000000</td>\n",
       "    </tr>\n",
       "    <tr>\n",
       "      <th>max</th>\n",
       "      <td>15451.000000</td>\n",
       "    </tr>\n",
       "  </tbody>\n",
       "</table>\n",
       "</div>"
      ]
     },
     "metadata": {},
     "execution_count": 60
    }
   ],
   "metadata": {}
  },
  {
   "cell_type": "code",
   "execution_count": null,
   "source": [],
   "outputs": [],
   "metadata": {}
  }
 ],
 "metadata": {
  "interpreter": {
   "hash": "a92bb455a45a29aad0a49bee18305f0547c802aba36bd4b8bfa552a4a5422972"
  },
  "kernelspec": {
   "display_name": "Python 3.9.5 64-bit ('ES_Kibana_DA': conda)",
   "name": "python3"
  },
  "language_info": {
   "name": "python",
   "version": ""
  },
  "orig_nbformat": 4
 },
 "nbformat": 4,
 "nbformat_minor": 2
}