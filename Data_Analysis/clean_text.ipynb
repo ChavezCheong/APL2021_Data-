{
 "cells": [
  {
   "cell_type": "code",
   "execution_count": 2,
   "metadata": {},
   "outputs": [],
   "source": [
    "# Set up imports\n",
    "import pandas as pd\n",
    "import numpy as np\n",
    "import re\n",
    "import sys"
   ]
  },
  {
   "cell_type": "code",
   "execution_count": 3,
   "metadata": {},
   "outputs": [],
   "source": [
    "# Load dataset\n",
    "init_df = pd.read_csv(\"Standardized Data/Final.csv\")\n",
    "df = init_df.copy()"
   ]
  },
  {
   "cell_type": "code",
   "execution_count": 4,
   "metadata": {},
   "outputs": [],
   "source": [
    "# Look through and check data\n",
    "df.drop(columns=[\"Unnamed: 0\"], inplace=True)"
   ]
  },
  {
   "cell_type": "code",
   "execution_count": 5,
   "metadata": {},
   "outputs": [
    {
     "data": {
      "text/plain": [
       "Index(['Entity Type', 'Entity Name', 'City, State', 'Enforcement Action',\n",
       "       'Date', 'Text', 'State Enforcing', 'Text Length'],\n",
       "      dtype='object')"
      ]
     },
     "execution_count": 5,
     "metadata": {},
     "output_type": "execute_result"
    }
   ],
   "source": [
    "# Drop rows with empty text\n",
    "df.dropna(subset=[\"Text\"], inplace=True)\n",
    "df.reset_index(drop = True)\n",
    "df.columns"
   ]
  },
  {
   "cell_type": "code",
   "execution_count": 6,
   "metadata": {},
   "outputs": [],
   "source": [
    "# Add a new column to check if Text has been processed\n",
    "df[\"Processed?\"] = False"
   ]
  },
  {
   "cell_type": "code",
   "execution_count": 7,
   "metadata": {},
   "outputs": [
    {
     "data": {
      "text/html": [
       "<div>\n",
       "<style scoped>\n",
       "    .dataframe tbody tr th:only-of-type {\n",
       "        vertical-align: middle;\n",
       "    }\n",
       "\n",
       "    .dataframe tbody tr th {\n",
       "        vertical-align: top;\n",
       "    }\n",
       "\n",
       "    .dataframe thead th {\n",
       "        text-align: right;\n",
       "    }\n",
       "</style>\n",
       "<table border=\"1\" class=\"dataframe\">\n",
       "  <thead>\n",
       "    <tr style=\"text-align: right;\">\n",
       "      <th></th>\n",
       "      <th>Entity Type</th>\n",
       "      <th>Entity Name</th>\n",
       "      <th>City, State</th>\n",
       "      <th>Enforcement Action</th>\n",
       "      <th>Date</th>\n",
       "      <th>Text</th>\n",
       "      <th>State Enforcing</th>\n",
       "      <th>Text Length</th>\n",
       "      <th>Processed?</th>\n",
       "    </tr>\n",
       "  </thead>\n",
       "  <tbody>\n",
       "    <tr>\n",
       "      <th>4</th>\n",
       "      <td>RM</td>\n",
       "      <td>T. P. O. T. T., INC.</td>\n",
       "      <td>COLUMBUS, OH</td>\n",
       "      <td>NOTICE OF INTENT TO REVOKE</td>\n",
       "      <td>04/18/2001</td>\n",
       "      <td>STATE OF OHIO DEPARTMENT OF COMMERCE DIVISION ...</td>\n",
       "      <td>OH</td>\n",
       "      <td>8761</td>\n",
       "      <td>False</td>\n",
       "    </tr>\n",
       "    <tr>\n",
       "      <th>5</th>\n",
       "      <td>RM</td>\n",
       "      <td>T. P. O. T. T., INC.</td>\n",
       "      <td>COLUMBUS, OH</td>\n",
       "      <td>REPORT AND RECOMMENDATION</td>\n",
       "      <td>01/22/2002</td>\n",
       "      <td>STALE OF Ohio Department of Commerce Bob Taft ...</td>\n",
       "      <td>OH</td>\n",
       "      <td>35918</td>\n",
       "      <td>False</td>\n",
       "    </tr>\n",
       "    <tr>\n",
       "      <th>6</th>\n",
       "      <td>RM</td>\n",
       "      <td>T. P. O. T. T., INC.</td>\n",
       "      <td>COLUMBUS, OH</td>\n",
       "      <td>DIVISION ORDER</td>\n",
       "      <td>02/19/2002</td>\n",
       "      <td>STATE OF OHIO DEPARTMENT OF COMMERCE DIVISION ...</td>\n",
       "      <td>OH</td>\n",
       "      <td>4314</td>\n",
       "      <td>False</td>\n",
       "    </tr>\n",
       "    <tr>\n",
       "      <th>7</th>\n",
       "      <td>RM</td>\n",
       "      <td>ABC FINANCIAL SERVICES CORPORATION</td>\n",
       "      <td>CORAOPOLIS, PA</td>\n",
       "      <td>DIVISION ORDER</td>\n",
       "      <td>02/26/2002</td>\n",
       "      <td>Ohio Department of Commerce Division of Financ...</td>\n",
       "      <td>OH</td>\n",
       "      <td>1981</td>\n",
       "      <td>False</td>\n",
       "    </tr>\n",
       "    <tr>\n",
       "      <th>8</th>\n",
       "      <td>RM</td>\n",
       "      <td>MORTGAGE SPECIALISTS, INC.</td>\n",
       "      <td>NICHOLASVILLE, KY</td>\n",
       "      <td>DIVISION ORDER</td>\n",
       "      <td>02/26/2002</td>\n",
       "      <td>STATE OF OHIO DEPARTMENT OF COMMERCE DIVISION ...</td>\n",
       "      <td>OH</td>\n",
       "      <td>3259</td>\n",
       "      <td>False</td>\n",
       "    </tr>\n",
       "  </tbody>\n",
       "</table>\n",
       "</div>"
      ],
      "text/plain": [
       "  Entity Type                         Entity Name        City, State  \\\n",
       "4          RM                T. P. O. T. T., INC.       COLUMBUS, OH   \n",
       "5          RM                T. P. O. T. T., INC.       COLUMBUS, OH   \n",
       "6          RM                T. P. O. T. T., INC.       COLUMBUS, OH   \n",
       "7          RM  ABC FINANCIAL SERVICES CORPORATION     CORAOPOLIS, PA   \n",
       "8          RM          MORTGAGE SPECIALISTS, INC.  NICHOLASVILLE, KY   \n",
       "\n",
       "           Enforcement Action        Date  \\\n",
       "4  NOTICE OF INTENT TO REVOKE  04/18/2001   \n",
       "5   REPORT AND RECOMMENDATION  01/22/2002   \n",
       "6              DIVISION ORDER  02/19/2002   \n",
       "7              DIVISION ORDER  02/26/2002   \n",
       "8              DIVISION ORDER  02/26/2002   \n",
       "\n",
       "                                                Text State Enforcing  \\\n",
       "4  STATE OF OHIO DEPARTMENT OF COMMERCE DIVISION ...              OH   \n",
       "5  STALE OF Ohio Department of Commerce Bob Taft ...              OH   \n",
       "6  STATE OF OHIO DEPARTMENT OF COMMERCE DIVISION ...              OH   \n",
       "7  Ohio Department of Commerce Division of Financ...              OH   \n",
       "8  STATE OF OHIO DEPARTMENT OF COMMERCE DIVISION ...              OH   \n",
       "\n",
       "   Text Length  Processed?  \n",
       "4         8761       False  \n",
       "5        35918       False  \n",
       "6         4314       False  \n",
       "7         1981       False  \n",
       "8         3259       False  "
      ]
     },
     "execution_count": 7,
     "metadata": {},
     "output_type": "execute_result"
    }
   ],
   "source": [
    "df.head()"
   ]
  },
  {
   "cell_type": "markdown",
   "metadata": {},
   "source": [
    "## Beginning of Filtering Process"
   ]
  },
  {
   "cell_type": "code",
   "execution_count": 8,
   "metadata": {},
   "outputs": [],
   "source": [
    "# Function to extract text between two strings (CAPS SENSITIVE)\n",
    "def extract_text(row, sub1, sub2):\n",
    "    text = row[\"Text\"]\n",
    "    if sub1 in text and sub2 in text:\n",
    "        index_1 = text.index(sub1)\n",
    "        index_2 = text.index(sub2)\n",
    "        row[\"Text\"] = text[index_1 + len(sub1): index_2]\n",
    "        row[\"Processed?\"] = True\n",
    "    return row\n",
    "    "
   ]
  },
  {
   "cell_type": "code",
   "execution_count": 16,
   "metadata": {},
   "outputs": [
    {
     "data": {
      "text/plain": [
       "(266, 9)"
      ]
     },
     "execution_count": 16,
     "metadata": {},
     "output_type": "execute_result"
    }
   ],
   "source": [
    "# Check how many rows remain unprocessed\n",
    "## USE THIS TO CHECK HOW MANY ROWS YOU HAVE LEFT\n",
    "df.loc[(df[\"State Enforcing\"]==\"OH\")& (df[\"Processed?\"]==False)].shape"
   ]
  },
  {
   "cell_type": "code",
   "execution_count": 10,
   "metadata": {},
   "outputs": [],
   "source": [
    "# Function to Filter Text\n",
    "def filter_text(df, start_term, end_term, state):\n",
    "    df = df.apply(lambda row: extract_text(row, start_term, end_term) if (row[\"Processed?\"]== False) & (row[\"State Enforcing\"]==state)  else row, axis = 1)\n",
    "    print(\"processed\")\n",
    "    return df\n"
   ]
  },
  {
   "cell_type": "code",
   "execution_count": 11,
   "metadata": {},
   "outputs": [
    {
     "name": "stdout",
     "output_type": "stream",
     "text": [
      "processed\n",
      "processed\n",
      "processed\n",
      "processed\n",
      "processed\n",
      "processed\n",
      "processed\n",
      "processed\n",
      "processed\n",
      "processed\n",
      "processed\n",
      "processed\n",
      "processed\n",
      "processed\n",
      "processed\n",
      "processed\n",
      "processed\n",
      "processed\n"
     ]
    },
    {
     "data": {
      "text/html": [
       "<div>\n",
       "<style scoped>\n",
       "    .dataframe tbody tr th:only-of-type {\n",
       "        vertical-align: middle;\n",
       "    }\n",
       "\n",
       "    .dataframe tbody tr th {\n",
       "        vertical-align: top;\n",
       "    }\n",
       "\n",
       "    .dataframe thead th {\n",
       "        text-align: right;\n",
       "    }\n",
       "</style>\n",
       "<table border=\"1\" class=\"dataframe\">\n",
       "  <thead>\n",
       "    <tr style=\"text-align: right;\">\n",
       "      <th></th>\n",
       "      <th>Text Length</th>\n",
       "    </tr>\n",
       "  </thead>\n",
       "  <tbody>\n",
       "    <tr>\n",
       "      <th>count</th>\n",
       "      <td>0.0</td>\n",
       "    </tr>\n",
       "    <tr>\n",
       "      <th>mean</th>\n",
       "      <td>NaN</td>\n",
       "    </tr>\n",
       "    <tr>\n",
       "      <th>std</th>\n",
       "      <td>NaN</td>\n",
       "    </tr>\n",
       "    <tr>\n",
       "      <th>min</th>\n",
       "      <td>NaN</td>\n",
       "    </tr>\n",
       "    <tr>\n",
       "      <th>25%</th>\n",
       "      <td>NaN</td>\n",
       "    </tr>\n",
       "    <tr>\n",
       "      <th>50%</th>\n",
       "      <td>NaN</td>\n",
       "    </tr>\n",
       "    <tr>\n",
       "      <th>75%</th>\n",
       "      <td>NaN</td>\n",
       "    </tr>\n",
       "    <tr>\n",
       "      <th>max</th>\n",
       "      <td>NaN</td>\n",
       "    </tr>\n",
       "  </tbody>\n",
       "</table>\n",
       "</div>"
      ],
      "text/plain": [
       "       Text Length\n",
       "count          0.0\n",
       "mean           NaN\n",
       "std            NaN\n",
       "min            NaN\n",
       "25%            NaN\n",
       "50%            NaN\n",
       "75%            NaN\n",
       "max            NaN"
      ]
     },
     "execution_count": 11,
     "metadata": {},
     "output_type": "execute_result"
    }
   ],
   "source": [
    "# Cleaning of Text\n",
    "\n",
    "# THIS FUNCTION FILTERS START AND END, JUST KIND OF COPY THE SYNTAX AND KEEP GOING DOWN.\n",
    "\n",
    "# BASIS FOR PROPOSED ACTION: 2207 hits\n",
    "# NOTICE OF HEARING: 201 hits\n",
    "df = filter_text(df, \"BASIS FOR PROPOSED ACTION\", \"NOTICE OF HEARING\", \"OH\")\n",
    "# NOTICE OF OPPORTUNITY: 2207 hits\n",
    "df = filter_text(df, \"BASIS FOR PROPOSED ACTION\", \"NOTICE OF OPPORTUNITY\", \"OH\")\n",
    "\n",
    "# STIPULATIONS AND ADMISSIONS 1031 HITS\n",
    "# ACKNOWLEDGEMENTS/LIABILITY RELEASE 696 hits\n",
    "df = filter_text(df, \"STIPULATIONS AND ADMISSIONS\", \"ACKNOWLEDGEMENTS/LIABILITY RELEASE\", \"OH\")\n",
    "# AGREED CONDITIONS 334 hits\n",
    "df = filter_text(df, \"STIPULATIONS AND ADMISSIONS\", \"AGREED CONDITIONS\", \"OH\")\n",
    "# ACKNOWLEDGEMENTS/LLABILITY RELEASE 1 hit\n",
    "df = filter_text(df, \"STIPULATIONS AND ADMISSIONS\", \"ACKNOWLEDGEMENTS/LLABILITY RELEASE\", \"OH\")\n",
    "\n",
    "# DIVISION ORDER 2394 hits\n",
    "# NOTICE OF APPELLATE RIGHTS 1652 hits\n",
    "df = filter_text(df, \"DIVISION ORDER\", \"NOTICE OF APPELLATE RIGHTS\", \"OH\")\n",
    "# NOTICE OF RIGHT TO APPEAL 560 hits\n",
    "df = filter_text(df, \"DIVISION ORDER\", \"NOTICE OF RIGHT TO APPEAL\", \"OH\")\n",
    "# NOTICE OF HEARING 119 hits\n",
    "df = filter_text(df, \"DIVISION ORDER\", \"NOTICE OF HEARING\", \"OH\")\n",
    "#CONCLUSIONS OF LAW 34 hits\n",
    "df = filter_text(df, \"DIVISION ORDER\", \"CONCLUSIONS OF LAW\", \"OH\")\n",
    "# NOW THEREFORE 3 hits\n",
    "df = filter_text(df, \"DIVISION ORDER\", \"NOW THEREFORE\", \"OH\")\n",
    "# Case No 15 hits\n",
    "df = filter_text(df, \"DIVISION ORDER\", \"Case No\", \"OH\")\n",
    "# ORDERED AND DECREED 6 hits\n",
    "df = filter_text(df, \"DIVISION ORDER\", \"ORDERED AND DECREED\", \"OH\")\n",
    "# NOTICE OF APPEAL RIGHTS 4 hits\n",
    "df = filter_text(df, \"DIVISION ORDER\", \"NOTICE OF APPEAL RIGHTS\", \"OH\")\n",
    "\n",
    "#FINDINGS OF FACT 394 hits\n",
    "#CONCLUSIONS OF LAW 393 hits\n",
    "df = filter_text(df, \"FINDINGS OF FACT\", \"CONCLUSIONS OF LAW\", \"OH\")\n",
    "# G.R.C. 1322.06 1 hit\n",
    "df = filter_text(df, \"FINDINGS OF FACT\", \"G.R.C. 1322.06\", \"OH\")\n",
    "\n",
    "#NOTICE CONTAINED ALLEGATIONS AND FINDINGS THAT 79 hits\n",
    "#compromise 53 hits\n",
    "df = filter_text(df, \"Notice contained allegations and findings that\", \"compromise\", \"OH\")\n",
    "#Settlement and Consent Order 22 hits\n",
    "df = filter_text(df, \"Notice contained allegations and findings that\", \"Settlement and Consent Order\", \"OH\")\n",
    "#request a hearing 4 hits\n",
    "df = filter_text(df, \"Notice contained allegations and findings that\", \"request a hearing\", \"OH\")\n",
    "\n",
    "\n",
    "\n",
    "\n",
    "\n",
    "\n",
    "\n",
    "\n",
    "\n",
    "\n",
    "\n",
    "# STIPULATIONS AND ADMISSIONS: 1031 hits\n",
    "# ACKNOWLEDGEMENTS/LIABILITY RELEASE:\n",
    "df.loc[(df[\"Text\"].str.contains(\"STIPULATIONS AND ADMISSIONS\")) & (df[\"State Enforcing\"]==\"OH\") & (df[\"Text\"].str.contains(\"AGREED CONDITIONS\"))& (df[\"Processed?\"]==False)].describe()\n",
    "# df.loc[(df[\"Text\"].str.contains(\"STIPULATIONS AND ADMISSIONS\")) & (df[\"State Enforcing\"]==\"OH\") & (df[\"Processed?\"]==False)].describe()"
   ]
  },
  {
   "cell_type": "code",
   "execution_count": 12,
   "metadata": {},
   "outputs": [
    {
     "name": "stdout",
     "output_type": "stream",
     "text": [
      "processed\n",
      "processed\n",
      "processed\n",
      "processed\n",
      "processed\n",
      "processed\n",
      "processed\n",
      "processed\n",
      "processed\n",
      "processed\n",
      "processed\n",
      "processed\n",
      "processed\n",
      "processed\n",
      "processed\n",
      "processed\n",
      "processed\n",
      "processed\n"
     ]
    }
   ],
   "source": [
    "# Mass Processing\n",
    "df = filter_text(df, \". FINDINGS OF FACT\", \"CONCLUSIONS OF LAW\", \"MA\")\n",
    "df = filter_text(df, \". FINDINGS OF FACT\", \"ORDER AND DECISION\", \"MA\")\n",
    "df = filter_text(df, \". FINDINGS OF FACT\", \"CEASE DIRECTIVE\", \"MA\")\n",
    "df = filter_text(df, \"FINDINGS OF FACT\", \"ORDER NOW COME\", \"MA\")\n",
    "df = filter_text(df, \"FINDINGS OF FACT\", \"ORDER TO CEASE AND DESIST\", \"MA\")\n",
    "df = filter_text(df, \"FINDINGS OF FACT\", \"Order to Cease and Desist are the complete\", \"MA\")\n",
    "df = filter_text(df, \"STIPULATION AND CONSENT TO THE ISSUANCE OF A CONSENT ORDER\", \"ORDER NOW COME\", \"MA\")\n",
    "df = filter_text(df, \"STIPULATION AND CONSENT TO THE ISSUANCE OF A CONSENT ORDER\", \"NOTICE OF RIGHT TO A HEARING\", \"MA\")\n",
    "df = filter_text(df, \"STIPULATION AND CONSENT TO THE ISSUANCE OF A CONSENT ORDER\", \"MODIFICATION ORDER\", \"MA\")\n",
    "df = filter_text(df, \"REGULATORY BACKGROUND\", \"contained in this Order and Notice\", \"MA\")\n",
    "df = filter_text(df, \"joint Stipulation and proposed Order\", \"On or before the 30th day\", \"MA\")\n",
    "df = filter_text(df, \"BACKGROUND\", \"AGREEMENT NOW COME\", \"MA\")\n",
    "df = filter_text(df, \"THE MULTI-STATE EXAMINATION ALLEGATIONS\", \"Provide for adequate training\", \"MA\")\n",
    "df = filter_text(df, \"NOW COME\", \"By order and direction of the Commissioner of Banks\", \"MA\")\n",
    "df = filter_text(df, \"NOW COME\", \"BY ORDER AND DIRECTION OF THE COMMISSIONER OF BANKS\", \"MA\")\n",
    "df = filter_text(df, \"STIPULATION AND CONSENT TO THE ISSUANCE OF AN ORDER TO CEASE\", \"IT IS HEREBY ORDERED\", \"MA\")\n",
    "df = filter_text(df, \"ORDER SUSPENDING MORTGAGE BROKER LICENSE\", \"NOW THEREFORE\", \"MA\")\n",
    "df = filter_text(df, \"All States Mortgage\", \"Massachusetts General Laws chapter 255E\", \"MA\")\n",
    "\n",
    "\n"
   ]
  },
  {
   "cell_type": "code",
   "execution_count": 14,
   "metadata": {},
   "outputs": [],
   "source": [
    "np.set_printoptions(threshold=sys.maxsize)\n",
    "df.loc[(df[\"Processed?\"]==True)].to_csv(r\"Standardized Data\\Final_cleaned.csv\")\n"
   ]
  },
  {
   "cell_type": "code",
   "execution_count": null,
   "metadata": {},
   "outputs": [],
   "source": []
  }
 ],
 "metadata": {
  "interpreter": {
   "hash": "a92bb455a45a29aad0a49bee18305f0547c802aba36bd4b8bfa552a4a5422972"
  },
  "kernelspec": {
   "display_name": "Python 3",
   "language": "python",
   "name": "python3"
  },
  "language_info": {
   "codemirror_mode": {
    "name": "ipython",
    "version": 3
   },
   "file_extension": ".py",
   "mimetype": "text/x-python",
   "name": "python",
   "nbconvert_exporter": "python",
   "pygments_lexer": "ipython3",
   "version": "3.9.5"
  }
 },
 "nbformat": 4,
 "nbformat_minor": 2
}
